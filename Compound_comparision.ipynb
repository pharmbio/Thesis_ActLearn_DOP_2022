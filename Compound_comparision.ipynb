{
 "cells": [
  {
   "cell_type": "code",
   "execution_count": 1,
   "metadata": {},
   "outputs": [],
   "source": [
    "from pandas import read_excel\n",
    "import csv\n",
    "import pandas as pd\n",
    "import numpy as np\n",
    "import seaborn as sns\n",
    "import matplotlib.pyplot as plt"
   ]
  },
  {
   "cell_type": "markdown",
   "metadata": {},
   "source": [
    "## Helper fuctions"
   ]
  },
  {
   "cell_type": "code",
   "execution_count": 2,
   "metadata": {},
   "outputs": [],
   "source": [
    "def load_csv(filename):\n",
    "    file = open(filename, \"r\", encoding=\"utf-8\")\n",
    "    experiments = []\n",
    "    headers = []\n",
    "    reader = csv.reader(file)\n",
    "    for i, lines in enumerate(reader):\n",
    "        if i == 0:\n",
    "            #headers = [e for e in lines[0].split(\";\")]\n",
    "            h = lines[0].split(\";\")\n",
    "            headers.append(h)\n",
    "        else:\n",
    "            tmp = lines[0].split(\";\")\n",
    "            for j in range(0,len(tmp)):\n",
    "                if (j != 0 and j != 1879):\n",
    "                    tmp[j] = float(tmp[j])\n",
    "                else:\n",
    "                    continue\n",
    "            #tmp = [float(tmp[j]) for j in range(0,len(tmp)) if (j!=0 and j!=1879)] #This removes two entries, dunno why. \n",
    "            experiments.append(tmp)\n",
    "    file.close()\n",
    "    return headers, experiments\n",
    "\n",
    "def column_extraction(data_list,column_number): #columns start counting in 0\n",
    "    col = []\n",
    "    for i in range(0,len(experiments)):\n",
    "        dato = experiments[i][column_number]\n",
    "        col.append(dato)\n",
    "    return col   "
   ]
  },
  {
   "cell_type": "markdown",
   "metadata": {},
   "source": [
    "## Load both data sets for comparision"
   ]
  },
  {
   "cell_type": "code",
   "execution_count": 3,
   "metadata": {},
   "outputs": [],
   "source": [
    "# Loading compound library\n",
    "my_sheet = 'SPECS_drug_repurp_set' # change it to your sheet name, you can find your sheet name at the bottom left of your excel file\n",
    "file_name = 'SPECS_drug_repurp_set.xlsx' # change it to the name of your excel file\n",
    "df = read_excel(file_name, sheet_name = my_sheet)\n",
    "#print(df.head()) # shows headers with top 5 rows\n",
    "library_compound_ids = df[[\"Compound ID\"]].copy()\n",
    "library_compound_ids.rename(columns = {'Compound ID':'ID_library'}, inplace = True)"
   ]
  },
  {
   "cell_type": "code",
   "execution_count": 4,
   "metadata": {},
   "outputs": [],
   "source": [
    "#Loading Maris' data\n",
    "headers, experiments =load_csv('/home/jovyan/covid-data/dalia_MeanFeaturesPerWell_BatchA.csv')\n",
    "#Column 1879 contains the compound ID\n",
    "screening_compound_ids = pd.DataFrame(column_extraction(experiments,1879), columns=['ID_Screening'])"
   ]
  },
  {
   "cell_type": "code",
   "execution_count": 5,
   "metadata": {},
   "outputs": [
    {
     "name": "stdout",
     "output_type": "stream",
     "text": [
      "The library has 5280 compounds\n",
      "The experiment has 6065 compounds\n"
     ]
    }
   ],
   "source": [
    "print(f'The library has {len(library_compound_ids)} compounds')\n",
    "print(f'The experiment has {len(screening_compound_ids)} compounds')"
   ]
  },
  {
   "cell_type": "markdown",
   "metadata": {},
   "source": [
    "### Cleaning Library's compounds"
   ]
  },
  {
   "cell_type": "code",
   "execution_count": 6,
   "metadata": {},
   "outputs": [
    {
     "data": {
      "text/html": [
       "<div>\n",
       "<style scoped>\n",
       "    .dataframe tbody tr th:only-of-type {\n",
       "        vertical-align: middle;\n",
       "    }\n",
       "\n",
       "    .dataframe tbody tr th {\n",
       "        vertical-align: top;\n",
       "    }\n",
       "\n",
       "    .dataframe thead th {\n",
       "        text-align: right;\n",
       "    }\n",
       "</style>\n",
       "<table border=\"1\" class=\"dataframe\">\n",
       "  <thead>\n",
       "    <tr style=\"text-align: right;\">\n",
       "      <th></th>\n",
       "      <th>ID_library</th>\n",
       "    </tr>\n",
       "  </thead>\n",
       "  <tbody>\n",
       "    <tr>\n",
       "      <th>3471</th>\n",
       "      <td>Problem with structure</td>\n",
       "    </tr>\n",
       "    <tr>\n",
       "      <th>5185</th>\n",
       "      <td>Problem with structure</td>\n",
       "    </tr>\n",
       "  </tbody>\n",
       "</table>\n",
       "</div>"
      ],
      "text/plain": [
       "                  ID_library\n",
       "3471  Problem with structure\n",
       "5185  Problem with structure"
      ]
     },
     "execution_count": 6,
     "metadata": {},
     "output_type": "execute_result"
    }
   ],
   "source": [
    "# Removing compunds with ID \"Problem with structure\"\n",
    "problem = library_compound_ids.loc[library_compound_ids['ID_library']=='Problem with structure']\n",
    "problem"
   ]
  },
  {
   "cell_type": "code",
   "execution_count": 7,
   "metadata": {},
   "outputs": [
    {
     "name": "stdout",
     "output_type": "stream",
     "text": [
      "The library has now 5278 compounds\n"
     ]
    }
   ],
   "source": [
    "#Check that we did not miss information\n",
    "library_compound_ids_2 = library_compound_ids.copy().drop([3471, 5185])\n",
    "print(f'The library has now {len(library_compound_ids_2)} compounds')"
   ]
  },
  {
   "cell_type": "code",
   "execution_count": 8,
   "metadata": {},
   "outputs": [
    {
     "name": "stdout",
     "output_type": "stream",
     "text": [
      "There are 90 non unique compounds\n",
      "\n",
      "Printing the list of grouped compunds\n",
      "             Count\n",
      "ID_library       \n",
      "CBK011558       3\n",
      "CBK011603       3\n",
      "CBK042067       3\n",
      "CBK041250       3\n",
      "CBK000879       3\n",
      "...           ...\n",
      "CBK278033       1\n",
      "CBK278032       1\n",
      "CBK278031       1\n",
      "CBK278030       1\n",
      "CBK309769G      1\n",
      "\n",
      "[5188 rows x 1 columns]\n"
     ]
    }
   ],
   "source": [
    "#Check uniqueness in column \"Compound ID\"\n",
    "aux1 = library_compound_ids_2['ID_library'].copy().unique() #Array with all unique ID's names\n",
    "print(f'There are {len(library_compound_ids_2) - len(aux1)} non unique compounds\\n')\n",
    "aux2 = library_compound_ids_2.copy().groupby('ID_library').size().sort_values(ascending=False).to_frame() #Count the elements in each group and sort\n",
    "aux2.rename(columns = {0:'Count'}, inplace = True)\n",
    "print(f'Printing the list of grouped compunds\\n {aux2}')"
   ]
  },
  {
   "cell_type": "markdown",
   "metadata": {},
   "source": [
    "### Cleaning experiment's compounds"
   ]
  },
  {
   "cell_type": "code",
   "execution_count": 9,
   "metadata": {},
   "outputs": [
    {
     "name": "stdout",
     "output_type": "stream",
     "text": [
      "There are 881 non unique compounds\n",
      "\n",
      "Printing the list of grouped compunds\n",
      "               Count\n",
      "ID_Screening       \n",
      "Uninfected      256\n",
      "DMSO            188\n",
      "Remdesivir      158\n",
      "CP4              48\n",
      "CP3              48\n",
      "...             ...\n",
      "CBK278048         1\n",
      "CBK278047         1\n",
      "CBK278045         1\n",
      "CBK278044         1\n",
      "CBK290655         1\n",
      "\n",
      "[5184 rows x 1 columns]\n"
     ]
    }
   ],
   "source": [
    "#Check uniqueness in column \"Compound ID\"\n",
    "aux11 = screening_compound_ids['ID_Screening'].copy().unique() #Array with all unique ID's names\n",
    "print(f'There are {len(screening_compound_ids) - len(aux11)} non unique compounds\\n')\n",
    "aux21 = screening_compound_ids.copy().groupby('ID_Screening').size().sort_values(ascending=False).to_frame() #Count the elements in each group and sort\n",
    "aux21.rename(columns = {0:'Count'}, inplace = True)\n",
    "print(f'Printing the list of grouped compunds\\n {aux21}')"
   ]
  },
  {
   "cell_type": "code",
   "execution_count": 10,
   "metadata": {},
   "outputs": [],
   "source": [
    "#print(f'Printing a part of the list of grouped compunds in the SPEC library\\n {aux2[0:15]}')\n",
    "#print(f'Printing a part of the list of grouped compunds in the experiment\\n {aux21[7:23]}')"
   ]
  },
  {
   "cell_type": "code",
   "execution_count": 11,
   "metadata": {},
   "outputs": [],
   "source": [
    "#House keeping\n",
    "unique_id_lib_count = aux2.copy().reset_index()#.sort_values(by=['ID_library'])\n",
    "\n",
    "unique_id_exp_count = aux21.copy().reset_index()\n",
    "unique_id_exp_count.drop(index=[0,1,2,3,4,5,6], inplace = True)\n",
    "unique_id_exp_count.reset_index(drop=True, inplace=True)\n",
    "#unique_id_exp_count= unique_id_exp_count.sort_values(by=['ID_Screening'])"
   ]
  },
  {
   "cell_type": "code",
   "execution_count": 12,
   "metadata": {},
   "outputs": [
    {
     "name": "stdout",
     "output_type": "stream",
     "text": [
      "      ID_library  Count\n",
      "0      CBK011558      3\n",
      "1      CBK011603      3\n",
      "2      CBK042067      3\n",
      "3      CBK041250      3\n",
      "4      CBK000879      3\n",
      "...          ...    ...\n",
      "5183   CBK278033      1\n",
      "5184   CBK278032      1\n",
      "5185   CBK278031      1\n",
      "5186   CBK278030      1\n",
      "5187  CBK309769G      1\n",
      "\n",
      "[5188 rows x 2 columns]\n",
      "     ID_Screening  Count\n",
      "0       CBK011558      3\n",
      "1       CBK011603      3\n",
      "2       CBK041250      3\n",
      "3       CBK042067      3\n",
      "4       CBK011551      3\n",
      "...           ...    ...\n",
      "5172    CBK278048      1\n",
      "5173    CBK278047      1\n",
      "5174    CBK278045      1\n",
      "5175    CBK278044      1\n",
      "5176    CBK290655      1\n",
      "\n",
      "[5177 rows x 2 columns]\n"
     ]
    }
   ],
   "source": [
    "print(unique_id_lib_count)\n",
    "print(unique_id_exp_count)"
   ]
  },
  {
   "cell_type": "code",
   "execution_count": 13,
   "metadata": {},
   "outputs": [],
   "source": [
    "#comparision = unique_id_exp_count.assign(In_Library=unique_id_exp_count.ID_Screening.isin(unique_id_lib_count.ID_library))\n",
    "#count = comparision['In_Library'].sum()\n",
    "#count"
   ]
  },
  {
   "cell_type": "code",
   "execution_count": 14,
   "metadata": {},
   "outputs": [],
   "source": [
    "# in_library = []\n",
    "# count = 0\n",
    "# for i in range(unique_id_exp_count.shape[0]):\n",
    "#     compound_exp = unique_id_exp_count['ID_Screening'][i]\n",
    "#     if compound_exp in unique_id_lib_count['ID_library'].values:\n",
    "#         count += 1\n",
    "#         in_library.append(compound_exp)\n",
    "#         continue\n",
    "# print(count)"
   ]
  },
  {
   "cell_type": "code",
   "execution_count": 20,
   "metadata": {},
   "outputs": [
    {
     "data": {
      "text/html": [
       "<div>\n",
       "<style scoped>\n",
       "    .dataframe tbody tr th:only-of-type {\n",
       "        vertical-align: middle;\n",
       "    }\n",
       "\n",
       "    .dataframe tbody tr th {\n",
       "        vertical-align: top;\n",
       "    }\n",
       "\n",
       "    .dataframe thead th {\n",
       "        text-align: right;\n",
       "    }\n",
       "</style>\n",
       "<table border=\"1\" class=\"dataframe\">\n",
       "  <thead>\n",
       "    <tr style=\"text-align: right;\">\n",
       "      <th></th>\n",
       "      <th>ID_library</th>\n",
       "      <th>Count</th>\n",
       "    </tr>\n",
       "  </thead>\n",
       "  <tbody>\n",
       "    <tr>\n",
       "      <th>7</th>\n",
       "      <td>CBK308476</td>\n",
       "      <td>2</td>\n",
       "    </tr>\n",
       "    <tr>\n",
       "      <th>8</th>\n",
       "      <td>CBK042177</td>\n",
       "      <td>2</td>\n",
       "    </tr>\n",
       "    <tr>\n",
       "      <th>9</th>\n",
       "      <td>CBK308321</td>\n",
       "      <td>2</td>\n",
       "    </tr>\n",
       "    <tr>\n",
       "      <th>10</th>\n",
       "      <td>CBK290052</td>\n",
       "      <td>2</td>\n",
       "    </tr>\n",
       "    <tr>\n",
       "      <th>11</th>\n",
       "      <td>CBK012424</td>\n",
       "      <td>2</td>\n",
       "    </tr>\n",
       "    <tr>\n",
       "      <th>...</th>\n",
       "      <td>...</td>\n",
       "      <td>...</td>\n",
       "    </tr>\n",
       "    <tr>\n",
       "      <th>78</th>\n",
       "      <td>CBK200659</td>\n",
       "      <td>2</td>\n",
       "    </tr>\n",
       "    <tr>\n",
       "      <th>79</th>\n",
       "      <td>CBK041357</td>\n",
       "      <td>2</td>\n",
       "    </tr>\n",
       "    <tr>\n",
       "      <th>80</th>\n",
       "      <td>CBK041430</td>\n",
       "      <td>2</td>\n",
       "    </tr>\n",
       "    <tr>\n",
       "      <th>81</th>\n",
       "      <td>CBK041511</td>\n",
       "      <td>2</td>\n",
       "    </tr>\n",
       "    <tr>\n",
       "      <th>82</th>\n",
       "      <td>CBK309105</td>\n",
       "      <td>2</td>\n",
       "    </tr>\n",
       "  </tbody>\n",
       "</table>\n",
       "<p>76 rows × 2 columns</p>\n",
       "</div>"
      ],
      "text/plain": [
       "   ID_library  Count\n",
       "7   CBK308476      2\n",
       "8   CBK042177      2\n",
       "9   CBK308321      2\n",
       "10  CBK290052      2\n",
       "11  CBK012424      2\n",
       "..        ...    ...\n",
       "78  CBK200659      2\n",
       "79  CBK041357      2\n",
       "80  CBK041430      2\n",
       "81  CBK041511      2\n",
       "82  CBK309105      2\n",
       "\n",
       "[76 rows x 2 columns]"
      ]
     },
     "execution_count": 20,
     "metadata": {},
     "output_type": "execute_result"
    }
   ],
   "source": [
    "unique_id_lib_count_2 = unique_id_lib_count.copy()\n",
    "unique_id_lib_count_2 = unique_id_lib_count_2[unique_id_lib_count_2['Count']==2]\n",
    "unique_id_lib_count_2"
   ]
  }
 ],
 "metadata": {
  "kernelspec": {
   "display_name": "Python 3",
   "language": "python",
   "name": "python3"
  },
  "language_info": {
   "codemirror_mode": {
    "name": "ipython",
    "version": 3
   },
   "file_extension": ".py",
   "mimetype": "text/x-python",
   "name": "python",
   "nbconvert_exporter": "python",
   "pygments_lexer": "ipython3",
   "version": "3.8.10"
  }
 },
 "nbformat": 4,
 "nbformat_minor": 4
}
