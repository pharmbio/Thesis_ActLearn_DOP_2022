{
 "cells": [
  {
   "cell_type": "code",
   "execution_count": 1,
   "metadata": {},
   "outputs": [],
   "source": [
    "%load_ext autoreload\n",
    "%autoreload 2\n",
    "\n",
    "from pandas import read_excel\n",
    "import csv\n",
    "import pandas as pd\n",
    "import numpy as np\n",
    "import matplotlib.pyplot as plt\n",
    "import matplotlib as mpl\n",
    "import seaborn as sns\n",
    "import random\n",
    "import timeit\n",
    "import pickle\n",
    "\n",
    "from sklearn.model_selection import cross_val_score, KFold, train_test_split\n",
    "from sklearn.metrics import confusion_matrix, mean_squared_error, classification_report, f1_score, mean_squared_log_error\n",
    "from sklearn.decomposition import PCA\n",
    "from sklearn.neighbors import KNeighborsClassifier\n",
    "from sklearn.linear_model import LinearRegression, Ridge, Lasso, LogisticRegression\n",
    "from sklearn.ensemble import RandomForestClassifier, AdaBoostClassifier\n",
    "from sklearn import svm, tree    #https://scikit-learn.org/stable/modules/svm.html\n",
    "                                 #https://scikit-learn.org/stable/modules/generated/sklearn.tree.DecisionTreeClassifier.html\n",
    "from sklearn.cluster import KMeans\n",
    "from sklearn.tree import DecisionTreeClassifier\n",
    "from sklearn.preprocessing import MinMaxScaler\n",
    "\n",
    "from modAL.models import ActiveLearner             #https://modal-python.readthedocs.io/en/latest/content/models/ActiveLearner.html\n",
    "from modAL.uncertainty import entropy_sampling     #https://modal-python.readthedocs.io/en/latest/content/apireference/uncertainty.html\n",
    "from modAL.disagreement import vote_entropy_sampling\n",
    "\n",
    "from imblearn.over_sampling import SMOTEN\n",
    "from imblearn.under_sampling import EditedNearestNeighbours, ClusterCentroids, RandomUnderSampler \n",
    "\n",
    "from collections import Counter\n",
    "\n",
    "import rdkit\n",
    "from rdkit import Chem\n",
    "from rdkit.Chem import AllChem,DataStructs,Draw,PandasTools,Descriptors\n",
    "from rdkit.Chem.MolStandardize import rdMolStandardize\n",
    "from rdkit.Chem.Draw import IPythonConsole\n",
    "from rdkit import RDLogger\n",
    "\n",
    "from IPython.display import Image\n",
    "\n",
    "# Configure the logging - RDKit is rather verbose..\n",
    "lg = RDLogger.logger()\n",
    "lg.setLevel(RDLogger.CRITICAL)\n",
    "# Set the molecule representation to be SVG \n",
    "PandasTools.molRepresentation='svg'\n",
    "# Loading and standardization method for SMILES -> RDKit molecule object\n",
    "uncharger = rdMolStandardize.Uncharger()\n",
    "\n",
    "\n",
    "# Loading and standardization method for SMILES -> RDKit molecule object\n",
    "uncharger = rdMolStandardize.Uncharger()\n",
    "\n",
    "import sys\n",
    "sys.path.insert(0, '/home/jovyan/Thesis_ActLearn_DOP_2022/main/active_learning/')\n",
    "import functions as fun"
   ]
  },
  {
   "cell_type": "markdown",
   "metadata": {},
   "source": [
    "### First, let's prepare the data"
   ]
  },
  {
   "cell_type": "code",
   "execution_count": 2,
   "metadata": {},
   "outputs": [
    {
     "name": "stdout",
     "output_type": "stream",
     "text": [
      "There are 5171 rows in data\n"
     ]
    }
   ],
   "source": [
    "# Loading data sets\n",
    "specs = pd.read_csv('/home/jovyan/covid-data/SPECS_ready_POLINA.csv')\n",
    "sss_batchA = pd.read_csv('/home/jovyan/covid-data/COVID_BatchA_ready_POLINA.csv')\n",
    "\n",
    "#Creating final dataset\n",
    "data = pd.merge(specs[['ID_library', 'smiles']], sss_batchA[['ID_covid', 'Intensity_MeanIntensity_illumMITO_cells.1']], \n",
    "                left_on= 'ID_library', right_on='ID_covid', how='left')\n",
    "data = data.drop(['ID_covid'],axis=1)\n",
    "data = data.drop([5164]) #Removing the compound whose SMILES has an error\n",
    "print(f\"There are {len(data)} rows in data\")"
   ]
  },
  {
   "cell_type": "markdown",
   "metadata": {},
   "source": [
    "Remove duplicated columns"
   ]
  },
  {
   "cell_type": "code",
   "execution_count": 3,
   "metadata": {},
   "outputs": [
    {
     "name": "stdout",
     "output_type": "stream",
     "text": [
      "The duplicate columns are:\n",
      " ['Location_Center_Y_cytoplasm', 'Location_Center_Y_cells', 'Location_Center_X_nuclei', 'AreaShape_BoundingBoxArea_cytoplasm', 'Location_Center_Y_nuclei', 'AreaShape_MinFeretDiameter_cytoplasm', 'AreaShape_BoundingBoxMaximum_X_cytoplasm', 'Intensity_MeanIntensity_illumMITO_cells.1', 'AreaShape_BoundingBoxMinimum_Y_cytoplasm', 'AreaShape_MaxFeretDiameter_cytoplasm', 'Location_Center_X_cytoplasm', 'Location_Center_X_cells', 'AreaShape_BoundingBoxMaximum_Y_cytoplasm', 'AreaShape_BoundingBoxMinimum_X_cytoplasm']\n"
     ]
    }
   ],
   "source": [
    "# Look for duplicated columns\n",
    "dup_cols = fun.getDuplicateColumns(sss_batchA)\n",
    "print(f'The duplicate columns are:\\n {dup_cols}')"
   ]
  },
  {
   "cell_type": "code",
   "execution_count": 5,
   "metadata": {},
   "outputs": [],
   "source": [
    "# I need to keep Intensity_MeanIntensity_illumMITO_cells.1 for later computations\n",
    "iaux = dup_cols.index(\"Intensity_MeanIntensity_illumMITO_cells.1\")\n",
    "dup_cols[iaux]= 'Intensity_MeanIntensity_illumMITO_cells'"
   ]
  },
  {
   "cell_type": "code",
   "execution_count": 6,
   "metadata": {},
   "outputs": [],
   "source": [
    "# Drop repeated columns\n",
    "sss_batchA = sss_batchA.drop(dup_cols, axis=1)"
   ]
  },
  {
   "cell_type": "markdown",
   "metadata": {},
   "source": [
    "Removing not useful columns (according to Jonne)"
   ]
  },
  {
   "cell_type": "code",
   "execution_count": 7,
   "metadata": {},
   "outputs": [
    {
     "name": "stdout",
     "output_type": "stream",
     "text": [
      "There are 364 columns containig info about MITO\n"
     ]
    }
   ],
   "source": [
    "filter_col = [col for col in sss_batchA.columns if 'MITO' in col]\n",
    "print(f'There are {len(filter_col)} columns containig info about MITO')"
   ]
  },
  {
   "cell_type": "code",
   "execution_count": 9,
   "metadata": {},
   "outputs": [],
   "source": [
    "filter_col = filter_col[:-1] # IF Intensity_MeanIntensity_illumMITO_cells.1 is in the last position"
   ]
  },
  {
   "cell_type": "code",
   "execution_count": 10,
   "metadata": {},
   "outputs": [],
   "source": [
    "# Drop repeated columns\n",
    "sss_batchA = sss_batchA.drop(filter_col, axis=1)"
   ]
  },
  {
   "cell_type": "markdown",
   "metadata": {},
   "source": [
    "### Now we add the information for training + cleaning"
   ]
  },
  {
   "cell_type": "markdown",
   "metadata": {},
   "source": [
    "First the cell profiler"
   ]
  },
  {
   "cell_type": "code",
   "execution_count": 11,
   "metadata": {},
   "outputs": [
    {
     "name": "stderr",
     "output_type": "stream",
     "text": [
      "<ipython-input-11-f8daa7d32177>:2: FutureWarning: In a future version of pandas all arguments of DataFrame.drop except for the argument 'labels' will be keyword-only.\n",
      "  cell_profiler = sss_batchA.drop(['PlateWellCompound','principal component 1','Intensity_MeanIntensity_illumMITO_cells.1','Ypredicted','Labels'], 1)\n"
     ]
    }
   ],
   "source": [
    "#Remove columns that are \"human-made\", hence, not useful \n",
    "cell_profiler = sss_batchA.drop(['PlateWellCompound','principal component 1','Intensity_MeanIntensity_illumMITO_cells.1','Ypredicted','Labels'], 1)\n",
    "#Create a vector that takes only the info from the cell profiler. NOTE: it is important to keep the ID intact for future merging\n",
    "cell_profiler['cell_profiler_vector'] = cell_profiler.apply(lambda r: tuple(r[0:-1]), axis=1).apply(np.array)"
   ]
  },
  {
   "cell_type": "code",
   "execution_count": 12,
   "metadata": {},
   "outputs": [
    {
     "data": {
      "text/html": [
       "<div>\n",
       "<style scoped>\n",
       "    .dataframe tbody tr th:only-of-type {\n",
       "        vertical-align: middle;\n",
       "    }\n",
       "\n",
       "    .dataframe tbody tr th {\n",
       "        vertical-align: top;\n",
       "    }\n",
       "\n",
       "    .dataframe thead th {\n",
       "        text-align: right;\n",
       "    }\n",
       "</style>\n",
       "<table border=\"1\" class=\"dataframe\">\n",
       "  <thead>\n",
       "    <tr style=\"text-align: right;\">\n",
       "      <th></th>\n",
       "      <th>ID_library</th>\n",
       "      <th>smiles</th>\n",
       "      <th>Intensity_MeanIntensity_illumMITO_cells.1</th>\n",
       "      <th>cell_profiler_vector</th>\n",
       "    </tr>\n",
       "  </thead>\n",
       "  <tbody>\n",
       "    <tr>\n",
       "      <th>0</th>\n",
       "      <td>CBK000155</td>\n",
       "      <td>C[C@H](Cc1ccc(OCC([O-])=O)cc1)NC[C@H](O)c1cccc...</td>\n",
       "      <td>0.010426</td>\n",
       "      <td>[177.625, 1720.288161, 2334.18884, 1099.896167...</td>\n",
       "    </tr>\n",
       "    <tr>\n",
       "      <th>1</th>\n",
       "      <td>CBK000156</td>\n",
       "      <td>CC(C)(C)NCC(O)COc1cccc2[nH]c(=O)[nH]c12</td>\n",
       "      <td>0.009417</td>\n",
       "      <td>[205.4444444, 1688.236028, 2286.442354, 1091.8...</td>\n",
       "    </tr>\n",
       "    <tr>\n",
       "      <th>2</th>\n",
       "      <td>CBK000161</td>\n",
       "      <td>[H][C@@](CC)(NC(C)C)[C@]([H])(O)c1ccc(O)c2[nH]...</td>\n",
       "      <td>0.008106</td>\n",
       "      <td>[204.7777778, 1708.759477, 2319.240635, 1091.1...</td>\n",
       "    </tr>\n",
       "    <tr>\n",
       "      <th>3</th>\n",
       "      <td>CBK000162</td>\n",
       "      <td>CC(C)N[C@@H](C)[C@@H](O)COc1ccc(C)c2CCCc12</td>\n",
       "      <td>0.010586</td>\n",
       "      <td>[193.8888889, 1647.879668, 2244.319157, 1201.7...</td>\n",
       "    </tr>\n",
       "    <tr>\n",
       "      <th>4</th>\n",
       "      <td>CBK000164</td>\n",
       "      <td>CC(C)NCC(O)COc1ccc(COCCOC(C)C)cc1</td>\n",
       "      <td>0.010333</td>\n",
       "      <td>[200.2222222, 1667.427461, 2269.049919, 1138.2...</td>\n",
       "    </tr>\n",
       "  </tbody>\n",
       "</table>\n",
       "</div>"
      ],
      "text/plain": [
       "  ID_library                                             smiles  \\\n",
       "0  CBK000155  C[C@H](Cc1ccc(OCC([O-])=O)cc1)NC[C@H](O)c1cccc...   \n",
       "1  CBK000156            CC(C)(C)NCC(O)COc1cccc2[nH]c(=O)[nH]c12   \n",
       "2  CBK000161  [H][C@@](CC)(NC(C)C)[C@]([H])(O)c1ccc(O)c2[nH]...   \n",
       "3  CBK000162         CC(C)N[C@@H](C)[C@@H](O)COc1ccc(C)c2CCCc12   \n",
       "4  CBK000164                  CC(C)NCC(O)COc1ccc(COCCOC(C)C)cc1   \n",
       "\n",
       "   Intensity_MeanIntensity_illumMITO_cells.1  \\\n",
       "0                                   0.010426   \n",
       "1                                   0.009417   \n",
       "2                                   0.008106   \n",
       "3                                   0.010586   \n",
       "4                                   0.010333   \n",
       "\n",
       "                                cell_profiler_vector  \n",
       "0  [177.625, 1720.288161, 2334.18884, 1099.896167...  \n",
       "1  [205.4444444, 1688.236028, 2286.442354, 1091.8...  \n",
       "2  [204.7777778, 1708.759477, 2319.240635, 1091.1...  \n",
       "3  [193.8888889, 1647.879668, 2244.319157, 1201.7...  \n",
       "4  [200.2222222, 1667.427461, 2269.049919, 1138.2...  "
      ]
     },
     "execution_count": 12,
     "metadata": {},
     "output_type": "execute_result"
    }
   ],
   "source": [
    "#Creating final dataset\n",
    "data = pd.merge(data, cell_profiler[['ID_covid', 'cell_profiler_vector']], \n",
    "                left_on= 'ID_library', right_on='ID_covid', how='left')\n",
    "data = data.drop(['ID_covid'],axis=1)\n",
    "data.head() "
   ]
  },
  {
   "cell_type": "code",
   "execution_count": 13,
   "metadata": {},
   "outputs": [
    {
     "name": "stdout",
     "output_type": "stream",
     "text": [
      "<class 'pandas.core.frame.DataFrame'>\n",
      "Int64Index: 5171 entries, 0 to 5170\n",
      "Data columns (total 4 columns):\n",
      " #   Column                                     Non-Null Count  Dtype  \n",
      "---  ------                                     --------------  -----  \n",
      " 0   ID_library                                 5171 non-null   object \n",
      " 1   smiles                                     5171 non-null   object \n",
      " 2   Intensity_MeanIntensity_illumMITO_cells.1  5171 non-null   float64\n",
      " 3   cell_profiler_vector                       5171 non-null   object \n",
      "dtypes: float64(1), object(3)\n",
      "memory usage: 202.0+ KB\n"
     ]
    }
   ],
   "source": [
    "data.info()"
   ]
  },
  {
   "cell_type": "code",
   "execution_count": 14,
   "metadata": {},
   "outputs": [],
   "source": [
    "# Compounds with volume 0\n",
    "compound_volume0 = ['CBK309099','CBK290175','CBK290175','CBK290175','CBK290175','CBK308178','CBK308178','CBK308178','CBK308178',\n",
    "                    'CBK309637','CBK308501','CBK309637','CBK308501','CBK309637','CBK308501','CBK309637','CBK308501','CBK309392',\n",
    "                    'CBK309392','CBK290631','CBK309251','CBK309251','CBK309251','CBK309251','CBK290950','CBK290950','CBK290950','CBK290950']\n",
    "\n",
    "compound_volume0_idx = [data.index[data['ID_library'] == comp].to_list() for comp in compound_volume0]\n",
    "compound_volume0_idx = [item for sublist in compound_volume0_idx for item in sublist]"
   ]
  },
  {
   "cell_type": "code",
   "execution_count": 15,
   "metadata": {},
   "outputs": [],
   "source": [
    "data = data.drop(compound_volume0_idx)"
   ]
  },
  {
   "cell_type": "markdown",
   "metadata": {},
   "source": [
    "### Now training"
   ]
  },
  {
   "cell_type": "code",
   "execution_count": 17,
   "metadata": {},
   "outputs": [],
   "source": [
    "# We get the input values\n",
    "X = data['cell_profiler_vector'].tolist()\n",
    "X = np.asarray(X)\n",
    "# Output values\n",
    "y = data['Intensity_MeanIntensity_illumMITO_cells.1'].values\n",
    "# Re-scale\n",
    "scaler = MinMaxScaler()\n",
    "X = scaler.fit_transform(X)\n",
    "y = 1000*y"
   ]
  },
  {
   "cell_type": "code",
   "execution_count": 18,
   "metadata": {},
   "outputs": [],
   "source": [
    "X_train, X_test, y_train, y_test = train_test_split(X, y, test_size=0.2, random_state=25435)"
   ]
  },
  {
   "cell_type": "code",
   "execution_count": 19,
   "metadata": {},
   "outputs": [
    {
     "name": "stdout",
     "output_type": "stream",
     "text": [
      "Mean squared logarithmic error regression loss: 0.003912486174831925\n"
     ]
    }
   ],
   "source": [
    "# Training\n",
    "regressor = LinearRegression()  \n",
    "regressor.fit(X_train, y_train) #training the algorithm\n",
    "# Computing predictions\n",
    "y_pred = regressor.predict(X_test)\n",
    "# Accessing results\n",
    "#df = pd.DataFrame({'Actual': y_test.flatten(), 'Predicted': y_pred.flatten()})\n",
    "print('Mean squared logarithmic error regression loss:', mean_squared_log_error(y_test, y_pred)) "
   ]
  },
  {
   "cell_type": "code",
   "execution_count": 22,
   "metadata": {},
   "outputs": [],
   "source": [
    "results = pd.DataFrame({'Actual': y_test.flatten(), 'Predicted': y_pred.flatten()})"
   ]
  },
  {
   "cell_type": "code",
   "execution_count": 23,
   "metadata": {},
   "outputs": [
    {
     "data": {
      "text/html": [
       "<div>\n",
       "<style scoped>\n",
       "    .dataframe tbody tr th:only-of-type {\n",
       "        vertical-align: middle;\n",
       "    }\n",
       "\n",
       "    .dataframe tbody tr th {\n",
       "        vertical-align: top;\n",
       "    }\n",
       "\n",
       "    .dataframe thead th {\n",
       "        text-align: right;\n",
       "    }\n",
       "</style>\n",
       "<table border=\"1\" class=\"dataframe\">\n",
       "  <thead>\n",
       "    <tr style=\"text-align: right;\">\n",
       "      <th></th>\n",
       "      <th>Actual</th>\n",
       "      <th>Predicted</th>\n",
       "    </tr>\n",
       "  </thead>\n",
       "  <tbody>\n",
       "    <tr>\n",
       "      <th>0</th>\n",
       "      <td>9.341117</td>\n",
       "      <td>9.952406</td>\n",
       "    </tr>\n",
       "    <tr>\n",
       "      <th>1</th>\n",
       "      <td>8.872410</td>\n",
       "      <td>9.796538</td>\n",
       "    </tr>\n",
       "    <tr>\n",
       "      <th>2</th>\n",
       "      <td>8.086758</td>\n",
       "      <td>8.265380</td>\n",
       "    </tr>\n",
       "    <tr>\n",
       "      <th>3</th>\n",
       "      <td>8.963924</td>\n",
       "      <td>9.669082</td>\n",
       "    </tr>\n",
       "    <tr>\n",
       "      <th>4</th>\n",
       "      <td>8.439369</td>\n",
       "      <td>9.354256</td>\n",
       "    </tr>\n",
       "    <tr>\n",
       "      <th>...</th>\n",
       "      <td>...</td>\n",
       "      <td>...</td>\n",
       "    </tr>\n",
       "    <tr>\n",
       "      <th>1028</th>\n",
       "      <td>8.565198</td>\n",
       "      <td>8.770846</td>\n",
       "    </tr>\n",
       "    <tr>\n",
       "      <th>1029</th>\n",
       "      <td>8.670769</td>\n",
       "      <td>7.183172</td>\n",
       "    </tr>\n",
       "    <tr>\n",
       "      <th>1030</th>\n",
       "      <td>10.006713</td>\n",
       "      <td>9.799321</td>\n",
       "    </tr>\n",
       "    <tr>\n",
       "      <th>1031</th>\n",
       "      <td>7.816026</td>\n",
       "      <td>7.729898</td>\n",
       "    </tr>\n",
       "    <tr>\n",
       "      <th>1032</th>\n",
       "      <td>5.954849</td>\n",
       "      <td>7.236978</td>\n",
       "    </tr>\n",
       "  </tbody>\n",
       "</table>\n",
       "<p>1033 rows × 2 columns</p>\n",
       "</div>"
      ],
      "text/plain": [
       "         Actual  Predicted\n",
       "0      9.341117   9.952406\n",
       "1      8.872410   9.796538\n",
       "2      8.086758   8.265380\n",
       "3      8.963924   9.669082\n",
       "4      8.439369   9.354256\n",
       "...         ...        ...\n",
       "1028   8.565198   8.770846\n",
       "1029   8.670769   7.183172\n",
       "1030  10.006713   9.799321\n",
       "1031   7.816026   7.729898\n",
       "1032   5.954849   7.236978\n",
       "\n",
       "[1033 rows x 2 columns]"
      ]
     },
     "execution_count": 23,
     "metadata": {},
     "output_type": "execute_result"
    }
   ],
   "source": [
    "results"
   ]
  },
  {
   "cell_type": "code",
   "execution_count": 32,
   "metadata": {},
   "outputs": [],
   "source": [
    "results = fun.labelling_v2(results, col_reference='Actual', labels_position = 1, label_positive=1, label_negative=0, threshold=6.2)\n",
    "results = fun.labelling_v2(results, col_reference='Predicted', labels_position = 3, label_positive=1, label_negative=0, threshold=6.2)"
   ]
  },
  {
   "cell_type": "code",
   "execution_count": 33,
   "metadata": {},
   "outputs": [
    {
     "data": {
      "text/html": [
       "<div>\n",
       "<style scoped>\n",
       "    .dataframe tbody tr th:only-of-type {\n",
       "        vertical-align: middle;\n",
       "    }\n",
       "\n",
       "    .dataframe tbody tr th {\n",
       "        vertical-align: top;\n",
       "    }\n",
       "\n",
       "    .dataframe thead th {\n",
       "        text-align: right;\n",
       "    }\n",
       "</style>\n",
       "<table border=\"1\" class=\"dataframe\">\n",
       "  <thead>\n",
       "    <tr style=\"text-align: right;\">\n",
       "      <th></th>\n",
       "      <th>Actual</th>\n",
       "      <th>Labels_Actual</th>\n",
       "      <th>Predicted</th>\n",
       "      <th>Labels_Predicted</th>\n",
       "    </tr>\n",
       "  </thead>\n",
       "  <tbody>\n",
       "    <tr>\n",
       "      <th>0</th>\n",
       "      <td>9.341117</td>\n",
       "      <td>0</td>\n",
       "      <td>9.952406</td>\n",
       "      <td>0</td>\n",
       "    </tr>\n",
       "    <tr>\n",
       "      <th>1</th>\n",
       "      <td>8.872410</td>\n",
       "      <td>0</td>\n",
       "      <td>9.796538</td>\n",
       "      <td>0</td>\n",
       "    </tr>\n",
       "    <tr>\n",
       "      <th>2</th>\n",
       "      <td>8.086758</td>\n",
       "      <td>0</td>\n",
       "      <td>8.265380</td>\n",
       "      <td>0</td>\n",
       "    </tr>\n",
       "    <tr>\n",
       "      <th>3</th>\n",
       "      <td>8.963924</td>\n",
       "      <td>0</td>\n",
       "      <td>9.669082</td>\n",
       "      <td>0</td>\n",
       "    </tr>\n",
       "    <tr>\n",
       "      <th>4</th>\n",
       "      <td>8.439369</td>\n",
       "      <td>0</td>\n",
       "      <td>9.354256</td>\n",
       "      <td>0</td>\n",
       "    </tr>\n",
       "    <tr>\n",
       "      <th>...</th>\n",
       "      <td>...</td>\n",
       "      <td>...</td>\n",
       "      <td>...</td>\n",
       "      <td>...</td>\n",
       "    </tr>\n",
       "    <tr>\n",
       "      <th>1028</th>\n",
       "      <td>8.565198</td>\n",
       "      <td>0</td>\n",
       "      <td>8.770846</td>\n",
       "      <td>0</td>\n",
       "    </tr>\n",
       "    <tr>\n",
       "      <th>1029</th>\n",
       "      <td>8.670769</td>\n",
       "      <td>0</td>\n",
       "      <td>7.183172</td>\n",
       "      <td>0</td>\n",
       "    </tr>\n",
       "    <tr>\n",
       "      <th>1030</th>\n",
       "      <td>10.006713</td>\n",
       "      <td>0</td>\n",
       "      <td>9.799321</td>\n",
       "      <td>0</td>\n",
       "    </tr>\n",
       "    <tr>\n",
       "      <th>1031</th>\n",
       "      <td>7.816026</td>\n",
       "      <td>0</td>\n",
       "      <td>7.729898</td>\n",
       "      <td>0</td>\n",
       "    </tr>\n",
       "    <tr>\n",
       "      <th>1032</th>\n",
       "      <td>5.954849</td>\n",
       "      <td>1</td>\n",
       "      <td>7.236978</td>\n",
       "      <td>0</td>\n",
       "    </tr>\n",
       "  </tbody>\n",
       "</table>\n",
       "<p>1033 rows × 4 columns</p>\n",
       "</div>"
      ],
      "text/plain": [
       "         Actual  Labels_Actual  Predicted  Labels_Predicted\n",
       "0      9.341117              0   9.952406                 0\n",
       "1      8.872410              0   9.796538                 0\n",
       "2      8.086758              0   8.265380                 0\n",
       "3      8.963924              0   9.669082                 0\n",
       "4      8.439369              0   9.354256                 0\n",
       "...         ...            ...        ...               ...\n",
       "1028   8.565198              0   8.770846                 0\n",
       "1029   8.670769              0   7.183172                 0\n",
       "1030  10.006713              0   9.799321                 0\n",
       "1031   7.816026              0   7.729898                 0\n",
       "1032   5.954849              1   7.236978                 0\n",
       "\n",
       "[1033 rows x 4 columns]"
      ]
     },
     "execution_count": 33,
     "metadata": {},
     "output_type": "execute_result"
    }
   ],
   "source": [
    "results"
   ]
  },
  {
   "cell_type": "code",
   "execution_count": null,
   "metadata": {},
   "outputs": [],
   "source": []
  }
 ],
 "metadata": {
  "kernelspec": {
   "display_name": "Python 3",
   "language": "python",
   "name": "python3"
  },
  "language_info": {
   "codemirror_mode": {
    "name": "ipython",
    "version": 3
   },
   "file_extension": ".py",
   "mimetype": "text/x-python",
   "name": "python",
   "nbconvert_exporter": "python",
   "pygments_lexer": "ipython3",
   "version": "3.8.10"
  }
 },
 "nbformat": 4,
 "nbformat_minor": 4
}
