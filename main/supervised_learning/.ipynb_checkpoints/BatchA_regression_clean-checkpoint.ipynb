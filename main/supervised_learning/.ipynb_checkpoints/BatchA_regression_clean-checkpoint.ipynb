{
 "cells": [
  {
   "cell_type": "code",
   "execution_count": 1,
   "metadata": {},
   "outputs": [],
   "source": [
    "%load_ext autoreload\n",
    "%autoreload 2\n",
    "\n",
    "import csv\n",
    "import pandas as pd\n",
    "import numpy as np\n",
    "import matplotlib.pyplot as plt\n",
    "import matplotlib as mpl\n",
    "import seaborn as sns\n",
    "import random\n",
    "import timeit\n",
    "import pickle\n",
    "\n",
    "from sklearn.model_selection import cross_val_score, KFold, train_test_split, StratifiedKFold\n",
    "from sklearn.metrics import confusion_matrix, mean_squared_error, classification_report, f1_score, mean_squared_log_error, recall_score\n",
    "from sklearn.decomposition import PCA\n",
    "from sklearn.neighbors import KNeighborsClassifier\n",
    "from sklearn.linear_model import LinearRegression, Ridge, Lasso, LogisticRegression\n",
    "from sklearn.ensemble import RandomForestClassifier, AdaBoostClassifier, RandomForestRegressor, AdaBoostRegressor, BaggingRegressor\n",
    "from sklearn import svm, tree    #https://scikit-learn.org/stable/modules/svm.html\n",
    "                                 #https://scikit-learn.org/stable/modules/generated/sklearn.tree.DecisionTreeClassifier.html\n",
    "from sklearn.cluster import KMeans\n",
    "from sklearn.tree import DecisionTreeClassifier, DecisionTreeRegressor\n",
    "from sklearn.preprocessing import MinMaxScaler, StandardScaler\n",
    "\n",
    "#-------------ACTIVE LEARNING LIBRARY\n",
    "from modAL.models import ActiveLearner             #https://modal-python.readthedocs.io/en/latest/content/models/ActiveLearner.html\n",
    "from modAL.uncertainty import entropy_sampling     #https://modal-python.readthedocs.io/en/latest/content/apireference/uncertainty.html\n",
    "from modAL.disagreement import vote_entropy_sampling\n",
    "\n",
    "#------------IMBALANCED DATA SETS LIBRARY\n",
    "from imblearn.over_sampling import SMOTEN\n",
    "from imblearn.under_sampling import EditedNearestNeighbours, ClusterCentroids, RandomUnderSampler \n",
    "\n",
    "from collections import Counter\n",
    "\n",
    "import sys\n",
    "sys.path.insert(0, '/home/jovyan/Thesis_ActLearn_DOP_2022/main/active_learning/')\n",
    "import functions as fun\n",
    "import reg_icp as ricp"
   ]
  },
  {
   "cell_type": "code",
   "execution_count": 2,
   "metadata": {},
   "outputs": [
    {
     "name": "stdout",
     "output_type": "stream",
     "text": [
      "There are 5167 rows in the Batch A\n"
     ]
    }
   ],
   "source": [
    "# Loading data sets\n",
    "cell_profiler = pd.read_csv('/home/jovyan/Thesis_ActLearn_DOP_2022/main/supervised_learning/regression_data_batchA.csv')\n",
    "print(f'There are {len(cell_profiler)} rows in the Batch A')"
   ]
  },
  {
   "cell_type": "markdown",
   "metadata": {},
   "source": [
    "### Feature selection"
   ]
  },
  {
   "cell_type": "markdown",
   "metadata": {},
   "source": [
    "So far I have filtered all the columns that contained something related to the MITO chanell. Now, according to the paper \"A phenomic approach for antiviral drug discovery\", there are features, specifically correlation, \n",
    "neighbours, concavalin and syto, that are more important. Hence, I am going to filter more to use only that information. "
   ]
  },
  {
   "cell_type": "code",
   "execution_count": 3,
   "metadata": {},
   "outputs": [],
   "source": [
    "# Selecting features according to the paper\n",
    "group1 = [col for col in cell_profiler.columns if ('Granu' in col  and 'SYTO' in col) or ('Inten' in col and 'SYTO' in col) and not 'Location' in col and not 'Radial' in col]\n",
    "group2 = [col for col in cell_profiler.columns if ('Granu' in col  and 'CONC' in col) or ('Inten' in col and 'CONC' in col) and not 'Location' in col and not 'Radial' in col]\n",
    "group3 = [col for col in cell_profiler.columns if 'Correla' in col or 'Neig' in col]\n",
    "\n",
    "filtered_features = group1+group2+group3\n",
    "\n",
    "# Filtering\n",
    "filtered_cell_profiler = cell_profiler[filtered_features+['Target']]"
   ]
  },
  {
   "cell_type": "markdown",
   "metadata": {
    "tags": []
   },
   "source": [
    "### Now training"
   ]
  },
  {
   "cell_type": "markdown",
   "metadata": {},
   "source": [
    "1. Creating training and tests sets"
   ]
  },
  {
   "cell_type": "code",
   "execution_count": 4,
   "metadata": {},
   "outputs": [
    {
     "data": {
      "text/html": [
       "<div>\n",
       "<style scoped>\n",
       "    .dataframe tbody tr th:only-of-type {\n",
       "        vertical-align: middle;\n",
       "    }\n",
       "\n",
       "    .dataframe tbody tr th {\n",
       "        vertical-align: top;\n",
       "    }\n",
       "\n",
       "    .dataframe thead th {\n",
       "        text-align: right;\n",
       "    }\n",
       "</style>\n",
       "<table border=\"1\" class=\"dataframe\">\n",
       "  <thead>\n",
       "    <tr style=\"text-align: right;\">\n",
       "      <th></th>\n",
       "      <th>0</th>\n",
       "      <th>1</th>\n",
       "      <th>2</th>\n",
       "      <th>3</th>\n",
       "      <th>4</th>\n",
       "      <th>5</th>\n",
       "      <th>6</th>\n",
       "      <th>7</th>\n",
       "      <th>8</th>\n",
       "      <th>9</th>\n",
       "      <th>...</th>\n",
       "      <th>274</th>\n",
       "      <th>275</th>\n",
       "      <th>276</th>\n",
       "      <th>277</th>\n",
       "      <th>278</th>\n",
       "      <th>279</th>\n",
       "      <th>280</th>\n",
       "      <th>281</th>\n",
       "      <th>282</th>\n",
       "      <th>283</th>\n",
       "    </tr>\n",
       "  </thead>\n",
       "  <tbody>\n",
       "    <tr>\n",
       "      <th>0</th>\n",
       "      <td>-0.257914</td>\n",
       "      <td>-0.503403</td>\n",
       "      <td>0.368115</td>\n",
       "      <td>-1.095521</td>\n",
       "      <td>0.177077</td>\n",
       "      <td>-0.430929</td>\n",
       "      <td>0.795305</td>\n",
       "      <td>-0.046790</td>\n",
       "      <td>-1.321457</td>\n",
       "      <td>-0.836086</td>\n",
       "      <td>...</td>\n",
       "      <td>0.170116</td>\n",
       "      <td>0.076296</td>\n",
       "      <td>0.748799</td>\n",
       "      <td>0.169360</td>\n",
       "      <td>-0.087611</td>\n",
       "      <td>0.648681</td>\n",
       "      <td>-0.203668</td>\n",
       "      <td>-0.033160</td>\n",
       "      <td>0.743814</td>\n",
       "      <td>0.100900</td>\n",
       "    </tr>\n",
       "    <tr>\n",
       "      <th>1</th>\n",
       "      <td>-1.351104</td>\n",
       "      <td>-0.978272</td>\n",
       "      <td>-1.053952</td>\n",
       "      <td>-0.941708</td>\n",
       "      <td>-0.821612</td>\n",
       "      <td>-1.089779</td>\n",
       "      <td>-2.370635</td>\n",
       "      <td>1.530151</td>\n",
       "      <td>-0.441446</td>\n",
       "      <td>0.073379</td>\n",
       "      <td>...</td>\n",
       "      <td>-0.776891</td>\n",
       "      <td>0.733642</td>\n",
       "      <td>0.276178</td>\n",
       "      <td>0.731734</td>\n",
       "      <td>-0.770309</td>\n",
       "      <td>-1.259507</td>\n",
       "      <td>-0.719190</td>\n",
       "      <td>-0.907220</td>\n",
       "      <td>-1.347615</td>\n",
       "      <td>-1.314692</td>\n",
       "    </tr>\n",
       "    <tr>\n",
       "      <th>2</th>\n",
       "      <td>-0.292257</td>\n",
       "      <td>0.206746</td>\n",
       "      <td>0.076387</td>\n",
       "      <td>-0.559541</td>\n",
       "      <td>-0.361829</td>\n",
       "      <td>-0.121880</td>\n",
       "      <td>0.222068</td>\n",
       "      <td>2.100450</td>\n",
       "      <td>-2.210764</td>\n",
       "      <td>-2.021869</td>\n",
       "      <td>...</td>\n",
       "      <td>-0.614305</td>\n",
       "      <td>-0.786486</td>\n",
       "      <td>-0.920356</td>\n",
       "      <td>-1.143140</td>\n",
       "      <td>-0.760895</td>\n",
       "      <td>0.285831</td>\n",
       "      <td>-1.617476</td>\n",
       "      <td>-0.108020</td>\n",
       "      <td>0.564839</td>\n",
       "      <td>-1.243213</td>\n",
       "    </tr>\n",
       "    <tr>\n",
       "      <th>3</th>\n",
       "      <td>-1.259874</td>\n",
       "      <td>-1.693025</td>\n",
       "      <td>-2.044711</td>\n",
       "      <td>-3.152486</td>\n",
       "      <td>-3.409335</td>\n",
       "      <td>-2.732680</td>\n",
       "      <td>-2.720392</td>\n",
       "      <td>4.814035</td>\n",
       "      <td>-2.349717</td>\n",
       "      <td>-1.265924</td>\n",
       "      <td>...</td>\n",
       "      <td>-0.800588</td>\n",
       "      <td>3.368160</td>\n",
       "      <td>-2.423337</td>\n",
       "      <td>-1.235297</td>\n",
       "      <td>0.734348</td>\n",
       "      <td>-1.713448</td>\n",
       "      <td>-1.929259</td>\n",
       "      <td>1.127889</td>\n",
       "      <td>-2.226118</td>\n",
       "      <td>-4.486775</td>\n",
       "    </tr>\n",
       "    <tr>\n",
       "      <th>4</th>\n",
       "      <td>-1.125852</td>\n",
       "      <td>-1.304193</td>\n",
       "      <td>-0.699630</td>\n",
       "      <td>-0.727178</td>\n",
       "      <td>-0.826347</td>\n",
       "      <td>-0.663788</td>\n",
       "      <td>-0.484115</td>\n",
       "      <td>1.217376</td>\n",
       "      <td>-1.327913</td>\n",
       "      <td>-0.397548</td>\n",
       "      <td>...</td>\n",
       "      <td>-1.279884</td>\n",
       "      <td>-0.715382</td>\n",
       "      <td>0.055487</td>\n",
       "      <td>0.213475</td>\n",
       "      <td>-1.757143</td>\n",
       "      <td>-1.007877</td>\n",
       "      <td>-1.262469</td>\n",
       "      <td>-1.670823</td>\n",
       "      <td>-0.765251</td>\n",
       "      <td>-0.973857</td>\n",
       "    </tr>\n",
       "    <tr>\n",
       "      <th>...</th>\n",
       "      <td>...</td>\n",
       "      <td>...</td>\n",
       "      <td>...</td>\n",
       "      <td>...</td>\n",
       "      <td>...</td>\n",
       "      <td>...</td>\n",
       "      <td>...</td>\n",
       "      <td>...</td>\n",
       "      <td>...</td>\n",
       "      <td>...</td>\n",
       "      <td>...</td>\n",
       "      <td>...</td>\n",
       "      <td>...</td>\n",
       "      <td>...</td>\n",
       "      <td>...</td>\n",
       "      <td>...</td>\n",
       "      <td>...</td>\n",
       "      <td>...</td>\n",
       "      <td>...</td>\n",
       "      <td>...</td>\n",
       "      <td>...</td>\n",
       "    </tr>\n",
       "    <tr>\n",
       "      <th>5162</th>\n",
       "      <td>0.350542</td>\n",
       "      <td>0.622401</td>\n",
       "      <td>0.055192</td>\n",
       "      <td>0.439353</td>\n",
       "      <td>0.994491</td>\n",
       "      <td>0.853169</td>\n",
       "      <td>0.157524</td>\n",
       "      <td>-0.164303</td>\n",
       "      <td>0.301825</td>\n",
       "      <td>0.633466</td>\n",
       "      <td>...</td>\n",
       "      <td>0.196056</td>\n",
       "      <td>0.113013</td>\n",
       "      <td>0.016828</td>\n",
       "      <td>-0.100313</td>\n",
       "      <td>0.076090</td>\n",
       "      <td>-0.028682</td>\n",
       "      <td>-0.091369</td>\n",
       "      <td>0.237186</td>\n",
       "      <td>0.033689</td>\n",
       "      <td>0.317694</td>\n",
       "    </tr>\n",
       "    <tr>\n",
       "      <th>5163</th>\n",
       "      <td>0.669399</td>\n",
       "      <td>0.758400</td>\n",
       "      <td>1.809696</td>\n",
       "      <td>0.700002</td>\n",
       "      <td>-0.092329</td>\n",
       "      <td>0.631864</td>\n",
       "      <td>0.470503</td>\n",
       "      <td>-0.634794</td>\n",
       "      <td>0.510016</td>\n",
       "      <td>0.671948</td>\n",
       "      <td>...</td>\n",
       "      <td>0.126944</td>\n",
       "      <td>0.582826</td>\n",
       "      <td>0.207708</td>\n",
       "      <td>0.359684</td>\n",
       "      <td>0.784367</td>\n",
       "      <td>0.052846</td>\n",
       "      <td>0.619493</td>\n",
       "      <td>0.865013</td>\n",
       "      <td>0.070952</td>\n",
       "      <td>0.614092</td>\n",
       "    </tr>\n",
       "    <tr>\n",
       "      <th>5164</th>\n",
       "      <td>1.569386</td>\n",
       "      <td>1.777094</td>\n",
       "      <td>1.089193</td>\n",
       "      <td>0.563271</td>\n",
       "      <td>0.849976</td>\n",
       "      <td>0.478177</td>\n",
       "      <td>0.878359</td>\n",
       "      <td>-0.736187</td>\n",
       "      <td>0.917663</td>\n",
       "      <td>0.617015</td>\n",
       "      <td>...</td>\n",
       "      <td>1.293937</td>\n",
       "      <td>0.712350</td>\n",
       "      <td>-0.155374</td>\n",
       "      <td>0.377773</td>\n",
       "      <td>1.247087</td>\n",
       "      <td>-0.225002</td>\n",
       "      <td>1.372138</td>\n",
       "      <td>0.984667</td>\n",
       "      <td>-0.556620</td>\n",
       "      <td>0.879421</td>\n",
       "    </tr>\n",
       "    <tr>\n",
       "      <th>5165</th>\n",
       "      <td>-0.205780</td>\n",
       "      <td>-0.207491</td>\n",
       "      <td>0.691815</td>\n",
       "      <td>0.442894</td>\n",
       "      <td>0.047307</td>\n",
       "      <td>0.353626</td>\n",
       "      <td>-0.649646</td>\n",
       "      <td>-0.652776</td>\n",
       "      <td>1.547321</td>\n",
       "      <td>1.198609</td>\n",
       "      <td>...</td>\n",
       "      <td>0.470867</td>\n",
       "      <td>0.184642</td>\n",
       "      <td>0.455690</td>\n",
       "      <td>0.281784</td>\n",
       "      <td>0.432123</td>\n",
       "      <td>0.098151</td>\n",
       "      <td>0.763248</td>\n",
       "      <td>0.342401</td>\n",
       "      <td>0.017309</td>\n",
       "      <td>0.964534</td>\n",
       "    </tr>\n",
       "    <tr>\n",
       "      <th>5166</th>\n",
       "      <td>0.965716</td>\n",
       "      <td>1.009695</td>\n",
       "      <td>0.246403</td>\n",
       "      <td>0.062720</td>\n",
       "      <td>0.160113</td>\n",
       "      <td>0.594574</td>\n",
       "      <td>-0.730548</td>\n",
       "      <td>-1.171614</td>\n",
       "      <td>1.033526</td>\n",
       "      <td>1.044774</td>\n",
       "      <td>...</td>\n",
       "      <td>0.814557</td>\n",
       "      <td>0.614159</td>\n",
       "      <td>-0.832327</td>\n",
       "      <td>0.013339</td>\n",
       "      <td>1.655957</td>\n",
       "      <td>0.204977</td>\n",
       "      <td>1.591016</td>\n",
       "      <td>1.344343</td>\n",
       "      <td>-0.103920</td>\n",
       "      <td>0.595247</td>\n",
       "    </tr>\n",
       "  </tbody>\n",
       "</table>\n",
       "<p>5167 rows × 284 columns</p>\n",
       "</div>"
      ],
      "text/plain": [
       "           0         1         2         3         4         5         6    \\\n",
       "0    -0.257914 -0.503403  0.368115 -1.095521  0.177077 -0.430929  0.795305   \n",
       "1    -1.351104 -0.978272 -1.053952 -0.941708 -0.821612 -1.089779 -2.370635   \n",
       "2    -0.292257  0.206746  0.076387 -0.559541 -0.361829 -0.121880  0.222068   \n",
       "3    -1.259874 -1.693025 -2.044711 -3.152486 -3.409335 -2.732680 -2.720392   \n",
       "4    -1.125852 -1.304193 -0.699630 -0.727178 -0.826347 -0.663788 -0.484115   \n",
       "...        ...       ...       ...       ...       ...       ...       ...   \n",
       "5162  0.350542  0.622401  0.055192  0.439353  0.994491  0.853169  0.157524   \n",
       "5163  0.669399  0.758400  1.809696  0.700002 -0.092329  0.631864  0.470503   \n",
       "5164  1.569386  1.777094  1.089193  0.563271  0.849976  0.478177  0.878359   \n",
       "5165 -0.205780 -0.207491  0.691815  0.442894  0.047307  0.353626 -0.649646   \n",
       "5166  0.965716  1.009695  0.246403  0.062720  0.160113  0.594574 -0.730548   \n",
       "\n",
       "           7         8         9    ...       274       275       276  \\\n",
       "0    -0.046790 -1.321457 -0.836086  ...  0.170116  0.076296  0.748799   \n",
       "1     1.530151 -0.441446  0.073379  ... -0.776891  0.733642  0.276178   \n",
       "2     2.100450 -2.210764 -2.021869  ... -0.614305 -0.786486 -0.920356   \n",
       "3     4.814035 -2.349717 -1.265924  ... -0.800588  3.368160 -2.423337   \n",
       "4     1.217376 -1.327913 -0.397548  ... -1.279884 -0.715382  0.055487   \n",
       "...        ...       ...       ...  ...       ...       ...       ...   \n",
       "5162 -0.164303  0.301825  0.633466  ...  0.196056  0.113013  0.016828   \n",
       "5163 -0.634794  0.510016  0.671948  ...  0.126944  0.582826  0.207708   \n",
       "5164 -0.736187  0.917663  0.617015  ...  1.293937  0.712350 -0.155374   \n",
       "5165 -0.652776  1.547321  1.198609  ...  0.470867  0.184642  0.455690   \n",
       "5166 -1.171614  1.033526  1.044774  ...  0.814557  0.614159 -0.832327   \n",
       "\n",
       "           277       278       279       280       281       282       283  \n",
       "0     0.169360 -0.087611  0.648681 -0.203668 -0.033160  0.743814  0.100900  \n",
       "1     0.731734 -0.770309 -1.259507 -0.719190 -0.907220 -1.347615 -1.314692  \n",
       "2    -1.143140 -0.760895  0.285831 -1.617476 -0.108020  0.564839 -1.243213  \n",
       "3    -1.235297  0.734348 -1.713448 -1.929259  1.127889 -2.226118 -4.486775  \n",
       "4     0.213475 -1.757143 -1.007877 -1.262469 -1.670823 -0.765251 -0.973857  \n",
       "...        ...       ...       ...       ...       ...       ...       ...  \n",
       "5162 -0.100313  0.076090 -0.028682 -0.091369  0.237186  0.033689  0.317694  \n",
       "5163  0.359684  0.784367  0.052846  0.619493  0.865013  0.070952  0.614092  \n",
       "5164  0.377773  1.247087 -0.225002  1.372138  0.984667 -0.556620  0.879421  \n",
       "5165  0.281784  0.432123  0.098151  0.763248  0.342401  0.017309  0.964534  \n",
       "5166  0.013339  1.655957  0.204977  1.591016  1.344343 -0.103920  0.595247  \n",
       "\n",
       "[5167 rows x 284 columns]"
      ]
     },
     "execution_count": 4,
     "metadata": {},
     "output_type": "execute_result"
    }
   ],
   "source": [
    "# We get the input values\n",
    "X_filtered =  filtered_cell_profiler.iloc[:,:-1]\n",
    "\n",
    "# Re-scale\n",
    "scaler = StandardScaler()\n",
    "X_filtered = pd.DataFrame(scaler.fit_transform(X_filtered))\n",
    "X_filtered"
   ]
  },
  {
   "cell_type": "code",
   "execution_count": 5,
   "metadata": {},
   "outputs": [],
   "source": [
    "# Output values\n",
    "y = 1000*filtered_cell_profiler.iloc[:,-1].reset_index(drop=True)"
   ]
  },
  {
   "cell_type": "code",
   "execution_count": null,
   "metadata": {},
   "outputs": [],
   "source": []
  },
  {
   "cell_type": "markdown",
   "metadata": {},
   "source": [
    "**Evaluating baseline models in the training dataset**"
   ]
  },
  {
   "cell_type": "code",
   "execution_count": 6,
   "metadata": {},
   "outputs": [],
   "source": [
    "#Parameters\n",
    "thr = 7.5\n",
    "cv_k = 5"
   ]
  },
  {
   "cell_type": "code",
   "execution_count": 7,
   "metadata": {},
   "outputs": [
    {
     "name": "stdout",
     "output_type": "stream",
     "text": [
      "---- Model: LinearRegression()\n",
      "---- Model: Lasso(random_state=0)\n",
      "---- Model: Ridge(random_state=0)\n",
      "---- Model: SVR()\n"
     ]
    }
   ],
   "source": [
    "# build multiple linear regression model\n",
    "model1 = LinearRegression()\n",
    "model2 = Lasso(random_state=0)\n",
    "model3 = Ridge(random_state=0)\n",
    "model4 = svm.SVR()\n",
    "MODELS = [model1, model2, model3, model4]\n",
    "\n",
    "MMS_x_filt, BF1_scores_x_filt = fun.train_kfold_model_selection_v2(X = X_filtered, y = y, \n",
    "                                                              kfold = cv_k, threshold = thr, \n",
    "                                                              model_list = MODELS)"
   ]
  },
  {
   "cell_type": "code",
   "execution_count": 8,
   "metadata": {},
   "outputs": [
    {
     "name": "stdout",
     "output_type": "stream",
     "text": [
      "---- Model: DecisionTreeRegressor(random_state=0)\n",
      "---- Model: RandomForestRegressor(random_state=0)\n",
      "---- Model: BaggingRegressor(random_state=0)\n",
      "---- Model: AdaBoostRegressor(random_state=0)\n"
     ]
    }
   ],
   "source": [
    "# Second part\n",
    "model5 = DecisionTreeRegressor(random_state=0)\n",
    "model6 = RandomForestRegressor(random_state=0)\n",
    "model7 = BaggingRegressor(random_state=0)\n",
    "model8 = AdaBoostRegressor(random_state=0)\n",
    "MODELS = [model5, model6, model7, model8]\n",
    "\n",
    "MMS_x_filt_2, BF1_scores_x_filt_2 = fun.train_kfold_model_selection_v2(X = X_filtered, y = y, \n",
    "                                                              kfold = cv_k, threshold = thr, \n",
    "                                                              model_list = MODELS)"
   ]
  },
  {
   "cell_type": "code",
   "execution_count": 29,
   "metadata": {},
   "outputs": [
    {
     "data": {
      "image/png": "[encoded data removed]",
      "text/plain": [
       "<Figure size 700x500 with 1 Axes>"
      ]
     },
     "metadata": {},
     "output_type": "display_data"
    }
   ],
   "source": [
    "# Showing results\n",
    "exp1 = list(MMS_x_filt.values())+list(MMS_x_filt_2.values())\n",
    "models_name = ['L-Regression','Lasso','Ridge','SVR','Tree','RndForest','Bagging','AdaBoost'] #For labels\n",
    "\n",
    "# Plot\n",
    "medianprops = dict(linestyle='-', linewidth=1.5, color=(.937, .275, .282))\n",
    "fig, ax = plt.subplots(1, 1, figsize=(7,5))\n",
    "bp = ax.boxplot(exp1,labels=models_name,patch_artist=True, medianprops=medianprops)\n",
    "#Changing colour of the boxes\n",
    "for patch, color in zip(bp['boxes'], [(.345, .157, .255, 0.7)]*8):\n",
    "    patch.set_facecolor(color)\n",
    "    patch.set_linewidth(1)\n",
    "    patch.set_edgecolor('k')   \n",
    "ax.set_ylabel('Mean squared error (MSE)', color=\"black\", fontsize=14)   \n",
    "ax.set_xlabel('Default models', color=\"black\", fontsize=14)\n",
    "ax.set_title('BatchA', color=\"black\", fontsize=18)\n",
    "ax.grid(False)\n",
    "plt.xticks(rotation=90)\n",
    "#plt.savefig('regression_default_mse_batchA.jpg',bbox_inches='tight', dpi=150)\n",
    "plt.show()"
   ]
  },
  {
   "cell_type": "code",
   "execution_count": null,
   "metadata": {},
   "outputs": [],
   "source": []
  },
  {
   "cell_type": "markdown",
   "metadata": {
    "tags": []
   },
   "source": [
    "### Hyper-parameter tunning"
   ]
  },
  {
   "cell_type": "code",
   "execution_count": 14,
   "metadata": {},
   "outputs": [],
   "source": [
    "from sklearn.model_selection import GridSearchCV"
   ]
  },
  {
   "cell_type": "code",
   "execution_count": 15,
   "metadata": {},
   "outputs": [],
   "source": [
    "# Sets for training\n",
    "X_train, X_test, y_train, y_test = train_test_split(X_filtered, y, test_size=0.2, random_state=6752)"
   ]
  },
  {
   "cell_type": "code",
   "execution_count": 15,
   "metadata": {},
   "outputs": [
    {
     "name": "stdout",
     "output_type": "stream",
     "text": [
      "Best Score: -0.3272556118238763\n",
      "Best Hyperparameters: {'fit_intercept': True}\n"
     ]
    }
   ],
   "source": [
    "# ----------- LINEAR REGRESSION\n",
    "\n",
    "#Create the grid\n",
    "grid_vals1 = {'fit_intercept': [True, False]}\n",
    "grid_lr1 = GridSearchCV(estimator=model1, param_grid=grid_vals1, scoring='neg_mean_squared_error', \n",
    "                       cv=5, refit=True, return_train_score=True)\n",
    "\n",
    "#Training and Prediction\n",
    "result1 = grid_lr1.fit(X_train, y_train)\n",
    "# summarize result\n",
    "print('Best Score: %s' % result1.best_score_)\n",
    "print('Best Hyperparameters: %s' % result1.best_params_)"
   ]
  },
  {
   "cell_type": "code",
   "execution_count": 16,
   "metadata": {},
   "outputs": [
    {
     "name": "stdout",
     "output_type": "stream",
     "text": [
      "Best Score: -0.32421705988127103\n",
      "Best Hyperparameters: {'alpha': 1.3, 'fit_intercept': True}\n"
     ]
    }
   ],
   "source": [
    "# ----------- LINEAR REGRESSION WITH RIDGE REGULARIZATION\n",
    "\n",
    "#Create the grid\n",
    "grid_vals3 = {'alpha': [0.001,0.01,0.1,1.0,1.1,1.3,1.5], 'fit_intercept': [True, False]}\n",
    "grid_lr3 = GridSearchCV(estimator=model3, param_grid=grid_vals3, scoring='neg_mean_squared_error', \n",
    "                       cv=5, refit=True, return_train_score=True)\n",
    "\n",
    "#Training and Prediction\n",
    "result = grid_lr3.fit(X_train, y_train)\n",
    "# summarize result\n",
    "print('Best Score: %s' % result.best_score_)\n",
    "print('Best Hyperparameters: %s' % result.best_params_)"
   ]
  },
  {
   "cell_type": "code",
   "execution_count": 17,
   "metadata": {},
   "outputs": [
    {
     "name": "stdout",
     "output_type": "stream",
     "text": [
      "Best Score: -0.5428358825491049\n",
      "Best Hyperparameters: {'C': 10, 'gamma': 0.01, 'kernel': 'rbf'}\n"
     ]
    }
   ],
   "source": [
    "# ----------- SUPPORT VECTOR MACHINES FOR REGRESSION\n",
    "\n",
    "#Create the grid\n",
    "grid_vals4 = {'kernel': [\"poly\", \"rbf\", \"sigmoid\"], 'gamma': [1.0, 0.1, 1e-2], 'C': [1, 10, 30, 50, 80, 100]}\n",
    "grid_lr4 = GridSearchCV(estimator=model4, param_grid=grid_vals4, scoring='neg_mean_squared_error', \n",
    "                       cv=5, refit=True, return_train_score=True)\n",
    "\n",
    "#Training and Prediction\n",
    "result4 = grid_lr4.fit(X_train, y_train)\n",
    "# summarize result\n",
    "print('Best Score: %s' % result4.best_score_)\n",
    "print('Best Hyperparameters: %s' % result4.best_params_)"
   ]
  },
  {
   "cell_type": "code",
   "execution_count": 19,
   "metadata": {},
   "outputs": [
    {
     "name": "stdout",
     "output_type": "stream",
     "text": [
      "Best Score: -0.5357515860010025\n",
      "Best Hyperparameters: {'max_depth': 5, 'min_samples_split': 2, 'splitter': 'best'}\n"
     ]
    }
   ],
   "source": [
    "# ----------- DECISION TREE: I will use this as the base estimator for bagging\n",
    "\n",
    "#Create the grid\n",
    "grid_vals5 = {'splitter':['best', 'random'], 'min_samples_split':[2,5,7,10], 'max_depth':[None,5,10,15,20], }\n",
    "grid_lr5 = GridSearchCV(estimator=model5, param_grid=grid_vals5, scoring='neg_mean_squared_error', \n",
    "                       cv=5, refit=True, return_train_score=True)\n",
    "\n",
    "#Training and Prediction\n",
    "result5 = grid_lr5.fit(X_train, y_train)\n",
    "# summarize result\n",
    "print('Best Score: %s' % result5.best_score_)\n",
    "print('Best Hyperparameters: %s' % result5.best_params_)"
   ]
  },
  {
   "cell_type": "code",
   "execution_count": 16,
   "metadata": {},
   "outputs": [
    {
     "name": "stdout",
     "output_type": "stream",
     "text": [
      "Best Score: -0.4141601039813655\n",
      "Best Hyperparameters: {'max_depth': None, 'min_samples_leaf': 3, 'n_estimators': 200, 'n_jobs': -1, 'random_state': 0}\n"
     ]
    }
   ],
   "source": [
    "# ----------- RANDOM FOREST\n",
    "\n",
    "#Create the grid\n",
    "grid_vals6 = {'n_estimators': [30,50,100,150,200], 'max_depth': [None,3,5,9,12], 'min_samples_leaf': [1,2,3],'random_state': [0],'n_jobs':[-1]}\n",
    "grid_lr6 = GridSearchCV(estimator=model6, param_grid=grid_vals6, scoring='neg_mean_squared_error', \n",
    "                       cv=5, refit=True, return_train_score=True)\n",
    "\n",
    "#Training and Prediction\n",
    "result6 = grid_lr6.fit(X_train, y_train)\n",
    "# summarize result\n",
    "print('Best Score: %s' % result6.best_score_)\n",
    "print('Best Hyperparameters: %s' % result6.best_params_)"
   ]
  },
  {
   "cell_type": "code",
   "execution_count": 18,
   "metadata": {},
   "outputs": [
    {
     "name": "stdout",
     "output_type": "stream",
     "text": [
      "Best Score: -0.45432379715643256\n",
      "Best Hyperparameters: {'base_estimator': DecisionTreeRegressor(max_depth=5, min_samples_split=10, random_state=0), 'max_features': 0.5, 'n_estimators': 100}\n"
     ]
    }
   ],
   "source": [
    "# ----------- BAGGING\n",
    "\n",
    "#Create the grid\n",
    "base = DecisionTreeRegressor(max_depth = 5, min_samples_split = 10, splitter = \"best\", random_state=0)\n",
    "grid_vals7 = {'base_estimator':[base],'n_estimators': [10,30,50,70,100], 'max_features':[0.25,0.5,1.0]}\n",
    "grid_lr7 = GridSearchCV(estimator=model7, param_grid=grid_vals7, scoring='neg_mean_squared_error', \n",
    "                       cv=5, refit=True, return_train_score=True)\n",
    "\n",
    "#Training and Prediction\n",
    "result7 = grid_lr7.fit(X_train, y_train)\n",
    "# summarize result\n",
    "print('Best Score: %s' % result7.best_score_)\n",
    "print('Best Hyperparameters: %s' % result7.best_params_)"
   ]
  },
  {
   "cell_type": "code",
   "execution_count": 19,
   "metadata": {},
   "outputs": [
    {
     "name": "stdout",
     "output_type": "stream",
     "text": [
      "Best Score: -0.4259373958581033\n",
      "Best Hyperparameters: {'base_estimator': DecisionTreeRegressor(max_depth=5, min_samples_split=10, random_state=0), 'learning_rate': 1.5, 'n_estimators': 100}\n"
     ]
    }
   ],
   "source": [
    "# ----------- ADABOOST\n",
    "\n",
    "#Create the grid\n",
    "grid_vals8 = {'base_estimator':[base], 'n_estimators': [10,30,50,70,100], 'learning_rate': [1.5, 1.0, 0.1, 1e-2]}\n",
    "grid_lr8 = GridSearchCV(estimator=model8, param_grid=grid_vals8, scoring='neg_mean_squared_error', \n",
    "                       cv=5, refit=True, return_train_score=True)\n",
    "\n",
    "#Training and Prediction\n",
    "result8 = grid_lr8.fit(X_train, y_train)\n",
    "# summarize result\n",
    "print('Best Score: %s' % result8.best_score_)\n",
    "print('Best Hyperparameters: %s' % result8.best_params_)"
   ]
  },
  {
   "cell_type": "markdown",
   "metadata": {},
   "source": [
    "**Best models comparision**"
   ]
  },
  {
   "cell_type": "code",
   "execution_count": 20,
   "metadata": {},
   "outputs": [],
   "source": [
    "# Building the models\n",
    "best_ridge = Ridge(alpha=1.3, random_state=0)\n",
    "best_svr = svm.SVR(C=10, gamma=0.01)\n",
    "best_tree = DecisionTreeRegressor(max_depth = 5, random_state=0)\n",
    "best_rf = RandomForestRegressor(min_samples_leaf = 3, n_estimators = 200, n_jobs=-1,random_state=0)\n",
    "best_bag = BaggingRegressor(base_estimator = best_tree, max_features = 0.5, n_estimators=100, random_state=0)\n",
    "best_ada = AdaBoostRegressor(base_estimator = best_tree, n_estimators = 100, random_state=0)\n",
    "\n",
    "BEST_MODELS = [model1,best_ridge, best_svr, best_tree, best_rf, best_bag, best_ada]"
   ]
  },
  {
   "cell_type": "code",
   "execution_count": 21,
   "metadata": {},
   "outputs": [
    {
     "name": "stdout",
     "output_type": "stream",
     "text": [
      "---- Model: LinearRegression()\n",
      "---- Model: Ridge(alpha=1.3, random_state=0)\n",
      "---- Model: SVR(C=10, gamma=0.01)\n",
      "---- Model: DecisionTreeRegressor(max_depth=5, random_state=0)\n",
      "---- Model: RandomForestRegressor(min_samples_leaf=3, n_estimators=200, n_jobs=-1,\n",
      "                      random_state=0)\n",
      "---- Model: BaggingRegressor(base_estimator=DecisionTreeRegressor(max_depth=5,\n",
      "                                                      random_state=0),\n",
      "                 max_features=0.5, n_estimators=100, random_state=0)\n",
      "---- Model: AdaBoostRegressor(base_estimator=DecisionTreeRegressor(max_depth=5,\n",
      "                                                       random_state=0),\n",
      "                  n_estimators=100, random_state=0)\n"
     ]
    }
   ],
   "source": [
    "Best_MMS_x_filt_v2, Best_BF1_scores_x_filt_v2 = fun.train_kfold_model_selection_v2(X = X_filtered, y = y, \n",
    "                                                              kfold = cv_k, threshold = thr, \n",
    "                                                              model_list = BEST_MODELS)"
   ]
  },
  {
   "cell_type": "code",
   "execution_count": 33,
   "metadata": {},
   "outputs": [],
   "source": [
    "accuracy = list(Best_MMS_x_filt_v2.values())\n",
    "f1score = list(Best_BF1_scores_x_filt_v2.values())\n",
    "models_name = ['L-Regression','Ridge','SVR','Tree', 'RndForest', 'Bagging', 'AdabBoost']\n",
    "\n",
    "medianprops = dict(linestyle='-', linewidth=1.5, color=(.98, .702, .447))"
   ]
  },
  {
   "cell_type": "code",
   "execution_count": 35,
   "metadata": {},
   "outputs": [
    {
     "data": {
      "image/png": "[encoded data removed]",
      "text/plain": [
       "<Figure size 900x500 with 1 Axes>"
      ]
     },
     "metadata": {},
     "output_type": "display_data"
    }
   ],
   "source": [
    "fig, ax = plt.subplots(1, 1, figsize=(9,5))\n",
    "bp0 = ax.boxplot(accuracy, labels = None, positions = np.arange(np.array(accuracy).shape[0])-0.3, widths = 0.3, patch_artist = True, medianprops = medianprops)\n",
    "bp1 = ax.boxplot(f1score, labels = None, positions = np.arange(np.array(f1score).shape[0])+0.3, widths = 0.3, patch_artist = True, medianprops = medianprops)\n",
    "\n",
    "#Changing colour\n",
    "for patch, color in zip(bp0['boxes'], [(.345, .157, .255, 0.75)]*7):\n",
    "    patch.set_facecolor(color)\n",
    "    patch.set_linewidth(1)\n",
    "    patch.set_edgecolor('k') \n",
    "for patch, color in zip(bp1['boxes'], [(.937, .275, .282, 0.75)]*7):\n",
    "    patch.set_facecolor(color)\n",
    "    patch.set_linewidth(1)\n",
    "    patch.set_edgecolor('k') \n",
    "\n",
    "ax.set_ylabel('MSE / F1-score', color=\"black\", fontsize=14)   \n",
    "ax.set_xlabel('Best models after Grid search', color=\"black\", fontsize=14)\n",
    "ax.set_title('BatchA', color=\"black\", fontsize=18)\n",
    "ax.grid(False)\n",
    "plt.xticks(ticks= np.arange(0,7),labels = models_name,rotation=90)\n",
    "\n",
    "#plt.savefig('regression_grid_batchA.jpg',bbox_inches='tight', dpi=150)\n",
    "plt.show()"
   ]
  },
  {
   "cell_type": "code",
   "execution_count": null,
   "metadata": {},
   "outputs": [],
   "source": []
  },
  {
   "cell_type": "code",
   "execution_count": 22,
   "metadata": {},
   "outputs": [
    {
     "data": {
      "text/plain": [
       "{'LinearRegression()': [0.27199071124529994,\n",
       "  0.3613204320348623,\n",
       "  0.3132035309347615,\n",
       "  0.3698480752555245,\n",
       "  0.31958855083779814],\n",
       " 'Ridge(alpha=1.3, random_state=0)': [0.26620027534722174,\n",
       "  0.3474972008673434,\n",
       "  0.3136136910186813,\n",
       "  0.36605992186989983,\n",
       "  0.31416452712214404],\n",
       " 'SVR(C=10, gamma=0.01)': [0.49630429337093884,\n",
       "  0.5348090180300417,\n",
       "  0.4890993907203099,\n",
       "  0.5980412591552927,\n",
       "  0.48807294266348816],\n",
       " 'DecisionTreeRegressor(max_depth=5, random_state=0)': [0.44598930376206747,\n",
       "  0.5426961894036274,\n",
       "  0.5062176270185329,\n",
       "  0.550187507086545,\n",
       "  0.5096590375684459],\n",
       " 'RandomForestRegressor(min_samples_leaf=3, n_estimators=200, n_jobs=-1,\\n                      random_state=0)': [0.34098766857033275,\n",
       "  0.4395711648121322,\n",
       "  0.3796501225140667,\n",
       "  0.4418045117627952,\n",
       "  0.38619414047134],\n",
       " 'BaggingRegressor(base_estimator=DecisionTreeRegressor(max_depth=5,\\n                                                      random_state=0),\\n                 max_features=0.5, n_estimators=100, random_state=0)': [0.3844256737462531,\n",
       "  0.4844154275044562,\n",
       "  0.420421274764664,\n",
       "  0.4831511829391699,\n",
       "  0.4300460792437055],\n",
       " 'AdaBoostRegressor(base_estimator=DecisionTreeRegressor(max_depth=5,\\n                                                       random_state=0),\\n                  n_estimators=100, random_state=0)': [0.3687861961850361,\n",
       "  0.46077474614989594,\n",
       "  0.3987157789031724,\n",
       "  0.4672883244479753,\n",
       "  0.40972838619648855]}"
      ]
     },
     "execution_count": 22,
     "metadata": {},
     "output_type": "execute_result"
    }
   ],
   "source": [
    "Best_MMS_x_filt_v2\n"
   ]
  },
  {
   "cell_type": "code",
   "execution_count": 23,
   "metadata": {},
   "outputs": [
    {
     "data": {
      "text/plain": [
       "{'LinearRegression()': [0.7812500000000001,\n",
       "  0.7755102040816326,\n",
       "  0.875,\n",
       "  0.7719298245614034,\n",
       "  0.8181818181818182],\n",
       " 'Ridge(alpha=1.3, random_state=0)': [0.7936507936507937,\n",
       "  0.7916666666666666,\n",
       "  0.8571428571428572,\n",
       "  0.8135593220338982,\n",
       "  0.9230769230769231],\n",
       " 'SVR(C=10, gamma=0.01)': [0.42553191489361697,\n",
       "  0.32258064516129037,\n",
       "  0.5454545454545454,\n",
       "  0.42105263157894735,\n",
       "  0.5517241379310346],\n",
       " 'DecisionTreeRegressor(max_depth=5, random_state=0)': [0.6875,\n",
       "  0.7272727272727274,\n",
       "  0.8085106382978724,\n",
       "  0.7450980392156864,\n",
       "  0.75],\n",
       " 'RandomForestRegressor(min_samples_leaf=3, n_estimators=200, n_jobs=-1,\\n                      random_state=0)': [0.7457627118644068,\n",
       "  0.7391304347826088,\n",
       "  0.8936170212765957,\n",
       "  0.7307692307692308,\n",
       "  0.8205128205128205],\n",
       " 'BaggingRegressor(base_estimator=DecisionTreeRegressor(max_depth=5,\\n                                                      random_state=0),\\n                 max_features=0.5, n_estimators=100, random_state=0)': [0.7457627118644068,\n",
       "  0.6818181818181818,\n",
       "  0.875,\n",
       "  0.7547169811320755,\n",
       "  0.7894736842105262],\n",
       " 'AdaBoostRegressor(base_estimator=DecisionTreeRegressor(max_depth=5,\\n                                                       random_state=0),\\n                  n_estimators=100, random_state=0)': [0.6779661016949152,\n",
       "  0.7916666666666666,\n",
       "  0.8936170212765957,\n",
       "  0.75,\n",
       "  0.8205128205128205]}"
      ]
     },
     "execution_count": 23,
     "metadata": {},
     "output_type": "execute_result"
    }
   ],
   "source": [
    "Best_BF1_scores_x_filt_v2"
   ]
  }
 ],
 "metadata": {
  "kernelspec": {
   "display_name": "Python 3",
   "language": "python",
   "name": "python3"
  },
  "language_info": {
   "codemirror_mode": {
    "name": "ipython",
    "version": 3
   },
   "file_extension": ".py",
   "mimetype": "text/x-python",
   "name": "python",
   "nbconvert_exporter": "python",
   "pygments_lexer": "ipython3",
   "version": "3.8.10"
  }
 },
 "nbformat": 4,
 "nbformat_minor": 4
}
