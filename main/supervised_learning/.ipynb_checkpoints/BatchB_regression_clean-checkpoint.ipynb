{
 "cells": [
  {
   "cell_type": "code",
   "execution_count": 1,
   "metadata": {},
   "outputs": [],
   "source": [
    "%load_ext autoreload\n",
    "%autoreload 2\n",
    "\n",
    "import csv\n",
    "import pandas as pd\n",
    "import numpy as np\n",
    "import matplotlib.pyplot as plt\n",
    "import matplotlib as mpl\n",
    "import seaborn as sns\n",
    "import random\n",
    "import timeit\n",
    "import pickle\n",
    "\n",
    "from sklearn.model_selection import cross_val_score, KFold, train_test_split, StratifiedKFold\n",
    "from sklearn.metrics import confusion_matrix, mean_squared_error, classification_report, f1_score, mean_squared_log_error, recall_score\n",
    "from sklearn.decomposition import PCA\n",
    "from sklearn.neighbors import KNeighborsClassifier\n",
    "from sklearn.linear_model import LinearRegression, Ridge, Lasso, LogisticRegression\n",
    "from sklearn.ensemble import RandomForestClassifier, AdaBoostClassifier, RandomForestRegressor, AdaBoostRegressor, BaggingRegressor\n",
    "from sklearn import svm, tree    #https://scikit-learn.org/stable/modules/svm.html\n",
    "                                 #https://scikit-learn.org/stable/modules/generated/sklearn.tree.DecisionTreeClassifier.html\n",
    "from sklearn.cluster import KMeans\n",
    "from sklearn.tree import DecisionTreeClassifier, DecisionTreeRegressor\n",
    "from sklearn.preprocessing import MinMaxScaler, StandardScaler\n",
    "\n",
    "#-------------ACTIVE LEARNING LIBRARY\n",
    "from modAL.models import ActiveLearner             #https://modal-python.readthedocs.io/en/latest/content/models/ActiveLearner.html\n",
    "from modAL.uncertainty import entropy_sampling     #https://modal-python.readthedocs.io/en/latest/content/apireference/uncertainty.html\n",
    "from modAL.disagreement import vote_entropy_sampling\n",
    "\n",
    "#------------IMBALANCED DATA SETS LIBRARY\n",
    "from imblearn.over_sampling import SMOTEN\n",
    "from imblearn.under_sampling import EditedNearestNeighbours, ClusterCentroids, RandomUnderSampler \n",
    "\n",
    "from collections import Counter\n",
    "\n",
    "import sys\n",
    "sys.path.insert(0, '/home/jovyan/Thesis_ActLearn_DOP_2022/main/active_learning/')\n",
    "import functions as fun"
   ]
  },
  {
   "cell_type": "code",
   "execution_count": 2,
   "metadata": {},
   "outputs": [
    {
     "name": "stdout",
     "output_type": "stream",
     "text": [
      "There are (5169, 1884) rows and cols in the Batch B\n"
     ]
    }
   ],
   "source": [
    "# Loading data sets\n",
    "sss_batchB = pd.read_csv('/home/jovyan/covid-data/COVID_BatchB_ready_POLINA.csv')\n",
    "print(f'There are {sss_batchB.shape} rows and cols in the Batch B')"
   ]
  },
  {
   "cell_type": "code",
   "execution_count": 3,
   "metadata": {},
   "outputs": [
    {
     "name": "stdout",
     "output_type": "stream",
     "text": [
      "The duplicate columns are:\n",
      " ['AreaShape_BoundingBoxArea_cytoplasm', 'AreaShape_MinFeretDiameter_cytoplasm', 'AreaShape_BoundingBoxMinimum_Y_cytoplasm', 'AreaShape_BoundingBoxMinimum_X_cytoplasm', 'AreaShape_BoundingBoxMaximum_X_cytoplasm', 'AreaShape_MaxFeretDiameter_cytoplasm', 'Intensity_MeanIntensity_illumMITO_cells.1', 'Location_Center_X_cytoplasm', 'Location_Center_Y_cytoplasm', 'AreaShape_BoundingBoxMaximum_Y_cytoplasm', 'Location_Center_X_cells', 'Location_Center_Y_nuclei', 'Location_Center_X_nuclei', 'Location_Center_Y_cells']\n"
     ]
    }
   ],
   "source": [
    "# Look for duplicated columns\n",
    "dup_cols = fun.getDuplicateColumns(sss_batchB)\n",
    "print(f'The duplicate columns are:\\n {dup_cols}')"
   ]
  },
  {
   "cell_type": "code",
   "execution_count": 4,
   "metadata": {},
   "outputs": [],
   "source": [
    "# I need to keep Intensity_MeanIntensity_illumMITO_cells.1 for later computations\n",
    "iaux = dup_cols.index(\"Intensity_MeanIntensity_illumMITO_cells.1\")\n",
    "dup_cols[iaux]= 'Intensity_MeanIntensity_illumMITO_cells'\n",
    "\n",
    "# Drop repeated columns\n",
    "sss_batchB = sss_batchB.drop(dup_cols, axis=1)"
   ]
  },
  {
   "cell_type": "code",
   "execution_count": 5,
   "metadata": {},
   "outputs": [
    {
     "name": "stdout",
     "output_type": "stream",
     "text": [
      "The shape if Batch B is (5160, 1870) so far\n"
     ]
    }
   ],
   "source": [
    "compound_volume0 = ['CBK309099','CBK290175','CBK290175','CBK290175','CBK290175','CBK308178','CBK308178','CBK308178','CBK308178',\n",
    "                    'CBK309637','CBK308501','CBK309637','CBK308501','CBK309637','CBK308501','CBK309637','CBK308501','CBK309392',\n",
    "                    'CBK309392','CBK290631','CBK309251','CBK309251','CBK309251','CBK309251','CBK290950','CBK290950','CBK290950','CBK290950']\n",
    "\n",
    "# Removing compounds from cell profiler data frame\n",
    "compound_volume0_idx = [sss_batchB.index[sss_batchB['ID_covid'] == comp].to_list() for comp in compound_volume0]\n",
    "compound_volume0_idx = [item for sublist in compound_volume0_idx for item in sublist]\n",
    "sss_batchB = sss_batchB.drop(compound_volume0_idx)\n",
    "print(f'The shape if Batch B is {sss_batchB.shape} so far')"
   ]
  },
  {
   "cell_type": "code",
   "execution_count": 6,
   "metadata": {},
   "outputs": [
    {
     "name": "stdout",
     "output_type": "stream",
     "text": [
      "There are 364 columns containig info about MITO\n",
      "Intensity_MeanIntensity_illumMITO_cells.1\n"
     ]
    }
   ],
   "source": [
    "filter_col = [col for col in sss_batchB.columns if 'MITO' in col]\n",
    "print(f'There are {len(filter_col)} columns containig info about MITO')\n",
    "print(filter_col[-1])"
   ]
  },
  {
   "cell_type": "code",
   "execution_count": 7,
   "metadata": {},
   "outputs": [],
   "source": [
    "filter_col = filter_col[:-1] # IF Intensity_MeanIntensity_illumMITO_cells.1 is in the last position"
   ]
  },
  {
   "cell_type": "code",
   "execution_count": 8,
   "metadata": {},
   "outputs": [],
   "source": [
    "# Drop MITO columns\n",
    "sss_batchB = sss_batchB.drop(filter_col, axis=1)"
   ]
  },
  {
   "cell_type": "code",
   "execution_count": 9,
   "metadata": {},
   "outputs": [
    {
     "name": "stdout",
     "output_type": "stream",
     "text": [
      "Now the shape of Batch B is: (5160, 1507)\n"
     ]
    }
   ],
   "source": [
    "print(f'Now the shape of Batch B is: {sss_batchB.shape}')"
   ]
  },
  {
   "cell_type": "markdown",
   "metadata": {},
   "source": [
    "### Now we add the information for training + cleaning"
   ]
  },
  {
   "cell_type": "markdown",
   "metadata": {},
   "source": [
    "First the cell profiler"
   ]
  },
  {
   "cell_type": "code",
   "execution_count": 10,
   "metadata": {},
   "outputs": [
    {
     "name": "stderr",
     "output_type": "stream",
     "text": [
      "<ipython-input-10-6b0cb6ad345d>:2: FutureWarning: In a future version of pandas all arguments of DataFrame.drop except for the argument 'labels' will be keyword-only.\n",
      "  cell_profiler = sss_batchB.drop(['ID_covid','PlateWellCompound','principal component 1','Ypredicted','Labels'], 1)\n"
     ]
    },
    {
     "data": {
      "text/html": [
       "<div>\n",
       "<style scoped>\n",
       "    .dataframe tbody tr th:only-of-type {\n",
       "        vertical-align: middle;\n",
       "    }\n",
       "\n",
       "    .dataframe tbody tr th {\n",
       "        vertical-align: top;\n",
       "    }\n",
       "\n",
       "    .dataframe thead th {\n",
       "        text-align: right;\n",
       "    }\n",
       "</style>\n",
       "<table border=\"1\" class=\"dataframe\">\n",
       "  <thead>\n",
       "    <tr style=\"text-align: right;\">\n",
       "      <th></th>\n",
       "      <th>Count_nuclei</th>\n",
       "      <th>AreaShape_Area_nuclei</th>\n",
       "      <th>AreaShape_BoundingBoxArea_nuclei</th>\n",
       "      <th>AreaShape_BoundingBoxMaximum_X_nuclei</th>\n",
       "      <th>AreaShape_BoundingBoxMaximum_Y_nuclei</th>\n",
       "      <th>AreaShape_BoundingBoxMinimum_X_nuclei</th>\n",
       "      <th>AreaShape_BoundingBoxMinimum_Y_nuclei</th>\n",
       "      <th>AreaShape_Center_X_nuclei</th>\n",
       "      <th>AreaShape_Center_Y_nuclei</th>\n",
       "      <th>AreaShape_Compactness_nuclei</th>\n",
       "      <th>...</th>\n",
       "      <th>RadialDistribution_ZernikePhase_illumSYTO_8_2_cytoplasm</th>\n",
       "      <th>RadialDistribution_ZernikePhase_illumSYTO_8_4_cytoplasm</th>\n",
       "      <th>RadialDistribution_ZernikePhase_illumSYTO_8_6_cytoplasm</th>\n",
       "      <th>RadialDistribution_ZernikePhase_illumSYTO_8_8_cytoplasm</th>\n",
       "      <th>RadialDistribution_ZernikePhase_illumSYTO_9_1_cytoplasm</th>\n",
       "      <th>RadialDistribution_ZernikePhase_illumSYTO_9_3_cytoplasm</th>\n",
       "      <th>RadialDistribution_ZernikePhase_illumSYTO_9_5_cytoplasm</th>\n",
       "      <th>RadialDistribution_ZernikePhase_illumSYTO_9_7_cytoplasm</th>\n",
       "      <th>RadialDistribution_ZernikePhase_illumSYTO_9_9_cytoplasm</th>\n",
       "      <th>Target</th>\n",
       "    </tr>\n",
       "  </thead>\n",
       "  <tbody>\n",
       "    <tr>\n",
       "      <th>0</th>\n",
       "      <td>155.000000</td>\n",
       "      <td>1763.321836</td>\n",
       "      <td>2392.479974</td>\n",
       "      <td>1040.469101</td>\n",
       "      <td>1121.808755</td>\n",
       "      <td>992.439454</td>\n",
       "      <td>1073.791338</td>\n",
       "      <td>1015.952347</td>\n",
       "      <td>1097.333064</td>\n",
       "      <td>1.146009</td>\n",
       "      <td>...</td>\n",
       "      <td>-0.079766</td>\n",
       "      <td>-0.062142</td>\n",
       "      <td>0.028843</td>\n",
       "      <td>-0.050329</td>\n",
       "      <td>0.002352</td>\n",
       "      <td>-0.048181</td>\n",
       "      <td>0.101544</td>\n",
       "      <td>-0.051319</td>\n",
       "      <td>0.009876</td>\n",
       "      <td>0.014975</td>\n",
       "    </tr>\n",
       "    <tr>\n",
       "      <th>1</th>\n",
       "      <td>177.666667</td>\n",
       "      <td>1778.498450</td>\n",
       "      <td>2375.840700</td>\n",
       "      <td>1074.039635</td>\n",
       "      <td>1102.388670</td>\n",
       "      <td>1025.847336</td>\n",
       "      <td>1054.453537</td>\n",
       "      <td>1049.466080</td>\n",
       "      <td>1077.953347</td>\n",
       "      <td>1.129649</td>\n",
       "      <td>...</td>\n",
       "      <td>-0.011443</td>\n",
       "      <td>-0.007264</td>\n",
       "      <td>0.105147</td>\n",
       "      <td>0.024870</td>\n",
       "      <td>0.097344</td>\n",
       "      <td>-0.034144</td>\n",
       "      <td>0.026505</td>\n",
       "      <td>-0.058919</td>\n",
       "      <td>0.039985</td>\n",
       "      <td>0.013005</td>\n",
       "    </tr>\n",
       "    <tr>\n",
       "      <th>2</th>\n",
       "      <td>195.777778</td>\n",
       "      <td>1749.652953</td>\n",
       "      <td>2346.427388</td>\n",
       "      <td>1088.936040</td>\n",
       "      <td>1080.753557</td>\n",
       "      <td>1041.279389</td>\n",
       "      <td>1032.913473</td>\n",
       "      <td>1064.616892</td>\n",
       "      <td>1056.326780</td>\n",
       "      <td>1.137315</td>\n",
       "      <td>...</td>\n",
       "      <td>0.053927</td>\n",
       "      <td>0.050008</td>\n",
       "      <td>-0.048896</td>\n",
       "      <td>0.042183</td>\n",
       "      <td>-0.003522</td>\n",
       "      <td>0.021115</td>\n",
       "      <td>0.016468</td>\n",
       "      <td>-0.013247</td>\n",
       "      <td>-0.070871</td>\n",
       "      <td>0.013788</td>\n",
       "    </tr>\n",
       "    <tr>\n",
       "      <th>3</th>\n",
       "      <td>216.571429</td>\n",
       "      <td>2047.965141</td>\n",
       "      <td>2694.202403</td>\n",
       "      <td>1113.122298</td>\n",
       "      <td>1116.560567</td>\n",
       "      <td>1061.842105</td>\n",
       "      <td>1065.028003</td>\n",
       "      <td>1086.982445</td>\n",
       "      <td>1090.280350</td>\n",
       "      <td>1.120502</td>\n",
       "      <td>...</td>\n",
       "      <td>-0.057359</td>\n",
       "      <td>-0.103094</td>\n",
       "      <td>-0.044613</td>\n",
       "      <td>0.105152</td>\n",
       "      <td>-0.068018</td>\n",
       "      <td>0.031788</td>\n",
       "      <td>0.020980</td>\n",
       "      <td>-0.000444</td>\n",
       "      <td>0.049044</td>\n",
       "      <td>0.006809</td>\n",
       "    </tr>\n",
       "    <tr>\n",
       "      <th>4</th>\n",
       "      <td>157.125000</td>\n",
       "      <td>1743.363036</td>\n",
       "      <td>2376.359863</td>\n",
       "      <td>1108.081848</td>\n",
       "      <td>1074.743853</td>\n",
       "      <td>1060.249785</td>\n",
       "      <td>1026.842564</td>\n",
       "      <td>1083.631113</td>\n",
       "      <td>1050.306489</td>\n",
       "      <td>1.149625</td>\n",
       "      <td>...</td>\n",
       "      <td>-0.004677</td>\n",
       "      <td>0.049752</td>\n",
       "      <td>0.052904</td>\n",
       "      <td>0.008830</td>\n",
       "      <td>0.070198</td>\n",
       "      <td>-0.087356</td>\n",
       "      <td>0.059546</td>\n",
       "      <td>0.053790</td>\n",
       "      <td>-0.011938</td>\n",
       "      <td>0.013995</td>\n",
       "    </tr>\n",
       "  </tbody>\n",
       "</table>\n",
       "<p>5 rows × 1502 columns</p>\n",
       "</div>"
      ],
      "text/plain": [
       "   Count_nuclei  AreaShape_Area_nuclei  AreaShape_BoundingBoxArea_nuclei  \\\n",
       "0    155.000000            1763.321836                       2392.479974   \n",
       "1    177.666667            1778.498450                       2375.840700   \n",
       "2    195.777778            1749.652953                       2346.427388   \n",
       "3    216.571429            2047.965141                       2694.202403   \n",
       "4    157.125000            1743.363036                       2376.359863   \n",
       "\n",
       "   AreaShape_BoundingBoxMaximum_X_nuclei  \\\n",
       "0                            1040.469101   \n",
       "1                            1074.039635   \n",
       "2                            1088.936040   \n",
       "3                            1113.122298   \n",
       "4                            1108.081848   \n",
       "\n",
       "   AreaShape_BoundingBoxMaximum_Y_nuclei  \\\n",
       "0                            1121.808755   \n",
       "1                            1102.388670   \n",
       "2                            1080.753557   \n",
       "3                            1116.560567   \n",
       "4                            1074.743853   \n",
       "\n",
       "   AreaShape_BoundingBoxMinimum_X_nuclei  \\\n",
       "0                             992.439454   \n",
       "1                            1025.847336   \n",
       "2                            1041.279389   \n",
       "3                            1061.842105   \n",
       "4                            1060.249785   \n",
       "\n",
       "   AreaShape_BoundingBoxMinimum_Y_nuclei  AreaShape_Center_X_nuclei  \\\n",
       "0                            1073.791338                1015.952347   \n",
       "1                            1054.453537                1049.466080   \n",
       "2                            1032.913473                1064.616892   \n",
       "3                            1065.028003                1086.982445   \n",
       "4                            1026.842564                1083.631113   \n",
       "\n",
       "   AreaShape_Center_Y_nuclei  AreaShape_Compactness_nuclei  ...  \\\n",
       "0                1097.333064                      1.146009  ...   \n",
       "1                1077.953347                      1.129649  ...   \n",
       "2                1056.326780                      1.137315  ...   \n",
       "3                1090.280350                      1.120502  ...   \n",
       "4                1050.306489                      1.149625  ...   \n",
       "\n",
       "   RadialDistribution_ZernikePhase_illumSYTO_8_2_cytoplasm  \\\n",
       "0                                          -0.079766         \n",
       "1                                          -0.011443         \n",
       "2                                           0.053927         \n",
       "3                                          -0.057359         \n",
       "4                                          -0.004677         \n",
       "\n",
       "   RadialDistribution_ZernikePhase_illumSYTO_8_4_cytoplasm  \\\n",
       "0                                          -0.062142         \n",
       "1                                          -0.007264         \n",
       "2                                           0.050008         \n",
       "3                                          -0.103094         \n",
       "4                                           0.049752         \n",
       "\n",
       "   RadialDistribution_ZernikePhase_illumSYTO_8_6_cytoplasm  \\\n",
       "0                                           0.028843         \n",
       "1                                           0.105147         \n",
       "2                                          -0.048896         \n",
       "3                                          -0.044613         \n",
       "4                                           0.052904         \n",
       "\n",
       "   RadialDistribution_ZernikePhase_illumSYTO_8_8_cytoplasm  \\\n",
       "0                                          -0.050329         \n",
       "1                                           0.024870         \n",
       "2                                           0.042183         \n",
       "3                                           0.105152         \n",
       "4                                           0.008830         \n",
       "\n",
       "   RadialDistribution_ZernikePhase_illumSYTO_9_1_cytoplasm  \\\n",
       "0                                           0.002352         \n",
       "1                                           0.097344         \n",
       "2                                          -0.003522         \n",
       "3                                          -0.068018         \n",
       "4                                           0.070198         \n",
       "\n",
       "   RadialDistribution_ZernikePhase_illumSYTO_9_3_cytoplasm  \\\n",
       "0                                          -0.048181         \n",
       "1                                          -0.034144         \n",
       "2                                           0.021115         \n",
       "3                                           0.031788         \n",
       "4                                          -0.087356         \n",
       "\n",
       "   RadialDistribution_ZernikePhase_illumSYTO_9_5_cytoplasm  \\\n",
       "0                                           0.101544         \n",
       "1                                           0.026505         \n",
       "2                                           0.016468         \n",
       "3                                           0.020980         \n",
       "4                                           0.059546         \n",
       "\n",
       "   RadialDistribution_ZernikePhase_illumSYTO_9_7_cytoplasm  \\\n",
       "0                                          -0.051319         \n",
       "1                                          -0.058919         \n",
       "2                                          -0.013247         \n",
       "3                                          -0.000444         \n",
       "4                                           0.053790         \n",
       "\n",
       "   RadialDistribution_ZernikePhase_illumSYTO_9_9_cytoplasm    Target  \n",
       "0                                           0.009876        0.014975  \n",
       "1                                           0.039985        0.013005  \n",
       "2                                          -0.070871        0.013788  \n",
       "3                                           0.049044        0.006809  \n",
       "4                                          -0.011938        0.013995  \n",
       "\n",
       "[5 rows x 1502 columns]"
      ]
     },
     "execution_count": 10,
     "metadata": {},
     "output_type": "execute_result"
    }
   ],
   "source": [
    "#Remove columns that are \"human-made\", hence, not useful \n",
    "cell_profiler = sss_batchB.drop(['ID_covid','PlateWellCompound','principal component 1','Ypredicted','Labels'], 1)\n",
    "cell_profiler = cell_profiler.rename(columns={'Intensity_MeanIntensity_illumMITO_cells.1': 'Target'})\n",
    "cell_profiler.head()"
   ]
  },
  {
   "cell_type": "markdown",
   "metadata": {},
   "source": [
    "### Feature selection"
   ]
  },
  {
   "cell_type": "markdown",
   "metadata": {},
   "source": [
    "So far I have filtered all the columns that contained something related to the MITO chanell. Now, according to the paper \"A phenomic approach for antiviral drug discovery\", there are features, specifically correlation, \n",
    "neighbours, concavalin and syto, that are more important. Hence, I am going to filter more to use only that information. "
   ]
  },
  {
   "cell_type": "code",
   "execution_count": 11,
   "metadata": {},
   "outputs": [],
   "source": [
    "# Selecting features according to the paper\n",
    "group1 = [col for col in cell_profiler.columns if ('Granu' in col  and 'SYTO' in col) or ('Inten' in col and 'SYTO' in col) and not 'Location' in col and not 'Radial' in col]\n",
    "group2 = [col for col in cell_profiler.columns if ('Granu' in col  and 'CONC' in col) or ('Inten' in col and 'CONC' in col) and not 'Location' in col and not 'Radial' in col]\n",
    "group3 = [col for col in cell_profiler.columns if 'Correla' in col or 'Neig' in col]\n",
    "\n",
    "filtered_features = group1+group2+group3\n",
    "\n",
    "# Filtering\n",
    "filtered_cell_profiler_B = cell_profiler[filtered_features+['Target']]"
   ]
  },
  {
   "cell_type": "code",
   "execution_count": 12,
   "metadata": {},
   "outputs": [
    {
     "data": {
      "text/html": [
       "<div>\n",
       "<style scoped>\n",
       "    .dataframe tbody tr th:only-of-type {\n",
       "        vertical-align: middle;\n",
       "    }\n",
       "\n",
       "    .dataframe tbody tr th {\n",
       "        vertical-align: top;\n",
       "    }\n",
       "\n",
       "    .dataframe thead th {\n",
       "        text-align: right;\n",
       "    }\n",
       "</style>\n",
       "<table border=\"1\" class=\"dataframe\">\n",
       "  <thead>\n",
       "    <tr style=\"text-align: right;\">\n",
       "      <th></th>\n",
       "      <th>Granularity_10_illumSYTO_nuclei</th>\n",
       "      <th>Granularity_11_illumSYTO_nuclei</th>\n",
       "      <th>Granularity_12_illumSYTO_nuclei</th>\n",
       "      <th>Granularity_13_illumSYTO_nuclei</th>\n",
       "      <th>Granularity_14_illumSYTO_nuclei</th>\n",
       "      <th>Granularity_15_illumSYTO_nuclei</th>\n",
       "      <th>Granularity_16_illumSYTO_nuclei</th>\n",
       "      <th>Granularity_1_illumSYTO_nuclei</th>\n",
       "      <th>Granularity_2_illumSYTO_nuclei</th>\n",
       "      <th>Granularity_3_illumSYTO_nuclei</th>\n",
       "      <th>...</th>\n",
       "      <th>Correlation_RWC_illumHOECHST_illumCONC_cytoplasm</th>\n",
       "      <th>Correlation_RWC_illumHOECHST_illumPHAandWGA_cytoplasm</th>\n",
       "      <th>Correlation_RWC_illumHOECHST_illumSYTO_cytoplasm</th>\n",
       "      <th>Correlation_RWC_illumPHAandWGA_illumCONC_cytoplasm</th>\n",
       "      <th>Correlation_RWC_illumPHAandWGA_illumHOECHST_cytoplasm</th>\n",
       "      <th>Correlation_RWC_illumPHAandWGA_illumSYTO_cytoplasm</th>\n",
       "      <th>Correlation_RWC_illumSYTO_illumCONC_cytoplasm</th>\n",
       "      <th>Correlation_RWC_illumSYTO_illumHOECHST_cytoplasm</th>\n",
       "      <th>Correlation_RWC_illumSYTO_illumPHAandWGA_cytoplasm</th>\n",
       "      <th>Target</th>\n",
       "    </tr>\n",
       "  </thead>\n",
       "  <tbody>\n",
       "    <tr>\n",
       "      <th>0</th>\n",
       "      <td>5.036074</td>\n",
       "      <td>4.045871</td>\n",
       "      <td>3.701231</td>\n",
       "      <td>2.976809</td>\n",
       "      <td>2.923950</td>\n",
       "      <td>2.166730</td>\n",
       "      <td>2.287887</td>\n",
       "      <td>12.074159</td>\n",
       "      <td>2.213671</td>\n",
       "      <td>3.594409</td>\n",
       "      <td>...</td>\n",
       "      <td>0.668297</td>\n",
       "      <td>0.788363</td>\n",
       "      <td>0.776957</td>\n",
       "      <td>0.670813</td>\n",
       "      <td>0.544883</td>\n",
       "      <td>0.838390</td>\n",
       "      <td>0.776913</td>\n",
       "      <td>0.616491</td>\n",
       "      <td>0.917410</td>\n",
       "      <td>0.014975</td>\n",
       "    </tr>\n",
       "    <tr>\n",
       "      <th>1</th>\n",
       "      <td>4.321689</td>\n",
       "      <td>3.623019</td>\n",
       "      <td>3.061378</td>\n",
       "      <td>2.656599</td>\n",
       "      <td>2.155505</td>\n",
       "      <td>1.921066</td>\n",
       "      <td>1.756346</td>\n",
       "      <td>13.189354</td>\n",
       "      <td>2.268531</td>\n",
       "      <td>3.724780</td>\n",
       "      <td>...</td>\n",
       "      <td>0.676479</td>\n",
       "      <td>0.784949</td>\n",
       "      <td>0.779240</td>\n",
       "      <td>0.674424</td>\n",
       "      <td>0.529992</td>\n",
       "      <td>0.838668</td>\n",
       "      <td>0.773285</td>\n",
       "      <td>0.597442</td>\n",
       "      <td>0.908687</td>\n",
       "      <td>0.013005</td>\n",
       "    </tr>\n",
       "    <tr>\n",
       "      <th>2</th>\n",
       "      <td>4.755632</td>\n",
       "      <td>3.627676</td>\n",
       "      <td>3.381285</td>\n",
       "      <td>2.693872</td>\n",
       "      <td>2.195047</td>\n",
       "      <td>2.133893</td>\n",
       "      <td>1.536719</td>\n",
       "      <td>9.976382</td>\n",
       "      <td>2.778201</td>\n",
       "      <td>4.143379</td>\n",
       "      <td>...</td>\n",
       "      <td>0.682199</td>\n",
       "      <td>0.780595</td>\n",
       "      <td>0.772278</td>\n",
       "      <td>0.703561</td>\n",
       "      <td>0.537257</td>\n",
       "      <td>0.839807</td>\n",
       "      <td>0.793541</td>\n",
       "      <td>0.605488</td>\n",
       "      <td>0.916414</td>\n",
       "      <td>0.013788</td>\n",
       "    </tr>\n",
       "    <tr>\n",
       "      <th>3</th>\n",
       "      <td>4.164948</td>\n",
       "      <td>3.212185</td>\n",
       "      <td>2.550792</td>\n",
       "      <td>2.159480</td>\n",
       "      <td>1.721807</td>\n",
       "      <td>1.293209</td>\n",
       "      <td>1.468429</td>\n",
       "      <td>14.068313</td>\n",
       "      <td>2.125489</td>\n",
       "      <td>3.714472</td>\n",
       "      <td>...</td>\n",
       "      <td>0.711177</td>\n",
       "      <td>0.771760</td>\n",
       "      <td>0.781160</td>\n",
       "      <td>0.692886</td>\n",
       "      <td>0.497564</td>\n",
       "      <td>0.833036</td>\n",
       "      <td>0.780067</td>\n",
       "      <td>0.561020</td>\n",
       "      <td>0.884716</td>\n",
       "      <td>0.006809</td>\n",
       "    </tr>\n",
       "    <tr>\n",
       "      <th>4</th>\n",
       "      <td>4.389827</td>\n",
       "      <td>3.652513</td>\n",
       "      <td>3.104480</td>\n",
       "      <td>2.698492</td>\n",
       "      <td>2.429443</td>\n",
       "      <td>2.057912</td>\n",
       "      <td>1.880075</td>\n",
       "      <td>11.564207</td>\n",
       "      <td>2.176082</td>\n",
       "      <td>3.715027</td>\n",
       "      <td>...</td>\n",
       "      <td>0.657812</td>\n",
       "      <td>0.791037</td>\n",
       "      <td>0.786559</td>\n",
       "      <td>0.645229</td>\n",
       "      <td>0.549538</td>\n",
       "      <td>0.844488</td>\n",
       "      <td>0.746402</td>\n",
       "      <td>0.622248</td>\n",
       "      <td>0.915533</td>\n",
       "      <td>0.013995</td>\n",
       "    </tr>\n",
       "    <tr>\n",
       "      <th>...</th>\n",
       "      <td>...</td>\n",
       "      <td>...</td>\n",
       "      <td>...</td>\n",
       "      <td>...</td>\n",
       "      <td>...</td>\n",
       "      <td>...</td>\n",
       "      <td>...</td>\n",
       "      <td>...</td>\n",
       "      <td>...</td>\n",
       "      <td>...</td>\n",
       "      <td>...</td>\n",
       "      <td>...</td>\n",
       "      <td>...</td>\n",
       "      <td>...</td>\n",
       "      <td>...</td>\n",
       "      <td>...</td>\n",
       "      <td>...</td>\n",
       "      <td>...</td>\n",
       "      <td>...</td>\n",
       "      <td>...</td>\n",
       "      <td>...</td>\n",
       "    </tr>\n",
       "    <tr>\n",
       "      <th>5164</th>\n",
       "      <td>4.076411</td>\n",
       "      <td>3.837551</td>\n",
       "      <td>3.065481</td>\n",
       "      <td>3.036789</td>\n",
       "      <td>2.646879</td>\n",
       "      <td>2.225419</td>\n",
       "      <td>1.959465</td>\n",
       "      <td>11.987888</td>\n",
       "      <td>2.494503</td>\n",
       "      <td>3.624097</td>\n",
       "      <td>...</td>\n",
       "      <td>0.675844</td>\n",
       "      <td>0.784177</td>\n",
       "      <td>0.784154</td>\n",
       "      <td>0.680145</td>\n",
       "      <td>0.539775</td>\n",
       "      <td>0.843267</td>\n",
       "      <td>0.774568</td>\n",
       "      <td>0.607549</td>\n",
       "      <td>0.905907</td>\n",
       "      <td>0.015038</td>\n",
       "    </tr>\n",
       "    <tr>\n",
       "      <th>5165</th>\n",
       "      <td>4.653916</td>\n",
       "      <td>3.878406</td>\n",
       "      <td>3.286776</td>\n",
       "      <td>3.034016</td>\n",
       "      <td>2.635375</td>\n",
       "      <td>2.446386</td>\n",
       "      <td>2.077198</td>\n",
       "      <td>8.541350</td>\n",
       "      <td>2.688379</td>\n",
       "      <td>4.062471</td>\n",
       "      <td>...</td>\n",
       "      <td>0.702157</td>\n",
       "      <td>0.784581</td>\n",
       "      <td>0.787652</td>\n",
       "      <td>0.717875</td>\n",
       "      <td>0.511995</td>\n",
       "      <td>0.847052</td>\n",
       "      <td>0.801154</td>\n",
       "      <td>0.583767</td>\n",
       "      <td>0.921299</td>\n",
       "      <td>0.013815</td>\n",
       "    </tr>\n",
       "    <tr>\n",
       "      <th>5166</th>\n",
       "      <td>4.481191</td>\n",
       "      <td>3.767212</td>\n",
       "      <td>3.352855</td>\n",
       "      <td>3.245919</td>\n",
       "      <td>2.523410</td>\n",
       "      <td>1.960557</td>\n",
       "      <td>1.631931</td>\n",
       "      <td>8.787539</td>\n",
       "      <td>2.711964</td>\n",
       "      <td>3.947765</td>\n",
       "      <td>...</td>\n",
       "      <td>0.689623</td>\n",
       "      <td>0.787520</td>\n",
       "      <td>0.765525</td>\n",
       "      <td>0.754183</td>\n",
       "      <td>0.593841</td>\n",
       "      <td>0.850788</td>\n",
       "      <td>0.830121</td>\n",
       "      <td>0.655829</td>\n",
       "      <td>0.931191</td>\n",
       "      <td>0.016064</td>\n",
       "    </tr>\n",
       "    <tr>\n",
       "      <th>5167</th>\n",
       "      <td>4.873445</td>\n",
       "      <td>3.996099</td>\n",
       "      <td>3.261522</td>\n",
       "      <td>2.913878</td>\n",
       "      <td>2.606938</td>\n",
       "      <td>2.307421</td>\n",
       "      <td>2.053859</td>\n",
       "      <td>8.602307</td>\n",
       "      <td>2.886905</td>\n",
       "      <td>4.049433</td>\n",
       "      <td>...</td>\n",
       "      <td>0.690528</td>\n",
       "      <td>0.781952</td>\n",
       "      <td>0.782137</td>\n",
       "      <td>0.708196</td>\n",
       "      <td>0.529648</td>\n",
       "      <td>0.843113</td>\n",
       "      <td>0.795628</td>\n",
       "      <td>0.604710</td>\n",
       "      <td>0.920878</td>\n",
       "      <td>0.013780</td>\n",
       "    </tr>\n",
       "    <tr>\n",
       "      <th>5168</th>\n",
       "      <td>4.329991</td>\n",
       "      <td>3.643480</td>\n",
       "      <td>3.061585</td>\n",
       "      <td>2.615965</td>\n",
       "      <td>2.464183</td>\n",
       "      <td>2.423170</td>\n",
       "      <td>1.940002</td>\n",
       "      <td>9.548368</td>\n",
       "      <td>2.738228</td>\n",
       "      <td>3.935182</td>\n",
       "      <td>...</td>\n",
       "      <td>0.690888</td>\n",
       "      <td>0.786945</td>\n",
       "      <td>0.776247</td>\n",
       "      <td>0.724628</td>\n",
       "      <td>0.520079</td>\n",
       "      <td>0.850825</td>\n",
       "      <td>0.809336</td>\n",
       "      <td>0.585213</td>\n",
       "      <td>0.927631</td>\n",
       "      <td>0.016551</td>\n",
       "    </tr>\n",
       "  </tbody>\n",
       "</table>\n",
       "<p>5160 rows × 285 columns</p>\n",
       "</div>"
      ],
      "text/plain": [
       "      Granularity_10_illumSYTO_nuclei  Granularity_11_illumSYTO_nuclei  \\\n",
       "0                            5.036074                         4.045871   \n",
       "1                            4.321689                         3.623019   \n",
       "2                            4.755632                         3.627676   \n",
       "3                            4.164948                         3.212185   \n",
       "4                            4.389827                         3.652513   \n",
       "...                               ...                              ...   \n",
       "5164                         4.076411                         3.837551   \n",
       "5165                         4.653916                         3.878406   \n",
       "5166                         4.481191                         3.767212   \n",
       "5167                         4.873445                         3.996099   \n",
       "5168                         4.329991                         3.643480   \n",
       "\n",
       "      Granularity_12_illumSYTO_nuclei  Granularity_13_illumSYTO_nuclei  \\\n",
       "0                            3.701231                         2.976809   \n",
       "1                            3.061378                         2.656599   \n",
       "2                            3.381285                         2.693872   \n",
       "3                            2.550792                         2.159480   \n",
       "4                            3.104480                         2.698492   \n",
       "...                               ...                              ...   \n",
       "5164                         3.065481                         3.036789   \n",
       "5165                         3.286776                         3.034016   \n",
       "5166                         3.352855                         3.245919   \n",
       "5167                         3.261522                         2.913878   \n",
       "5168                         3.061585                         2.615965   \n",
       "\n",
       "      Granularity_14_illumSYTO_nuclei  Granularity_15_illumSYTO_nuclei  \\\n",
       "0                            2.923950                         2.166730   \n",
       "1                            2.155505                         1.921066   \n",
       "2                            2.195047                         2.133893   \n",
       "3                            1.721807                         1.293209   \n",
       "4                            2.429443                         2.057912   \n",
       "...                               ...                              ...   \n",
       "5164                         2.646879                         2.225419   \n",
       "5165                         2.635375                         2.446386   \n",
       "5166                         2.523410                         1.960557   \n",
       "5167                         2.606938                         2.307421   \n",
       "5168                         2.464183                         2.423170   \n",
       "\n",
       "      Granularity_16_illumSYTO_nuclei  Granularity_1_illumSYTO_nuclei  \\\n",
       "0                            2.287887                       12.074159   \n",
       "1                            1.756346                       13.189354   \n",
       "2                            1.536719                        9.976382   \n",
       "3                            1.468429                       14.068313   \n",
       "4                            1.880075                       11.564207   \n",
       "...                               ...                             ...   \n",
       "5164                         1.959465                       11.987888   \n",
       "5165                         2.077198                        8.541350   \n",
       "5166                         1.631931                        8.787539   \n",
       "5167                         2.053859                        8.602307   \n",
       "5168                         1.940002                        9.548368   \n",
       "\n",
       "      Granularity_2_illumSYTO_nuclei  Granularity_3_illumSYTO_nuclei  ...  \\\n",
       "0                           2.213671                        3.594409  ...   \n",
       "1                           2.268531                        3.724780  ...   \n",
       "2                           2.778201                        4.143379  ...   \n",
       "3                           2.125489                        3.714472  ...   \n",
       "4                           2.176082                        3.715027  ...   \n",
       "...                              ...                             ...  ...   \n",
       "5164                        2.494503                        3.624097  ...   \n",
       "5165                        2.688379                        4.062471  ...   \n",
       "5166                        2.711964                        3.947765  ...   \n",
       "5167                        2.886905                        4.049433  ...   \n",
       "5168                        2.738228                        3.935182  ...   \n",
       "\n",
       "      Correlation_RWC_illumHOECHST_illumCONC_cytoplasm  \\\n",
       "0                                             0.668297   \n",
       "1                                             0.676479   \n",
       "2                                             0.682199   \n",
       "3                                             0.711177   \n",
       "4                                             0.657812   \n",
       "...                                                ...   \n",
       "5164                                          0.675844   \n",
       "5165                                          0.702157   \n",
       "5166                                          0.689623   \n",
       "5167                                          0.690528   \n",
       "5168                                          0.690888   \n",
       "\n",
       "      Correlation_RWC_illumHOECHST_illumPHAandWGA_cytoplasm  \\\n",
       "0                                              0.788363       \n",
       "1                                              0.784949       \n",
       "2                                              0.780595       \n",
       "3                                              0.771760       \n",
       "4                                              0.791037       \n",
       "...                                                 ...       \n",
       "5164                                           0.784177       \n",
       "5165                                           0.784581       \n",
       "5166                                           0.787520       \n",
       "5167                                           0.781952       \n",
       "5168                                           0.786945       \n",
       "\n",
       "      Correlation_RWC_illumHOECHST_illumSYTO_cytoplasm  \\\n",
       "0                                             0.776957   \n",
       "1                                             0.779240   \n",
       "2                                             0.772278   \n",
       "3                                             0.781160   \n",
       "4                                             0.786559   \n",
       "...                                                ...   \n",
       "5164                                          0.784154   \n",
       "5165                                          0.787652   \n",
       "5166                                          0.765525   \n",
       "5167                                          0.782137   \n",
       "5168                                          0.776247   \n",
       "\n",
       "      Correlation_RWC_illumPHAandWGA_illumCONC_cytoplasm  \\\n",
       "0                                              0.670813    \n",
       "1                                              0.674424    \n",
       "2                                              0.703561    \n",
       "3                                              0.692886    \n",
       "4                                              0.645229    \n",
       "...                                                 ...    \n",
       "5164                                           0.680145    \n",
       "5165                                           0.717875    \n",
       "5166                                           0.754183    \n",
       "5167                                           0.708196    \n",
       "5168                                           0.724628    \n",
       "\n",
       "      Correlation_RWC_illumPHAandWGA_illumHOECHST_cytoplasm  \\\n",
       "0                                              0.544883       \n",
       "1                                              0.529992       \n",
       "2                                              0.537257       \n",
       "3                                              0.497564       \n",
       "4                                              0.549538       \n",
       "...                                                 ...       \n",
       "5164                                           0.539775       \n",
       "5165                                           0.511995       \n",
       "5166                                           0.593841       \n",
       "5167                                           0.529648       \n",
       "5168                                           0.520079       \n",
       "\n",
       "      Correlation_RWC_illumPHAandWGA_illumSYTO_cytoplasm  \\\n",
       "0                                              0.838390    \n",
       "1                                              0.838668    \n",
       "2                                              0.839807    \n",
       "3                                              0.833036    \n",
       "4                                              0.844488    \n",
       "...                                                 ...    \n",
       "5164                                           0.843267    \n",
       "5165                                           0.847052    \n",
       "5166                                           0.850788    \n",
       "5167                                           0.843113    \n",
       "5168                                           0.850825    \n",
       "\n",
       "      Correlation_RWC_illumSYTO_illumCONC_cytoplasm  \\\n",
       "0                                          0.776913   \n",
       "1                                          0.773285   \n",
       "2                                          0.793541   \n",
       "3                                          0.780067   \n",
       "4                                          0.746402   \n",
       "...                                             ...   \n",
       "5164                                       0.774568   \n",
       "5165                                       0.801154   \n",
       "5166                                       0.830121   \n",
       "5167                                       0.795628   \n",
       "5168                                       0.809336   \n",
       "\n",
       "      Correlation_RWC_illumSYTO_illumHOECHST_cytoplasm  \\\n",
       "0                                             0.616491   \n",
       "1                                             0.597442   \n",
       "2                                             0.605488   \n",
       "3                                             0.561020   \n",
       "4                                             0.622248   \n",
       "...                                                ...   \n",
       "5164                                          0.607549   \n",
       "5165                                          0.583767   \n",
       "5166                                          0.655829   \n",
       "5167                                          0.604710   \n",
       "5168                                          0.585213   \n",
       "\n",
       "      Correlation_RWC_illumSYTO_illumPHAandWGA_cytoplasm    Target  \n",
       "0                                              0.917410   0.014975  \n",
       "1                                              0.908687   0.013005  \n",
       "2                                              0.916414   0.013788  \n",
       "3                                              0.884716   0.006809  \n",
       "4                                              0.915533   0.013995  \n",
       "...                                                 ...        ...  \n",
       "5164                                           0.905907   0.015038  \n",
       "5165                                           0.921299   0.013815  \n",
       "5166                                           0.931191   0.016064  \n",
       "5167                                           0.920878   0.013780  \n",
       "5168                                           0.927631   0.016551  \n",
       "\n",
       "[5160 rows x 285 columns]"
      ]
     },
     "execution_count": 12,
     "metadata": {},
     "output_type": "execute_result"
    }
   ],
   "source": [
    "filtered_cell_profiler_B"
   ]
  },
  {
   "cell_type": "markdown",
   "metadata": {
    "tags": []
   },
   "source": [
    "## Now training"
   ]
  },
  {
   "cell_type": "markdown",
   "metadata": {},
   "source": [
    "### 1. Creating training and tests sets"
   ]
  },
  {
   "cell_type": "code",
   "execution_count": 13,
   "metadata": {},
   "outputs": [],
   "source": [
    "# We get the input values\n",
    "X_filtered =  filtered_cell_profiler_B.iloc[:,:-1]\n",
    "\n",
    "# Re-scale\n",
    "scaler = StandardScaler()\n",
    "X_filtered = pd.DataFrame(scaler.fit_transform(X_filtered))\n",
    "X_filtered\n",
    "\n",
    "# Output values\n",
    "y = 1000*cell_profiler.iloc[:,-1].reset_index(drop=True)"
   ]
  },
  {
   "cell_type": "markdown",
   "metadata": {},
   "source": [
    "**Evaluating baseline models in the training dataset**"
   ]
  },
  {
   "cell_type": "code",
   "execution_count": 14,
   "metadata": {},
   "outputs": [],
   "source": [
    "#Parameters\n",
    "thr = 9.6\n",
    "cv_k = 5"
   ]
  },
  {
   "cell_type": "code",
   "execution_count": 15,
   "metadata": {},
   "outputs": [
    {
     "name": "stdout",
     "output_type": "stream",
     "text": [
      "---- Model: LinearRegression()\n",
      "---- Model: Lasso(random_state=0)\n",
      "---- Model: Ridge(random_state=0)\n",
      "---- Model: SVR()\n"
     ]
    }
   ],
   "source": [
    "# build multiple linear regression model\n",
    "model1 = LinearRegression()\n",
    "model2 = Lasso(random_state=0)\n",
    "model3 = Ridge(random_state=0)\n",
    "model4 = svm.SVR()\n",
    "MODELS = [model1, model2, model3, model4]\n",
    "\n",
    "MMS_x_filt, BF1_scores_x_filt = fun.train_kfold_model_selection_v2(X = X_filtered, y = y, \n",
    "                                                              kfold = cv_k, threshold = thr, \n",
    "                                                              model_list = MODELS)"
   ]
  },
  {
   "cell_type": "code",
   "execution_count": 16,
   "metadata": {},
   "outputs": [
    {
     "name": "stdout",
     "output_type": "stream",
     "text": [
      "---- Model: DecisionTreeRegressor(random_state=0)\n",
      "---- Model: RandomForestRegressor(random_state=0)\n",
      "---- Model: BaggingRegressor(random_state=0)\n",
      "---- Model: AdaBoostRegressor(random_state=0)\n"
     ]
    }
   ],
   "source": [
    "# Second part\n",
    "model5 = DecisionTreeRegressor(random_state=0)\n",
    "model6 = RandomForestRegressor(random_state=0)\n",
    "model7 = BaggingRegressor(random_state=0)\n",
    "model8 = AdaBoostRegressor(random_state=0)\n",
    "MODELS = [model5, model6, model7, model8]\n",
    "\n",
    "MMS_x_filt_2, BF1_scores_x_filt_2 = fun.train_kfold_model_selection_v2(X = X_filtered, y = y, \n",
    "                                                              kfold = cv_k, threshold = thr, \n",
    "                                                              model_list = MODELS)"
   ]
  },
  {
   "cell_type": "code",
   "execution_count": 53,
   "metadata": {},
   "outputs": [
    {
     "data": {
      "image/png": "[encoded data removed]",
      "text/plain": [
       "<Figure size 900x500 with 1 Axes>"
      ]
     },
     "metadata": {},
     "output_type": "display_data"
    }
   ],
   "source": [
    "# Showing results\n",
    "exp1 = list(MMS_x_filt.values())+list(MMS_x_filt_2.values())\n",
    "medianprops = dict(linestyle='-', linewidth=1.5, color=(.937, .275, .282))\n",
    "models_name = ['L-Regression','Lasso','Ridge','SVR','Tree','RndForest','Bagging','AdaBoost'] #For labels\n",
    "fig, ax = plt.subplots(1, 1, figsize=(9,5))\n",
    "bp = ax.boxplot(exp1,labels=models_name,patch_artist=True, medianprops=medianprops)\n",
    "#Changing colour of the boxes\n",
    "for patch, color in zip(bp['boxes'], [(.345, .157, .255, 0.7)]*8):\n",
    "    patch.set_facecolor(color)\n",
    "    patch.set_linewidth(1)\n",
    "    patch.set_edgecolor('k')   \n",
    "ax.set_ylabel('Mean squared error (MSE)', color=\"black\", fontsize=14)   \n",
    "ax.set_xlabel('Default models', color=\"black\", fontsize=14)\n",
    "ax.set_title('Batch B', color=\"black\", fontsize=18)\n",
    "ax.grid(False)\n",
    "plt.xticks(rotation=90)\n",
    "#plt.savefig('regression_default_mse_batchB.jpg',bbox_inches='tight', dpi=150)\n",
    "plt.show()"
   ]
  },
  {
   "cell_type": "markdown",
   "metadata": {
    "tags": []
   },
   "source": [
    "### Hyper-parameter tunning"
   ]
  },
  {
   "cell_type": "code",
   "execution_count": 20,
   "metadata": {},
   "outputs": [],
   "source": [
    "from sklearn.model_selection import GridSearchCV"
   ]
  },
  {
   "cell_type": "code",
   "execution_count": 21,
   "metadata": {},
   "outputs": [],
   "source": [
    "# Sets for training\n",
    "X_train, X_test, y_train, y_test = train_test_split(X_filtered, y, test_size=0.2, random_state=6752)"
   ]
  },
  {
   "cell_type": "code",
   "execution_count": 55,
   "metadata": {},
   "outputs": [
    {
     "name": "stdout",
     "output_type": "stream",
     "text": [
      "Best Score: -0.5305043992599454\n",
      "Best Hyperparameters: {'fit_intercept': True}\n"
     ]
    }
   ],
   "source": [
    "# ----------- LINEAR REGRESSION\n",
    "\n",
    "#Create the grid\n",
    "grid_vals1 = {'fit_intercept': [True, False]}\n",
    "grid_lr1 = GridSearchCV(estimator=model1, param_grid=grid_vals1, scoring='neg_mean_squared_error', \n",
    "                       cv=5, refit=True, return_train_score=True)\n",
    "\n",
    "#Training and Prediction\n",
    "result1 = grid_lr1.fit(X_train, y_train)\n",
    "# summarize result\n",
    "print('Best Score: %s' % result1.best_score_)\n",
    "print('Best Hyperparameters: %s' % result1.best_params_)"
   ]
  },
  {
   "cell_type": "code",
   "execution_count": 56,
   "metadata": {},
   "outputs": [
    {
     "name": "stdout",
     "output_type": "stream",
     "text": [
      "Best Score: -0.5228776400272508\n",
      "Best Hyperparameters: {'alpha': 0.1, 'fit_intercept': True}\n"
     ]
    }
   ],
   "source": [
    "# ----------- LINEAR REGRESSION WITH RIDGE REGULARIZATION\n",
    "\n",
    "#Create the grid\n",
    "grid_vals3 = {'alpha': [0.001,0.01,0.1,1.0,1.1,1.3,1.5], 'fit_intercept': [True, False]}\n",
    "grid_lr3 = GridSearchCV(estimator=model3, param_grid=grid_vals3, scoring='neg_mean_squared_error', \n",
    "                       cv=5, refit=True, return_train_score=True)\n",
    "\n",
    "#Training and Prediction\n",
    "result = grid_lr3.fit(X_train, y_train)\n",
    "# summarize result\n",
    "print('Best Score: %s' % result.best_score_)\n",
    "print('Best Hyperparameters: %s' % result.best_params_)"
   ]
  },
  {
   "cell_type": "code",
   "execution_count": 57,
   "metadata": {},
   "outputs": [
    {
     "name": "stdout",
     "output_type": "stream",
     "text": [
      "Best Score: -0.9837709123142089\n",
      "Best Hyperparameters: {'C': 10, 'gamma': 0.01, 'kernel': 'rbf'}\n"
     ]
    }
   ],
   "source": [
    "# ----------- SUPPORT VECTOR MACHINES FOR REGRESSION\n",
    "\n",
    "#Create the grid\n",
    "grid_vals4 = {'kernel': [\"poly\", \"rbf\", \"sigmoid\"], 'gamma': [1.0, 0.1, 1e-2], 'C': [1, 10, 30, 50, 80, 100]}\n",
    "grid_lr4 = GridSearchCV(estimator=model4, param_grid=grid_vals4, scoring='neg_mean_squared_error', \n",
    "                       cv=5, refit=True, return_train_score=True)\n",
    "\n",
    "#Training and Prediction\n",
    "result4 = grid_lr4.fit(X_train, y_train)\n",
    "# summarize result\n",
    "print('Best Score: %s' % result4.best_score_)\n",
    "print('Best Hyperparameters: %s' % result4.best_params_)"
   ]
  },
  {
   "cell_type": "code",
   "execution_count": 59,
   "metadata": {},
   "outputs": [
    {
     "name": "stdout",
     "output_type": "stream",
     "text": [
      "Best Score: -1.0752850576141033\n",
      "Best Hyperparameters: {'max_depth': 5, 'min_samples_split': 10, 'splitter': 'best'}\n"
     ]
    }
   ],
   "source": [
    "# ----------- DECISION TREE: I will use this as the base estimator for bagging\n",
    "\n",
    "#Create the grid\n",
    "grid_vals5 = {'splitter':['best', 'random'], 'min_samples_split':[2,5,7,10], 'max_depth':[None,5,10,15,20], }\n",
    "grid_lr5 = GridSearchCV(estimator=model5, param_grid=grid_vals5, scoring='neg_mean_squared_error', \n",
    "                       cv=5, refit=True, return_train_score=True)\n",
    "\n",
    "#Training and Prediction\n",
    "result5 = grid_lr5.fit(X_train, y_train)\n",
    "# summarize result\n",
    "print('Best Score: %s' % result5.best_score_)\n",
    "print('Best Hyperparameters: %s' % result5.best_params_)"
   ]
  },
  {
   "cell_type": "code",
   "execution_count": 22,
   "metadata": {},
   "outputs": [
    {
     "name": "stdout",
     "output_type": "stream",
     "text": [
      "Best Score: -0.697865996340799\n",
      "Best Hyperparameters: {'max_depth': None, 'min_samples_leaf': 2, 'n_estimators': 200, 'n_jobs': -1, 'random_state': 0}\n"
     ]
    }
   ],
   "source": [
    "# ----------- RANDOM FOREST\n",
    "\n",
    "#Create the grid\n",
    "grid_vals6 = {'n_estimators': [30,50,100,150,200], 'max_depth': [None,3,5,9,12], 'min_samples_leaf': [1,2,3],'random_state': [0],'n_jobs':[-1]}\n",
    "grid_lr6 = GridSearchCV(estimator=model6, param_grid=grid_vals6, scoring='neg_mean_squared_error', \n",
    "                       cv=5, refit=True, return_train_score=True)\n",
    "\n",
    "#Training and Prediction\n",
    "result6 = grid_lr6.fit(X_train, y_train)\n",
    "# summarize result\n",
    "print('Best Score: %s' % result6.best_score_)\n",
    "print('Best Hyperparameters: %s' % result6.best_params_)"
   ]
  },
  {
   "cell_type": "code",
   "execution_count": 24,
   "metadata": {},
   "outputs": [
    {
     "name": "stdout",
     "output_type": "stream",
     "text": [
      "Best Score: -0.8278874094446117\n",
      "Best Hyperparameters: {'base_estimator': DecisionTreeRegressor(max_depth=5, min_samples_split=10, random_state=0), 'max_features': 0.5, 'n_estimators': 100}\n"
     ]
    }
   ],
   "source": [
    "# ----------- BAGGING\n",
    "\n",
    "#Create the grid\n",
    "base = DecisionTreeRegressor(max_depth = 5, min_samples_split = 10, splitter = \"best\", random_state=0)\n",
    "grid_vals7 = {'base_estimator':[base],'n_estimators': [10,30,50,70,100], 'max_features':[0.25,0.5,1.0]}\n",
    "grid_lr7 = GridSearchCV(estimator=model7, param_grid=grid_vals7, scoring='neg_mean_squared_error', \n",
    "                       cv=5, refit=True, return_train_score=True)\n",
    "\n",
    "#Training and Prediction\n",
    "result7 = grid_lr7.fit(X_train, y_train)\n",
    "# summarize result\n",
    "print('Best Score: %s' % result7.best_score_)\n",
    "print('Best Hyperparameters: %s' % result7.best_params_)"
   ]
  },
  {
   "cell_type": "code",
   "execution_count": 25,
   "metadata": {},
   "outputs": [
    {
     "name": "stdout",
     "output_type": "stream",
     "text": [
      "Best Score: -0.7200496008310457\n",
      "Best Hyperparameters: {'base_estimator': DecisionTreeRegressor(max_depth=5, min_samples_split=10, random_state=0), 'learning_rate': 1.5, 'n_estimators': 100}\n"
     ]
    }
   ],
   "source": [
    "# ----------- ADABOOST\n",
    "\n",
    "#Create the grid\n",
    "grid_vals8 = {'base_estimator':[base], 'n_estimators': [10,30,50,70,100], 'learning_rate': [1.5, 1.0, 0.1, 1e-2]}\n",
    "grid_lr8 = GridSearchCV(estimator=model8, param_grid=grid_vals8, scoring='neg_mean_squared_error', \n",
    "                       cv=5, refit=True, return_train_score=True)\n",
    "\n",
    "#Training and Prediction\n",
    "result8 = grid_lr8.fit(X_train, y_train)\n",
    "# summarize result\n",
    "print('Best Score: %s' % result8.best_score_)\n",
    "print('Best Hyperparameters: %s' % result8.best_params_)"
   ]
  },
  {
   "cell_type": "markdown",
   "metadata": {},
   "source": [
    "**Best models comparision**"
   ]
  },
  {
   "cell_type": "code",
   "execution_count": 42,
   "metadata": {},
   "outputs": [],
   "source": [
    "# Building the models\n",
    "best_ridge = Ridge(alpha=0.1, random_state=0) #{'alpha': 0.1, 'fit_intercept': True}\n",
    "best_svr = svm.SVR(C=10, gamma=0.01, kernel='rbf') #{'C': 10, 'gamma': 0.01, 'kernel': 'rbf'}\n",
    "best_tree = DecisionTreeRegressor(max_depth = 5, min_samples_split=10, splitter='best', random_state=0) #{'max_depth': 5, 'min_samples_split': 10, 'splitter': 'best'}\n",
    "best_rf = RandomForestRegressor(max_depth=None, min_samples_leaf = 2, n_estimators = 200, n_jobs=-1,random_state=0)\n",
    "#{'max_depth': None, 'min_samples_leaf': 2, 'n_estimators': 200, 'n_jobs': -1, 'random_state': 0}\n",
    "best_bag = BaggingRegressor(base_estimator = best_tree, max_features = 0.5, n_estimators=100, random_state=0)\n",
    "#{'base_estimator': DecisionTreeRegressor(max_depth=5, min_samples_split=10, random_state=0), 'max_features': 0.5, 'n_estimators': 100}\n",
    "best_ada = AdaBoostRegressor(base_estimator = best_tree, learning_rate=1.5 ,n_estimators = 100, random_state=0)\n",
    "#{'base_estimator': DecisionTreeRegressor(max_depth=5, min_samples_split=10, random_state=0), 'learning_rate': 1.5, 'n_estimators': 100}\n",
    "\n",
    "\n",
    "BEST_MODELS = [model1,best_ridge, best_svr, best_tree, best_rf, best_bag, best_ada]"
   ]
  },
  {
   "cell_type": "code",
   "execution_count": 43,
   "metadata": {},
   "outputs": [
    {
     "name": "stdout",
     "output_type": "stream",
     "text": [
      "---- Model: LinearRegression()\n",
      "---- Model: Ridge(alpha=0.1, random_state=0)\n",
      "---- Model: SVR(C=10, gamma=0.01)\n",
      "---- Model: DecisionTreeRegressor(max_depth=5, min_samples_split=10, random_state=0)\n",
      "---- Model: RandomForestRegressor(min_samples_leaf=2, n_estimators=200, n_jobs=-1,\n",
      "                      random_state=0)\n",
      "---- Model: BaggingRegressor(base_estimator=DecisionTreeRegressor(max_depth=5,\n",
      "                                                      min_samples_split=10,\n",
      "                                                      random_state=0),\n",
      "                 max_features=0.5, n_estimators=100, random_state=0)\n",
      "---- Model: AdaBoostRegressor(base_estimator=DecisionTreeRegressor(max_depth=5,\n",
      "                                                       min_samples_split=10,\n",
      "                                                       random_state=0),\n",
      "                  learning_rate=1.5, n_estimators=100, random_state=0)\n"
     ]
    }
   ],
   "source": [
    "Best_MMS_x_filt_v2, Best_BF1_scores_x_filt_v2 = fun.train_kfold_model_selection_v2(X = X_filtered, y = y, \n",
    "                                                              kfold = cv_k, threshold = thr, \n",
    "                                                              model_list = BEST_MODELS)"
   ]
  },
  {
   "cell_type": "code",
   "execution_count": 55,
   "metadata": {},
   "outputs": [],
   "source": [
    "accuracy = list(Best_MMS_x_filt_v2.values())\n",
    "f1score = list(Best_BF1_scores_x_filt_v2.values())\n",
    "models_name = ['L-Regression','Ridge','SVR','Tree', 'RndForest', 'Bagging', 'AdabBoost']\n",
    "\n",
    "medianprops = dict(linestyle='-', linewidth=1.5, color=(.98, .702, .447))"
   ]
  },
  {
   "cell_type": "code",
   "execution_count": 57,
   "metadata": {},
   "outputs": [
    {
     "data": {
      "image/png": "[encoded data removed]",
      "text/plain": [
       "<Figure size 900x500 with 1 Axes>"
      ]
     },
     "metadata": {},
     "output_type": "display_data"
    }
   ],
   "source": [
    "fig, ax = plt.subplots(1, 1, figsize=(9,5))\n",
    "bp0 = ax.boxplot(accuracy, labels = None, positions = np.arange(np.array(accuracy).shape[0])-0.3, widths = 0.3, patch_artist = True, medianprops = medianprops)\n",
    "bp1 = ax.boxplot(f1score, labels = None, positions = np.arange(np.array(f1score).shape[0])+0.3, widths = 0.3, patch_artist = True, medianprops = medianprops)\n",
    "\n",
    "#Changing colour\n",
    "for patch, color in zip(bp0['boxes'], [(.345, .157, .255, 0.75)]*7):\n",
    "    patch.set_facecolor(color)\n",
    "    patch.set_linewidth(1)\n",
    "    patch.set_edgecolor('k') \n",
    "for patch, color in zip(bp1['boxes'], [(.937, .275, .282, 0.75)]*7):\n",
    "    patch.set_facecolor(color)\n",
    "    patch.set_linewidth(1)\n",
    "    patch.set_edgecolor('k') \n",
    "\n",
    "ax.set_ylabel('MSE / F1-score', color=\"black\", fontsize=14)   \n",
    "ax.set_xlabel('Best models after Grid search', color=\"black\", fontsize=14)\n",
    "ax.set_title('Batch B', color=\"black\", fontsize=18)\n",
    "ax.grid(False)\n",
    "plt.xticks(ticks= np.arange(0,7),labels = models_name,rotation=90)\n",
    "\n",
    "#plt.savefig('regression_grid_batchB.jpg',bbox_inches='tight', dpi=150)\n",
    "plt.show()"
   ]
  },
  {
   "cell_type": "code",
   "execution_count": null,
   "metadata": {},
   "outputs": [],
   "source": []
  },
  {
   "cell_type": "code",
   "execution_count": null,
   "metadata": {},
   "outputs": [],
   "source": []
  },
  {
   "cell_type": "markdown",
   "metadata": {},
   "source": [
    "### Adding conformal prediction to the best model"
   ]
  },
  {
   "cell_type": "code",
   "execution_count": 47,
   "metadata": {},
   "outputs": [],
   "source": [
    "import reg_icp as ricp\n",
    "\n",
    "# Split data into training and testing\n",
    "X_train, X_test, y_train, y_test = train_test_split(X_filtered, y, test_size=0.2,random_state=0)\n",
    "# Split data into proper training set and clibration set\n",
    "X_train, X_calib, y_train, y_calib = train_test_split(X_train, y_train, test_size=0.3,random_state=0)"
   ]
  },
  {
   "cell_type": "code",
   "execution_count": 48,
   "metadata": {},
   "outputs": [],
   "source": [
    "## Ridge regression\n",
    "intervals_ridge, testPred_ridge = ricp.ICPRegression(X_train, y_train, X_calib, y_calib, X_test, best_ridge, returnPredictions = False)"
   ]
  },
  {
   "cell_type": "code",
   "execution_count": 49,
   "metadata": {},
   "outputs": [],
   "source": [
    "icp_result_ridge = pd.DataFrame(intervals_ridge,columns=['Lower_bound', 'Upper_bound'])\n",
    "icp_result_ridge['y_predicted'] = testPred_ridge\n",
    "icp_result_ridge['y_test'] = y_test.values.tolist()\n",
    "icp_result_ridge=icp_result_ridge.sort_values(by='y_predicted').reset_index(drop=True)"
   ]
  },
  {
   "cell_type": "code",
   "execution_count": 58,
   "metadata": {},
   "outputs": [
    {
     "data": {
      "image/png": "[encoded data removed]",
      "text/plain": [
       "<Figure size 900x500 with 1 Axes>"
      ]
     },
     "metadata": {},
     "output_type": "display_data"
    }
   ],
   "source": [
    "npoints = icp_result_ridge.shape[0]\n",
    "fig, ax = plt.subplots(1, 1, figsize=(9,5))\n",
    "ax.plot(icp_result_ridge.index[:npoints],icp_result_ridge['y_predicted'][:npoints], color=[.988, .761, 0], linewidth=2.5)\n",
    "ax.fill_between(icp_result_ridge.index[:npoints],icp_result_ridge['Lower_bound'][:npoints], \n",
    "                icp_result_ridge['Upper_bound'][:npoints], color=[.988, .761, 0],alpha=0.1)\n",
    "ax.scatter(icp_result_ridge.index[:npoints],icp_result_ridge['y_test'][:npoints], marker = 'o', s=2,\n",
    "        color=[.937, .275, .282],linewidth=0.8)\n",
    "\n",
    "ax.set_ylabel('Prediction  $\\^y$', color=\"black\", fontsize=14)   \n",
    "ax.set_xlabel('Instance index', color=\"black\", fontsize=14)\n",
    "ax.set_title('Batch B', color=\"black\", fontsize=18)\n",
    "\n",
    "#plt.savefig('cp_Ridge_regre_batchB.jpg',bbox_inches='tight', dpi=150)\n",
    "plt.show()"
   ]
  },
  {
   "cell_type": "code",
   "execution_count": null,
   "metadata": {},
   "outputs": [],
   "source": []
  },
  {
   "cell_type": "code",
   "execution_count": null,
   "metadata": {},
   "outputs": [],
   "source": []
  },
  {
   "cell_type": "code",
   "execution_count": null,
   "metadata": {},
   "outputs": [],
   "source": []
  }
 ],
 "metadata": {
  "kernelspec": {
   "display_name": "Python 3",
   "language": "python",
   "name": "python3"
  },
  "language_info": {
   "codemirror_mode": {
    "name": "ipython",
    "version": 3
   },
   "file_extension": ".py",
   "mimetype": "text/x-python",
   "name": "python",
   "nbconvert_exporter": "python",
   "pygments_lexer": "ipython3",
   "version": "3.8.10"
  }
 },
 "nbformat": 4,
 "nbformat_minor": 4
}
