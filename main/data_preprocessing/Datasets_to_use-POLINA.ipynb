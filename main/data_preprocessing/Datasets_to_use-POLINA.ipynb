{
 "cells": [
  {
   "cell_type": "code",
   "execution_count": 1,
   "metadata": {},
   "outputs": [],
   "source": [
    "%load_ext autoreload\n",
    "%autoreload 2\n",
    "\n",
    "from pandas import read_excel\n",
    "import csv\n",
    "import pandas as pd\n",
    "import numpy as np\n",
    "import seaborn as sns\n",
    "import matplotlib.pyplot as plt\n",
    "\n",
    "import sys\n",
    "sys.path.insert(0, '/home/jovyan/Thesis_ActLearn_DOP_2022/main/active_learning/')\n",
    "import functions as fun"
   ]
  },
  {
   "cell_type": "code",
   "execution_count": 2,
   "metadata": {},
   "outputs": [],
   "source": [
    "def load_csv(filename):\n",
    "    file = open(filename, \"r\", encoding=\"utf-8\")\n",
    "    experiments = []\n",
    "    headers = []\n",
    "    reader = csv.reader(file)\n",
    "    for i, lines in enumerate(reader):\n",
    "        if i == 0:\n",
    "            #headers = [e for e in lines[0].split(\";\")]\n",
    "            h = lines[0].split(\";\")\n",
    "            headers.append(h)\n",
    "        else:\n",
    "            tmp = lines[0].split(\";\")\n",
    "            for j in range(0,len(tmp)):\n",
    "                if (j != 0 and j != 1879):\n",
    "                    tmp[j] = float(tmp[j])\n",
    "                else:\n",
    "                    continue\n",
    "            #tmp = [float(tmp[j]) for j in range(0,len(tmp)) if (j!=0 and j!=1879)] #This removes two entries, dunno why. \n",
    "            experiments.append(tmp)\n",
    "    file.close()\n",
    "    return headers, experiments\n",
    "\n",
    "def column_extraction(data_list,column_number): #columns start counting in 0\n",
    "    col = []\n",
    "    for i in range(0,len(experiments)):\n",
    "        dato = experiments[i][column_number]\n",
    "        col.append(dato)\n",
    "    return col   "
   ]
  },
  {
   "cell_type": "markdown",
   "metadata": {},
   "source": [
    "## Load both data sets for comparision"
   ]
  },
  {
   "cell_type": "code",
   "execution_count": 3,
   "metadata": {},
   "outputs": [],
   "source": [
    "# Loading compound library\n",
    "file_name = r'/home/jovyan/covid-data/specsSarsCov2-v1-CMPDannot.csv'# change it to the name of your excel file\n",
    "specs = pd.read_csv(file_name)"
   ]
  },
  {
   "cell_type": "code",
   "execution_count": 4,
   "metadata": {},
   "outputs": [],
   "source": [
    "#Loading Maris' data\n",
    "headers, experiments = load_csv('/home/jovyan/covid-data/dalia_MeanFeaturesPerWell_BatchA.csv')"
   ]
  },
  {
   "cell_type": "markdown",
   "metadata": {},
   "source": [
    "## Create the data sets to use "
   ]
  },
  {
   "cell_type": "markdown",
   "metadata": {},
   "source": [
    "### SPECS data set"
   ]
  },
  {
   "cell_type": "code",
   "execution_count": 5,
   "metadata": {},
   "outputs": [
    {
     "name": "stdout",
     "output_type": "stream",
     "text": [
      "There are 5283 rows in SPECS\n"
     ]
    }
   ],
   "source": [
    "# Loading data\n",
    "print(f\"There are {len(specs)} rows in SPECS\")"
   ]
  },
  {
   "cell_type": "code",
   "execution_count": 6,
   "metadata": {},
   "outputs": [
    {
     "name": "stdout",
     "output_type": "stream",
     "text": [
      "Removing outlier...\n",
      "There are 5281 rows in SPECS\n",
      "Removing duplicates...\n",
      "There are 5186 rows in SPECS\n",
      "Now Covid data has zero repetitions\n"
     ]
    }
   ],
   "source": [
    "# Remove outlier\n",
    "print('Removing outlier...')\n",
    "specs = specs.drop(specs.loc[specs['cbkid']=='CBK277930'].index.tolist())\n",
    "print(f\"There are {len(specs)} rows in SPECS\")\n",
    "\n",
    "# Remove duplicates but keeping the fisrts appereance \n",
    "print('Removing duplicates...')\n",
    "specs = specs.drop_duplicates(subset = 'cbkid', keep = 'first')\n",
    "print(f\"There are {len(specs)} rows in SPECS\")\n",
    "specs.reset_index(drop=True, inplace=True)\n",
    "specs.rename(columns = {'cbkid':'ID_library'}, inplace = True)\n",
    "\n",
    "ids1 = specs[\"ID_library\"]\n",
    "if len(specs[ids1.isin(ids1[ids1.duplicated()])]) == 0:\n",
    "    print(\"Now Covid data has zero repetitions\")"
   ]
  },
  {
   "cell_type": "markdown",
   "metadata": {},
   "source": [
    "### Covid data set"
   ]
  },
  {
   "cell_type": "code",
   "execution_count": 7,
   "metadata": {},
   "outputs": [
    {
     "name": "stdout",
     "output_type": "stream",
     "text": [
      "There are 6065 rows in Covid\n",
      "\n",
      "Removing outlier...\n",
      "There are 6063 rows in Covid Batch A\n",
      "\n",
      "Removing repetitions...\n",
      "There are 5089 rows in Covid Batch A\n",
      "\n",
      "Now Covid data has zero repetitions\n"
     ]
    }
   ],
   "source": [
    "# Loading dataframe\n",
    "experiments_df = pd.DataFrame(experiments , columns=headers[0])\n",
    "print(f\"There are {len(experiments_df)} rows in Covid\\n\")\n",
    "\n",
    "# Remove outlier\n",
    "print('Removing outlier...')\n",
    "covid_batchA_unique = experiments_df.copy().drop(experiments_df.loc[experiments_df['CompoundID']=='CBK277930'].index.tolist())\n",
    "print(f\"There are {len(covid_batchA_unique)} rows in Covid Batch A\\n\")\n",
    "\n",
    "#Removing repetitions\n",
    "covid_batchA_unique = covid_batchA_unique.drop_duplicates(subset=['CompoundID'], keep=False)\n",
    "print(f\"Removing repetitions...\\nThere are {len(covid_batchA_unique)} rows in Covid Batch A\\n\")\n",
    "\n",
    "ids_covid_unique = covid_batchA_unique[\"CompoundID\"]\n",
    "if len(covid_batchA_unique[ids_covid_unique.isin(ids_covid_unique[ids_covid_unique.duplicated()])]) == 0:\n",
    "    print(\"Now Covid data has zero repetitions\")"
   ]
  },
  {
   "cell_type": "markdown",
   "metadata": {},
   "source": [
    "### Continuar con las repeticiones de covid"
   ]
  },
  {
   "cell_type": "code",
   "execution_count": 8,
   "metadata": {},
   "outputs": [
    {
     "name": "stdout",
     "output_type": "stream",
     "text": [
      "Printing repeated compounds\n",
      "   CompoundID  Count\n",
      "7  CBK011558      3\n",
      "8  CBK011603      3\n",
      "9  CBK041250      3\n",
      "\n",
      " There are 87 repetitions in COVID\n"
     ]
    }
   ],
   "source": [
    "# Finding repetitions\n",
    "covid_batchA_id_rep = experiments_df['CompoundID'].to_frame().groupby('CompoundID').size().sort_values(ascending=False).to_frame() #Count the elements in each group and sort\n",
    "covid_batchA_id_rep.rename(columns = {0:'Count'}, inplace = True) #Renaming column\n",
    "covid_batchA_id_rep.reset_index(inplace=True) # Ordering indexes\n",
    "covid_batchA_id_rep\n",
    "\n",
    "# Showing non-unique compounds\n",
    "a = covid_batchA_id_rep[(covid_batchA_id_rep['Count'] >1) & (covid_batchA_id_rep['Count'] < 10)]\n",
    "print(f'Printing repeated compounds\\n {a.head(3)}\\n')\n",
    "repeated_compounds = a['CompoundID'].tolist() #Storing only repeated compounds\n",
    "repeated_compounds.remove('CBK277930') # <------------------OUTLIER COMPOUND\n",
    "print(f' There are {len(repeated_compounds)} repetitions in COVID')"
   ]
  },
  {
   "cell_type": "markdown",
   "metadata": {},
   "source": [
    "Now we have a file with no repetitions. The plan is to add one by one the median of the repeated compouns to it. "
   ]
  },
  {
   "cell_type": "code",
   "execution_count": 9,
   "metadata": {},
   "outputs": [
    {
     "name": "stderr",
     "output_type": "stream",
     "text": [
      "/home/jovyan/Thesis_ActLearn_DOP_2022/main/active_learning/functions.py:204: FutureWarning: The frame.append method is deprecated and will be removed from pandas in a future version. Use pandas.concat instead.\n",
      "  df_to_be_ready = df_to_be_ready.append(row)\n",
      "/home/jovyan/Thesis_ActLearn_DOP_2022/main/active_learning/functions.py:204: FutureWarning: The frame.append method is deprecated and will be removed from pandas in a future version. Use pandas.concat instead.\n",
      "  df_to_be_ready = df_to_be_ready.append(row)\n",
      "/home/jovyan/Thesis_ActLearn_DOP_2022/main/active_learning/functions.py:204: FutureWarning: The frame.append method is deprecated and will be removed from pandas in a future version. Use pandas.concat instead.\n",
      "  df_to_be_ready = df_to_be_ready.append(row)\n",
      "/home/jovyan/Thesis_ActLearn_DOP_2022/main/active_learning/functions.py:204: FutureWarning: The frame.append method is deprecated and will be removed from pandas in a future version. Use pandas.concat instead.\n",
      "  df_to_be_ready = df_to_be_ready.append(row)\n",
      "/home/jovyan/Thesis_ActLearn_DOP_2022/main/active_learning/functions.py:204: FutureWarning: The frame.append method is deprecated and will be removed from pandas in a future version. Use pandas.concat instead.\n",
      "  df_to_be_ready = df_to_be_ready.append(row)\n",
      "/home/jovyan/Thesis_ActLearn_DOP_2022/main/active_learning/functions.py:204: FutureWarning: The frame.append method is deprecated and will be removed from pandas in a future version. Use pandas.concat instead.\n",
      "  df_to_be_ready = df_to_be_ready.append(row)\n",
      "/home/jovyan/Thesis_ActLearn_DOP_2022/main/active_learning/functions.py:204: FutureWarning: The frame.append method is deprecated and will be removed from pandas in a future version. Use pandas.concat instead.\n",
      "  df_to_be_ready = df_to_be_ready.append(row)\n",
      "/home/jovyan/Thesis_ActLearn_DOP_2022/main/active_learning/functions.py:204: FutureWarning: The frame.append method is deprecated and will be removed from pandas in a future version. Use pandas.concat instead.\n",
      "  df_to_be_ready = df_to_be_ready.append(row)\n",
      "/home/jovyan/Thesis_ActLearn_DOP_2022/main/active_learning/functions.py:204: FutureWarning: The frame.append method is deprecated and will be removed from pandas in a future version. Use pandas.concat instead.\n",
      "  df_to_be_ready = df_to_be_ready.append(row)\n",
      "/home/jovyan/Thesis_ActLearn_DOP_2022/main/active_learning/functions.py:204: FutureWarning: The frame.append method is deprecated and will be removed from pandas in a future version. Use pandas.concat instead.\n",
      "  df_to_be_ready = df_to_be_ready.append(row)\n",
      "/home/jovyan/Thesis_ActLearn_DOP_2022/main/active_learning/functions.py:204: FutureWarning: The frame.append method is deprecated and will be removed from pandas in a future version. Use pandas.concat instead.\n",
      "  df_to_be_ready = df_to_be_ready.append(row)\n",
      "/home/jovyan/Thesis_ActLearn_DOP_2022/main/active_learning/functions.py:204: FutureWarning: The frame.append method is deprecated and will be removed from pandas in a future version. Use pandas.concat instead.\n",
      "  df_to_be_ready = df_to_be_ready.append(row)\n",
      "/home/jovyan/Thesis_ActLearn_DOP_2022/main/active_learning/functions.py:204: FutureWarning: The frame.append method is deprecated and will be removed from pandas in a future version. Use pandas.concat instead.\n",
      "  df_to_be_ready = df_to_be_ready.append(row)\n",
      "/home/jovyan/Thesis_ActLearn_DOP_2022/main/active_learning/functions.py:204: FutureWarning: The frame.append method is deprecated and will be removed from pandas in a future version. Use pandas.concat instead.\n",
      "  df_to_be_ready = df_to_be_ready.append(row)\n",
      "/home/jovyan/Thesis_ActLearn_DOP_2022/main/active_learning/functions.py:204: FutureWarning: The frame.append method is deprecated and will be removed from pandas in a future version. Use pandas.concat instead.\n",
      "  df_to_be_ready = df_to_be_ready.append(row)\n",
      "/home/jovyan/Thesis_ActLearn_DOP_2022/main/active_learning/functions.py:204: FutureWarning: The frame.append method is deprecated and will be removed from pandas in a future version. Use pandas.concat instead.\n",
      "  df_to_be_ready = df_to_be_ready.append(row)\n",
      "/home/jovyan/Thesis_ActLearn_DOP_2022/main/active_learning/functions.py:204: FutureWarning: The frame.append method is deprecated and will be removed from pandas in a future version. Use pandas.concat instead.\n",
      "  df_to_be_ready = df_to_be_ready.append(row)\n",
      "/home/jovyan/Thesis_ActLearn_DOP_2022/main/active_learning/functions.py:204: FutureWarning: The frame.append method is deprecated and will be removed from pandas in a future version. Use pandas.concat instead.\n",
      "  df_to_be_ready = df_to_be_ready.append(row)\n",
      "/home/jovyan/Thesis_ActLearn_DOP_2022/main/active_learning/functions.py:204: FutureWarning: The frame.append method is deprecated and will be removed from pandas in a future version. Use pandas.concat instead.\n",
      "  df_to_be_ready = df_to_be_ready.append(row)\n",
      "/home/jovyan/Thesis_ActLearn_DOP_2022/main/active_learning/functions.py:204: FutureWarning: The frame.append method is deprecated and will be removed from pandas in a future version. Use pandas.concat instead.\n",
      "  df_to_be_ready = df_to_be_ready.append(row)\n",
      "/home/jovyan/Thesis_ActLearn_DOP_2022/main/active_learning/functions.py:204: FutureWarning: The frame.append method is deprecated and will be removed from pandas in a future version. Use pandas.concat instead.\n",
      "  df_to_be_ready = df_to_be_ready.append(row)\n",
      "/home/jovyan/Thesis_ActLearn_DOP_2022/main/active_learning/functions.py:204: FutureWarning: The frame.append method is deprecated and will be removed from pandas in a future version. Use pandas.concat instead.\n",
      "  df_to_be_ready = df_to_be_ready.append(row)\n",
      "/home/jovyan/Thesis_ActLearn_DOP_2022/main/active_learning/functions.py:204: FutureWarning: The frame.append method is deprecated and will be removed from pandas in a future version. Use pandas.concat instead.\n",
      "  df_to_be_ready = df_to_be_ready.append(row)\n",
      "/home/jovyan/Thesis_ActLearn_DOP_2022/main/active_learning/functions.py:204: FutureWarning: The frame.append method is deprecated and will be removed from pandas in a future version. Use pandas.concat instead.\n",
      "  df_to_be_ready = df_to_be_ready.append(row)\n",
      "/home/jovyan/Thesis_ActLearn_DOP_2022/main/active_learning/functions.py:204: FutureWarning: The frame.append method is deprecated and will be removed from pandas in a future version. Use pandas.concat instead.\n",
      "  df_to_be_ready = df_to_be_ready.append(row)\n",
      "/home/jovyan/Thesis_ActLearn_DOP_2022/main/active_learning/functions.py:204: FutureWarning: The frame.append method is deprecated and will be removed from pandas in a future version. Use pandas.concat instead.\n",
      "  df_to_be_ready = df_to_be_ready.append(row)\n",
      "/home/jovyan/Thesis_ActLearn_DOP_2022/main/active_learning/functions.py:204: FutureWarning: The frame.append method is deprecated and will be removed from pandas in a future version. Use pandas.concat instead.\n",
      "  df_to_be_ready = df_to_be_ready.append(row)\n",
      "/home/jovyan/Thesis_ActLearn_DOP_2022/main/active_learning/functions.py:204: FutureWarning: The frame.append method is deprecated and will be removed from pandas in a future version. Use pandas.concat instead.\n",
      "  df_to_be_ready = df_to_be_ready.append(row)\n",
      "/home/jovyan/Thesis_ActLearn_DOP_2022/main/active_learning/functions.py:204: FutureWarning: The frame.append method is deprecated and will be removed from pandas in a future version. Use pandas.concat instead.\n",
      "  df_to_be_ready = df_to_be_ready.append(row)\n",
      "/home/jovyan/Thesis_ActLearn_DOP_2022/main/active_learning/functions.py:204: FutureWarning: The frame.append method is deprecated and will be removed from pandas in a future version. Use pandas.concat instead.\n",
      "  df_to_be_ready = df_to_be_ready.append(row)\n",
      "/home/jovyan/Thesis_ActLearn_DOP_2022/main/active_learning/functions.py:204: FutureWarning: The frame.append method is deprecated and will be removed from pandas in a future version. Use pandas.concat instead.\n",
      "  df_to_be_ready = df_to_be_ready.append(row)\n",
      "/home/jovyan/Thesis_ActLearn_DOP_2022/main/active_learning/functions.py:204: FutureWarning: The frame.append method is deprecated and will be removed from pandas in a future version. Use pandas.concat instead.\n",
      "  df_to_be_ready = df_to_be_ready.append(row)\n",
      "/home/jovyan/Thesis_ActLearn_DOP_2022/main/active_learning/functions.py:204: FutureWarning: The frame.append method is deprecated and will be removed from pandas in a future version. Use pandas.concat instead.\n",
      "  df_to_be_ready = df_to_be_ready.append(row)\n",
      "/home/jovyan/Thesis_ActLearn_DOP_2022/main/active_learning/functions.py:204: FutureWarning: The frame.append method is deprecated and will be removed from pandas in a future version. Use pandas.concat instead.\n",
      "  df_to_be_ready = df_to_be_ready.append(row)\n",
      "/home/jovyan/Thesis_ActLearn_DOP_2022/main/active_learning/functions.py:204: FutureWarning: The frame.append method is deprecated and will be removed from pandas in a future version. Use pandas.concat instead.\n",
      "  df_to_be_ready = df_to_be_ready.append(row)\n",
      "/home/jovyan/Thesis_ActLearn_DOP_2022/main/active_learning/functions.py:204: FutureWarning: The frame.append method is deprecated and will be removed from pandas in a future version. Use pandas.concat instead.\n",
      "  df_to_be_ready = df_to_be_ready.append(row)\n",
      "/home/jovyan/Thesis_ActLearn_DOP_2022/main/active_learning/functions.py:204: FutureWarning: The frame.append method is deprecated and will be removed from pandas in a future version. Use pandas.concat instead.\n",
      "  df_to_be_ready = df_to_be_ready.append(row)\n",
      "/home/jovyan/Thesis_ActLearn_DOP_2022/main/active_learning/functions.py:204: FutureWarning: The frame.append method is deprecated and will be removed from pandas in a future version. Use pandas.concat instead.\n",
      "  df_to_be_ready = df_to_be_ready.append(row)\n",
      "/home/jovyan/Thesis_ActLearn_DOP_2022/main/active_learning/functions.py:204: FutureWarning: The frame.append method is deprecated and will be removed from pandas in a future version. Use pandas.concat instead.\n",
      "  df_to_be_ready = df_to_be_ready.append(row)\n",
      "/home/jovyan/Thesis_ActLearn_DOP_2022/main/active_learning/functions.py:204: FutureWarning: The frame.append method is deprecated and will be removed from pandas in a future version. Use pandas.concat instead.\n",
      "  df_to_be_ready = df_to_be_ready.append(row)\n",
      "/home/jovyan/Thesis_ActLearn_DOP_2022/main/active_learning/functions.py:204: FutureWarning: The frame.append method is deprecated and will be removed from pandas in a future version. Use pandas.concat instead.\n",
      "  df_to_be_ready = df_to_be_ready.append(row)\n",
      "/home/jovyan/Thesis_ActLearn_DOP_2022/main/active_learning/functions.py:204: FutureWarning: The frame.append method is deprecated and will be removed from pandas in a future version. Use pandas.concat instead.\n",
      "  df_to_be_ready = df_to_be_ready.append(row)\n",
      "/home/jovyan/Thesis_ActLearn_DOP_2022/main/active_learning/functions.py:204: FutureWarning: The frame.append method is deprecated and will be removed from pandas in a future version. Use pandas.concat instead.\n",
      "  df_to_be_ready = df_to_be_ready.append(row)\n",
      "/home/jovyan/Thesis_ActLearn_DOP_2022/main/active_learning/functions.py:204: FutureWarning: The frame.append method is deprecated and will be removed from pandas in a future version. Use pandas.concat instead.\n",
      "  df_to_be_ready = df_to_be_ready.append(row)\n",
      "/home/jovyan/Thesis_ActLearn_DOP_2022/main/active_learning/functions.py:204: FutureWarning: The frame.append method is deprecated and will be removed from pandas in a future version. Use pandas.concat instead.\n",
      "  df_to_be_ready = df_to_be_ready.append(row)\n",
      "/home/jovyan/Thesis_ActLearn_DOP_2022/main/active_learning/functions.py:204: FutureWarning: The frame.append method is deprecated and will be removed from pandas in a future version. Use pandas.concat instead.\n",
      "  df_to_be_ready = df_to_be_ready.append(row)\n",
      "/home/jovyan/Thesis_ActLearn_DOP_2022/main/active_learning/functions.py:204: FutureWarning: The frame.append method is deprecated and will be removed from pandas in a future version. Use pandas.concat instead.\n",
      "  df_to_be_ready = df_to_be_ready.append(row)\n",
      "/home/jovyan/Thesis_ActLearn_DOP_2022/main/active_learning/functions.py:204: FutureWarning: The frame.append method is deprecated and will be removed from pandas in a future version. Use pandas.concat instead.\n",
      "  df_to_be_ready = df_to_be_ready.append(row)\n",
      "/home/jovyan/Thesis_ActLearn_DOP_2022/main/active_learning/functions.py:204: FutureWarning: The frame.append method is deprecated and will be removed from pandas in a future version. Use pandas.concat instead.\n",
      "  df_to_be_ready = df_to_be_ready.append(row)\n",
      "/home/jovyan/Thesis_ActLearn_DOP_2022/main/active_learning/functions.py:204: FutureWarning: The frame.append method is deprecated and will be removed from pandas in a future version. Use pandas.concat instead.\n",
      "  df_to_be_ready = df_to_be_ready.append(row)\n",
      "/home/jovyan/Thesis_ActLearn_DOP_2022/main/active_learning/functions.py:204: FutureWarning: The frame.append method is deprecated and will be removed from pandas in a future version. Use pandas.concat instead.\n",
      "  df_to_be_ready = df_to_be_ready.append(row)\n",
      "/home/jovyan/Thesis_ActLearn_DOP_2022/main/active_learning/functions.py:204: FutureWarning: The frame.append method is deprecated and will be removed from pandas in a future version. Use pandas.concat instead.\n",
      "  df_to_be_ready = df_to_be_ready.append(row)\n",
      "/home/jovyan/Thesis_ActLearn_DOP_2022/main/active_learning/functions.py:204: FutureWarning: The frame.append method is deprecated and will be removed from pandas in a future version. Use pandas.concat instead.\n",
      "  df_to_be_ready = df_to_be_ready.append(row)\n",
      "/home/jovyan/Thesis_ActLearn_DOP_2022/main/active_learning/functions.py:204: FutureWarning: The frame.append method is deprecated and will be removed from pandas in a future version. Use pandas.concat instead.\n",
      "  df_to_be_ready = df_to_be_ready.append(row)\n",
      "/home/jovyan/Thesis_ActLearn_DOP_2022/main/active_learning/functions.py:204: FutureWarning: The frame.append method is deprecated and will be removed from pandas in a future version. Use pandas.concat instead.\n",
      "  df_to_be_ready = df_to_be_ready.append(row)\n",
      "/home/jovyan/Thesis_ActLearn_DOP_2022/main/active_learning/functions.py:204: FutureWarning: The frame.append method is deprecated and will be removed from pandas in a future version. Use pandas.concat instead.\n",
      "  df_to_be_ready = df_to_be_ready.append(row)\n",
      "/home/jovyan/Thesis_ActLearn_DOP_2022/main/active_learning/functions.py:204: FutureWarning: The frame.append method is deprecated and will be removed from pandas in a future version. Use pandas.concat instead.\n",
      "  df_to_be_ready = df_to_be_ready.append(row)\n",
      "/home/jovyan/Thesis_ActLearn_DOP_2022/main/active_learning/functions.py:204: FutureWarning: The frame.append method is deprecated and will be removed from pandas in a future version. Use pandas.concat instead.\n",
      "  df_to_be_ready = df_to_be_ready.append(row)\n",
      "/home/jovyan/Thesis_ActLearn_DOP_2022/main/active_learning/functions.py:204: FutureWarning: The frame.append method is deprecated and will be removed from pandas in a future version. Use pandas.concat instead.\n",
      "  df_to_be_ready = df_to_be_ready.append(row)\n",
      "/home/jovyan/Thesis_ActLearn_DOP_2022/main/active_learning/functions.py:204: FutureWarning: The frame.append method is deprecated and will be removed from pandas in a future version. Use pandas.concat instead.\n",
      "  df_to_be_ready = df_to_be_ready.append(row)\n",
      "/home/jovyan/Thesis_ActLearn_DOP_2022/main/active_learning/functions.py:204: FutureWarning: The frame.append method is deprecated and will be removed from pandas in a future version. Use pandas.concat instead.\n",
      "  df_to_be_ready = df_to_be_ready.append(row)\n",
      "/home/jovyan/Thesis_ActLearn_DOP_2022/main/active_learning/functions.py:204: FutureWarning: The frame.append method is deprecated and will be removed from pandas in a future version. Use pandas.concat instead.\n",
      "  df_to_be_ready = df_to_be_ready.append(row)\n",
      "/home/jovyan/Thesis_ActLearn_DOP_2022/main/active_learning/functions.py:204: FutureWarning: The frame.append method is deprecated and will be removed from pandas in a future version. Use pandas.concat instead.\n",
      "  df_to_be_ready = df_to_be_ready.append(row)\n",
      "/home/jovyan/Thesis_ActLearn_DOP_2022/main/active_learning/functions.py:204: FutureWarning: The frame.append method is deprecated and will be removed from pandas in a future version. Use pandas.concat instead.\n",
      "  df_to_be_ready = df_to_be_ready.append(row)\n",
      "/home/jovyan/Thesis_ActLearn_DOP_2022/main/active_learning/functions.py:204: FutureWarning: The frame.append method is deprecated and will be removed from pandas in a future version. Use pandas.concat instead.\n",
      "  df_to_be_ready = df_to_be_ready.append(row)\n",
      "/home/jovyan/Thesis_ActLearn_DOP_2022/main/active_learning/functions.py:204: FutureWarning: The frame.append method is deprecated and will be removed from pandas in a future version. Use pandas.concat instead.\n",
      "  df_to_be_ready = df_to_be_ready.append(row)\n",
      "/home/jovyan/Thesis_ActLearn_DOP_2022/main/active_learning/functions.py:204: FutureWarning: The frame.append method is deprecated and will be removed from pandas in a future version. Use pandas.concat instead.\n",
      "  df_to_be_ready = df_to_be_ready.append(row)\n",
      "/home/jovyan/Thesis_ActLearn_DOP_2022/main/active_learning/functions.py:204: FutureWarning: The frame.append method is deprecated and will be removed from pandas in a future version. Use pandas.concat instead.\n",
      "  df_to_be_ready = df_to_be_ready.append(row)\n",
      "/home/jovyan/Thesis_ActLearn_DOP_2022/main/active_learning/functions.py:204: FutureWarning: The frame.append method is deprecated and will be removed from pandas in a future version. Use pandas.concat instead.\n",
      "  df_to_be_ready = df_to_be_ready.append(row)\n",
      "/home/jovyan/Thesis_ActLearn_DOP_2022/main/active_learning/functions.py:204: FutureWarning: The frame.append method is deprecated and will be removed from pandas in a future version. Use pandas.concat instead.\n",
      "  df_to_be_ready = df_to_be_ready.append(row)\n",
      "/home/jovyan/Thesis_ActLearn_DOP_2022/main/active_learning/functions.py:204: FutureWarning: The frame.append method is deprecated and will be removed from pandas in a future version. Use pandas.concat instead.\n",
      "  df_to_be_ready = df_to_be_ready.append(row)\n",
      "/home/jovyan/Thesis_ActLearn_DOP_2022/main/active_learning/functions.py:204: FutureWarning: The frame.append method is deprecated and will be removed from pandas in a future version. Use pandas.concat instead.\n",
      "  df_to_be_ready = df_to_be_ready.append(row)\n",
      "/home/jovyan/Thesis_ActLearn_DOP_2022/main/active_learning/functions.py:204: FutureWarning: The frame.append method is deprecated and will be removed from pandas in a future version. Use pandas.concat instead.\n",
      "  df_to_be_ready = df_to_be_ready.append(row)\n",
      "/home/jovyan/Thesis_ActLearn_DOP_2022/main/active_learning/functions.py:204: FutureWarning: The frame.append method is deprecated and will be removed from pandas in a future version. Use pandas.concat instead.\n",
      "  df_to_be_ready = df_to_be_ready.append(row)\n",
      "/home/jovyan/Thesis_ActLearn_DOP_2022/main/active_learning/functions.py:204: FutureWarning: The frame.append method is deprecated and will be removed from pandas in a future version. Use pandas.concat instead.\n",
      "  df_to_be_ready = df_to_be_ready.append(row)\n",
      "/home/jovyan/Thesis_ActLearn_DOP_2022/main/active_learning/functions.py:204: FutureWarning: The frame.append method is deprecated and will be removed from pandas in a future version. Use pandas.concat instead.\n",
      "  df_to_be_ready = df_to_be_ready.append(row)\n",
      "/home/jovyan/Thesis_ActLearn_DOP_2022/main/active_learning/functions.py:204: FutureWarning: The frame.append method is deprecated and will be removed from pandas in a future version. Use pandas.concat instead.\n",
      "  df_to_be_ready = df_to_be_ready.append(row)\n",
      "/home/jovyan/Thesis_ActLearn_DOP_2022/main/active_learning/functions.py:204: FutureWarning: The frame.append method is deprecated and will be removed from pandas in a future version. Use pandas.concat instead.\n",
      "  df_to_be_ready = df_to_be_ready.append(row)\n",
      "/home/jovyan/Thesis_ActLearn_DOP_2022/main/active_learning/functions.py:204: FutureWarning: The frame.append method is deprecated and will be removed from pandas in a future version. Use pandas.concat instead.\n",
      "  df_to_be_ready = df_to_be_ready.append(row)\n",
      "/home/jovyan/Thesis_ActLearn_DOP_2022/main/active_learning/functions.py:204: FutureWarning: The frame.append method is deprecated and will be removed from pandas in a future version. Use pandas.concat instead.\n",
      "  df_to_be_ready = df_to_be_ready.append(row)\n",
      "/home/jovyan/Thesis_ActLearn_DOP_2022/main/active_learning/functions.py:204: FutureWarning: The frame.append method is deprecated and will be removed from pandas in a future version. Use pandas.concat instead.\n",
      "  df_to_be_ready = df_to_be_ready.append(row)\n",
      "/home/jovyan/Thesis_ActLearn_DOP_2022/main/active_learning/functions.py:204: FutureWarning: The frame.append method is deprecated and will be removed from pandas in a future version. Use pandas.concat instead.\n",
      "  df_to_be_ready = df_to_be_ready.append(row)\n",
      "/home/jovyan/Thesis_ActLearn_DOP_2022/main/active_learning/functions.py:204: FutureWarning: The frame.append method is deprecated and will be removed from pandas in a future version. Use pandas.concat instead.\n",
      "  df_to_be_ready = df_to_be_ready.append(row)\n",
      "/home/jovyan/Thesis_ActLearn_DOP_2022/main/active_learning/functions.py:204: FutureWarning: The frame.append method is deprecated and will be removed from pandas in a future version. Use pandas.concat instead.\n",
      "  df_to_be_ready = df_to_be_ready.append(row)\n",
      "/home/jovyan/Thesis_ActLearn_DOP_2022/main/active_learning/functions.py:204: FutureWarning: The frame.append method is deprecated and will be removed from pandas in a future version. Use pandas.concat instead.\n",
      "  df_to_be_ready = df_to_be_ready.append(row)\n",
      "/home/jovyan/Thesis_ActLearn_DOP_2022/main/active_learning/functions.py:204: FutureWarning: The frame.append method is deprecated and will be removed from pandas in a future version. Use pandas.concat instead.\n",
      "  df_to_be_ready = df_to_be_ready.append(row)\n",
      "/home/jovyan/Thesis_ActLearn_DOP_2022/main/active_learning/functions.py:204: FutureWarning: The frame.append method is deprecated and will be removed from pandas in a future version. Use pandas.concat instead.\n",
      "  df_to_be_ready = df_to_be_ready.append(row)\n"
     ]
    },
    {
     "name": "stdout",
     "output_type": "stream",
     "text": [
      "Adding medians...\n",
      "There are 5176 rows in Covid Batch A\n",
      "\n"
     ]
    }
   ],
   "source": [
    "covid_batchA = fun.select_median_v2(experiments = experiments_df, df_to_be_ready = covid_batchA_unique, repeated_compounds = repeated_compounds)\n",
    "print(f\"Adding medians...\\nThere are {len(covid_batchA)} rows in Covid Batch A\\n\")"
   ]
  },
  {
   "cell_type": "markdown",
   "metadata": {},
   "source": [
    "\n",
    "Now, all the compounds in SPECS must also be in COVID to obtain the label when training. Let's proceed to compare and clean"
   ]
  },
  {
   "cell_type": "code",
   "execution_count": 10,
   "metadata": {},
   "outputs": [],
   "source": [
    "#Adding labels to the classification problem. 1 is non-infected (MITO smaller that 0.0062) and 0 is infected. \n",
    "covid_batchA= fun.labelling(covid_batchA, len(covid_batchA.columns), label_positive = 1, label_negative = 0, threshold = 0.0062)#<-------------Change the threshold here\n",
    "covid_batchA.rename(columns = {'CompoundID':'ID_covid'}, inplace = True)"
   ]
  },
  {
   "cell_type": "code",
   "execution_count": 11,
   "metadata": {},
   "outputs": [
    {
     "name": "stdout",
     "output_type": "stream",
     "text": [
      "There are 14 compounds not founded in COVID\n",
      "   Index in library       Name\n",
      "0              1025  CBK041952\n",
      "1              1257  CBK200552\n"
     ]
    }
   ],
   "source": [
    "#Comparing compopunds sss vs specs\n",
    "comparision_specs_vs_sss = fun.library_to_experiment(covid_batchA,specs)\n",
    "print(comparision_specs_vs_sss.head(2))"
   ]
  },
  {
   "cell_type": "code",
   "execution_count": 12,
   "metadata": {},
   "outputs": [
    {
     "name": "stdout",
     "output_type": "stream",
     "text": [
      "SPECS has 5186 rows\n",
      "SPECS has 5172 rows now\n"
     ]
    }
   ],
   "source": [
    "name_list = comparision_specs_vs_sss['Name'].tolist()\n",
    "print(f'SPECS has {len(specs)} rows')\n",
    "for compound in name_list:\n",
    "    specs = specs.drop(specs.loc[specs['ID_library'] == compound].index.tolist())\n",
    "print(f'SPECS has {len(specs)} rows now')"
   ]
  },
  {
   "cell_type": "code",
   "execution_count": 13,
   "metadata": {},
   "outputs": [],
   "source": [
    "file_namn_specs = r'/home/jovyan/covid-data/SPECS_ready_POLINA.csv'\n",
    "#specs.to_csv(file_namn_specs, sep=',', encoding='utf-8',index=False)\n",
    "file_namn_sss = r'/home/jovyan/covid-data/COVID_BatchA_ready_POLINA.csv'\n",
    "#covid_batchA.to_csv(file_namn_sss, sep=',', encoding='utf-8',index=False)"
   ]
  },
  {
   "cell_type": "code",
   "execution_count": 14,
   "metadata": {},
   "outputs": [
    {
     "name": "stdout",
     "output_type": "stream",
     "text": [
      "FINAL FILES READY\n"
     ]
    }
   ],
   "source": [
    "print('FINAL FILES READY')"
   ]
  },
  {
   "cell_type": "code",
   "execution_count": null,
   "metadata": {},
   "outputs": [],
   "source": []
  }
 ],
 "metadata": {
  "kernelspec": {
   "display_name": "Python 3",
   "language": "python",
   "name": "python3"
  },
  "language_info": {
   "codemirror_mode": {
    "name": "ipython",
    "version": 3
   },
   "file_extension": ".py",
   "mimetype": "text/x-python",
   "name": "python",
   "nbconvert_exporter": "python",
   "pygments_lexer": "ipython3",
   "version": "3.8.10"
  }
 },
 "nbformat": 4,
 "nbformat_minor": 4
}
