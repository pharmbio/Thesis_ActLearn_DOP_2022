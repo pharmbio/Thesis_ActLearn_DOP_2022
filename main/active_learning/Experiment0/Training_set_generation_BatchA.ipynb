{
 "cells": [
  {
   "cell_type": "code",
   "execution_count": 1,
   "metadata": {},
   "outputs": [],
   "source": [
    "%load_ext autoreload\n",
    "%autoreload 2\n",
    "\n",
    "from pandas import read_excel\n",
    "import csv\n",
    "import pandas as pd\n",
    "import numpy as np\n",
    "import matplotlib.pyplot as plt\n",
    "import matplotlib as mpl\n",
    "import seaborn as sns\n",
    "import random\n",
    "import timeit\n",
    "\n",
    "from sklearn.model_selection import cross_val_score, KFold, train_test_split\n",
    "from sklearn.metrics import confusion_matrix, mean_squared_error\n",
    "from sklearn.decomposition import PCA\n",
    "from sklearn.neighbors import KNeighborsClassifier\n",
    "from modAL.models import ActiveLearner\n",
    "from sklearn.linear_model import LinearRegression, Ridge, Lasso\n",
    "from sklearn.cross_decomposition import PLSRegression\n",
    "\n",
    "import rdkit\n",
    "from rdkit import Chem\n",
    "from rdkit.Chem import AllChem,DataStructs,Draw,PandasTools,Descriptors\n",
    "from rdkit.Chem.MolStandardize import rdMolStandardize\n",
    "from rdkit.Chem.Draw import IPythonConsole\n",
    "from rdkit import RDLogger\n",
    "\n",
    "from IPython.display import Image\n",
    "\n",
    "# Configure the logging - RDKit is rather verbose..\n",
    "lg = RDLogger.logger()\n",
    "lg.setLevel(RDLogger.CRITICAL)\n",
    "# Set the molecule representation to be SVG \n",
    "PandasTools.molRepresentation='svg'\n",
    "# Loading and standardization method for SMILES -> RDKit molecule object\n",
    "uncharger = rdMolStandardize.Uncharger()\n",
    "\n",
    "\n",
    "# Loading and standardization method for SMILES -> RDKit molecule object\n",
    "uncharger = rdMolStandardize.Uncharger()\n",
    "\n",
    "import sys\n",
    "sys.path.insert(0, '/home/jovyan/Thesis_ActLearn_DOP_2022/main/active_learning/')\n",
    "import functions as fun"
   ]
  },
  {
   "cell_type": "code",
   "execution_count": 8,
   "metadata": {},
   "outputs": [],
   "source": [
    "import rdkit\n",
    "from rdkit import Chem\n",
    "from rdkit.Chem import AllChem,DataStructs,Draw,PandasTools,Descriptors\n",
    "from rdkit.Chem.MolStandardize import rdMolStandardize\n",
    "from rdkit.Chem.Draw import IPythonConsole\n",
    "from rdkit import RDLogger\n",
    "\n",
    "from IPython.display import Image\n",
    "\n",
    "# Configure the logging - RDKit is rather verbose..\n",
    "lg = RDLogger.logger()\n",
    "lg.setLevel(RDLogger.CRITICAL)\n",
    "# Set the molecule representation to be SVG \n",
    "PandasTools.molRepresentation='svg'\n",
    "# Loading and standardization method for SMILES -> RDKit molecule object\n",
    "uncharger = rdMolStandardize.Uncharger()\n",
    "\n",
    "\n",
    "# Loading and standardization method for SMILES -> RDKit molecule object\n",
    "uncharger = rdMolStandardize.Uncharger()"
   ]
  },
  {
   "cell_type": "code",
   "execution_count": 2,
   "metadata": {},
   "outputs": [
    {
     "data": {
      "text/html": [
       "<div>\n",
       "<style scoped>\n",
       "    .dataframe tbody tr th:only-of-type {\n",
       "        vertical-align: middle;\n",
       "    }\n",
       "\n",
       "    .dataframe tbody tr th {\n",
       "        vertical-align: top;\n",
       "    }\n",
       "\n",
       "    .dataframe thead th {\n",
       "        text-align: right;\n",
       "    }\n",
       "</style>\n",
       "<table border=\"1\" class=\"dataframe\">\n",
       "  <thead>\n",
       "    <tr style=\"text-align: right;\">\n",
       "      <th></th>\n",
       "      <th>ID_library</th>\n",
       "      <th>smiles</th>\n",
       "      <th>Intensity_MeanIntensity_illumMITO_cells.1</th>\n",
       "      <th>Labels</th>\n",
       "    </tr>\n",
       "  </thead>\n",
       "  <tbody>\n",
       "    <tr>\n",
       "      <th>0</th>\n",
       "      <td>CBK000155</td>\n",
       "      <td>C[C@H](Cc1ccc(OCC([O-])=O)cc1)NC[C@H](O)c1cccc...</td>\n",
       "      <td>0.010426</td>\n",
       "      <td>0</td>\n",
       "    </tr>\n",
       "    <tr>\n",
       "      <th>1</th>\n",
       "      <td>CBK000156</td>\n",
       "      <td>CC(C)(C)NCC(O)COc1cccc2[nH]c(=O)[nH]c12</td>\n",
       "      <td>0.009417</td>\n",
       "      <td>0</td>\n",
       "    </tr>\n",
       "    <tr>\n",
       "      <th>2</th>\n",
       "      <td>CBK000161</td>\n",
       "      <td>[H][C@@](CC)(NC(C)C)[C@]([H])(O)c1ccc(O)c2[nH]...</td>\n",
       "      <td>0.008106</td>\n",
       "      <td>0</td>\n",
       "    </tr>\n",
       "    <tr>\n",
       "      <th>3</th>\n",
       "      <td>CBK000162</td>\n",
       "      <td>CC(C)N[C@@H](C)[C@@H](O)COc1ccc(C)c2CCCc12</td>\n",
       "      <td>0.010586</td>\n",
       "      <td>0</td>\n",
       "    </tr>\n",
       "    <tr>\n",
       "      <th>4</th>\n",
       "      <td>CBK000164</td>\n",
       "      <td>CC(C)NCC(O)COc1ccc(COCCOC(C)C)cc1</td>\n",
       "      <td>0.010333</td>\n",
       "      <td>0</td>\n",
       "    </tr>\n",
       "  </tbody>\n",
       "</table>\n",
       "</div>"
      ],
      "text/plain": [
       "  ID_library                                             smiles  \\\n",
       "0  CBK000155  C[C@H](Cc1ccc(OCC([O-])=O)cc1)NC[C@H](O)c1cccc...   \n",
       "1  CBK000156            CC(C)(C)NCC(O)COc1cccc2[nH]c(=O)[nH]c12   \n",
       "2  CBK000161  [H][C@@](CC)(NC(C)C)[C@]([H])(O)c1ccc(O)c2[nH]...   \n",
       "3  CBK000162         CC(C)N[C@@H](C)[C@@H](O)COc1ccc(C)c2CCCc12   \n",
       "4  CBK000164                  CC(C)NCC(O)COc1ccc(COCCOC(C)C)cc1   \n",
       "\n",
       "   Intensity_MeanIntensity_illumMITO_cells.1  Labels  \n",
       "0                                   0.010426       0  \n",
       "1                                   0.009417       0  \n",
       "2                                   0.008106       0  \n",
       "3                                   0.010586       0  \n",
       "4                                   0.010333       0  "
      ]
     },
     "execution_count": 2,
     "metadata": {},
     "output_type": "execute_result"
    }
   ],
   "source": [
    "# Loading data sets\n",
    "specs = pd.read_csv('/home/jovyan/covid-data/SPECS_ready_POLINA.csv')\n",
    "sss_batchA = pd.read_csv('/home/jovyan/covid-data/COVID_BatchA_ready_POLINA.csv')\n",
    "\n",
    "#Creating final dataset\n",
    "data = pd.merge(specs[['ID_library', 'smiles']], sss_batchA[['ID_covid', 'Intensity_MeanIntensity_illumMITO_cells.1','Labels']], \n",
    "                left_on= 'ID_library', right_on='ID_covid', how='left')\n",
    "data = data.drop(['ID_covid'],axis=1)\n",
    "data.head() "
   ]
  },
  {
   "cell_type": "code",
   "execution_count": 3,
   "metadata": {},
   "outputs": [
    {
     "data": {
      "text/html": [
       "<div>\n",
       "<style scoped>\n",
       "    .dataframe tbody tr th:only-of-type {\n",
       "        vertical-align: middle;\n",
       "    }\n",
       "\n",
       "    .dataframe tbody tr th {\n",
       "        vertical-align: top;\n",
       "    }\n",
       "\n",
       "    .dataframe thead th {\n",
       "        text-align: right;\n",
       "    }\n",
       "</style>\n",
       "<table border=\"1\" class=\"dataframe\">\n",
       "  <thead>\n",
       "    <tr style=\"text-align: right;\">\n",
       "      <th></th>\n",
       "      <th>ID_library</th>\n",
       "      <th>smiles</th>\n",
       "      <th>Intensity_MeanIntensity_illumMITO_cells.1</th>\n",
       "    </tr>\n",
       "    <tr>\n",
       "      <th>Labels</th>\n",
       "      <th></th>\n",
       "      <th></th>\n",
       "      <th></th>\n",
       "    </tr>\n",
       "  </thead>\n",
       "  <tbody>\n",
       "    <tr>\n",
       "      <th>0</th>\n",
       "      <td>5121</td>\n",
       "      <td>5121</td>\n",
       "      <td>5121</td>\n",
       "    </tr>\n",
       "    <tr>\n",
       "      <th>1</th>\n",
       "      <td>51</td>\n",
       "      <td>51</td>\n",
       "      <td>51</td>\n",
       "    </tr>\n",
       "  </tbody>\n",
       "</table>\n",
       "</div>"
      ],
      "text/plain": [
       "        ID_library  smiles  Intensity_MeanIntensity_illumMITO_cells.1\n",
       "Labels                                                               \n",
       "0             5121    5121                                       5121\n",
       "1               51      51                                         51"
      ]
     },
     "execution_count": 3,
     "metadata": {},
     "output_type": "execute_result"
    }
   ],
   "source": [
    "data.groupby('Labels').count()"
   ]
  },
  {
   "cell_type": "code",
   "execution_count": 4,
   "metadata": {},
   "outputs": [
    {
     "data": {
      "text/html": [
       "<div>\n",
       "<style scoped>\n",
       "    .dataframe tbody tr th:only-of-type {\n",
       "        vertical-align: middle;\n",
       "    }\n",
       "\n",
       "    .dataframe tbody tr th {\n",
       "        vertical-align: top;\n",
       "    }\n",
       "\n",
       "    .dataframe thead th {\n",
       "        text-align: right;\n",
       "    }\n",
       "</style>\n",
       "<table border=\"1\" class=\"dataframe\">\n",
       "  <thead>\n",
       "    <tr style=\"text-align: right;\">\n",
       "      <th></th>\n",
       "      <th>ID_library</th>\n",
       "      <th>smiles</th>\n",
       "      <th>Intensity_MeanIntensity_illumMITO_cells.1</th>\n",
       "      <th>Labels</th>\n",
       "      <th>MOL</th>\n",
       "    </tr>\n",
       "  </thead>\n",
       "  <tbody>\n",
       "    <tr>\n",
       "      <th>5164</th>\n",
       "      <td>CBK310016</td>\n",
       "      <td>Cc1nc2c(c(Cl)c(Cl)cc2n1Cc1ccc(cc1)B12OC(=O)CN1...</td>\n",
       "      <td>0.009946</td>\n",
       "      <td>0</td>\n",
       "      <td>None</td>\n",
       "    </tr>\n",
       "  </tbody>\n",
       "</table>\n",
       "</div>"
      ],
      "text/plain": [
       "     ID_library                                             smiles  \\\n",
       "5164  CBK310016  Cc1nc2c(c(Cl)c(Cl)cc2n1Cc1ccc(cc1)B12OC(=O)CN1...   \n",
       "\n",
       "      Intensity_MeanIntensity_illumMITO_cells.1  Labels   MOL  \n",
       "5164                                   0.009946       0  None  "
      ]
     },
     "execution_count": 4,
     "metadata": {},
     "output_type": "execute_result"
    }
   ],
   "source": [
    "# First we need to parse the SMILES and create RDKit 'molecule' objects \n",
    "# the 'standardize' function was the one we defined in the first cell with code in this file\n",
    "data['MOL'] = data['smiles'].apply(fun.standardize)\n",
    "data.head()\n",
    "\n",
    "### There is a problem with some of the smiles as they return none when trying to convert to molecule. \n",
    "### The next step is to fix those cases which may be a product of a typo. \n",
    "\n",
    "# Looking for None values\n",
    "corrupted_smiles_idx_list = data[data['MOL'].isnull()].index.tolist() #finding None values\n",
    "data[data['MOL'].isnull()].head(5)"
   ]
  },
  {
   "cell_type": "code",
   "execution_count": 5,
   "metadata": {},
   "outputs": [
    {
     "name": "stdout",
     "output_type": "stream",
     "text": [
      "There are 5171 rows in data\n"
     ]
    }
   ],
   "source": [
    "data = data.drop([5164])\n",
    "print(f\"There are {len(data)} rows in data\")"
   ]
  },
  {
   "cell_type": "code",
   "execution_count": 6,
   "metadata": {},
   "outputs": [
    {
     "data": {
      "text/html": [
       "<div>\n",
       "<style scoped>\n",
       "    .dataframe tbody tr th:only-of-type {\n",
       "        vertical-align: middle;\n",
       "    }\n",
       "\n",
       "    .dataframe tbody tr th {\n",
       "        vertical-align: top;\n",
       "    }\n",
       "\n",
       "    .dataframe thead th {\n",
       "        text-align: right;\n",
       "    }\n",
       "</style>\n",
       "<table border=\"1\" class=\"dataframe\">\n",
       "  <thead>\n",
       "    <tr style=\"text-align: right;\">\n",
       "      <th></th>\n",
       "      <th>ID_library</th>\n",
       "      <th>smiles</th>\n",
       "      <th>Intensity_MeanIntensity_illumMITO_cells.1</th>\n",
       "      <th>Labels</th>\n",
       "      <th>MOL</th>\n",
       "    </tr>\n",
       "  </thead>\n",
       "  <tbody>\n",
       "  </tbody>\n",
       "</table>\n",
       "</div>"
      ],
      "text/plain": [
       "Empty DataFrame\n",
       "Columns: [ID_library, smiles, Intensity_MeanIntensity_illumMITO_cells.1, Labels, MOL]\n",
       "Index: []"
      ]
     },
     "execution_count": 6,
     "metadata": {},
     "output_type": "execute_result"
    }
   ],
   "source": [
    "data[data['MOL'].isnull()]"
   ]
  },
  {
   "cell_type": "code",
   "execution_count": 7,
   "metadata": {},
   "outputs": [
    {
     "data": {
      "text/html": [
       "<div>\n",
       "<style scoped>\n",
       "    .dataframe tbody tr th:only-of-type {\n",
       "        vertical-align: middle;\n",
       "    }\n",
       "\n",
       "    .dataframe tbody tr th {\n",
       "        vertical-align: top;\n",
       "    }\n",
       "\n",
       "    .dataframe thead th {\n",
       "        text-align: right;\n",
       "    }\n",
       "</style>\n",
       "<table border=\"1\" class=\"dataframe\">\n",
       "  <thead>\n",
       "    <tr style=\"text-align: right;\">\n",
       "      <th></th>\n",
       "      <th>ID_library</th>\n",
       "      <th>smiles</th>\n",
       "      <th>Intensity_MeanIntensity_illumMITO_cells.1</th>\n",
       "      <th>Labels</th>\n",
       "      <th>MOL</th>\n",
       "    </tr>\n",
       "  </thead>\n",
       "  <tbody>\n",
       "    <tr>\n",
       "      <th>0</th>\n",
       "      <td>CBK000155</td>\n",
       "      <td>C[C@H](Cc1ccc(OCC([O-])=O)cc1)NC[C@H](O)c1cccc...</td>\n",
       "      <td>0.010426</td>\n",
       "      <td>0</td>\n",
       "      <td>&lt;svg xmlns=\"http://www.w3.org/2000/svg\" xmlns:...</td>\n",
       "    </tr>\n",
       "    <tr>\n",
       "      <th>1</th>\n",
       "      <td>CBK000156</td>\n",
       "      <td>CC(C)(C)NCC(O)COc1cccc2[nH]c(=O)[nH]c12</td>\n",
       "      <td>0.009417</td>\n",
       "      <td>0</td>\n",
       "      <td>&lt;svg xmlns=\"http://www.w3.org/2000/svg\" xmlns:...</td>\n",
       "    </tr>\n",
       "    <tr>\n",
       "      <th>2</th>\n",
       "      <td>CBK000161</td>\n",
       "      <td>[H][C@@](CC)(NC(C)C)[C@]([H])(O)c1ccc(O)c2[nH]...</td>\n",
       "      <td>0.008106</td>\n",
       "      <td>0</td>\n",
       "      <td>&lt;svg xmlns=\"http://www.w3.org/2000/svg\" xmlns:...</td>\n",
       "    </tr>\n",
       "    <tr>\n",
       "      <th>3</th>\n",
       "      <td>CBK000162</td>\n",
       "      <td>CC(C)N[C@@H](C)[C@@H](O)COc1ccc(C)c2CCCc12</td>\n",
       "      <td>0.010586</td>\n",
       "      <td>0</td>\n",
       "      <td>&lt;svg xmlns=\"http://www.w3.org/2000/svg\" xmlns:...</td>\n",
       "    </tr>\n",
       "    <tr>\n",
       "      <th>4</th>\n",
       "      <td>CBK000164</td>\n",
       "      <td>CC(C)NCC(O)COc1ccc(COCCOC(C)C)cc1</td>\n",
       "      <td>0.010333</td>\n",
       "      <td>0</td>\n",
       "      <td>&lt;svg xmlns=\"http://www.w3.org/2000/svg\" xmlns:...</td>\n",
       "    </tr>\n",
       "  </tbody>\n",
       "</table>\n",
       "</div>"
      ],
      "text/plain": [
       "  ID_library                                             smiles  \\\n",
       "0  CBK000155  C[C@H](Cc1ccc(OCC([O-])=O)cc1)NC[C@H](O)c1cccc...   \n",
       "1  CBK000156            CC(C)(C)NCC(O)COc1cccc2[nH]c(=O)[nH]c12   \n",
       "2  CBK000161  [H][C@@](CC)(NC(C)C)[C@]([H])(O)c1ccc(O)c2[nH]...   \n",
       "3  CBK000162         CC(C)N[C@@H](C)[C@@H](O)COc1ccc(C)c2CCCc12   \n",
       "4  CBK000164                  CC(C)NCC(O)COc1ccc(COCCOC(C)C)cc1   \n",
       "\n",
       "   Intensity_MeanIntensity_illumMITO_cells.1  Labels  \\\n",
       "0                                   0.010426       0   \n",
       "1                                   0.009417       0   \n",
       "2                                   0.008106       0   \n",
       "3                                   0.010586       0   \n",
       "4                                   0.010333       0   \n",
       "\n",
       "                                                 MOL  \n",
       "0  <svg xmlns=\"http://www.w3.org/2000/svg\" xmlns:...  \n",
       "1  <svg xmlns=\"http://www.w3.org/2000/svg\" xmlns:...  \n",
       "2  <svg xmlns=\"http://www.w3.org/2000/svg\" xmlns:...  \n",
       "3  <svg xmlns=\"http://www.w3.org/2000/svg\" xmlns:...  \n",
       "4  <svg xmlns=\"http://www.w3.org/2000/svg\" xmlns:...  "
      ]
     },
     "execution_count": 7,
     "metadata": {},
     "output_type": "execute_result"
    }
   ],
   "source": [
    "data = data.drop(['MOL'],axis=1)\n",
    "\n",
    "#Creating molecue objects again\n",
    "data['MOL'] = data['smiles'].apply(fun.standardize)\n",
    "data.head()"
   ]
  },
  {
   "cell_type": "code",
   "execution_count": 9,
   "metadata": {},
   "outputs": [
    {
     "name": "stdout",
     "output_type": "stream",
     "text": [
      "Fragments: 1\n"
     ]
    }
   ],
   "source": [
    "# Check if any of the SMILES contain multiple fragments - \n",
    "# this can sometimes cause issues when computing descriptors\n",
    "data['FRAGS'] =  data['MOL'].apply(lambda mol: len(Chem.GetMolFrags(mol,asMols=True)))\n",
    "print(\"Fragments: {0}\".format(data['FRAGS'].nunique()))"
   ]
  },
  {
   "cell_type": "code",
   "execution_count": 31,
   "metadata": {},
   "outputs": [
    {
     "name": "stdout",
     "output_type": "stream",
     "text": [
      "Radio: 3. Number of unique vectors:5143\n",
      "Radio: 4. Number of unique vectors:5144\n",
      "Radio: 5. Number of unique vectors:5146\n",
      "Radio: 6. Number of unique vectors:5149\n",
      "Radio: 7. Number of unique vectors:5149\n",
      "Radio: 8. Number of unique vectors:5150\n",
      "Radio: 9. Number of unique vectors:5151\n",
      "Radio: 10. Number of unique vectors:5152\n",
      "Radio: 11. Number of unique vectors:5153\n",
      "Radio: 12. Number of unique vectors:5153\n",
      "Radio: 13. Number of unique vectors:5153\n",
      "Radio: 14. Number of unique vectors:5153\n",
      "Radio: 15. Number of unique vectors:5153\n"
     ]
    }
   ],
   "source": [
    "for radio in np.arange(3,16,1):\n",
    "    morgan_radius = int(radio)\n",
    "    morgan_n_bits = 2048\n",
    "    # Feature creation\n",
    "    X_morgan, _, y = fun.feature_creation(morgan_radius, morgan_n_bits, fp_n_bits, data)\n",
    "    full_data_BatchA = pd.DataFrame(X_morgan)\n",
    "    full_data_BatchA['Label'] = y\n",
    "    print('Radio: {}. Number of unique vectors:{}'.format(radio,len(full_data_BatchA.value_counts())))"
   ]
  },
  {
   "cell_type": "code",
   "execution_count": 12,
   "metadata": {},
   "outputs": [
    {
     "name": "stdout",
     "output_type": "stream",
     "text": [
      "Number of unique vectors:5143\n"
     ]
    }
   ],
   "source": [
    "# Parameters for features\n",
    "morgan_radius = 3\n",
    "morgan_n_bits = 2048\n",
    "fp_n_bits = 2048\n",
    "\n",
    "# Feature creation\n",
    "X_morgan, _, y = fun.feature_creation(morgan_radius, morgan_n_bits, fp_n_bits, data)\n",
    "\n",
    "full_data_BatchA_mgn = pd.DataFrame(X_morgan)\n",
    "full_data_BatchA_mgn['Label'] = y\n",
    "print('Number of unique vectors:{}'.format(len(full_data_BatchA_mgn.value_counts())))"
   ]
  },
  {
   "cell_type": "code",
   "execution_count": 21,
   "metadata": {},
   "outputs": [
    {
     "name": "stdout",
     "output_type": "stream",
     "text": [
      "Number of repeated row whos label is 0: \n",
      "50\n"
     ]
    }
   ],
   "source": [
    "print('Number of repeated row whos label is 0: \\n{}'.format((full_data_BatchA_mgn[full_data_BatchA_mgn.duplicated(keep=False)]['Label']==0).count()))"
   ]
  },
  {
   "cell_type": "code",
   "execution_count": 31,
   "metadata": {},
   "outputs": [
    {
     "name": "stdout",
     "output_type": "stream",
     "text": [
      "full_data_BatchA_mgn has 5143 rows of which 5143 are unique\n"
     ]
    }
   ],
   "source": [
    "full_data_BatchA_mgn=full_data_BatchA_mgn.drop_duplicates(keep='first')\n",
    "print('full_data_BatchA_mgn has {} rows of which {} are unique'.format(len(full_data_BatchA_mgn),len(full_data_BatchA_mgn.value_counts())))"
   ]
  },
  {
   "cell_type": "markdown",
   "metadata": {},
   "source": [
    "So, given that all labels are 0 we can just keep one of the repetitions to keep everything unique"
   ]
  },
  {
   "cell_type": "code",
   "execution_count": 33,
   "metadata": {},
   "outputs": [],
   "source": [
    "name = r'/home/jovyan/Thesis_ActLearn_DOP_2022/main/active_learning/data/full_data_BatchA.csv'\n",
    "full_data_BatchA_mgn.to_csv(name, sep=',', encoding='utf-8',index=False)"
   ]
  }
 ],
 "metadata": {
  "kernelspec": {
   "display_name": "Python 3",
   "language": "python",
   "name": "python3"
  },
  "language_info": {
   "codemirror_mode": {
    "name": "ipython",
    "version": 3
   },
   "file_extension": ".py",
   "mimetype": "text/x-python",
   "name": "python",
   "nbconvert_exporter": "python",
   "pygments_lexer": "ipython3",
   "version": "3.8.10"
  }
 },
 "nbformat": 4,
 "nbformat_minor": 4
}
