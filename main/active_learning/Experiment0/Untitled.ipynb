{
 "cells": [
  {
   "cell_type": "code",
   "execution_count": 1,
   "metadata": {},
   "outputs": [],
   "source": [
    "%load_ext autoreload\n",
    "%autoreload 2\n",
    "\n",
    "from pandas import read_excel\n",
    "import csv\n",
    "import pandas as pd\n",
    "import numpy as np\n",
    "import matplotlib.pyplot as plt\n",
    "import matplotlib as mpl\n",
    "import seaborn as sns\n",
    "import random\n",
    "import timeit\n",
    "\n",
    "from sklearn.model_selection import cross_val_score, KFold, train_test_split, StratifiedKFold\n",
    "from sklearn.metrics import confusion_matrix, mean_squared_error, classification_report, f1_score, mean_squared_log_error, recall_score, accuracy_score\n",
    "from sklearn.decomposition import PCA\n",
    "from sklearn.neighbors import KNeighborsClassifier\n",
    "from sklearn.linear_model import LinearRegression, Ridge, Lasso, LogisticRegression\n",
    "from sklearn.ensemble import RandomForestClassifier, AdaBoostClassifier, RandomForestRegressor, AdaBoostRegressor, BaggingRegressor\n",
    "from sklearn import svm, tree    #https://scikit-learn.org/stable/modules/svm.html\n",
    "                                 #https://scikit-learn.org/stable/modules/generated/sklearn.tree.DecisionTreeClassifier.html\n",
    "from sklearn.cluster import KMeans\n",
    "from sklearn.tree import DecisionTreeClassifier, DecisionTreeRegressor\n",
    "from sklearn.preprocessing import MinMaxScaler, StandardScaler\n",
    "\n",
    "import rdkit\n",
    "from rdkit import Chem\n",
    "from rdkit.Chem import AllChem,DataStructs,Draw,PandasTools,Descriptors\n",
    "from rdkit.Chem.MolStandardize import rdMolStandardize\n",
    "from rdkit.Chem.Draw import IPythonConsole\n",
    "from rdkit import RDLogger\n",
    "\n",
    "from IPython.display import Image\n",
    "\n",
    "# Configure the logging - RDKit is rather verbose..\n",
    "lg = RDLogger.logger()\n",
    "lg.setLevel(RDLogger.CRITICAL)\n",
    "# Set the molecule representation to be SVG \n",
    "PandasTools.molRepresentation='svg'\n",
    "# Loading and standardization method for SMILES -> RDKit molecule object\n",
    "uncharger = rdMolStandardize.Uncharger()\n",
    "\n",
    "\n",
    "# Loading and standardization method for SMILES -> RDKit molecule object\n",
    "uncharger = rdMolStandardize.Uncharger()\n",
    "\n",
    "import sys\n",
    "sys.path.insert(0, '/home/jovyan/Thesis_ActLearn_DOP_2022/main/active_learning/')\n",
    "import functions as fun"
   ]
  },
  {
   "cell_type": "code",
   "execution_count": 2,
   "metadata": {},
   "outputs": [
    {
     "data": {
      "text/html": [
       "<div>\n",
       "<style scoped>\n",
       "    .dataframe tbody tr th:only-of-type {\n",
       "        vertical-align: middle;\n",
       "    }\n",
       "\n",
       "    .dataframe tbody tr th {\n",
       "        vertical-align: top;\n",
       "    }\n",
       "\n",
       "    .dataframe thead th {\n",
       "        text-align: right;\n",
       "    }\n",
       "</style>\n",
       "<table border=\"1\" class=\"dataframe\">\n",
       "  <thead>\n",
       "    <tr style=\"text-align: right;\">\n",
       "      <th></th>\n",
       "      <th>ID_library</th>\n",
       "      <th>smiles</th>\n",
       "      <th>Intensity_MeanIntensity_illumMITO_cells.1</th>\n",
       "      <th>Labels</th>\n",
       "    </tr>\n",
       "  </thead>\n",
       "  <tbody>\n",
       "    <tr>\n",
       "      <th>0</th>\n",
       "      <td>CBK000155</td>\n",
       "      <td>C[C@H](Cc1ccc(OCC([O-])=O)cc1)NC[C@H](O)c1cccc...</td>\n",
       "      <td>0.010426</td>\n",
       "      <td>0</td>\n",
       "    </tr>\n",
       "    <tr>\n",
       "      <th>1</th>\n",
       "      <td>CBK000156</td>\n",
       "      <td>CC(C)(C)NCC(O)COc1cccc2[nH]c(=O)[nH]c12</td>\n",
       "      <td>0.009417</td>\n",
       "      <td>0</td>\n",
       "    </tr>\n",
       "    <tr>\n",
       "      <th>2</th>\n",
       "      <td>CBK000161</td>\n",
       "      <td>[H][C@@](CC)(NC(C)C)[C@]([H])(O)c1ccc(O)c2[nH]...</td>\n",
       "      <td>0.008106</td>\n",
       "      <td>0</td>\n",
       "    </tr>\n",
       "    <tr>\n",
       "      <th>3</th>\n",
       "      <td>CBK000162</td>\n",
       "      <td>CC(C)N[C@@H](C)[C@@H](O)COc1ccc(C)c2CCCc12</td>\n",
       "      <td>0.010586</td>\n",
       "      <td>0</td>\n",
       "    </tr>\n",
       "    <tr>\n",
       "      <th>4</th>\n",
       "      <td>CBK000164</td>\n",
       "      <td>CC(C)NCC(O)COc1ccc(COCCOC(C)C)cc1</td>\n",
       "      <td>0.010333</td>\n",
       "      <td>0</td>\n",
       "    </tr>\n",
       "  </tbody>\n",
       "</table>\n",
       "</div>"
      ],
      "text/plain": [
       "  ID_library                                             smiles  \\\n",
       "0  CBK000155  C[C@H](Cc1ccc(OCC([O-])=O)cc1)NC[C@H](O)c1cccc...   \n",
       "1  CBK000156            CC(C)(C)NCC(O)COc1cccc2[nH]c(=O)[nH]c12   \n",
       "2  CBK000161  [H][C@@](CC)(NC(C)C)[C@]([H])(O)c1ccc(O)c2[nH]...   \n",
       "3  CBK000162         CC(C)N[C@@H](C)[C@@H](O)COc1ccc(C)c2CCCc12   \n",
       "4  CBK000164                  CC(C)NCC(O)COc1ccc(COCCOC(C)C)cc1   \n",
       "\n",
       "   Intensity_MeanIntensity_illumMITO_cells.1  Labels  \n",
       "0                                   0.010426       0  \n",
       "1                                   0.009417       0  \n",
       "2                                   0.008106       0  \n",
       "3                                   0.010586       0  \n",
       "4                                   0.010333       0  "
      ]
     },
     "execution_count": 2,
     "metadata": {},
     "output_type": "execute_result"
    }
   ],
   "source": [
    "# Loading data sets\n",
    "specs = pd.read_csv('/home/jovyan/covid-data/SPECS_ready_POLINA.csv')\n",
    "sss_batchA = pd.read_csv('/home/jovyan/covid-data/COVID_BatchA_ready_POLINA.csv')\n",
    "\n",
    "#Creating final dataset\n",
    "data = pd.merge(specs[['ID_library', 'smiles']], sss_batchA[['ID_covid', 'Intensity_MeanIntensity_illumMITO_cells.1','Labels']], \n",
    "                left_on= 'ID_library', right_on='ID_covid', how='left')\n",
    "data = data.drop(['ID_covid'],axis=1)\n",
    "data.head() "
   ]
  },
  {
   "cell_type": "code",
   "execution_count": 3,
   "metadata": {},
   "outputs": [
    {
     "data": {
      "text/html": [
       "<div>\n",
       "<style scoped>\n",
       "    .dataframe tbody tr th:only-of-type {\n",
       "        vertical-align: middle;\n",
       "    }\n",
       "\n",
       "    .dataframe tbody tr th {\n",
       "        vertical-align: top;\n",
       "    }\n",
       "\n",
       "    .dataframe thead th {\n",
       "        text-align: right;\n",
       "    }\n",
       "</style>\n",
       "<table border=\"1\" class=\"dataframe\">\n",
       "  <thead>\n",
       "    <tr style=\"text-align: right;\">\n",
       "      <th></th>\n",
       "      <th>ID_library</th>\n",
       "      <th>smiles</th>\n",
       "      <th>Intensity_MeanIntensity_illumMITO_cells.1</th>\n",
       "    </tr>\n",
       "    <tr>\n",
       "      <th>Labels</th>\n",
       "      <th></th>\n",
       "      <th></th>\n",
       "      <th></th>\n",
       "    </tr>\n",
       "  </thead>\n",
       "  <tbody>\n",
       "    <tr>\n",
       "      <th>0</th>\n",
       "      <td>5121</td>\n",
       "      <td>5121</td>\n",
       "      <td>5121</td>\n",
       "    </tr>\n",
       "    <tr>\n",
       "      <th>1</th>\n",
       "      <td>51</td>\n",
       "      <td>51</td>\n",
       "      <td>51</td>\n",
       "    </tr>\n",
       "  </tbody>\n",
       "</table>\n",
       "</div>"
      ],
      "text/plain": [
       "        ID_library  smiles  Intensity_MeanIntensity_illumMITO_cells.1\n",
       "Labels                                                               \n",
       "0             5121    5121                                       5121\n",
       "1               51      51                                         51"
      ]
     },
     "execution_count": 3,
     "metadata": {},
     "output_type": "execute_result"
    }
   ],
   "source": [
    "data.groupby('Labels').count()"
   ]
  },
  {
   "cell_type": "code",
   "execution_count": 4,
   "metadata": {},
   "outputs": [
    {
     "data": {
      "text/html": [
       "<div>\n",
       "<style scoped>\n",
       "    .dataframe tbody tr th:only-of-type {\n",
       "        vertical-align: middle;\n",
       "    }\n",
       "\n",
       "    .dataframe tbody tr th {\n",
       "        vertical-align: top;\n",
       "    }\n",
       "\n",
       "    .dataframe thead th {\n",
       "        text-align: right;\n",
       "    }\n",
       "</style>\n",
       "<table border=\"1\" class=\"dataframe\">\n",
       "  <thead>\n",
       "    <tr style=\"text-align: right;\">\n",
       "      <th></th>\n",
       "      <th>ID_library</th>\n",
       "      <th>smiles</th>\n",
       "      <th>Intensity_MeanIntensity_illumMITO_cells.1</th>\n",
       "      <th>Labels</th>\n",
       "      <th>MOL</th>\n",
       "    </tr>\n",
       "  </thead>\n",
       "  <tbody>\n",
       "    <tr>\n",
       "      <th>5164</th>\n",
       "      <td>CBK310016</td>\n",
       "      <td>Cc1nc2c(c(Cl)c(Cl)cc2n1Cc1ccc(cc1)B12OC(=O)CN1...</td>\n",
       "      <td>0.009946</td>\n",
       "      <td>0</td>\n",
       "      <td>None</td>\n",
       "    </tr>\n",
       "  </tbody>\n",
       "</table>\n",
       "</div>"
      ],
      "text/plain": [
       "     ID_library                                             smiles  \\\n",
       "5164  CBK310016  Cc1nc2c(c(Cl)c(Cl)cc2n1Cc1ccc(cc1)B12OC(=O)CN1...   \n",
       "\n",
       "      Intensity_MeanIntensity_illumMITO_cells.1  Labels   MOL  \n",
       "5164                                   0.009946       0  None  "
      ]
     },
     "execution_count": 4,
     "metadata": {},
     "output_type": "execute_result"
    }
   ],
   "source": [
    "# First we need to parse the SMILES and create RDKit 'molecule' objects \n",
    "# the 'standardize' function was the one we defined in the first cell with code in this file\n",
    "data['MOL'] = data['smiles'].apply(fun.standardize)\n",
    "data.head()\n",
    "\n",
    "### There is a problem with some of the smiles as they return none when trying to convert to molecule. \n",
    "### The next step is to fix those cases which may be a product of a typo. \n",
    "\n",
    "# Looking for None values\n",
    "corrupted_smiles_idx_list = data[data['MOL'].isnull()].index.tolist() #finding None values\n",
    "data[data['MOL'].isnull()].head(5)"
   ]
  },
  {
   "cell_type": "code",
   "execution_count": 5,
   "metadata": {},
   "outputs": [
    {
     "name": "stdout",
     "output_type": "stream",
     "text": [
      "There are 5171 rows in data\n"
     ]
    }
   ],
   "source": [
    "data = data.drop([5164])\n",
    "print(f\"There are {len(data)} rows in data\")"
   ]
  },
  {
   "cell_type": "code",
   "execution_count": 6,
   "metadata": {},
   "outputs": [
    {
     "data": {
      "text/html": [
       "<div>\n",
       "<style scoped>\n",
       "    .dataframe tbody tr th:only-of-type {\n",
       "        vertical-align: middle;\n",
       "    }\n",
       "\n",
       "    .dataframe tbody tr th {\n",
       "        vertical-align: top;\n",
       "    }\n",
       "\n",
       "    .dataframe thead th {\n",
       "        text-align: right;\n",
       "    }\n",
       "</style>\n",
       "<table border=\"1\" class=\"dataframe\">\n",
       "  <thead>\n",
       "    <tr style=\"text-align: right;\">\n",
       "      <th></th>\n",
       "      <th>ID_library</th>\n",
       "      <th>smiles</th>\n",
       "      <th>Intensity_MeanIntensity_illumMITO_cells.1</th>\n",
       "      <th>Labels</th>\n",
       "      <th>MOL</th>\n",
       "    </tr>\n",
       "  </thead>\n",
       "  <tbody>\n",
       "  </tbody>\n",
       "</table>\n",
       "</div>"
      ],
      "text/plain": [
       "Empty DataFrame\n",
       "Columns: [ID_library, smiles, Intensity_MeanIntensity_illumMITO_cells.1, Labels, MOL]\n",
       "Index: []"
      ]
     },
     "execution_count": 6,
     "metadata": {},
     "output_type": "execute_result"
    }
   ],
   "source": [
    "data[data['MOL'].isnull()]"
   ]
  },
  {
   "cell_type": "markdown",
   "metadata": {},
   "source": [
    "### We can go back to reality "
   ]
  },
  {
   "cell_type": "code",
   "execution_count": 7,
   "metadata": {},
   "outputs": [
    {
     "data": {
      "text/html": [
       "<div>\n",
       "<style scoped>\n",
       "    .dataframe tbody tr th:only-of-type {\n",
       "        vertical-align: middle;\n",
       "    }\n",
       "\n",
       "    .dataframe tbody tr th {\n",
       "        vertical-align: top;\n",
       "    }\n",
       "\n",
       "    .dataframe thead th {\n",
       "        text-align: right;\n",
       "    }\n",
       "</style>\n",
       "<table border=\"1\" class=\"dataframe\">\n",
       "  <thead>\n",
       "    <tr style=\"text-align: right;\">\n",
       "      <th></th>\n",
       "      <th>ID_library</th>\n",
       "      <th>smiles</th>\n",
       "      <th>Intensity_MeanIntensity_illumMITO_cells.1</th>\n",
       "      <th>Labels</th>\n",
       "      <th>MOL</th>\n",
       "    </tr>\n",
       "  </thead>\n",
       "  <tbody>\n",
       "    <tr>\n",
       "      <th>0</th>\n",
       "      <td>CBK000155</td>\n",
       "      <td>C[C@H](Cc1ccc(OCC([O-])=O)cc1)NC[C@H](O)c1cccc...</td>\n",
       "      <td>0.010426</td>\n",
       "      <td>0</td>\n",
       "      <td>&lt;svg xmlns=\"http://www.w3.org/2000/svg\" xmlns:...</td>\n",
       "    </tr>\n",
       "    <tr>\n",
       "      <th>1</th>\n",
       "      <td>CBK000156</td>\n",
       "      <td>CC(C)(C)NCC(O)COc1cccc2[nH]c(=O)[nH]c12</td>\n",
       "      <td>0.009417</td>\n",
       "      <td>0</td>\n",
       "      <td>&lt;svg xmlns=\"http://www.w3.org/2000/svg\" xmlns:...</td>\n",
       "    </tr>\n",
       "    <tr>\n",
       "      <th>2</th>\n",
       "      <td>CBK000161</td>\n",
       "      <td>[H][C@@](CC)(NC(C)C)[C@]([H])(O)c1ccc(O)c2[nH]...</td>\n",
       "      <td>0.008106</td>\n",
       "      <td>0</td>\n",
       "      <td>&lt;svg xmlns=\"http://www.w3.org/2000/svg\" xmlns:...</td>\n",
       "    </tr>\n",
       "    <tr>\n",
       "      <th>3</th>\n",
       "      <td>CBK000162</td>\n",
       "      <td>CC(C)N[C@@H](C)[C@@H](O)COc1ccc(C)c2CCCc12</td>\n",
       "      <td>0.010586</td>\n",
       "      <td>0</td>\n",
       "      <td>&lt;svg xmlns=\"http://www.w3.org/2000/svg\" xmlns:...</td>\n",
       "    </tr>\n",
       "    <tr>\n",
       "      <th>4</th>\n",
       "      <td>CBK000164</td>\n",
       "      <td>CC(C)NCC(O)COc1ccc(COCCOC(C)C)cc1</td>\n",
       "      <td>0.010333</td>\n",
       "      <td>0</td>\n",
       "      <td>&lt;svg xmlns=\"http://www.w3.org/2000/svg\" xmlns:...</td>\n",
       "    </tr>\n",
       "  </tbody>\n",
       "</table>\n",
       "</div>"
      ],
      "text/plain": [
       "  ID_library                                             smiles  \\\n",
       "0  CBK000155  C[C@H](Cc1ccc(OCC([O-])=O)cc1)NC[C@H](O)c1cccc...   \n",
       "1  CBK000156            CC(C)(C)NCC(O)COc1cccc2[nH]c(=O)[nH]c12   \n",
       "2  CBK000161  [H][C@@](CC)(NC(C)C)[C@]([H])(O)c1ccc(O)c2[nH]...   \n",
       "3  CBK000162         CC(C)N[C@@H](C)[C@@H](O)COc1ccc(C)c2CCCc12   \n",
       "4  CBK000164                  CC(C)NCC(O)COc1ccc(COCCOC(C)C)cc1   \n",
       "\n",
       "   Intensity_MeanIntensity_illumMITO_cells.1  Labels  \\\n",
       "0                                   0.010426       0   \n",
       "1                                   0.009417       0   \n",
       "2                                   0.008106       0   \n",
       "3                                   0.010586       0   \n",
       "4                                   0.010333       0   \n",
       "\n",
       "                                                 MOL  \n",
       "0  <svg xmlns=\"http://www.w3.org/2000/svg\" xmlns:...  \n",
       "1  <svg xmlns=\"http://www.w3.org/2000/svg\" xmlns:...  \n",
       "2  <svg xmlns=\"http://www.w3.org/2000/svg\" xmlns:...  \n",
       "3  <svg xmlns=\"http://www.w3.org/2000/svg\" xmlns:...  \n",
       "4  <svg xmlns=\"http://www.w3.org/2000/svg\" xmlns:...  "
      ]
     },
     "execution_count": 7,
     "metadata": {},
     "output_type": "execute_result"
    }
   ],
   "source": [
    "data = data.drop(['MOL'],axis=1)\n",
    "\n",
    "#Creating molecue objects again\n",
    "data['MOL'] = data['smiles'].apply(fun.standardize)\n",
    "data.head()"
   ]
  },
  {
   "cell_type": "code",
   "execution_count": 8,
   "metadata": {},
   "outputs": [
    {
     "name": "stdout",
     "output_type": "stream",
     "text": [
      "Fragments: 1\n"
     ]
    }
   ],
   "source": [
    "# Check if any of the SMILES contain multiple fragments - \n",
    "# this can sometimes cause issues when computing descriptors\n",
    "data['FRAGS'] =  data['MOL'].apply(lambda mol: len(Chem.GetMolFrags(mol,asMols=True)))\n",
    "print(\"Fragments: {0}\".format(data['FRAGS'].nunique()))"
   ]
  },
  {
   "cell_type": "code",
   "execution_count": 9,
   "metadata": {},
   "outputs": [
    {
     "data": {
      "image/png": "[encoded data removed]",
      "text/plain": [
       "<IPython.core.display.Image object>"
      ]
     },
     "execution_count": 9,
     "metadata": {},
     "output_type": "execute_result"
    }
   ],
   "source": [
    "# Compute the descriptors that we're interested in\n",
    "data['LOGP'] = data['MOL'].apply(lambda mol: Descriptors.MolLogP(mol))\n",
    "data['HAC'] = data['MOL'].apply(lambda mol: Descriptors.HeavyAtomCount(mol))\n",
    "\n",
    "# Plot\n",
    "#plt.figure(figsize=(8,6))\n",
    "#data.plot.scatter(x='LOGP', y='HAC')\n",
    "#plt.show()\n",
    "PandasTools.FrameToGridImage(data[5:8], column='MOL', legendsCol='ID_library', molsPerRow=3, subImgSize=(300, 300))"
   ]
  },
  {
   "cell_type": "code",
   "execution_count": 10,
   "metadata": {},
   "outputs": [
    {
     "data": {
      "text/html": [
       "<div>\n",
       "<style scoped>\n",
       "    .dataframe tbody tr th:only-of-type {\n",
       "        vertical-align: middle;\n",
       "    }\n",
       "\n",
       "    .dataframe tbody tr th {\n",
       "        vertical-align: top;\n",
       "    }\n",
       "\n",
       "    .dataframe thead th {\n",
       "        text-align: right;\n",
       "    }\n",
       "</style>\n",
       "<table border=\"1\" class=\"dataframe\">\n",
       "  <thead>\n",
       "    <tr style=\"text-align: right;\">\n",
       "      <th></th>\n",
       "      <th>ID_library</th>\n",
       "      <th>smiles</th>\n",
       "      <th>Intensity_MeanIntensity_illumMITO_cells.1</th>\n",
       "      <th>Labels</th>\n",
       "      <th>MOL</th>\n",
       "      <th>FRAGS</th>\n",
       "      <th>LOGP</th>\n",
       "      <th>HAC</th>\n",
       "    </tr>\n",
       "  </thead>\n",
       "  <tbody>\n",
       "    <tr>\n",
       "      <th>0</th>\n",
       "      <td>CBK000155</td>\n",
       "      <td>C[C@H](Cc1ccc(OCC([O-])=O)cc1)NC[C@H](O)c1cccc...</td>\n",
       "      <td>0.010426</td>\n",
       "      <td>0</td>\n",
       "      <td>&lt;svg xmlns=\"http://www.w3.org/2000/svg\" xmlns:...</td>\n",
       "      <td>1</td>\n",
       "      <td>3.05760</td>\n",
       "      <td>25</td>\n",
       "    </tr>\n",
       "    <tr>\n",
       "      <th>1</th>\n",
       "      <td>CBK000156</td>\n",
       "      <td>CC(C)(C)NCC(O)COc1cccc2[nH]c(=O)[nH]c12</td>\n",
       "      <td>0.009417</td>\n",
       "      <td>0</td>\n",
       "      <td>&lt;svg xmlns=\"http://www.w3.org/2000/svg\" xmlns:...</td>\n",
       "      <td>1</td>\n",
       "      <td>0.98400</td>\n",
       "      <td>20</td>\n",
       "    </tr>\n",
       "    <tr>\n",
       "      <th>2</th>\n",
       "      <td>CBK000161</td>\n",
       "      <td>[H][C@@](CC)(NC(C)C)[C@]([H])(O)c1ccc(O)c2[nH]...</td>\n",
       "      <td>0.008106</td>\n",
       "      <td>0</td>\n",
       "      <td>&lt;svg xmlns=\"http://www.w3.org/2000/svg\" xmlns:...</td>\n",
       "      <td>1</td>\n",
       "      <td>2.04370</td>\n",
       "      <td>21</td>\n",
       "    </tr>\n",
       "    <tr>\n",
       "      <th>3</th>\n",
       "      <td>CBK000162</td>\n",
       "      <td>CC(C)N[C@@H](C)[C@@H](O)COc1ccc(C)c2CCCc12</td>\n",
       "      <td>0.010586</td>\n",
       "      <td>0</td>\n",
       "      <td>&lt;svg xmlns=\"http://www.w3.org/2000/svg\" xmlns:...</td>\n",
       "      <td>1</td>\n",
       "      <td>2.60992</td>\n",
       "      <td>20</td>\n",
       "    </tr>\n",
       "    <tr>\n",
       "      <th>4</th>\n",
       "      <td>CBK000164</td>\n",
       "      <td>CC(C)NCC(O)COc1ccc(COCCOC(C)C)cc1</td>\n",
       "      <td>0.010333</td>\n",
       "      <td>0</td>\n",
       "      <td>&lt;svg xmlns=\"http://www.w3.org/2000/svg\" xmlns:...</td>\n",
       "      <td>1</td>\n",
       "      <td>2.36590</td>\n",
       "      <td>23</td>\n",
       "    </tr>\n",
       "    <tr>\n",
       "      <th>...</th>\n",
       "      <td>...</td>\n",
       "      <td>...</td>\n",
       "      <td>...</td>\n",
       "      <td>...</td>\n",
       "      <td>...</td>\n",
       "      <td>...</td>\n",
       "      <td>...</td>\n",
       "      <td>...</td>\n",
       "    </tr>\n",
       "    <tr>\n",
       "      <th>5167</th>\n",
       "      <td>CBK310019</td>\n",
       "      <td>Cn1c2nc(N3CCNCC3)n(Cc3nnc(o3)-c3ccc(Cl)c(Cl)c3...</td>\n",
       "      <td>0.009855</td>\n",
       "      <td>0</td>\n",
       "      <td>&lt;svg xmlns=\"http://www.w3.org/2000/svg\" xmlns:...</td>\n",
       "      <td>1</td>\n",
       "      <td>1.24840</td>\n",
       "      <td>33</td>\n",
       "    </tr>\n",
       "    <tr>\n",
       "      <th>5168</th>\n",
       "      <td>CBK310020</td>\n",
       "      <td>Brc1cccc2n(C3CCN(CC3)C(=O)Nc3ccc(I)cc3)c(=O)[n...</td>\n",
       "      <td>0.007715</td>\n",
       "      <td>0</td>\n",
       "      <td>&lt;svg xmlns=\"http://www.w3.org/2000/svg\" xmlns:...</td>\n",
       "      <td>1</td>\n",
       "      <td>4.56570</td>\n",
       "      <td>27</td>\n",
       "    </tr>\n",
       "    <tr>\n",
       "      <th>5169</th>\n",
       "      <td>CBK310021</td>\n",
       "      <td>CCOC(=O)c1cnn(c1)-c1cccc2n(C3CCN(CC3)C(=O)Nc3c...</td>\n",
       "      <td>0.010263</td>\n",
       "      <td>0</td>\n",
       "      <td>&lt;svg xmlns=\"http://www.w3.org/2000/svg\" xmlns:...</td>\n",
       "      <td>1</td>\n",
       "      <td>4.16560</td>\n",
       "      <td>36</td>\n",
       "    </tr>\n",
       "    <tr>\n",
       "      <th>5170</th>\n",
       "      <td>CBK310022</td>\n",
       "      <td>COc1ncc(NC(=O)[C@H]2CC[C@H](CC2)n2c3cccc(N(C)C...</td>\n",
       "      <td>0.008265</td>\n",
       "      <td>0</td>\n",
       "      <td>&lt;svg xmlns=\"http://www.w3.org/2000/svg\" xmlns:...</td>\n",
       "      <td>1</td>\n",
       "      <td>3.47762</td>\n",
       "      <td>31</td>\n",
       "    </tr>\n",
       "    <tr>\n",
       "      <th>5171</th>\n",
       "      <td>CBK012918</td>\n",
       "      <td>Clc1cncc(OC(=O)c2ccco2)c1</td>\n",
       "      <td>0.009381</td>\n",
       "      <td>0</td>\n",
       "      <td>&lt;svg xmlns=\"http://www.w3.org/2000/svg\" xmlns:...</td>\n",
       "      <td>1</td>\n",
       "      <td>2.54720</td>\n",
       "      <td>15</td>\n",
       "    </tr>\n",
       "  </tbody>\n",
       "</table>\n",
       "<p>5171 rows × 8 columns</p>\n",
       "</div>"
      ],
      "text/plain": [
       "     ID_library                                             smiles  \\\n",
       "0     CBK000155  C[C@H](Cc1ccc(OCC([O-])=O)cc1)NC[C@H](O)c1cccc...   \n",
       "1     CBK000156            CC(C)(C)NCC(O)COc1cccc2[nH]c(=O)[nH]c12   \n",
       "2     CBK000161  [H][C@@](CC)(NC(C)C)[C@]([H])(O)c1ccc(O)c2[nH]...   \n",
       "3     CBK000162         CC(C)N[C@@H](C)[C@@H](O)COc1ccc(C)c2CCCc12   \n",
       "4     CBK000164                  CC(C)NCC(O)COc1ccc(COCCOC(C)C)cc1   \n",
       "...         ...                                                ...   \n",
       "5167  CBK310019  Cn1c2nc(N3CCNCC3)n(Cc3nnc(o3)-c3ccc(Cl)c(Cl)c3...   \n",
       "5168  CBK310020  Brc1cccc2n(C3CCN(CC3)C(=O)Nc3ccc(I)cc3)c(=O)[n...   \n",
       "5169  CBK310021  CCOC(=O)c1cnn(c1)-c1cccc2n(C3CCN(CC3)C(=O)Nc3c...   \n",
       "5170  CBK310022  COc1ncc(NC(=O)[C@H]2CC[C@H](CC2)n2c3cccc(N(C)C...   \n",
       "5171  CBK012918                          Clc1cncc(OC(=O)c2ccco2)c1   \n",
       "\n",
       "      Intensity_MeanIntensity_illumMITO_cells.1  Labels  \\\n",
       "0                                      0.010426       0   \n",
       "1                                      0.009417       0   \n",
       "2                                      0.008106       0   \n",
       "3                                      0.010586       0   \n",
       "4                                      0.010333       0   \n",
       "...                                         ...     ...   \n",
       "5167                                   0.009855       0   \n",
       "5168                                   0.007715       0   \n",
       "5169                                   0.010263       0   \n",
       "5170                                   0.008265       0   \n",
       "5171                                   0.009381       0   \n",
       "\n",
       "                                                    MOL  FRAGS     LOGP  HAC  \n",
       "0     <svg xmlns=\"http://www.w3.org/2000/svg\" xmlns:...      1  3.05760   25  \n",
       "1     <svg xmlns=\"http://www.w3.org/2000/svg\" xmlns:...      1  0.98400   20  \n",
       "2     <svg xmlns=\"http://www.w3.org/2000/svg\" xmlns:...      1  2.04370   21  \n",
       "3     <svg xmlns=\"http://www.w3.org/2000/svg\" xmlns:...      1  2.60992   20  \n",
       "4     <svg xmlns=\"http://www.w3.org/2000/svg\" xmlns:...      1  2.36590   23  \n",
       "...                                                 ...    ...      ...  ...  \n",
       "5167  <svg xmlns=\"http://www.w3.org/2000/svg\" xmlns:...      1  1.24840   33  \n",
       "5168  <svg xmlns=\"http://www.w3.org/2000/svg\" xmlns:...      1  4.56570   27  \n",
       "5169  <svg xmlns=\"http://www.w3.org/2000/svg\" xmlns:...      1  4.16560   36  \n",
       "5170  <svg xmlns=\"http://www.w3.org/2000/svg\" xmlns:...      1  3.47762   31  \n",
       "5171  <svg xmlns=\"http://www.w3.org/2000/svg\" xmlns:...      1  2.54720   15  \n",
       "\n",
       "[5171 rows x 8 columns]"
      ]
     },
     "execution_count": 10,
     "metadata": {},
     "output_type": "execute_result"
    }
   ],
   "source": [
    "data"
   ]
  },
  {
   "cell_type": "code",
   "execution_count": 11,
   "metadata": {},
   "outputs": [],
   "source": [
    "file_namn = r'/home/jovyan/covid-data/BatchA_for_training.csv'\n",
    "#data.to_csv(file_namn, sep=',', encoding='utf-8',index=False)"
   ]
  },
  {
   "cell_type": "markdown",
   "metadata": {},
   "source": [
    "### Training starts!"
   ]
  },
  {
   "cell_type": "markdown",
   "metadata": {},
   "source": [
    "Parameters and Sets initialization"
   ]
  },
  {
   "cell_type": "code",
   "execution_count": 12,
   "metadata": {},
   "outputs": [],
   "source": [
    "# Parameters for features\n",
    "morgan_radius = 2\n",
    "morgan_n_bits = 1024\n",
    "fp_n_bits = 2048\n",
    "\n",
    "# Feature creation\n",
    "X_morgan, X_rdkit, y = fun.feature_creation(morgan_radius, morgan_n_bits, fp_n_bits, data, labels=True)"
   ]
  },
  {
   "cell_type": "code",
   "execution_count": 13,
   "metadata": {},
   "outputs": [
    {
     "data": {
      "text/plain": [
       "array([[0, 1, 0, ..., 0, 0, 0],\n",
       "       [0, 1, 0, ..., 0, 0, 0],\n",
       "       [0, 1, 0, ..., 0, 0, 0],\n",
       "       ...,\n",
       "       [0, 0, 0, ..., 0, 1, 0],\n",
       "       [0, 0, 0, ..., 0, 1, 0],\n",
       "       [0, 0, 0, ..., 0, 0, 0]])"
      ]
     },
     "execution_count": 13,
     "metadata": {},
     "output_type": "execute_result"
    }
   ],
   "source": [
    "X_morgan"
   ]
  },
  {
   "cell_type": "code",
   "execution_count": 14,
   "metadata": {},
   "outputs": [
    {
     "data": {
      "text/plain": [
       "array([0, 0, 0, ..., 0, 0, 0])"
      ]
     },
     "execution_count": 14,
     "metadata": {},
     "output_type": "execute_result"
    }
   ],
   "source": [
    "y"
   ]
  },
  {
   "cell_type": "markdown",
   "metadata": {},
   "source": [
    "## Training without active learning"
   ]
  },
  {
   "cell_type": "code",
   "execution_count": 16,
   "metadata": {},
   "outputs": [],
   "source": [
    "# Parameters for ML model\n",
    "train_size = 0.3\n",
    "test_size = 0.3\n",
    "n_neighbours = 3\n",
    "\n",
    "# Models\n",
    "knn = KNeighborsClassifier(n_neighbors = n_neighbours)\n",
    "lrg = LogisticRegression(random_state=0)\n",
    "rf = RandomForestClassifier(max_depth=3, random_state=0)\n",
    "svmm = svm.SVC(random_state=0)\n",
    "ada_clf = AdaBoostClassifier(random_state=0) #DecisionTreeClassifier initialized with max_depth=1 and 50 trees\n",
    "\n",
    "# Data\n",
    "X_train, X_test, y_train, y_test = train_test_split(X_morgan, y, test_size=0.2, random_state=6752)"
   ]
  },
  {
   "cell_type": "code",
   "execution_count": 26,
   "metadata": {},
   "outputs": [
    {
     "name": "stdout",
     "output_type": "stream",
     "text": [
      "The f1-score for model KNeighborsClassifier(n_neighbors=3) is 0.0 and the accuracy is 0.9942028985507246\n",
      "The f1-score for model LogisticRegression(random_state=0) is 0.25 and the accuracy is 0.9942028985507246\n",
      "The f1-score for model RandomForestClassifier(max_depth=3, random_state=0) is 0.0 and the accuracy is 0.9942028985507246\n",
      "The f1-score for model SVC(random_state=0) is 0.0 and the accuracy is 0.9942028985507246\n",
      "The f1-score for model AdaBoostClassifier(random_state=0) is 0.0 and the accuracy is 0.9893719806763285\n"
     ]
    }
   ],
   "source": [
    "fscores, accs, cf_mat = [], [], []\n",
    "models = [knn, lrg, rf, svmm, ada_clf]\n",
    "for model in models:    \n",
    "    model.fit(X_train,y_train)\n",
    "    y_pred = model.predict(X_test)\n",
    "    acc =  accuracy_score(y_test,y_pred)\n",
    "    f1sc = f1_score(y_test,y_pred)\n",
    "    fscores.append(f1sc)\n",
    "    accs.append(acc)\n",
    "    cf_mat.append(confusion_matrix(y_test, y_pred))\n",
    "    print(f\"The f1-score for model {model} is {f1sc} and the accuracy is {acc}\")"
   ]
  },
  {
   "cell_type": "code",
   "execution_count": 45,
   "metadata": {},
   "outputs": [
    {
     "data": {
      "image/png": "[encoded data removed]",
      "text/plain": [
       "<Figure size 900x500 with 1 Axes>"
      ]
     },
     "metadata": {},
     "output_type": "display_data"
    }
   ],
   "source": [
    "fig, ax = plt.subplots(1, 1, figsize=(9,5))\n",
    "ax.scatter(np.arange(len(accs)),accs, marker = 'o', s=35, color=[.937, .275, .282],linewidth=0.8)\n",
    "ax.scatter(np.arange(len(fscores)),fscores, marker = 'D', s=35, color=[.345, .157, .255],linewidth=0.8)\n",
    "\n",
    "ax.set_ylabel('F1-score / Accuracy', color=\"black\", fontsize=16)   \n",
    "ax.set_xlabel('Default models', color=\"black\", fontsize=16)\n",
    "ax.legend(['Accuracy','F1-score'])\n",
    "\n",
    "plt.show()"
   ]
  }
 ],
 "metadata": {
  "kernelspec": {
   "display_name": "Python 3",
   "language": "python",
   "name": "python3"
  },
  "language_info": {
   "codemirror_mode": {
    "name": "ipython",
    "version": 3
   },
   "file_extension": ".py",
   "mimetype": "text/x-python",
   "name": "python",
   "nbconvert_exporter": "python",
   "pygments_lexer": "ipython3",
   "version": "3.8.10"
  }
 },
 "nbformat": 4,
 "nbformat_minor": 4
}
