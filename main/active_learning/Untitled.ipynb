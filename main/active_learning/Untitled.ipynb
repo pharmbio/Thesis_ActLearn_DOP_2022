{
 "cells": [
  {
   "cell_type": "code",
   "execution_count": 1,
   "metadata": {},
   "outputs": [],
   "source": [
    "%load_ext autoreload\n",
    "%autoreload 2\n",
    "\n",
    "from pandas import read_excel\n",
    "import csv\n",
    "import pandas as pd\n",
    "import numpy as np\n",
    "import matplotlib.pyplot as plt\n",
    "import matplotlib as mpl\n",
    "import seaborn as sns\n",
    "import random\n",
    "import timeit\n",
    "import pickle\n",
    "\n",
    "from sklearn.model_selection import cross_val_score, KFold, train_test_split\n",
    "from sklearn.metrics import confusion_matrix, mean_squared_error, classification_report, f1_score\n",
    "from sklearn.decomposition import PCA\n",
    "from sklearn.neighbors import KNeighborsClassifier\n",
    "from sklearn.linear_model import LinearRegression, Ridge, Lasso, LogisticRegression\n",
    "from sklearn.ensemble import RandomForestClassifier, AdaBoostClassifier\n",
    "from sklearn import svm, tree    #https://scikit-learn.org/stable/modules/svm.html\n",
    "                                 #https://scikit-learn.org/stable/modules/generated/sklearn.tree.DecisionTreeClassifier.html\n",
    "from sklearn.cluster import KMeans\n",
    "from sklearn.tree import DecisionTreeClassifier\n",
    "\n",
    "from modAL.models import ActiveLearner             #https://modal-python.readthedocs.io/en/latest/content/models/ActiveLearner.html\n",
    "from modAL.uncertainty import entropy_sampling     #https://modal-python.readthedocs.io/en/latest/content/apireference/uncertainty.html\n",
    "from modAL.disagreement import vote_entropy_sampling\n",
    "\n",
    "from imblearn.over_sampling import SMOTEN\n",
    "from imblearn.under_sampling import EditedNearestNeighbours, ClusterCentroids, RandomUnderSampler \n",
    "\n",
    "from collections import Counter\n",
    "\n",
    "import sys\n",
    "sys.path.insert(0, '/home/jovyan/Thesis_ActLearn_DOP_2022/main/active_learning/')\n",
    "import functions as fun"
   ]
  },
  {
   "cell_type": "code",
   "execution_count": 2,
   "metadata": {},
   "outputs": [],
   "source": [
    "# Loading data sets\n",
    "full_data_BatchA = pd.read_csv('/home/jovyan/Thesis_ActLearn_DOP_2022/main/active_learning/data/full_data_BatchA.csv')\n",
    "y = full_data_BatchA['Label'].to_numpy()\n",
    "X_morgan = full_data_BatchA.drop(['Label'], axis = 1).to_numpy()"
   ]
  },
  {
   "cell_type": "code",
   "execution_count": 3,
   "metadata": {},
   "outputs": [
    {
     "name": "stdout",
     "output_type": "stream",
     "text": [
      "Initial class count in Batch A:\n",
      " Counter({0: 5120, 1: 51})\n"
     ]
    }
   ],
   "source": [
    "print(f'Initial class count in Batch A:\\n {Counter(y)}')"
   ]
  },
  {
   "cell_type": "code",
   "execution_count": 5,
   "metadata": {},
   "outputs": [
    {
     "name": "stdout",
     "output_type": "stream",
     "text": [
      "Class count in TRAIN: Counter({0: 4095, 1: 41})\n",
      "Class count in TEST: Counter({0: 1025, 1: 10})\n"
     ]
    }
   ],
   "source": [
    "# Split proportionally\n",
    "X_train, X_test, y_train, y_test = train_test_split(X_morgan, y, test_size=0.2, stratify=y, random_state=6752)\n",
    "print(f'Class count in TRAIN: {Counter(y_train)}')\n",
    "print(f'Class count in TEST: {Counter(y_test)}')"
   ]
  },
  {
   "cell_type": "markdown",
   "metadata": {},
   "source": [
    "Example of combining random oversampling and undersampling for imbalanced data"
   ]
  },
  {
   "cell_type": "code",
   "execution_count": null,
   "metadata": {},
   "outputs": [],
   "source": [
    "print(f'Initial class count in TRAIN: {Counter(y_train)}')\n",
    "# define oversampling strategy 1\\10, 409/\n",
    "over_sampler = SMOTEN(sampling_strategy = 0.1, n_jobs= -1, random_state=0)\n",
    "# fit and apply the transform\n",
    "x_train_over, y_train_over = over_sampler.fit_resample(X_train, y_train)\n",
    "# summarize class distribution\n",
    "print(f'Class count in TRAIN after over-sampling: {Counter(y_train_over)}')"
   ]
  },
  {
   "cell_type": "code",
   "execution_count": null,
   "metadata": {},
   "outputs": [],
   "source": [
    "x_train_over[0]"
   ]
  },
  {
   "cell_type": "code",
   "execution_count": null,
   "metadata": {},
   "outputs": [],
   "source": [
    "# define undersampling strategy\n",
    "under_sampler = RandomUnderSampler(sampling_strategy = 0.9 ,random_state=42)\n",
    "# fit and apply the transform\n",
    "x_train_under, y_train_under = under_sampler.fit_resample(x_train_over, y_train_over)\n",
    "# summarize class distribution\n",
    "print(f'Class count in TRAIN after under-sampling: {Counter(y_train_under)}')"
   ]
  },
  {
   "cell_type": "code",
   "execution_count": null,
   "metadata": {},
   "outputs": [],
   "source": [
    "x_train_under[0]"
   ]
  },
  {
   "cell_type": "code",
   "execution_count": null,
   "metadata": {},
   "outputs": [],
   "source": [
    "counter = 0\n",
    "for i in np.arange(0,862):\n",
    "    if (x_train_over[0]==x_train_under[i]).all():\n",
    "        counter += 1\n",
    "        \n",
    "print(counter)"
   ]
  },
  {
   "cell_type": "markdown",
   "metadata": {},
   "source": [
    "### Experiment again..."
   ]
  },
  {
   "cell_type": "markdown",
   "metadata": {},
   "source": [
    "First only over sampling the minority class"
   ]
  },
  {
   "cell_type": "code",
   "execution_count": 7,
   "metadata": {},
   "outputs": [
    {
     "name": "stdout",
     "output_type": "stream",
     "text": [
      "Initial class count in TRAIN: Counter({0: 4095, 1: 41})\n",
      "************ Row 0\n",
      "Re-sampling with (o = 0.1, u = 0). Final count: Counter({0: 4095, 1: 409})\n",
      "Repetition\n",
      "---Score: 0.0\n"
     ]
    }
   ],
   "source": [
    "clf = AdaBoostClassifier(DecisionTreeClassifier(max_depth = 3), n_estimators = 100, random_state = 84723)\n",
    "counter = 0\n",
    "over_samp_matrix = []\n",
    "print(f'Initial class count in TRAIN: {Counter(y_train)}')\n",
    "\n",
    "for o in np.arange(0.1, 0.2, 0.1):\n",
    "    \n",
    "    print(f'************ Row {counter}')\n",
    "    \n",
    "    # define oversampling strategy\n",
    "    over_sampler = SMOTEN(sampling_strategy = o, n_jobs= -1, random_state=0)\n",
    "    # fit and apply the transform\n",
    "    x_train_re_ov, y_train_re_ov = over_sampler.fit_resample(X_train, y_train)\n",
    "\n",
    "    # summarize class distribution\n",
    "    print('Re-sampling with (o = {}, u = 0). Final count: {}'.format(o, Counter(y_train_re_ov)))\n",
    "    if len(y_train_re_ov) != len(np.unique(x_train_re_ov, axis=0)):\n",
    "        print(\"Repetition\")\n",
    "\n",
    "    clf.fit(x_train_re_ov, y_train_re_ov)\n",
    "    y_predicted_re_ov = clf.predict(X_test)\n",
    "    score = f1_score(y_test, y_predicted_re_ov)\n",
    "    print(f'---Score: {score}')\n",
    "\n",
    "    over_samp_matrix.append(score)"
   ]
  },
  {
   "cell_type": "code",
   "execution_count": 11,
   "metadata": {},
   "outputs": [
    {
     "data": {
      "text/plain": [
       "5137"
      ]
     },
     "execution_count": 11,
     "metadata": {},
     "output_type": "execute_result"
    }
   ],
   "source": [
    "len(np.unique(X_morgan, axis=0))"
   ]
  },
  {
   "cell_type": "code",
   "execution_count": null,
   "metadata": {},
   "outputs": [],
   "source": [
    "?np.unique"
   ]
  },
  {
   "cell_type": "code",
   "execution_count": null,
   "metadata": {},
   "outputs": [],
   "source": [
    "rep = 0\n",
    "\n",
    "for i in np.arange(4,7780):\n",
    "    if (x_train_re[3]==x_train_re[i]).all():\n",
    "        rep+=1\n",
    "\n",
    "print(rep)"
   ]
  },
  {
   "cell_type": "code",
   "execution_count": null,
   "metadata": {},
   "outputs": [],
   "source": [
    "counter = 0\n",
    "under_samp_matrix = []\n",
    "print(f'Initial class count in TRAIN: {Counter(y_train)}')\n",
    "\n",
    "for u in np.arange(1.0, 0.0, -0.1):\n",
    "    \n",
    "    print(f'************ Row {counter}')\n",
    "    \n",
    "    # define undersampling strategy\n",
    "    under_sampler = RandomUnderSampler(sampling_strategy = u ,random_state=42)\n",
    "    # fit and apply the transform\n",
    "    x_train_re_un, y_train_re_un = under_sampler.fit_resample(X_train, y_train)\n",
    "\n",
    "    # summarize class distribution\n",
    "    print('Re-sampling with (o = 0, u = {}). Final count: {}'.format(u, Counter(y_train_re_un)))\n",
    "\n",
    "    clf.fit(x_train_re_un, y_train_re_un)\n",
    "    y_predicted_re_un = clf.predict(X_test)\n",
    "    score = f1_score(y_test, y_predicted_re_un)\n",
    "    print(f'---Score: {score}')\n",
    "\n",
    "    under_samp_matrix.append(score)"
   ]
  },
  {
   "cell_type": "code",
   "execution_count": null,
   "metadata": {},
   "outputs": [],
   "source": []
  }
 ],
 "metadata": {
  "kernelspec": {
   "display_name": "Python 3",
   "language": "python",
   "name": "python3"
  },
  "language_info": {
   "codemirror_mode": {
    "name": "ipython",
    "version": 3
   },
   "file_extension": ".py",
   "mimetype": "text/x-python",
   "name": "python",
   "nbconvert_exporter": "python",
   "pygments_lexer": "ipython3",
   "version": "3.8.10"
  }
 },
 "nbformat": 4,
 "nbformat_minor": 4
}
