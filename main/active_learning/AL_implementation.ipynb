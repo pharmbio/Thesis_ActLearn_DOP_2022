{
 "cells": [
  {
   "cell_type": "code",
   "execution_count": 1,
   "metadata": {},
   "outputs": [],
   "source": [
    "%load_ext autoreload\n",
    "%autoreload 2\n",
    "\n",
    "from pandas import read_excel\n",
    "import csv\n",
    "import pandas as pd\n",
    "import numpy as np\n",
    "import matplotlib.pyplot as plt\n",
    "import matplotlib as mpl\n",
    "import seaborn as sns\n",
    "import random\n",
    "import timeit\n",
    "\n",
    "from sklearn.model_selection import cross_val_score, KFold, train_test_split\n",
    "from sklearn.metrics import confusion_matrix, mean_squared_error\n",
    "from sklearn.decomposition import PCA\n",
    "from sklearn.neighbors import KNeighborsClassifier\n",
    "from modAL.models import ActiveLearner\n",
    "from sklearn.linear_model import LinearRegression, Ridge, Lasso\n",
    "from sklearn.cross_decomposition import PLSRegression\n",
    "\n",
    "import rdkit\n",
    "from rdkit import Chem\n",
    "from rdkit.Chem import AllChem,DataStructs,Draw,PandasTools,Descriptors\n",
    "from rdkit.Chem.MolStandardize import rdMolStandardize\n",
    "from rdkit.Chem.Draw import IPythonConsole\n",
    "from rdkit import RDLogger\n",
    "\n",
    "from IPython.display import Image\n",
    "\n",
    "# Configure the logging - RDKit is rather verbose..\n",
    "lg = RDLogger.logger()\n",
    "lg.setLevel(RDLogger.CRITICAL)\n",
    "# Set the molecule representation to be SVG \n",
    "PandasTools.molRepresentation='svg'\n",
    "# Loading and standardization method for SMILES -> RDKit molecule object\n",
    "uncharger = rdMolStandardize.Uncharger()\n",
    "\n",
    "\n",
    "# Loading and standardization method for SMILES -> RDKit molecule object\n",
    "uncharger = rdMolStandardize.Uncharger()\n",
    "\n",
    "import functions as fun"
   ]
  },
  {
   "cell_type": "code",
   "execution_count": 2,
   "metadata": {},
   "outputs": [
    {
     "data": {
      "text/html": [
       "<div>\n",
       "<style scoped>\n",
       "    .dataframe tbody tr th:only-of-type {\n",
       "        vertical-align: middle;\n",
       "    }\n",
       "\n",
       "    .dataframe tbody tr th {\n",
       "        vertical-align: top;\n",
       "    }\n",
       "\n",
       "    .dataframe thead th {\n",
       "        text-align: right;\n",
       "    }\n",
       "</style>\n",
       "<table border=\"1\" class=\"dataframe\">\n",
       "  <thead>\n",
       "    <tr style=\"text-align: right;\">\n",
       "      <th></th>\n",
       "      <th>ID_library</th>\n",
       "      <th>smiles</th>\n",
       "      <th>Intensity_MeanIntensity_illumMITO_cells.1</th>\n",
       "      <th>Labels</th>\n",
       "    </tr>\n",
       "  </thead>\n",
       "  <tbody>\n",
       "    <tr>\n",
       "      <th>0</th>\n",
       "      <td>CBK000155</td>\n",
       "      <td>C[C@H](Cc1ccc(OCC([O-])=O)cc1)NC[C@H](O)c1cccc...</td>\n",
       "      <td>0.010426</td>\n",
       "      <td>0</td>\n",
       "    </tr>\n",
       "    <tr>\n",
       "      <th>1</th>\n",
       "      <td>CBK000156</td>\n",
       "      <td>CC(C)(C)NCC(O)COc1cccc2[nH]c(=O)[nH]c12</td>\n",
       "      <td>0.009417</td>\n",
       "      <td>0</td>\n",
       "    </tr>\n",
       "    <tr>\n",
       "      <th>2</th>\n",
       "      <td>CBK000161</td>\n",
       "      <td>[H][C@@](CC)(NC(C)C)[C@]([H])(O)c1ccc(O)c2[nH]...</td>\n",
       "      <td>0.008106</td>\n",
       "      <td>0</td>\n",
       "    </tr>\n",
       "    <tr>\n",
       "      <th>3</th>\n",
       "      <td>CBK000162</td>\n",
       "      <td>CC(C)N[C@@H](C)[C@@H](O)COc1ccc(C)c2CCCc12</td>\n",
       "      <td>0.010586</td>\n",
       "      <td>0</td>\n",
       "    </tr>\n",
       "    <tr>\n",
       "      <th>4</th>\n",
       "      <td>CBK000164</td>\n",
       "      <td>CC(C)NCC(O)COc1ccc(COCCOC(C)C)cc1</td>\n",
       "      <td>0.010333</td>\n",
       "      <td>0</td>\n",
       "    </tr>\n",
       "  </tbody>\n",
       "</table>\n",
       "</div>"
      ],
      "text/plain": [
       "  ID_library                                             smiles  \\\n",
       "0  CBK000155  C[C@H](Cc1ccc(OCC([O-])=O)cc1)NC[C@H](O)c1cccc...   \n",
       "1  CBK000156            CC(C)(C)NCC(O)COc1cccc2[nH]c(=O)[nH]c12   \n",
       "2  CBK000161  [H][C@@](CC)(NC(C)C)[C@]([H])(O)c1ccc(O)c2[nH]...   \n",
       "3  CBK000162         CC(C)N[C@@H](C)[C@@H](O)COc1ccc(C)c2CCCc12   \n",
       "4  CBK000164                  CC(C)NCC(O)COc1ccc(COCCOC(C)C)cc1   \n",
       "\n",
       "   Intensity_MeanIntensity_illumMITO_cells.1  Labels  \n",
       "0                                   0.010426       0  \n",
       "1                                   0.009417       0  \n",
       "2                                   0.008106       0  \n",
       "3                                   0.010586       0  \n",
       "4                                   0.010333       0  "
      ]
     },
     "execution_count": 2,
     "metadata": {},
     "output_type": "execute_result"
    }
   ],
   "source": [
    "# Loading data sets\n",
    "specs = pd.read_csv('/home/jovyan/covid-data/SPECS_ready_POLINA.csv')\n",
    "sss_batchA = pd.read_csv('/home/jovyan/covid-data/COVID_BatchA_ready_POLINA.csv')\n",
    "\n",
    "#Creating final dataset\n",
    "data = pd.merge(specs[['ID_library', 'smiles']], sss_batchA[['ID_covid', 'Intensity_MeanIntensity_illumMITO_cells.1','Labels']], \n",
    "                left_on= 'ID_library', right_on='ID_covid', how='left')\n",
    "data = data.drop(['ID_covid'],axis=1)\n",
    "data.head() "
   ]
  },
  {
   "cell_type": "code",
   "execution_count": 3,
   "metadata": {},
   "outputs": [
    {
     "data": {
      "text/html": [
       "<div>\n",
       "<style scoped>\n",
       "    .dataframe tbody tr th:only-of-type {\n",
       "        vertical-align: middle;\n",
       "    }\n",
       "\n",
       "    .dataframe tbody tr th {\n",
       "        vertical-align: top;\n",
       "    }\n",
       "\n",
       "    .dataframe thead th {\n",
       "        text-align: right;\n",
       "    }\n",
       "</style>\n",
       "<table border=\"1\" class=\"dataframe\">\n",
       "  <thead>\n",
       "    <tr style=\"text-align: right;\">\n",
       "      <th></th>\n",
       "      <th>ID_library</th>\n",
       "      <th>smiles</th>\n",
       "      <th>Intensity_MeanIntensity_illumMITO_cells.1</th>\n",
       "      <th>Labels</th>\n",
       "      <th>MOL</th>\n",
       "    </tr>\n",
       "  </thead>\n",
       "  <tbody>\n",
       "    <tr>\n",
       "      <th>5164</th>\n",
       "      <td>CBK310016</td>\n",
       "      <td>Cc1nc2c(c(Cl)c(Cl)cc2n1Cc1ccc(cc1)B12OC(=O)CN1...</td>\n",
       "      <td>0.009946</td>\n",
       "      <td>0</td>\n",
       "      <td>None</td>\n",
       "    </tr>\n",
       "  </tbody>\n",
       "</table>\n",
       "</div>"
      ],
      "text/plain": [
       "     ID_library                                             smiles  \\\n",
       "5164  CBK310016  Cc1nc2c(c(Cl)c(Cl)cc2n1Cc1ccc(cc1)B12OC(=O)CN1...   \n",
       "\n",
       "      Intensity_MeanIntensity_illumMITO_cells.1  Labels   MOL  \n",
       "5164                                   0.009946       0  None  "
      ]
     },
     "execution_count": 3,
     "metadata": {},
     "output_type": "execute_result"
    }
   ],
   "source": [
    "# First we need to parse the SMILES and create RDKit 'molecule' objects \n",
    "# the 'standardize' function was the one we defined in the first cell with code in this file\n",
    "data['MOL'] = data['smiles'].apply(fun.standardize)\n",
    "data.head()\n",
    "\n",
    "### There is a problem with some of the smiles as they return none when trying to convert to molecule. \n",
    "### The next step is to fix those cases which may be a product of a typo. \n",
    "\n",
    "# Looking for None values\n",
    "corrupted_smiles_idx_list = data[data['MOL'].isnull()].index.tolist() #finding None values\n",
    "data[data['MOL'].isnull()].head(5)"
   ]
  },
  {
   "cell_type": "code",
   "execution_count": 4,
   "metadata": {},
   "outputs": [
    {
     "name": "stdout",
     "output_type": "stream",
     "text": [
      "There are 5171 rows in data\n"
     ]
    }
   ],
   "source": [
    "data = data.drop([5164])\n",
    "print(f\"There are {len(data)} rows in data\")"
   ]
  },
  {
   "cell_type": "code",
   "execution_count": 5,
   "metadata": {},
   "outputs": [
    {
     "data": {
      "text/html": [
       "<div>\n",
       "<style scoped>\n",
       "    .dataframe tbody tr th:only-of-type {\n",
       "        vertical-align: middle;\n",
       "    }\n",
       "\n",
       "    .dataframe tbody tr th {\n",
       "        vertical-align: top;\n",
       "    }\n",
       "\n",
       "    .dataframe thead th {\n",
       "        text-align: right;\n",
       "    }\n",
       "</style>\n",
       "<table border=\"1\" class=\"dataframe\">\n",
       "  <thead>\n",
       "    <tr style=\"text-align: right;\">\n",
       "      <th></th>\n",
       "      <th>ID_library</th>\n",
       "      <th>smiles</th>\n",
       "      <th>Intensity_MeanIntensity_illumMITO_cells.1</th>\n",
       "      <th>Labels</th>\n",
       "      <th>MOL</th>\n",
       "    </tr>\n",
       "  </thead>\n",
       "  <tbody>\n",
       "  </tbody>\n",
       "</table>\n",
       "</div>"
      ],
      "text/plain": [
       "Empty DataFrame\n",
       "Columns: [ID_library, smiles, Intensity_MeanIntensity_illumMITO_cells.1, Labels, MOL]\n",
       "Index: []"
      ]
     },
     "execution_count": 5,
     "metadata": {},
     "output_type": "execute_result"
    }
   ],
   "source": [
    "data[data['MOL'].isnull()]"
   ]
  },
  {
   "cell_type": "markdown",
   "metadata": {},
   "source": [
    "### We can go back to reality "
   ]
  },
  {
   "cell_type": "code",
   "execution_count": 6,
   "metadata": {},
   "outputs": [
    {
     "data": {
      "text/html": [
       "<div>\n",
       "<style scoped>\n",
       "    .dataframe tbody tr th:only-of-type {\n",
       "        vertical-align: middle;\n",
       "    }\n",
       "\n",
       "    .dataframe tbody tr th {\n",
       "        vertical-align: top;\n",
       "    }\n",
       "\n",
       "    .dataframe thead th {\n",
       "        text-align: right;\n",
       "    }\n",
       "</style>\n",
       "<table border=\"1\" class=\"dataframe\">\n",
       "  <thead>\n",
       "    <tr style=\"text-align: right;\">\n",
       "      <th></th>\n",
       "      <th>ID_library</th>\n",
       "      <th>smiles</th>\n",
       "      <th>Intensity_MeanIntensity_illumMITO_cells.1</th>\n",
       "      <th>Labels</th>\n",
       "      <th>MOL</th>\n",
       "    </tr>\n",
       "  </thead>\n",
       "  <tbody>\n",
       "    <tr>\n",
       "      <th>0</th>\n",
       "      <td>CBK000155</td>\n",
       "      <td>C[C@H](Cc1ccc(OCC([O-])=O)cc1)NC[C@H](O)c1cccc...</td>\n",
       "      <td>0.010426</td>\n",
       "      <td>0</td>\n",
       "      <td>&lt;svg xmlns=\"http://www.w3.org/2000/svg\" xmlns:...</td>\n",
       "    </tr>\n",
       "    <tr>\n",
       "      <th>1</th>\n",
       "      <td>CBK000156</td>\n",
       "      <td>CC(C)(C)NCC(O)COc1cccc2[nH]c(=O)[nH]c12</td>\n",
       "      <td>0.009417</td>\n",
       "      <td>0</td>\n",
       "      <td>&lt;svg xmlns=\"http://www.w3.org/2000/svg\" xmlns:...</td>\n",
       "    </tr>\n",
       "    <tr>\n",
       "      <th>2</th>\n",
       "      <td>CBK000161</td>\n",
       "      <td>[H][C@@](CC)(NC(C)C)[C@]([H])(O)c1ccc(O)c2[nH]...</td>\n",
       "      <td>0.008106</td>\n",
       "      <td>0</td>\n",
       "      <td>&lt;svg xmlns=\"http://www.w3.org/2000/svg\" xmlns:...</td>\n",
       "    </tr>\n",
       "    <tr>\n",
       "      <th>3</th>\n",
       "      <td>CBK000162</td>\n",
       "      <td>CC(C)N[C@@H](C)[C@@H](O)COc1ccc(C)c2CCCc12</td>\n",
       "      <td>0.010586</td>\n",
       "      <td>0</td>\n",
       "      <td>&lt;svg xmlns=\"http://www.w3.org/2000/svg\" xmlns:...</td>\n",
       "    </tr>\n",
       "    <tr>\n",
       "      <th>4</th>\n",
       "      <td>CBK000164</td>\n",
       "      <td>CC(C)NCC(O)COc1ccc(COCCOC(C)C)cc1</td>\n",
       "      <td>0.010333</td>\n",
       "      <td>0</td>\n",
       "      <td>&lt;svg xmlns=\"http://www.w3.org/2000/svg\" xmlns:...</td>\n",
       "    </tr>\n",
       "  </tbody>\n",
       "</table>\n",
       "</div>"
      ],
      "text/plain": [
       "  ID_library                                             smiles  \\\n",
       "0  CBK000155  C[C@H](Cc1ccc(OCC([O-])=O)cc1)NC[C@H](O)c1cccc...   \n",
       "1  CBK000156            CC(C)(C)NCC(O)COc1cccc2[nH]c(=O)[nH]c12   \n",
       "2  CBK000161  [H][C@@](CC)(NC(C)C)[C@]([H])(O)c1ccc(O)c2[nH]...   \n",
       "3  CBK000162         CC(C)N[C@@H](C)[C@@H](O)COc1ccc(C)c2CCCc12   \n",
       "4  CBK000164                  CC(C)NCC(O)COc1ccc(COCCOC(C)C)cc1   \n",
       "\n",
       "   Intensity_MeanIntensity_illumMITO_cells.1  Labels  \\\n",
       "0                                   0.010426       0   \n",
       "1                                   0.009417       0   \n",
       "2                                   0.008106       0   \n",
       "3                                   0.010586       0   \n",
       "4                                   0.010333       0   \n",
       "\n",
       "                                                 MOL  \n",
       "0  <svg xmlns=\"http://www.w3.org/2000/svg\" xmlns:...  \n",
       "1  <svg xmlns=\"http://www.w3.org/2000/svg\" xmlns:...  \n",
       "2  <svg xmlns=\"http://www.w3.org/2000/svg\" xmlns:...  \n",
       "3  <svg xmlns=\"http://www.w3.org/2000/svg\" xmlns:...  \n",
       "4  <svg xmlns=\"http://www.w3.org/2000/svg\" xmlns:...  "
      ]
     },
     "execution_count": 6,
     "metadata": {},
     "output_type": "execute_result"
    }
   ],
   "source": [
    "data = data.drop(['MOL'],axis=1)\n",
    "\n",
    "#Creating molecue objects again\n",
    "data['MOL'] = data['smiles'].apply(fun.standardize)\n",
    "data.head()"
   ]
  },
  {
   "cell_type": "code",
   "execution_count": 7,
   "metadata": {},
   "outputs": [
    {
     "name": "stdout",
     "output_type": "stream",
     "text": [
      "Fragments: 1\n"
     ]
    }
   ],
   "source": [
    "# Check if any of the SMILES contain multiple fragments - \n",
    "# this can sometimes cause issues when computing descriptors\n",
    "data['FRAGS'] =  data['MOL'].apply(lambda mol: len(Chem.GetMolFrags(mol,asMols=True)))\n",
    "print(\"Fragments: {0}\".format(data['FRAGS'].nunique()))"
   ]
  },
  {
   "cell_type": "code",
   "execution_count": 8,
   "metadata": {},
   "outputs": [
    {
     "data": {
      "image/png": "[encoded data removed]",
      "text/plain": [
       "<IPython.core.display.Image object>"
      ]
     },
     "execution_count": 8,
     "metadata": {},
     "output_type": "execute_result"
    }
   ],
   "source": [
    "# Compute the descriptors that we're interested in\n",
    "data['LOGP'] = data['MOL'].apply(lambda mol: Descriptors.MolLogP(mol))\n",
    "data['HAC'] = data['MOL'].apply(lambda mol: Descriptors.HeavyAtomCount(mol))\n",
    "\n",
    "# Plot\n",
    "#plt.figure(figsize=(8,6))\n",
    "#data.plot.scatter(x='LOGP', y='HAC')\n",
    "#plt.show()\n",
    "PandasTools.FrameToGridImage(data[5:8], column='MOL', legendsCol='ID_library', molsPerRow=3, subImgSize=(300, 300))"
   ]
  },
  {
   "cell_type": "code",
   "execution_count": 9,
   "metadata": {},
   "outputs": [],
   "source": [
    "file_namn = r'/home/jovyan/covid-data/BatchA_for_training.csv'\n",
    "#data.to_csv(file_namn, sep=',', encoding='utf-8',index=False)"
   ]
  },
  {
   "cell_type": "markdown",
   "metadata": {},
   "source": [
    "### Training starts!"
   ]
  },
  {
   "cell_type": "markdown",
   "metadata": {},
   "source": [
    "Parameters and Sets initialization"
   ]
  },
  {
   "cell_type": "code",
   "execution_count": 10,
   "metadata": {},
   "outputs": [],
   "source": [
    "# Parameters for features\n",
    "morgan_radius = 2\n",
    "morgan_n_bits = 1024\n",
    "fp_n_bits = 2048\n",
    "\n",
    "# Feature creation\n",
    "X_morgan, X_rdkit, y = fun.feature_creation(morgan_radius, morgan_n_bits, fp_n_bits, data)"
   ]
  },
  {
   "cell_type": "code",
   "execution_count": 18,
   "metadata": {},
   "outputs": [],
   "source": [
    "# Parameters for ML model\n",
    "train_size = 0.3\n",
    "test_size = 0.3\n",
    "n_neighbours = 3\n",
    "\n",
    "# Parameters for AL\n",
    "#N_QUERIES = 1\n",
    "\n",
    "# split dataset into train(5 %), test(25 %), unlabel(70 %)\n",
    "x_train, y_train, x_test, y_test, x_pool, y_pool = fun.split(x_dataset = X_morgan, y_dataset = y, \n",
    "                                                             ini_train_size = train_size, test_size = test_size)"
   ]
  },
  {
   "cell_type": "code",
   "execution_count": null,
   "metadata": {},
   "outputs": [],
   "source": [
    "# Specify our core estimator along with it's active learning model.\n",
    "knn_1 = KNeighborsClassifier(n_neighbors = n_neighbours)\n",
    "learner_1 = ActiveLearner(estimator=knn_1, X_training = x_train, y_training = y_train)"
   ]
  },
  {
   "cell_type": "markdown",
   "metadata": {},
   "source": [
    "Plain supervised machine learning"
   ]
  },
  {
   "cell_type": "code",
   "execution_count": null,
   "metadata": {},
   "outputs": [],
   "source": [
    "# Isolate the data we'll need for plotting.\n",
    "predictions = learner_1.predict(x_test) #test the learner in the complete dataset\n",
    "is_correct = (predictions == y_test) #check its performance\n",
    "\n",
    "# Record our learner's score on the raw data.\n",
    "unqueried_score = learner_1.score(x_test, y_test)\n",
    "print(f' Score without AL: {unqueried_score}')"
   ]
  },
  {
   "cell_type": "markdown",
   "metadata": {},
   "source": [
    "Now we introduce AL"
   ]
  },
  {
   "cell_type": "code",
   "execution_count": null,
   "metadata": {},
   "outputs": [],
   "source": [
    "#Timer\n",
    "tic=timeit.default_timer()\n",
    "\n",
    "#Train\n",
    "prfmc_his, cf_mat_his, learner_1 = fun.active_learnig_train(n_queries = N_QUERIES, x_train = x_train, y_train = y_train, \n",
    "                                               x_test = x_test, y_test = y_test, x_pool = x_pool, \n",
    "                                               y_pool = y_pool, Classifier = knn_1)\n",
    "\n",
    "toc=timeit.default_timer()\n",
    "print(f'\\n\\nElapsed time: {toc-tic} seconds')"
   ]
  },
  {
   "cell_type": "code",
   "execution_count": null,
   "metadata": {},
   "outputs": [],
   "source": [
    "#Plot\n",
    "name = fun.plot_name_generator('knn7', train_size, test_size, 'uncsamp')\n",
    "fun.plot_incremental_accuracy(prfmc_his, save = True, figure_name = name)\n",
    "fun.plot_cf_mat(matrix = cf_mat_his[-1], save = True, figure_name = name)\n",
    "plt.show()"
   ]
  },
  {
   "cell_type": "markdown",
   "metadata": {},
   "source": [
    "# Moving on to model comparison"
   ]
  },
  {
   "cell_type": "code",
   "execution_count": 12,
   "metadata": {},
   "outputs": [],
   "source": [
    "import pickle\n",
    "from sklearn.ensemble import RandomForestClassifier\n",
    "from sklearn.linear_model import LogisticRegression\n",
    "\n",
    "# Specify our core estimator along with it's active learning model.\n",
    "knn = KNeighborsClassifier(n_neighbors = n_neighbours)\n",
    "lrg = LogisticRegression(random_state=0)\n",
    "rf = RandomForestClassifier(max_depth=3, random_state=0)\n"
   ]
  },
  {
   "cell_type": "code",
   "execution_count": 15,
   "metadata": {},
   "outputs": [
    {
     "data": {
      "text/plain": [
       "844"
      ]
     },
     "execution_count": 15,
     "metadata": {},
     "output_type": "execute_result"
    }
   ],
   "source": [
    "int(len(x_pool)/3)"
   ]
  },
  {
   "cell_type": "code",
   "execution_count": 19,
   "metadata": {},
   "outputs": [
    {
     "name": "stdout",
     "output_type": "stream",
     "text": [
      "Training with KNeighborsClassifier(n_neighbors=3)\n",
      "Accuracy after query 1: 0.9903\n",
      "Accuracy after query 31: 0.9890\n",
      "Accuracy after query 61: 0.9897\n",
      "Accuracy after query 91: 0.9897\n",
      "Accuracy after query 121: 0.9897\n",
      "Accuracy after query 151: 0.9897\n",
      "Accuracy after query 181: 0.9897\n",
      "Accuracy after query 211: 0.9897\n",
      "Accuracy after query 241: 0.9897\n",
      "Accuracy after query 271: 0.9897\n",
      "Accuracy after query 301: 0.9897\n",
      "Accuracy after query 331: 0.9897\n",
      "Accuracy after query 361: 0.9897\n",
      "Accuracy after query 391: 0.9897\n",
      "Accuracy after query 421: 0.9897\n",
      "Accuracy after query 451: 0.9897\n",
      "Accuracy after query 481: 0.9897\n",
      "Accuracy after query 511: 0.9897\n",
      "Accuracy after query 541: 0.9897\n",
      "Accuracy after query 571: 0.9897\n",
      "Accuracy after query 601: 0.9897\n",
      "Accuracy after query 631: 0.9897\n",
      "Accuracy after query 661: 0.9897\n",
      "Accuracy after query 691: 0.9897\n",
      "Accuracy after query 721: 0.9897\n",
      "Accuracy after query 751: 0.9897\n",
      "Accuracy after query 781: 0.9897\n",
      "Accuracy after query 811: 0.9897\n",
      "Accuracy after query 841: 0.9897\n",
      "Training with LogisticRegression(random_state=0)\n",
      "Accuracy after query 1: 0.9897\n",
      "Accuracy after query 31: 0.9903\n",
      "Accuracy after query 61: 0.9903\n",
      "Accuracy after query 91: 0.9903\n",
      "Accuracy after query 121: 0.9903\n",
      "Accuracy after query 151: 0.9903\n",
      "Accuracy after query 181: 0.9903\n",
      "Accuracy after query 211: 0.9903\n",
      "Accuracy after query 241: 0.9903\n",
      "Accuracy after query 271: 0.9903\n",
      "Accuracy after query 301: 0.9903\n",
      "Accuracy after query 331: 0.9903\n",
      "Accuracy after query 361: 0.9903\n",
      "Accuracy after query 391: 0.9903\n",
      "Accuracy after query 421: 0.9903\n",
      "Accuracy after query 451: 0.9903\n",
      "Accuracy after query 481: 0.9903\n",
      "Accuracy after query 511: 0.9903\n",
      "Accuracy after query 541: 0.9903\n",
      "Accuracy after query 571: 0.9903\n",
      "Accuracy after query 601: 0.9903\n",
      "Accuracy after query 631: 0.9903\n",
      "Accuracy after query 661: 0.9903\n",
      "Accuracy after query 691: 0.9903\n",
      "Accuracy after query 721: 0.9903\n",
      "Accuracy after query 751: 0.9903\n",
      "Accuracy after query 781: 0.9903\n",
      "Accuracy after query 811: 0.9903\n",
      "Accuracy after query 841: 0.9903\n",
      "Training with RandomForestClassifier(max_depth=3, random_state=0)\n",
      "Accuracy after query 1: 0.9903\n",
      "Accuracy after query 31: 0.9903\n",
      "Accuracy after query 61: 0.9903\n",
      "Accuracy after query 91: 0.9903\n",
      "Accuracy after query 121: 0.9903\n",
      "Accuracy after query 151: 0.9903\n",
      "Accuracy after query 181: 0.9903\n",
      "Accuracy after query 211: 0.9903\n",
      "Accuracy after query 241: 0.9903\n",
      "Accuracy after query 271: 0.9903\n",
      "Accuracy after query 301: 0.9903\n",
      "Accuracy after query 331: 0.9903\n",
      "Accuracy after query 361: 0.9903\n",
      "Accuracy after query 391: 0.9903\n",
      "Accuracy after query 421: 0.9903\n",
      "Accuracy after query 451: 0.9903\n",
      "Accuracy after query 481: 0.9903\n",
      "Accuracy after query 511: 0.9903\n",
      "Accuracy after query 541: 0.9903\n",
      "Accuracy after query 571: 0.9903\n",
      "Accuracy after query 601: 0.9903\n",
      "Accuracy after query 631: 0.9903\n",
      "Accuracy after query 661: 0.9903\n",
      "Accuracy after query 691: 0.9903\n",
      "Accuracy after query 721: 0.9903\n",
      "Accuracy after query 751: 0.9903\n",
      "Accuracy after query 781: 0.9903\n",
      "Accuracy after query 811: 0.9903\n",
      "Accuracy after query 841: 0.9903\n",
      "\n",
      "\n",
      "Elapsed time: 3420.908222988248 seconds\n"
     ]
    }
   ],
   "source": [
    "# Parameters for AL\n",
    "N_QUERIES = int(len(x_pool)/3)\n",
    "\n",
    "#Timer\n",
    "tic=timeit.default_timer()\n",
    "\n",
    "cf_mat_x_clssifr = []\n",
    "prfmc_x_classifr = []\n",
    "Classifiers = [knn, lrg, rf]\n",
    "for classifier in Classifiers:\n",
    "    \n",
    "    print(f'Training with {str(classifier)}')\n",
    "    \n",
    "    prfmc_his, cf_mat_his, learner= fun.active_learnig_train(n_queries = N_QUERIES, x_train = x_train, y_train = y_train, \n",
    "                                               x_test = x_test, y_test = y_test, x_pool = x_pool, \n",
    "                                               y_pool = y_pool, Classifier = classifier)\n",
    "    prfmc_x_classifr.append(prfmc_his)\n",
    "    cf_mat_x_clssifr.append(cf_mat_his)\n",
    "    \n",
    "    #Saving model\n",
    "    filename = \"\".join([\"/home/jovyan/Thesis_ActLearn_DOP_2022/main/active_learning/default_models/\", str(classifier),'.sav'])\n",
    "    pickle.dump(learner, open(filename, 'wb'))\n",
    "    \n",
    "toc=timeit.default_timer()\n",
    "print(f'\\n\\nElapsed time: {toc-tic} seconds')"
   ]
  },
  {
   "cell_type": "code",
   "execution_count": 20,
   "metadata": {},
   "outputs": [
    {
     "data": {
      "image/png": "[encoded data removed]",
      "text/plain": [
       "<Figure size 1400x400 with 6 Axes>"
      ]
     },
     "metadata": {},
     "output_type": "display_data"
    }
   ],
   "source": [
    "#Plot\n",
    "fig, axes = plt.subplots(1, 3, figsize=(14,4))\n",
    "i = 0\n",
    "for row in axes:\n",
    "    fun.plot_cf_mat(matrix = cf_mat_x_clssifr[i][-1], save = False, figure_name = None, ax=row)\n",
    "    i+=1\n",
    "fig.suptitle('Confusion Matrixes for default classifiers', fontsize=16)\n",
    "plt.show()"
   ]
  },
  {
   "cell_type": "code",
   "execution_count": 30,
   "metadata": {},
   "outputs": [
    {
     "data": {
      "text/html": [
       "<div>\n",
       "<style scoped>\n",
       "    .dataframe tbody tr th:only-of-type {\n",
       "        vertical-align: middle;\n",
       "    }\n",
       "\n",
       "    .dataframe tbody tr th {\n",
       "        vertical-align: top;\n",
       "    }\n",
       "\n",
       "    .dataframe thead th {\n",
       "        text-align: right;\n",
       "    }\n",
       "</style>\n",
       "<table border=\"1\" class=\"dataframe\">\n",
       "  <thead>\n",
       "    <tr style=\"text-align: right;\">\n",
       "      <th></th>\n",
       "      <th>0</th>\n",
       "      <th>1</th>\n",
       "      <th>2</th>\n",
       "      <th>3</th>\n",
       "      <th>4</th>\n",
       "      <th>5</th>\n",
       "      <th>6</th>\n",
       "      <th>7</th>\n",
       "      <th>8</th>\n",
       "      <th>9</th>\n",
       "      <th>...</th>\n",
       "      <th>1015</th>\n",
       "      <th>1016</th>\n",
       "      <th>1017</th>\n",
       "      <th>1018</th>\n",
       "      <th>1019</th>\n",
       "      <th>1020</th>\n",
       "      <th>1021</th>\n",
       "      <th>1022</th>\n",
       "      <th>1023</th>\n",
       "      <th>Label</th>\n",
       "    </tr>\n",
       "  </thead>\n",
       "  <tbody>\n",
       "    <tr>\n",
       "      <th>0</th>\n",
       "      <td>0</td>\n",
       "      <td>1</td>\n",
       "      <td>0</td>\n",
       "      <td>0</td>\n",
       "      <td>0</td>\n",
       "      <td>0</td>\n",
       "      <td>0</td>\n",
       "      <td>0</td>\n",
       "      <td>0</td>\n",
       "      <td>0</td>\n",
       "      <td>...</td>\n",
       "      <td>0</td>\n",
       "      <td>0</td>\n",
       "      <td>0</td>\n",
       "      <td>0</td>\n",
       "      <td>0</td>\n",
       "      <td>0</td>\n",
       "      <td>0</td>\n",
       "      <td>0</td>\n",
       "      <td>0</td>\n",
       "      <td>0</td>\n",
       "    </tr>\n",
       "    <tr>\n",
       "      <th>1</th>\n",
       "      <td>0</td>\n",
       "      <td>1</td>\n",
       "      <td>0</td>\n",
       "      <td>0</td>\n",
       "      <td>0</td>\n",
       "      <td>0</td>\n",
       "      <td>0</td>\n",
       "      <td>0</td>\n",
       "      <td>0</td>\n",
       "      <td>0</td>\n",
       "      <td>...</td>\n",
       "      <td>0</td>\n",
       "      <td>0</td>\n",
       "      <td>0</td>\n",
       "      <td>0</td>\n",
       "      <td>0</td>\n",
       "      <td>0</td>\n",
       "      <td>0</td>\n",
       "      <td>0</td>\n",
       "      <td>0</td>\n",
       "      <td>0</td>\n",
       "    </tr>\n",
       "    <tr>\n",
       "      <th>2</th>\n",
       "      <td>0</td>\n",
       "      <td>1</td>\n",
       "      <td>0</td>\n",
       "      <td>0</td>\n",
       "      <td>1</td>\n",
       "      <td>0</td>\n",
       "      <td>0</td>\n",
       "      <td>0</td>\n",
       "      <td>0</td>\n",
       "      <td>0</td>\n",
       "      <td>...</td>\n",
       "      <td>0</td>\n",
       "      <td>0</td>\n",
       "      <td>0</td>\n",
       "      <td>0</td>\n",
       "      <td>0</td>\n",
       "      <td>0</td>\n",
       "      <td>0</td>\n",
       "      <td>0</td>\n",
       "      <td>0</td>\n",
       "      <td>0</td>\n",
       "    </tr>\n",
       "    <tr>\n",
       "      <th>3</th>\n",
       "      <td>1</td>\n",
       "      <td>1</td>\n",
       "      <td>0</td>\n",
       "      <td>0</td>\n",
       "      <td>1</td>\n",
       "      <td>0</td>\n",
       "      <td>0</td>\n",
       "      <td>0</td>\n",
       "      <td>0</td>\n",
       "      <td>0</td>\n",
       "      <td>...</td>\n",
       "      <td>0</td>\n",
       "      <td>0</td>\n",
       "      <td>0</td>\n",
       "      <td>0</td>\n",
       "      <td>0</td>\n",
       "      <td>0</td>\n",
       "      <td>0</td>\n",
       "      <td>0</td>\n",
       "      <td>0</td>\n",
       "      <td>0</td>\n",
       "    </tr>\n",
       "    <tr>\n",
       "      <th>4</th>\n",
       "      <td>0</td>\n",
       "      <td>1</td>\n",
       "      <td>0</td>\n",
       "      <td>0</td>\n",
       "      <td>1</td>\n",
       "      <td>0</td>\n",
       "      <td>0</td>\n",
       "      <td>0</td>\n",
       "      <td>0</td>\n",
       "      <td>0</td>\n",
       "      <td>...</td>\n",
       "      <td>0</td>\n",
       "      <td>0</td>\n",
       "      <td>0</td>\n",
       "      <td>1</td>\n",
       "      <td>0</td>\n",
       "      <td>0</td>\n",
       "      <td>0</td>\n",
       "      <td>0</td>\n",
       "      <td>0</td>\n",
       "      <td>0</td>\n",
       "    </tr>\n",
       "  </tbody>\n",
       "</table>\n",
       "<p>5 rows × 1025 columns</p>\n",
       "</div>"
      ],
      "text/plain": [
       "   0  1  2  3  4  5  6  7  8  9  ...  1015  1016  1017  1018  1019  1020  \\\n",
       "0  0  1  0  0  0  0  0  0  0  0  ...     0     0     0     0     0     0   \n",
       "1  0  1  0  0  0  0  0  0  0  0  ...     0     0     0     0     0     0   \n",
       "2  0  1  0  0  1  0  0  0  0  0  ...     0     0     0     0     0     0   \n",
       "3  1  1  0  0  1  0  0  0  0  0  ...     0     0     0     0     0     0   \n",
       "4  0  1  0  0  1  0  0  0  0  0  ...     0     0     0     1     0     0   \n",
       "\n",
       "   1021  1022  1023  Label  \n",
       "0     0     0     0      0  \n",
       "1     0     0     0      0  \n",
       "2     0     0     0      0  \n",
       "3     0     0     0      0  \n",
       "4     0     0     0      0  \n",
       "\n",
       "[5 rows x 1025 columns]"
      ]
     },
     "execution_count": 30,
     "metadata": {},
     "output_type": "execute_result"
    }
   ],
   "source": [
    "full_data_BatchA = pd.DataFrame(X_morgan)\n",
    "full_data_BatchA['Label'] = y\n",
    "full_data_BatchA.head()"
   ]
  },
  {
   "cell_type": "code",
   "execution_count": null,
   "metadata": {},
   "outputs": [],
   "source": [
    "#name = r'/home/jovyan/Thesis_ActLearn_DOP_2022/main/active_learning/data/full_data_BatchA.csv'\n",
    "#full_data_BatchA.to_csv(name, sep=',', encoding='utf-8',index=False)"
   ]
  }
 ],
 "metadata": {
  "kernelspec": {
   "display_name": "Python 3",
   "language": "python",
   "name": "python3"
  },
  "language_info": {
   "codemirror_mode": {
    "name": "ipython",
    "version": 3
   },
   "file_extension": ".py",
   "mimetype": "text/x-python",
   "name": "python",
   "nbconvert_exporter": "python",
   "pygments_lexer": "ipython3",
   "version": "3.8.10"
  }
 },
 "nbformat": 4,
 "nbformat_minor": 4
}
