{
 "cells": [
  {
   "cell_type": "code",
   "execution_count": null,
   "metadata": {},
   "outputs": [],
   "source": [
    "# Install RDKit.\n",
    "# !pip install rdkit-pypi"
   ]
  },
  {
   "cell_type": "markdown",
   "metadata": {},
   "source": [
    "# Descriptors and QSAR/QSPR\n",
    "\n",
    "In this lab we will apply our knowledge in supervised learning to a real world dataset. Remember, in supervised learning the algorithm is given both features and target data for each observation. In pharmaceutical bioinformatics, typical features data may be numerical descriptions of chemicals (PhysicoChemical descriptors) or structural features of a series of molecules. Target data can be some biological/chemical properties of the molecules, determined by their structure. For instance, we may study how structural changes influence ADMET properties (absorption, distribution, metabolism, excretion, and toxicity) or the interaction affinity between the molecule and some receptor protein. In this exercise we will apply linear regression and partial least-squares (PLS) for regression to predict aqueous solubility of a series of molecules. If you have time you can try out additional learning methods as well.\n",
    "\n",
    "We will be using RDKit for the cheminformatics (see RDKit GettingStartedInPython for a \"beginners guide\"), when for instance calculating the descriptors of a molecule. There are a multitude of different descriptors to choose from, typically you will have to try different types and see what works best for you particular data. In this lab we will try out two types of molecular fingerprints (Morgan fingerprints and RDKits own fingerprints) and a set of Physico-Chemical (PhysChem) descriptors.\n",
    "\n",
    "## 1. Data set\n",
    "\n",
    "We will explore a dataset of aqueous solubility of 1142 diverse chemical compounds. You may look at the referenced publication ESOL:  Estimating Aqueous Solubility Directly from Molecular Structure to find out more about the original data (it's published as Supporting Info) and the conducted study. In this paper they used a set of eight PhysChem descriptors and applied Linear Regression and found that in particular four of them were the ones most significant in the generated models. Here we will evaluate their results and see if we can improve upon them.\n",
    "\n",
    "First we will load in the data set and have a look at it. In part 2 we will use molecular fingerprints for similiarity maching - a common technique in cheminformatics and try a naive approach of predicting using k-NN. Then in part 3 we will use the fingerprints with some standard ML algorithms, and in part 4 we will use a set of PhysChem descriptors and evaluate those. If time permits, you can experiment on your own with other descriptors and/or learning algorithms.\n",
    "\n",
    "Run through the cells, make sure you understand what is going on and make appropriate changes when needed. Ask if you do not understand parts of the code or the reasoning behind it. This lab is mostly running existing code, but you are encouraged to change the code and try things as you go along. NOTE: you may need to change kernel (top right corner)\n"
   ]
  },
  {
   "cell_type": "code",
   "execution_count": 1,
   "metadata": {},
   "outputs": [],
   "source": [
    "%matplotlib inline\n",
    "\n",
    "import random\n",
    "import numpy as np\n",
    "from sklearn.linear_model import LinearRegression, Ridge, Lasso\n",
    "from sklearn.model_selection import cross_val_score, KFold\n",
    "from sklearn.metrics import mean_squared_error\n",
    "from sklearn.cross_decomposition import PLSRegression\n",
    "\n",
    "import matplotlib.pyplot as plt\n",
    "\n",
    "import pandas as pd\n",
    "\n",
    "import rdkit\n",
    "from rdkit import Chem\n",
    "from rdkit.Chem import AllChem,DataStructs,Draw,PandasTools,Descriptors\n",
    "from rdkit.Chem.MolStandardize import rdMolStandardize\n",
    "from rdkit.Chem.Draw import IPythonConsole\n",
    "from rdkit import RDLogger\n",
    "\n",
    "from IPython.display import Image\n",
    "\n",
    "# Configure the logging - RDKit is rather verbose..\n",
    "lg = RDLogger.logger()\n",
    "lg.setLevel(RDLogger.CRITICAL)\n",
    "\n",
    "# Set the molecule representation to be SVG \n",
    "PandasTools.molRepresentation='svg'\n",
    "\n",
    "\n",
    "# Loading and standardization method for SMILES -> RDKit molecule object\n",
    "uncharger = rdMolStandardize.Uncharger()\n",
    "\n",
    "def standardize(smiles):\n",
    "    mol = Chem.MolFromSmiles(smiles)\n",
    "    if mol:\n",
    "        mol = rdMolStandardize.FragmentParent(mol)\n",
    "        mol = uncharger.uncharge(mol)\n",
    "    return mol\n"
   ]
  },
  {
   "cell_type": "markdown",
   "metadata": {},
   "source": [
    "Now we will load the data, stored in a CSV format. You may have to **change the filepath according to your directory layout**."
   ]
  },
  {
   "cell_type": "code",
   "execution_count": 2,
   "metadata": {},
   "outputs": [
    {
     "data": {
      "text/html": [
       "<div>\n",
       "<style scoped>\n",
       "    .dataframe tbody tr th:only-of-type {\n",
       "        vertical-align: middle;\n",
       "    }\n",
       "\n",
       "    .dataframe tbody tr th {\n",
       "        vertical-align: top;\n",
       "    }\n",
       "\n",
       "    .dataframe thead th {\n",
       "        text-align: right;\n",
       "    }\n",
       "</style>\n",
       "<table border=\"1\" class=\"dataframe\">\n",
       "  <thead>\n",
       "    <tr style=\"text-align: right;\">\n",
       "      <th></th>\n",
       "      <th>Compound ID</th>\n",
       "      <th>measured log(solubility:mol/L)</th>\n",
       "      <th>ESOL predicted log(solubility:mol/L)</th>\n",
       "      <th>SMILES</th>\n",
       "    </tr>\n",
       "  </thead>\n",
       "  <tbody>\n",
       "    <tr>\n",
       "      <th>0</th>\n",
       "      <td>1,1,1,2-Tetrachloroethane</td>\n",
       "      <td>-2.180</td>\n",
       "      <td>-2.794</td>\n",
       "      <td>ClCC(Cl)(Cl)Cl</td>\n",
       "    </tr>\n",
       "    <tr>\n",
       "      <th>1</th>\n",
       "      <td>1,1,1-Trichloroethane</td>\n",
       "      <td>-2.000</td>\n",
       "      <td>-2.232</td>\n",
       "      <td>CC(Cl)(Cl)Cl</td>\n",
       "    </tr>\n",
       "    <tr>\n",
       "      <th>2</th>\n",
       "      <td>1,1,2,2-Tetrachloroethane</td>\n",
       "      <td>-1.740</td>\n",
       "      <td>-2.549</td>\n",
       "      <td>ClC(Cl)C(Cl)Cl</td>\n",
       "    </tr>\n",
       "    <tr>\n",
       "      <th>3</th>\n",
       "      <td>1,1,2-Trichloroethane</td>\n",
       "      <td>-1.480</td>\n",
       "      <td>-1.961</td>\n",
       "      <td>ClCC(Cl)Cl</td>\n",
       "    </tr>\n",
       "    <tr>\n",
       "      <th>4</th>\n",
       "      <td>1,1,2-Trichlorotrifluoroethane</td>\n",
       "      <td>-3.040</td>\n",
       "      <td>-3.077</td>\n",
       "      <td>FC(F)(Cl)C(F)(Cl)Cl</td>\n",
       "    </tr>\n",
       "    <tr>\n",
       "      <th>...</th>\n",
       "      <td>...</td>\n",
       "      <td>...</td>\n",
       "      <td>...</td>\n",
       "      <td>...</td>\n",
       "    </tr>\n",
       "    <tr>\n",
       "      <th>1139</th>\n",
       "      <td>vamidothion</td>\n",
       "      <td>1.144</td>\n",
       "      <td>-1.446</td>\n",
       "      <td>CNC(=O)C(C)SCCSP(=O)(OC)(OC)</td>\n",
       "    </tr>\n",
       "    <tr>\n",
       "      <th>1140</th>\n",
       "      <td>Vinclozolin</td>\n",
       "      <td>-4.925</td>\n",
       "      <td>-4.377</td>\n",
       "      <td>CC1(OC(=O)N(C1=O)c2cc(Cl)cc(Cl)c2)C=C</td>\n",
       "    </tr>\n",
       "    <tr>\n",
       "      <th>1141</th>\n",
       "      <td>Warfarin</td>\n",
       "      <td>-3.893</td>\n",
       "      <td>-3.913</td>\n",
       "      <td>CC(=O)CC(c1ccccc1)c3c(O)c2ccccc2oc3=O</td>\n",
       "    </tr>\n",
       "    <tr>\n",
       "      <th>1142</th>\n",
       "      <td>Xipamide</td>\n",
       "      <td>-3.790</td>\n",
       "      <td>-3.642</td>\n",
       "      <td>Cc1cccc(C)c1NC(=O)c2cc(c(Cl)cc2O)S(N)(=O)=O</td>\n",
       "    </tr>\n",
       "    <tr>\n",
       "      <th>1143</th>\n",
       "      <td>XMC</td>\n",
       "      <td>-2.581</td>\n",
       "      <td>-2.688</td>\n",
       "      <td>CNC(=O)Oc1cc(C)cc(C)c1</td>\n",
       "    </tr>\n",
       "  </tbody>\n",
       "</table>\n",
       "<p>1144 rows × 4 columns</p>\n",
       "</div>"
      ],
      "text/plain": [
       "                         Compound ID  measured log(solubility:mol/L)  \\\n",
       "0          1,1,1,2-Tetrachloroethane                          -2.180   \n",
       "1              1,1,1-Trichloroethane                          -2.000   \n",
       "2          1,1,2,2-Tetrachloroethane                          -1.740   \n",
       "3              1,1,2-Trichloroethane                          -1.480   \n",
       "4     1,1,2-Trichlorotrifluoroethane                          -3.040   \n",
       "...                              ...                             ...   \n",
       "1139                     vamidothion                           1.144   \n",
       "1140                     Vinclozolin                          -4.925   \n",
       "1141                        Warfarin                          -3.893   \n",
       "1142                        Xipamide                          -3.790   \n",
       "1143                             XMC                          -2.581   \n",
       "\n",
       "      ESOL predicted log(solubility:mol/L)  \\\n",
       "0                                   -2.794   \n",
       "1                                   -2.232   \n",
       "2                                   -2.549   \n",
       "3                                   -1.961   \n",
       "4                                   -3.077   \n",
       "...                                    ...   \n",
       "1139                                -1.446   \n",
       "1140                                -4.377   \n",
       "1141                                -3.913   \n",
       "1142                                -3.642   \n",
       "1143                                -2.688   \n",
       "\n",
       "                                           SMILES  \n",
       "0                                  ClCC(Cl)(Cl)Cl  \n",
       "1                                    CC(Cl)(Cl)Cl  \n",
       "2                                  ClC(Cl)C(Cl)Cl  \n",
       "3                                      ClCC(Cl)Cl  \n",
       "4                             FC(F)(Cl)C(F)(Cl)Cl  \n",
       "...                                           ...  \n",
       "1139                 CNC(=O)C(C)SCCSP(=O)(OC)(OC)  \n",
       "1140        CC1(OC(=O)N(C1=O)c2cc(Cl)cc(Cl)c2)C=C  \n",
       "1141       CC(=O)CC(c1ccccc1)c3c(O)c2ccccc2oc3=O   \n",
       "1142  Cc1cccc(C)c1NC(=O)c2cc(c(Cl)cc2O)S(N)(=O)=O  \n",
       "1143                       CNC(=O)Oc1cc(C)cc(C)c1  \n",
       "\n",
       "[1144 rows x 4 columns]"
      ]
     },
     "execution_count": 2,
     "metadata": {},
     "output_type": "execute_result"
    }
   ],
   "source": [
    "solu_df=pd.read_csv('descriptors/delaney.csv',encoding = \"utf-8\")\n",
    "\n",
    "# Print an overview of what's in the pandas object\n",
    "solu_df"
   ]
  },
  {
   "cell_type": "markdown",
   "metadata": {},
   "source": [
    "This is a data frame containing measured and predicted solubilities for a set of 1142 chemical compounds. Column one, **Compound.ID**, contains the names of the compounds, and column four holds the SMILES string for each compound. The second and third column names are a bit long, so we can rename them (note that the indexes are 0-based):"
   ]
  },
  {
   "cell_type": "code",
   "execution_count": 3,
   "metadata": {},
   "outputs": [
    {
     "data": {
      "text/html": [
       "<div>\n",
       "<style scoped>\n",
       "    .dataframe tbody tr th:only-of-type {\n",
       "        vertical-align: middle;\n",
       "    }\n",
       "\n",
       "    .dataframe tbody tr th {\n",
       "        vertical-align: top;\n",
       "    }\n",
       "\n",
       "    .dataframe thead th {\n",
       "        text-align: right;\n",
       "    }\n",
       "</style>\n",
       "<table border=\"1\" class=\"dataframe\">\n",
       "  <thead>\n",
       "    <tr style=\"text-align: right;\">\n",
       "      <th></th>\n",
       "      <th>Compound ID</th>\n",
       "      <th>Measured</th>\n",
       "      <th>Predicted</th>\n",
       "      <th>SMILES</th>\n",
       "    </tr>\n",
       "  </thead>\n",
       "  <tbody>\n",
       "    <tr>\n",
       "      <th>0</th>\n",
       "      <td>1,1,1,2-Tetrachloroethane</td>\n",
       "      <td>-2.180</td>\n",
       "      <td>-2.794</td>\n",
       "      <td>ClCC(Cl)(Cl)Cl</td>\n",
       "    </tr>\n",
       "    <tr>\n",
       "      <th>1</th>\n",
       "      <td>1,1,1-Trichloroethane</td>\n",
       "      <td>-2.000</td>\n",
       "      <td>-2.232</td>\n",
       "      <td>CC(Cl)(Cl)Cl</td>\n",
       "    </tr>\n",
       "    <tr>\n",
       "      <th>2</th>\n",
       "      <td>1,1,2,2-Tetrachloroethane</td>\n",
       "      <td>-1.740</td>\n",
       "      <td>-2.549</td>\n",
       "      <td>ClC(Cl)C(Cl)Cl</td>\n",
       "    </tr>\n",
       "    <tr>\n",
       "      <th>3</th>\n",
       "      <td>1,1,2-Trichloroethane</td>\n",
       "      <td>-1.480</td>\n",
       "      <td>-1.961</td>\n",
       "      <td>ClCC(Cl)Cl</td>\n",
       "    </tr>\n",
       "    <tr>\n",
       "      <th>4</th>\n",
       "      <td>1,1,2-Trichlorotrifluoroethane</td>\n",
       "      <td>-3.040</td>\n",
       "      <td>-3.077</td>\n",
       "      <td>FC(F)(Cl)C(F)(Cl)Cl</td>\n",
       "    </tr>\n",
       "    <tr>\n",
       "      <th>...</th>\n",
       "      <td>...</td>\n",
       "      <td>...</td>\n",
       "      <td>...</td>\n",
       "      <td>...</td>\n",
       "    </tr>\n",
       "    <tr>\n",
       "      <th>1139</th>\n",
       "      <td>vamidothion</td>\n",
       "      <td>1.144</td>\n",
       "      <td>-1.446</td>\n",
       "      <td>CNC(=O)C(C)SCCSP(=O)(OC)(OC)</td>\n",
       "    </tr>\n",
       "    <tr>\n",
       "      <th>1140</th>\n",
       "      <td>Vinclozolin</td>\n",
       "      <td>-4.925</td>\n",
       "      <td>-4.377</td>\n",
       "      <td>CC1(OC(=O)N(C1=O)c2cc(Cl)cc(Cl)c2)C=C</td>\n",
       "    </tr>\n",
       "    <tr>\n",
       "      <th>1141</th>\n",
       "      <td>Warfarin</td>\n",
       "      <td>-3.893</td>\n",
       "      <td>-3.913</td>\n",
       "      <td>CC(=O)CC(c1ccccc1)c3c(O)c2ccccc2oc3=O</td>\n",
       "    </tr>\n",
       "    <tr>\n",
       "      <th>1142</th>\n",
       "      <td>Xipamide</td>\n",
       "      <td>-3.790</td>\n",
       "      <td>-3.642</td>\n",
       "      <td>Cc1cccc(C)c1NC(=O)c2cc(c(Cl)cc2O)S(N)(=O)=O</td>\n",
       "    </tr>\n",
       "    <tr>\n",
       "      <th>1143</th>\n",
       "      <td>XMC</td>\n",
       "      <td>-2.581</td>\n",
       "      <td>-2.688</td>\n",
       "      <td>CNC(=O)Oc1cc(C)cc(C)c1</td>\n",
       "    </tr>\n",
       "  </tbody>\n",
       "</table>\n",
       "<p>1144 rows × 4 columns</p>\n",
       "</div>"
      ],
      "text/plain": [
       "                         Compound ID  Measured  Predicted  \\\n",
       "0          1,1,1,2-Tetrachloroethane    -2.180     -2.794   \n",
       "1              1,1,1-Trichloroethane    -2.000     -2.232   \n",
       "2          1,1,2,2-Tetrachloroethane    -1.740     -2.549   \n",
       "3              1,1,2-Trichloroethane    -1.480     -1.961   \n",
       "4     1,1,2-Trichlorotrifluoroethane    -3.040     -3.077   \n",
       "...                              ...       ...        ...   \n",
       "1139                     vamidothion     1.144     -1.446   \n",
       "1140                     Vinclozolin    -4.925     -4.377   \n",
       "1141                        Warfarin    -3.893     -3.913   \n",
       "1142                        Xipamide    -3.790     -3.642   \n",
       "1143                             XMC    -2.581     -2.688   \n",
       "\n",
       "                                           SMILES  \n",
       "0                                  ClCC(Cl)(Cl)Cl  \n",
       "1                                    CC(Cl)(Cl)Cl  \n",
       "2                                  ClC(Cl)C(Cl)Cl  \n",
       "3                                      ClCC(Cl)Cl  \n",
       "4                             FC(F)(Cl)C(F)(Cl)Cl  \n",
       "...                                           ...  \n",
       "1139                 CNC(=O)C(C)SCCSP(=O)(OC)(OC)  \n",
       "1140        CC1(OC(=O)N(C1=O)c2cc(Cl)cc(Cl)c2)C=C  \n",
       "1141       CC(=O)CC(c1ccccc1)c3c(O)c2ccccc2oc3=O   \n",
       "1142  Cc1cccc(C)c1NC(=O)c2cc(c(Cl)cc2O)S(N)(=O)=O  \n",
       "1143                       CNC(=O)Oc1cc(C)cc(C)c1  \n",
       "\n",
       "[1144 rows x 4 columns]"
      ]
     },
     "execution_count": 3,
     "metadata": {},
     "output_type": "execute_result"
    }
   ],
   "source": [
    "solu_df.rename(columns={solu_df.columns[1]: \"Measured\", solu_df.columns[2]: \"Predicted\"}, inplace=True)\n",
    "solu_df"
   ]
  },
  {
   "cell_type": "markdown",
   "metadata": {},
   "source": [
    "First, let us make sure that there are no duplications in the dataset, which can be due to multiple Combound-IDs for a single molecule, sterochemistry not captured in the SMILES or multiple measures for a single compound. Duplicates can skew the results as they can end up both in the training set and test set, thus making them easier to predict and give a better result than what is representative. "
   ]
  },
  {
   "cell_type": "code",
   "execution_count": 4,
   "metadata": {},
   "outputs": [
    {
     "name": "stdout",
     "output_type": "stream",
     "text": [
      "Num unique: 1128 out of 1144 records in total\n"
     ]
    }
   ],
   "source": [
    "print(\"Num unique: {0} out of {1} records in total\".format(solu_df['SMILES'].nunique(), solu_df['SMILES'].count()))"
   ]
  },
  {
   "cell_type": "markdown",
   "metadata": {},
   "source": [
    "So we had some duplicates! Let's resolve that before continuing. Also, let's check the accuracy of their published predictions (expressed in Mean Squared Error (MSE) using [mean_squared_error](https://scikit-learn.org/stable/modules/generated/sklearn.metrics.mean_squared_error.html)), so we have something to compare with once we train our own models."
   ]
  },
  {
   "cell_type": "code",
   "execution_count": 5,
   "metadata": {},
   "outputs": [
    {
     "name": "stdout",
     "output_type": "stream",
     "text": [
      "New shape of the dataset: (1128, 4)\n",
      "Reported MSE: 0.828\n"
     ]
    }
   ],
   "source": [
    "# Drop the duplicated ones \n",
    "solu_df.drop_duplicates(['SMILES'],inplace=True)\n",
    "solu_df.reset_index(drop=True, inplace=True)\n",
    "print(\"New shape of the dataset: {0}\".format(solu_df.shape))\n",
    "\n",
    "print(\"Reported MSE: %0.3f\" % mean_squared_error(solu_df['Measured'].to_numpy(), solu_df['Predicted'].to_numpy()))"
   ]
  },
  {
   "cell_type": "markdown",
   "metadata": {},
   "source": [
    "### Visualize the data\n",
    "\n",
    "It's always good to know what type of data you are dealing with, is it a diverse set of molecules or something from a narrow 'chemical space'? We can plot the predicted/computed LogP vs Heavy Atom Count (HAC), which will given an indication of the size and lipid-solubility of the molecules."
   ]
  },
  {
   "cell_type": "code",
   "execution_count": 6,
   "metadata": {},
   "outputs": [
    {
     "name": "stdout",
     "output_type": "stream",
     "text": [
      "Fragments: 1\n"
     ]
    },
    {
     "data": {
      "text/plain": [
       "<AxesSubplot:xlabel='LOGP', ylabel='HAC'>"
      ]
     },
     "execution_count": 6,
     "metadata": {},
     "output_type": "execute_result"
    },
    {
     "data": {
      "text/plain": [
       "<Figure size 576x432 with 0 Axes>"
      ]
     },
     "metadata": {},
     "output_type": "display_data"
    },
    {
     "data": {
      "image/png": "[encoded data removed]",
      "text/plain": [
       "<Figure size 432x288 with 1 Axes>"
      ]
     },
     "metadata": {
      "needs_background": "light"
     },
     "output_type": "display_data"
    }
   ],
   "source": [
    "# First we need to parse the SMILES and create RDKit 'molecule' objects \n",
    "# the 'standardize' function was the one we defined in the first cell with code in this file\n",
    "solu_df['MOL'] = solu_df['SMILES'].apply(standardize)\n",
    "\n",
    "# Check if any of the SMILES contain multiple fragments - \n",
    "# this can sometimes cause issues when computing descriptors\n",
    "solu_df['FRAGS'] =  solu_df['MOL'].apply(lambda mol: len(Chem.GetMolFrags(mol,asMols=True)))\n",
    "print(\"Fragments: {0}\".format(solu_df['FRAGS'].nunique()))\n",
    "\n",
    "# Compute the descriptors that we're interested in\n",
    "solu_df['LOGP'] = solu_df['MOL'].apply(lambda mol: Descriptors.MolLogP(mol))\n",
    "solu_df['HAC'] = solu_df['MOL'].apply(lambda mol: Descriptors.HeavyAtomCount(mol))\n",
    "\n",
    "# Plot\n",
    "plt.figure(figsize=(8,6))\n",
    "solu_df.plot.scatter(x='LOGP', y='HAC')"
   ]
  },
  {
   "cell_type": "markdown",
   "metadata": {},
   "source": [
    "Firstly, there are only molecules of a single fragments - so no need to filter anything based on this. Secondly, most of molecules are sub 50 HAC and within a fairly close proximity in this plot. We could remove for instance records with molecules with HAC>50 and perhaps a few other 'outliers', but let's not go too deep into this and keep all records as they are. Hopefully they will not influence the results too much, if you're interested you could try that out in the end of the lab! \n",
    "\n",
    "We can draw a few of the molecules if we like, to get a fealing for what type of molecules there are in the dataset."
   ]
  },
  {
   "cell_type": "code",
   "execution_count": 8,
   "metadata": {},
   "outputs": [
    {
     "data": {
      "image/png": "[encoded data removed]",
      "text/plain": [
       "<IPython.core.display.Image object>"
      ]
     },
     "execution_count": 8,
     "metadata": {},
     "output_type": "execute_result"
    }
   ],
   "source": [
    "PandasTools.FrameToGridImage(solu_df[0:10], column='MOL', legendsCol='Compound ID', molsPerRow=5, subImgSize=(300, 300))"
   ]
  },
  {
   "cell_type": "markdown",
   "metadata": {},
   "source": [
    "These are all small \"typical\" molecules, let's draw the HAC > 50 ones!"
   ]
  },
  {
   "cell_type": "code",
   "execution_count": 9,
   "metadata": {},
   "outputs": [
    {
     "data": {
      "image/png": "[encoded data removed]",
      "text/plain": [
       "<IPython.core.display.Image object>"
      ]
     },
     "execution_count": 9,
     "metadata": {},
     "output_type": "execute_result"
    }
   ],
   "source": [
    "largeMols = solu_df[solu_df['HAC']>50]\n",
    "PandasTools.FrameToGridImage(largeMols, column='MOL', legendsCol='Compound ID', molsPerRow=2, subImgSize=(500, 500))"
   ]
  },
  {
   "cell_type": "markdown",
   "metadata": {},
   "source": [
    "## 2. Similarity matching\n",
    "\n",
    "OK! Let's say that we're happy with our dataset and move on. There are two widely used fingerprint types in RDKit; the RDKits own fingerprinter and the Morgan fingerprint. Both are hashed fingerprints and we can choose the number of bits we wish to use, let us use 2048 bits for the RDKit and 1024 for Morgan finterprints and default settings for the rest. Morgan fingerprints use a single circular radius, typically 2 is the normal to use, whereas the RDKit uses several radiuses (default is 1 to 7). This is why we can get away with fewer bits for the Morgan fingerprint, there are simply less possible fragments and thus less chance for collisions in the hashing function. The fingerprints are bit-vectors (i.e. vectors of a fixed length with either 0 or 1 in each index), and they need to be converted into numpy ndarray objects for the analysis in the next section where we use them for predictions. "
   ]
  },
  {
   "cell_type": "code",
   "execution_count": 10,
   "metadata": {},
   "outputs": [
    {
     "data": {
      "text/html": [
       "<div>\n",
       "<style scoped>\n",
       "    .dataframe tbody tr th:only-of-type {\n",
       "        vertical-align: middle;\n",
       "    }\n",
       "\n",
       "    .dataframe tbody tr th {\n",
       "        vertical-align: top;\n",
       "    }\n",
       "\n",
       "    .dataframe thead th {\n",
       "        text-align: right;\n",
       "    }\n",
       "</style>\n",
       "<table border=\"1\" class=\"dataframe\">\n",
       "  <thead>\n",
       "    <tr style=\"text-align: right;\">\n",
       "      <th></th>\n",
       "      <th>Compound ID</th>\n",
       "      <th>Measured</th>\n",
       "      <th>Predicted</th>\n",
       "      <th>SMILES</th>\n",
       "      <th>MOL</th>\n",
       "      <th>FRAGS</th>\n",
       "      <th>LOGP</th>\n",
       "      <th>HAC</th>\n",
       "    </tr>\n",
       "  </thead>\n",
       "  <tbody>\n",
       "    <tr>\n",
       "      <th>0</th>\n",
       "      <td>1,1,1,2-Tetrachloroethane</td>\n",
       "      <td>-2.180</td>\n",
       "      <td>-2.794</td>\n",
       "      <td>ClCC(Cl)(Cl)Cl</td>\n",
       "      <td>&lt;svg xmlns=\"http://www.w3.org/2000/svg\" xmlns:...</td>\n",
       "      <td>1</td>\n",
       "      <td>2.59540</td>\n",
       "      <td>6</td>\n",
       "    </tr>\n",
       "    <tr>\n",
       "      <th>1</th>\n",
       "      <td>1,1,1-Trichloroethane</td>\n",
       "      <td>-2.000</td>\n",
       "      <td>-2.232</td>\n",
       "      <td>CC(Cl)(Cl)Cl</td>\n",
       "      <td>&lt;svg xmlns=\"http://www.w3.org/2000/svg\" xmlns:...</td>\n",
       "      <td>1</td>\n",
       "      <td>2.37650</td>\n",
       "      <td>5</td>\n",
       "    </tr>\n",
       "    <tr>\n",
       "      <th>2</th>\n",
       "      <td>1,1,2,2-Tetrachloroethane</td>\n",
       "      <td>-1.740</td>\n",
       "      <td>-2.549</td>\n",
       "      <td>ClC(Cl)C(Cl)Cl</td>\n",
       "      <td>&lt;svg xmlns=\"http://www.w3.org/2000/svg\" xmlns:...</td>\n",
       "      <td>1</td>\n",
       "      <td>2.59380</td>\n",
       "      <td>6</td>\n",
       "    </tr>\n",
       "    <tr>\n",
       "      <th>3</th>\n",
       "      <td>1,1,2-Trichloroethane</td>\n",
       "      <td>-1.480</td>\n",
       "      <td>-1.961</td>\n",
       "      <td>ClCC(Cl)Cl</td>\n",
       "      <td>&lt;svg xmlns=\"http://www.w3.org/2000/svg\" xmlns:...</td>\n",
       "      <td>1</td>\n",
       "      <td>2.02890</td>\n",
       "      <td>5</td>\n",
       "    </tr>\n",
       "    <tr>\n",
       "      <th>4</th>\n",
       "      <td>1,1,2-Trichlorotrifluoroethane</td>\n",
       "      <td>-3.040</td>\n",
       "      <td>-3.077</td>\n",
       "      <td>FC(F)(Cl)C(F)(Cl)Cl</td>\n",
       "      <td>&lt;svg xmlns=\"http://www.w3.org/2000/svg\" xmlns:...</td>\n",
       "      <td>1</td>\n",
       "      <td>2.91890</td>\n",
       "      <td>8</td>\n",
       "    </tr>\n",
       "    <tr>\n",
       "      <th>...</th>\n",
       "      <td>...</td>\n",
       "      <td>...</td>\n",
       "      <td>...</td>\n",
       "      <td>...</td>\n",
       "      <td>...</td>\n",
       "      <td>...</td>\n",
       "      <td>...</td>\n",
       "      <td>...</td>\n",
       "    </tr>\n",
       "    <tr>\n",
       "      <th>1123</th>\n",
       "      <td>vamidothion</td>\n",
       "      <td>1.144</td>\n",
       "      <td>-1.446</td>\n",
       "      <td>CNC(=O)C(C)SCCSP(=O)(OC)(OC)</td>\n",
       "      <td>&lt;svg xmlns=\"http://www.w3.org/2000/svg\" xmlns:...</td>\n",
       "      <td>1</td>\n",
       "      <td>1.98820</td>\n",
       "      <td>16</td>\n",
       "    </tr>\n",
       "    <tr>\n",
       "      <th>1124</th>\n",
       "      <td>Vinclozolin</td>\n",
       "      <td>-4.925</td>\n",
       "      <td>-4.377</td>\n",
       "      <td>CC1(OC(=O)N(C1=O)c2cc(Cl)cc(Cl)c2)C=C</td>\n",
       "      <td>&lt;svg xmlns=\"http://www.w3.org/2000/svg\" xmlns:...</td>\n",
       "      <td>1</td>\n",
       "      <td>3.42130</td>\n",
       "      <td>18</td>\n",
       "    </tr>\n",
       "    <tr>\n",
       "      <th>1125</th>\n",
       "      <td>Warfarin</td>\n",
       "      <td>-3.893</td>\n",
       "      <td>-3.913</td>\n",
       "      <td>CC(=O)CC(c1ccccc1)c3c(O)c2ccccc2oc3=O</td>\n",
       "      <td>&lt;svg xmlns=\"http://www.w3.org/2000/svg\" xmlns:...</td>\n",
       "      <td>1</td>\n",
       "      <td>3.60960</td>\n",
       "      <td>23</td>\n",
       "    </tr>\n",
       "    <tr>\n",
       "      <th>1126</th>\n",
       "      <td>Xipamide</td>\n",
       "      <td>-3.790</td>\n",
       "      <td>-3.642</td>\n",
       "      <td>Cc1cccc(C)c1NC(=O)c2cc(c(Cl)cc2O)S(N)(=O)=O</td>\n",
       "      <td>&lt;svg xmlns=\"http://www.w3.org/2000/svg\" xmlns:...</td>\n",
       "      <td>1</td>\n",
       "      <td>2.56214</td>\n",
       "      <td>23</td>\n",
       "    </tr>\n",
       "    <tr>\n",
       "      <th>1127</th>\n",
       "      <td>XMC</td>\n",
       "      <td>-2.581</td>\n",
       "      <td>-2.688</td>\n",
       "      <td>CNC(=O)Oc1cc(C)cc(C)c1</td>\n",
       "      <td>&lt;svg xmlns=\"http://www.w3.org/2000/svg\" xmlns:...</td>\n",
       "      <td>1</td>\n",
       "      <td>2.02164</td>\n",
       "      <td>13</td>\n",
       "    </tr>\n",
       "  </tbody>\n",
       "</table>\n",
       "<p>1128 rows × 8 columns</p>\n",
       "</div>"
      ],
      "text/plain": [
       "                         Compound ID  Measured  Predicted  \\\n",
       "0          1,1,1,2-Tetrachloroethane    -2.180     -2.794   \n",
       "1              1,1,1-Trichloroethane    -2.000     -2.232   \n",
       "2          1,1,2,2-Tetrachloroethane    -1.740     -2.549   \n",
       "3              1,1,2-Trichloroethane    -1.480     -1.961   \n",
       "4     1,1,2-Trichlorotrifluoroethane    -3.040     -3.077   \n",
       "...                              ...       ...        ...   \n",
       "1123                     vamidothion     1.144     -1.446   \n",
       "1124                     Vinclozolin    -4.925     -4.377   \n",
       "1125                        Warfarin    -3.893     -3.913   \n",
       "1126                        Xipamide    -3.790     -3.642   \n",
       "1127                             XMC    -2.581     -2.688   \n",
       "\n",
       "                                           SMILES  \\\n",
       "0                                  ClCC(Cl)(Cl)Cl   \n",
       "1                                    CC(Cl)(Cl)Cl   \n",
       "2                                  ClC(Cl)C(Cl)Cl   \n",
       "3                                      ClCC(Cl)Cl   \n",
       "4                             FC(F)(Cl)C(F)(Cl)Cl   \n",
       "...                                           ...   \n",
       "1123                 CNC(=O)C(C)SCCSP(=O)(OC)(OC)   \n",
       "1124        CC1(OC(=O)N(C1=O)c2cc(Cl)cc(Cl)c2)C=C   \n",
       "1125       CC(=O)CC(c1ccccc1)c3c(O)c2ccccc2oc3=O    \n",
       "1126  Cc1cccc(C)c1NC(=O)c2cc(c(Cl)cc2O)S(N)(=O)=O   \n",
       "1127                       CNC(=O)Oc1cc(C)cc(C)c1   \n",
       "\n",
       "                                                    MOL  FRAGS     LOGP  HAC  \n",
       "0     <svg xmlns=\"http://www.w3.org/2000/svg\" xmlns:...      1  2.59540    6  \n",
       "1     <svg xmlns=\"http://www.w3.org/2000/svg\" xmlns:...      1  2.37650    5  \n",
       "2     <svg xmlns=\"http://www.w3.org/2000/svg\" xmlns:...      1  2.59380    6  \n",
       "3     <svg xmlns=\"http://www.w3.org/2000/svg\" xmlns:...      1  2.02890    5  \n",
       "4     <svg xmlns=\"http://www.w3.org/2000/svg\" xmlns:...      1  2.91890    8  \n",
       "...                                                 ...    ...      ...  ...  \n",
       "1123  <svg xmlns=\"http://www.w3.org/2000/svg\" xmlns:...      1  1.98820   16  \n",
       "1124  <svg xmlns=\"http://www.w3.org/2000/svg\" xmlns:...      1  3.42130   18  \n",
       "1125  <svg xmlns=\"http://www.w3.org/2000/svg\" xmlns:...      1  3.60960   23  \n",
       "1126  <svg xmlns=\"http://www.w3.org/2000/svg\" xmlns:...      1  2.56214   23  \n",
       "1127  <svg xmlns=\"http://www.w3.org/2000/svg\" xmlns:...      1  2.02164   13  \n",
       "\n",
       "[1128 rows x 8 columns]"
      ]
     },
     "execution_count": 10,
     "metadata": {},
     "output_type": "execute_result"
    }
   ],
   "source": [
    "solu_df"
   ]
  },
  {
   "cell_type": "code",
   "execution_count": 11,
   "metadata": {},
   "outputs": [],
   "source": [
    "# Parameters\n",
    "morgan_radius = 2\n",
    "morgan_n_bits = 1024\n",
    "fp_n_bits = 2048\n",
    "\n",
    "# generate Morgan fingerprint with radius 2\n",
    "fps = [AllChem.GetMorganFingerprintAsBitVect(m, morgan_radius, nBits=morgan_n_bits) for m in solu_df['MOL']]\n",
    "# convert the RDKit explicit vectors into numpy arrays\n",
    "X_morgan = np.asarray(fps)\n",
    "\n",
    "# generate RDKFingerprint with default settings\n",
    "rdkit_fp = [Chem.RDKFingerprint(m, fpSize=fp_n_bits) for m in solu_df['MOL']]\n",
    "# convert the RDKit explicit vectors into numpy arrays\n",
    "X_rdkit = np.asarray(rdkit_fp)\n",
    "\n",
    "# Get the target values \n",
    "y = solu_df['Measured'].to_numpy()"
   ]
  },
  {
   "cell_type": "markdown",
   "metadata": {},
   "source": [
    "\n",
    "Before using the traditional machine learning methods for modeling, we could build our own simplified predictor by generating a 1-NN predictor (k-nearest neighbour, using only a single neighbour) using fingerprint similarity. We can make things simple by splitting the data into two separate sets, one for training and one for testing. Then we make predictions by finding the most similar fingerprint in the training set and returning the value recorded for that molecule. Look through the code below and make sure you understand it. "
   ]
  },
  {
   "cell_type": "code",
   "execution_count": 12,
   "metadata": {},
   "outputs": [
    {
     "data": {
      "image/png": "[encoded data removed]",
      "text/plain": [
       "<Figure size 576x432 with 1 Axes>"
      ]
     },
     "metadata": {
      "needs_background": "light"
     },
     "output_type": "display_data"
    },
    {
     "data": {
      "image/png": "[encoded data removed]",
      "text/plain": [
       "<Figure size 576x432 with 1 Axes>"
      ]
     },
     "metadata": {
      "needs_background": "light"
     },
     "output_type": "display_data"
    },
    {
     "name": "stdout",
     "output_type": "stream",
     "text": [
      "FP-similarity based predictions, MSE:  2.4569746463414637\n"
     ]
    }
   ],
   "source": [
    "# Take a random partition of the dataset, say 800 molecules for basing predictions\n",
    "# and the remaining for testing\n",
    "rng_seed = 1513510\n",
    "n_training = 800\n",
    "\n",
    "# The fingerprints\n",
    "random.seed(rng_seed)\n",
    "fps_cpy = fps.copy() # We do a copy here, to keep the ordering in case you re-run this cell\n",
    "random.shuffle(fps_cpy)\n",
    "fps_train = fps_cpy[:n_training]\n",
    "fps_test = fps_cpy[n_training:]\n",
    "\n",
    "# The target values\n",
    "random.seed(rng_seed) # set the same seed again, to make sure identical shuffling of the target list!\n",
    "y_lst = list(y)\n",
    "random.shuffle(y_lst)\n",
    "y_train = y_lst[:n_training]\n",
    "y_test = y_lst[n_training:]\n",
    "\n",
    "\n",
    "# Define a function that performs the 'similarity based predictions'\n",
    "best_tani_lst = []\n",
    "def predict_based_on_tanimoto(fp):\n",
    "    best_tani = -1\n",
    "    best_tani_ind = -1\n",
    "    for ind, fp_mol in enumerate(fps_train):\n",
    "        tani = DataStructs.FingerprintSimilarity(fp_mol, fp)\n",
    "        if tani > best_tani:\n",
    "            best_tani = tani\n",
    "            best_tani_ind = ind\n",
    "    best_tani_lst.append(best_tani)\n",
    "    return y_train[best_tani_ind]\n",
    "\n",
    "# Loop through all test molecules and predict!\n",
    "y_test_preds = []\n",
    "for i in range(len(fps_test)):\n",
    "    pred = predict_based_on_tanimoto(fps_test[i])\n",
    "    y_test_preds.append(pred)\n",
    "\n",
    "mse_fp_based = mean_squared_error(y_test_preds, y_test)\n",
    "\n",
    "diff_solu = np.asarray(y_test) - np.asarray(y_test_preds)\n",
    "\n",
    "# Histogram over differences\n",
    "plt.figure(figsize=(8,6))\n",
    "plt.hist(diff_solu, bins=50)\n",
    "plt.show()\n",
    "\n",
    "# Scatter plot\n",
    "plt.figure(figsize=(8,6))\n",
    "plt.scatter(best_tani_lst, diff_solu)\n",
    "plt.show()\n",
    "\n",
    "print(\"FP-similarity based predictions, MSE: \", mse_fp_based)\n"
   ]
  },
  {
   "cell_type": "markdown",
   "metadata": {},
   "source": [
    "Here we used the Tanimoto difference between fingerprints (the default in `DataStructs.FingerprintSimilarity`), does the prediction accuracy change if you change the similarity metric? Now I used the Morgan fingerprint, does it change if you use the RDKit fingerprint?\n",
    "\n",
    "In this section we used the fingerprint similarity for predicting the solubility for a \"unknown\" molecule. This is QSAR in a nutshell, we assume that the structure of a molecule is related to the target that we are trying to predict. But fingerprint similarity can also be used for, e.g., retreiving similar molecules from a database.  \n",
    "\n",
    "## 3. Evaluate fingerprint descriptors\n",
    "\n",
    "Now let's continue with QSAR and use some of the more typically used learning methods. First we define an evaluation function that computes the MSE (so we can compare with the results they got in the paper we are using data from). Here we will use the same KFold CV as in the supervised lab, in conjunction with the [mean_squared_error](https://scikit-learn.org/stable/modules/generated/sklearn.metrics.mean_squared_error.html)-function in sklearn.  \n"
   ]
  },
  {
   "cell_type": "code",
   "execution_count": 14,
   "metadata": {},
   "outputs": [],
   "source": [
    "# Set the Random Number Generator (RNG) seed to make sure you can reproduce your results (feel free to change this!)\n",
    "seed = 42\n",
    "\n",
    "cv_folds = 10\n",
    "\n",
    "# Define a utility method for running k-fold CV \n",
    "def eval_estimator(estimator, X, y):\n",
    "    kf = KFold(n_splits=cv_folds, shuffle=True, random_state=seed)\n",
    "    \n",
    "    MSE = np.empty((0,0))\n",
    "    for train_ind, test_ind in kf.split(X):\n",
    "        X_train, X_test = X[train_ind], X[test_ind]\n",
    "        y_train, y_test = y[train_ind], y[test_ind]\n",
    "        estimator.fit(X_train,y_train)\n",
    "        predictions = estimator.predict(X_test)\n",
    "        MSE = np.append(MSE, mean_squared_error(y_test,predictions))\n",
    "    print(\"MSE: %0.3f (+/- %0.3f)\" % (MSE.mean(), MSE.std() * 2))"
   ]
  },
  {
   "cell_type": "markdown",
   "metadata": {},
   "source": [
    "We will start simple by trying a linear model at first. We can try Ordinary Least Squares (OLS) and then also apply L2 and L1 regularization ([Ridge regression: L2 regularization](https://scikit-learn.org/stable/modules/generated/sklearn.linear_model.Ridge.html) and [Lasso: L1 regularization](https://scikit-learn.org/stable/modules/generated/sklearn.linear_model.Lasso.html)). \n",
    "\n",
    "(It does take a very long time to run this so be patient)"
   ]
  },
  {
   "cell_type": "code",
   "execution_count": 15,
   "metadata": {},
   "outputs": [
    {
     "name": "stdout",
     "output_type": "stream",
     "text": [
      "Standard Linear Regression:\n",
      "MSE: 4154844508646229774696448.000 (+/- 15087916668649502148657152.000)\n",
      "MSE: 96505489186552752898048.000 (+/- 175337688970308484071424.000)\n"
     ]
    }
   ],
   "source": [
    "# Standard OLS linear regression\n",
    "print(\"Standard Linear Regression:\")\n",
    "eval_estimator(LinearRegression(), X_morgan, y)\n",
    "eval_estimator(LinearRegression(), X_rdkit, y)"
   ]
  },
  {
   "cell_type": "code",
   "execution_count": 16,
   "metadata": {},
   "outputs": [
    {
     "name": "stdout",
     "output_type": "stream",
     "text": [
      "Linear Regression with L2 regularization:\n",
      "MSE: 2.163 (+/- 0.753)\n",
      "MSE: 2.051 (+/- 0.592)\n"
     ]
    }
   ],
   "source": [
    "# Using L2 regularization\n",
    "print(\"Linear Regression with L2 regularization:\")\n",
    "eval_estimator(Ridge(), X_morgan, y)\n",
    "eval_estimator(Ridge(), X_rdkit, y)"
   ]
  },
  {
   "cell_type": "code",
   "execution_count": 17,
   "metadata": {},
   "outputs": [
    {
     "name": "stdout",
     "output_type": "stream",
     "text": [
      "Linear Regression with L1 regularization:\n",
      "MSE: 4.399 (+/- 1.123)\n",
      "MSE: 4.399 (+/- 1.123)\n"
     ]
    }
   ],
   "source": [
    "# Using L1 regularization\n",
    "print(\"Linear Regression with L1 regularization:\")\n",
    "eval_estimator(Lasso(), X_morgan, y)\n",
    "eval_estimator(Lasso(), X_rdkit, y)"
   ]
  },
  {
   "cell_type": "markdown",
   "metadata": {},
   "source": [
    "Wow, using linear regression without regularization was **extremely bad**! Do you have any idea why? Note that the regularization results were fairly OK, not as good as the published predictions at 0.832 but still within reason. Take a minute to try and come to up with reasons on your own before reading on to learn more about it. Also compare with the simple 1-NN predictor we used in the section before, even though we cannot strictly compare the results as we did not evaluate it in the same way. \n",
    "\n",
    "If you have not come up with a potential reason for why OLS did not work, perhaps trying the PLSRegression below might give you a hint. You can read more about PLS-Regression on the sklearn page for [PLSRegression](https://scikit-learn.org/stable/modules/generated/sklearn.cross_decomposition.PLSRegression.html) but the simple idea of PLSRegression is to combine PCA (to reduce the number of dimensions of the feature-matrix `X`) and then apply linear regression on the new X matrix with much fewer features/dimensions. We cannot know the optimal number of dimensions in advance, we could use standard PCA on the X matrix and use the Elbow-method as in the unsuperviced lab to get a good starting point (even though the optimal solution might not be identical). You could do that, or fill in a few values below and find the optimal value using the MSE of the PLS instead. Let us continue with only the RDKit fingerprint as it produced the best results this far, you can chose the Morgan fingerprint if you'd like, simpy change the `X_rdkit` to `X_morgan` in the code."
   ]
  },
  {
   "cell_type": "code",
   "execution_count": null,
   "metadata": {},
   "outputs": [],
   "source": [
    "for comp in <fill in number of components to try>:\n",
    "    print(\"Running PLS-Regression n_components: {0}\".format(comp))\n",
    "    eval_estimator(PLSRegression(n_components=comp), X_rdkit,y)"
   ]
  },
  {
   "cell_type": "markdown",
   "metadata": {},
   "source": [
    "How many dimensions did you find to be optimal? How are you sure that you've actually found the global optima? My best result was *MSE: 1.160 (+/- 0.382)*, did you beat that? \n",
    "\n",
    "Hopefully by now you have an idea of why the Linear Regression performed so poorly; it is because the feature matrix, X, is made up with a lot of 0s and there is no penalty for large weights. When the algorithm tries to find the optimal parameters, some features might be 0 for all training examples and thus that parameter can end up becoming very large or very small, without having any effect on the training data loss. If the validation/testing data then has examples that happens to have a 1 for any of these parameters the predicted value can become something really large or small, even though values in those ranges has never been encountered before. That is why the the regularization improved the predictions, as it not only tries to find the optimal parameters, but also punishes large parameter values for features. The PLS-regression also effectively removes dimensions where there is no difference (i.e. all training examples had a 0 or 1 for one feature), and thus these parameter weights will not end up in the final model.\n",
    "\n",
    "We can count the number of 0s and 1s in the `X` matrix and examine the parameter weights to validate this!"
   ]
  },
  {
   "cell_type": "code",
   "execution_count": 18,
   "metadata": {},
   "outputs": [
    {
     "name": "stdout",
     "output_type": "stream",
     "text": [
      "0: 1999264\n",
      "1: 310880\n",
      "Number of weights smaller than -10000: 1028\n",
      "Number of weights larger than 10000: 1006\n",
      "Number of small weights: 14\n",
      "Regression intercept: -0.8996259782939937\n"
     ]
    }
   ],
   "source": [
    "unique_elements, counts_elements = np.unique(X_rdkit, return_counts=True)\n",
    "\n",
    "for i in [0,1]:\n",
    "    print(\"{0}: {1}\".format(unique_elements[i], counts_elements[i]))\n",
    "\n",
    "# Look at the generated weights for the Linear Regression model\n",
    "bad_model = LinearRegression().fit(X_rdkit,y)\n",
    "\n",
    "w = bad_model.coef_\n",
    "small_w_mask = [w < -10000][0]\n",
    "small_w  = np.compress(np.asarray(small_w_mask), w)\n",
    "print(\"Number of weights smaller than -10000: {0}\".format(len(small_w)))\n",
    "\n",
    "large_w_mask = [w > 10000][0]\n",
    "large_w  = np.compress(np.asarray(large_w_mask), w)\n",
    "print(\"Number of weights larger than 10000: {0}\".format(len(large_w)))\n",
    "\n",
    "normal_w_mask = [w > -10][0][w < 10]\n",
    "normal_w  = np.compress(np.asarray(normal_w_mask), w)\n",
    "print(\"Number of small weights: {0}\".format(len(normal_w)))\n",
    "\n",
    "print(\"Regression intercept: {0}\".format(bad_model.intercept_))"
   ]
  },
  {
   "cell_type": "markdown",
   "metadata": {},
   "source": [
    "I simply took an arbitrarly large number (10,000) and checked for larger or smaller parameter weights, apparently most weights were extremely large! Thus, validating models are a crucial step in modeling - you cannot deploy a model without validating and making sure that things work as they should. \n",
    "\n",
    "## 4. Evaluate Physicochemical descriptors\n",
    "\n",
    "OK let us move on! We have tried some standard fingerprints, now we will compute Physicochemical (PhysChem) descriptors as they did in the paper we took the dataset from. They tried 8 descriptors but found that 4 of them was the most significant in the modeling. RDKit has a list of their [available descriptors](https://www.rdkit.org/docs/GettingStartedInPython.html#list-of-available-descriptors). \n",
    "The cell below computes all descriptors for you, the first descriptor I had to calculate with a new function but the rest was available right away in RDKit."
   ]
  },
  {
   "cell_type": "code",
   "execution_count": 19,
   "metadata": {},
   "outputs": [
    {
     "data": {
      "text/html": [
       "<div>\n",
       "<style scoped>\n",
       "    .dataframe tbody tr th:only-of-type {\n",
       "        vertical-align: middle;\n",
       "    }\n",
       "\n",
       "    .dataframe tbody tr th {\n",
       "        vertical-align: top;\n",
       "    }\n",
       "\n",
       "    .dataframe thead th {\n",
       "        text-align: right;\n",
       "    }\n",
       "</style>\n",
       "<table border=\"1\" class=\"dataframe\">\n",
       "  <thead>\n",
       "    <tr style=\"text-align: right;\">\n",
       "      <th></th>\n",
       "      <th>Compound ID</th>\n",
       "      <th>Measured</th>\n",
       "      <th>Predicted</th>\n",
       "      <th>SMILES</th>\n",
       "      <th>MOL</th>\n",
       "      <th>FRAGS</th>\n",
       "      <th>LOGP</th>\n",
       "      <th>HAC</th>\n",
       "      <th>Wt</th>\n",
       "      <th>#rb</th>\n",
       "      <th>#arom</th>\n",
       "      <th>prop_not_C</th>\n",
       "      <th>#H_donors</th>\n",
       "      <th>#H_acceptors</th>\n",
       "      <th>PSA</th>\n",
       "    </tr>\n",
       "  </thead>\n",
       "  <tbody>\n",
       "    <tr>\n",
       "      <th>0</th>\n",
       "      <td>1,1,1,2-Tetrachloroethane</td>\n",
       "      <td>-2.18</td>\n",
       "      <td>-2.794</td>\n",
       "      <td>ClCC(Cl)(Cl)Cl</td>\n",
       "      <td>&lt;svg xmlns=\"http://www.w3.org/2000/svg\" xmlns:...</td>\n",
       "      <td>1</td>\n",
       "      <td>2.5954</td>\n",
       "      <td>6</td>\n",
       "      <td>167.850</td>\n",
       "      <td>0</td>\n",
       "      <td>0</td>\n",
       "      <td>0.666667</td>\n",
       "      <td>0</td>\n",
       "      <td>0</td>\n",
       "      <td>0.0</td>\n",
       "    </tr>\n",
       "    <tr>\n",
       "      <th>1</th>\n",
       "      <td>1,1,1-Trichloroethane</td>\n",
       "      <td>-2.00</td>\n",
       "      <td>-2.232</td>\n",
       "      <td>CC(Cl)(Cl)Cl</td>\n",
       "      <td>&lt;svg xmlns=\"http://www.w3.org/2000/svg\" xmlns:...</td>\n",
       "      <td>1</td>\n",
       "      <td>2.3765</td>\n",
       "      <td>5</td>\n",
       "      <td>133.405</td>\n",
       "      <td>0</td>\n",
       "      <td>0</td>\n",
       "      <td>0.600000</td>\n",
       "      <td>0</td>\n",
       "      <td>0</td>\n",
       "      <td>0.0</td>\n",
       "    </tr>\n",
       "    <tr>\n",
       "      <th>2</th>\n",
       "      <td>1,1,2,2-Tetrachloroethane</td>\n",
       "      <td>-1.74</td>\n",
       "      <td>-2.549</td>\n",
       "      <td>ClC(Cl)C(Cl)Cl</td>\n",
       "      <td>&lt;svg xmlns=\"http://www.w3.org/2000/svg\" xmlns:...</td>\n",
       "      <td>1</td>\n",
       "      <td>2.5938</td>\n",
       "      <td>6</td>\n",
       "      <td>167.850</td>\n",
       "      <td>1</td>\n",
       "      <td>0</td>\n",
       "      <td>0.666667</td>\n",
       "      <td>0</td>\n",
       "      <td>0</td>\n",
       "      <td>0.0</td>\n",
       "    </tr>\n",
       "    <tr>\n",
       "      <th>3</th>\n",
       "      <td>1,1,2-Trichloroethane</td>\n",
       "      <td>-1.48</td>\n",
       "      <td>-1.961</td>\n",
       "      <td>ClCC(Cl)Cl</td>\n",
       "      <td>&lt;svg xmlns=\"http://www.w3.org/2000/svg\" xmlns:...</td>\n",
       "      <td>1</td>\n",
       "      <td>2.0289</td>\n",
       "      <td>5</td>\n",
       "      <td>133.405</td>\n",
       "      <td>1</td>\n",
       "      <td>0</td>\n",
       "      <td>0.600000</td>\n",
       "      <td>0</td>\n",
       "      <td>0</td>\n",
       "      <td>0.0</td>\n",
       "    </tr>\n",
       "    <tr>\n",
       "      <th>4</th>\n",
       "      <td>1,1,2-Trichlorotrifluoroethane</td>\n",
       "      <td>-3.04</td>\n",
       "      <td>-3.077</td>\n",
       "      <td>FC(F)(Cl)C(F)(Cl)Cl</td>\n",
       "      <td>&lt;svg xmlns=\"http://www.w3.org/2000/svg\" xmlns:...</td>\n",
       "      <td>1</td>\n",
       "      <td>2.9189</td>\n",
       "      <td>8</td>\n",
       "      <td>187.375</td>\n",
       "      <td>1</td>\n",
       "      <td>0</td>\n",
       "      <td>0.750000</td>\n",
       "      <td>0</td>\n",
       "      <td>0</td>\n",
       "      <td>0.0</td>\n",
       "    </tr>\n",
       "  </tbody>\n",
       "</table>\n",
       "</div>"
      ],
      "text/plain": [
       "                      Compound ID  Measured  Predicted               SMILES  \\\n",
       "0       1,1,1,2-Tetrachloroethane     -2.18     -2.794       ClCC(Cl)(Cl)Cl   \n",
       "1           1,1,1-Trichloroethane     -2.00     -2.232         CC(Cl)(Cl)Cl   \n",
       "2       1,1,2,2-Tetrachloroethane     -1.74     -2.549       ClC(Cl)C(Cl)Cl   \n",
       "3           1,1,2-Trichloroethane     -1.48     -1.961           ClCC(Cl)Cl   \n",
       "4  1,1,2-Trichlorotrifluoroethane     -3.04     -3.077  FC(F)(Cl)C(F)(Cl)Cl   \n",
       "\n",
       "                                                 MOL  FRAGS    LOGP  HAC  \\\n",
       "0  <svg xmlns=\"http://www.w3.org/2000/svg\" xmlns:...      1  2.5954    6   \n",
       "1  <svg xmlns=\"http://www.w3.org/2000/svg\" xmlns:...      1  2.3765    5   \n",
       "2  <svg xmlns=\"http://www.w3.org/2000/svg\" xmlns:...      1  2.5938    6   \n",
       "3  <svg xmlns=\"http://www.w3.org/2000/svg\" xmlns:...      1  2.0289    5   \n",
       "4  <svg xmlns=\"http://www.w3.org/2000/svg\" xmlns:...      1  2.9189    8   \n",
       "\n",
       "        Wt  #rb  #arom  prop_not_C  #H_donors  #H_acceptors  PSA  \n",
       "0  167.850    0      0    0.666667          0             0  0.0  \n",
       "1  133.405    0      0    0.600000          0             0  0.0  \n",
       "2  167.850    1      0    0.666667          0             0  0.0  \n",
       "3  133.405    1      0    0.600000          0             0  0.0  \n",
       "4  187.375    1      0    0.750000          0             0  0.0  "
      ]
     },
     "execution_count": 19,
     "metadata": {},
     "output_type": "execute_result"
    }
   ],
   "source": [
    "from rdkit.Chem import rdMolDescriptors\n",
    "\n",
    "pat = Chem.MolFromSmarts(\"[#6]\")\n",
    "\n",
    "def count_carbons(mol):\n",
    "    return len(mol.GetSubstructMatches(pat))\n",
    "\n",
    "def calc_proportion_not_carbon(mol):\n",
    "    n_C = count_carbons(mol)\n",
    "    n_tot = Descriptors.HeavyAtomCount(mol)\n",
    "    return (n_tot-n_C)/n_tot\n",
    "\n",
    "# 1. cLogP - already compted when plotting the HAC vs LogP earlier\n",
    "#solu_df['LOGP'] = solu_df['MOL'].apply(lambda mol: Descriptors.MolLogP(mol))\n",
    "# 2. MolWt\n",
    "solu_df['Wt'] = solu_df['MOL'].apply(lambda mol: Descriptors.MolWt(mol))\n",
    "# 3. NumRotatableBonds\n",
    "solu_df['#rb'] = solu_df['MOL'].apply(lambda mol: Descriptors.NumRotatableBonds(mol))\n",
    "# 4. NumAromaticRings\n",
    "solu_df['#arom'] = solu_df['MOL'].apply(lambda mol: Descriptors.NumAromaticRings(mol))\n",
    "# 5. Proportion \"not C\" / HeavyAtomCount \n",
    "solu_df['prop_not_C'] = solu_df['MOL'].apply(lambda mol: calc_proportion_not_carbon(mol))\n",
    "# 6. NumHDonors\n",
    "solu_df['#H_donors'] = solu_df['MOL'].apply(lambda mol: Descriptors.NumHDonors(mol))\n",
    "# 7. NumHAcceptors\n",
    "solu_df['#H_acceptors'] = solu_df['MOL'].apply(lambda mol: Descriptors.NumHAcceptors(mol))\n",
    "# 8. Polar Surface Area\n",
    "solu_df['PSA'] = solu_df['MOL'].apply(lambda mol: rdMolDescriptors.CalcTPSA(mol))\n",
    "\n",
    "solu_df.head()"
   ]
  },
  {
   "cell_type": "markdown",
   "metadata": {},
   "source": [
    "Now we've calculated seven PhysChem descriptors, convert them into a numpy ndarray and let's try it out!"
   ]
  },
  {
   "cell_type": "code",
   "execution_count": 20,
   "metadata": {},
   "outputs": [
    {
     "data": {
      "text/plain": [
       "(1128, 8)"
      ]
     },
     "execution_count": 20,
     "metadata": {},
     "output_type": "execute_result"
    }
   ],
   "source": [
    "X_phys_chem = solu_df[['LOGP','Wt','#rb','#arom','prop_not_C','#H_donors','#H_acceptors','PSA']].to_numpy()\n",
    "X_phys_chem.shape"
   ]
  },
  {
   "cell_type": "code",
   "execution_count": 21,
   "metadata": {},
   "outputs": [
    {
     "name": "stdout",
     "output_type": "stream",
     "text": [
      "Standard Linear Regression:\n",
      "MSE: 0.936 (+/- 0.237)\n",
      "Linear Regression with L2 regularization:\n",
      "MSE: 0.936 (+/- 0.236)\n",
      "Linear Regression with L1 regularization:\n",
      "MSE: 1.565 (+/- 0.389)\n"
     ]
    }
   ],
   "source": [
    "# Standard OLS linear regression\n",
    "print(\"Standard Linear Regression:\")\n",
    "eval_estimator(LinearRegression(), X_phys_chem, y)\n",
    "\n",
    "# Using L2 regularization\n",
    "print(\"Linear Regression with L2 regularization:\")\n",
    "eval_estimator(Ridge(), X_phys_chem, y)\n",
    "\n",
    "# Using L1 regularization\n",
    "print(\"Linear Regression with L1 regularization:\")\n",
    "eval_estimator(Lasso(), X_phys_chem, y)"
   ]
  },
  {
   "cell_type": "code",
   "execution_count": 22,
   "metadata": {},
   "outputs": [
    {
     "name": "stdout",
     "output_type": "stream",
     "text": [
      "Running PLS-Regression n_components: 1\n",
      "MSE: 1.109 (+/- 0.275)\n",
      "Running PLS-Regression n_components: 2\n",
      "MSE: 1.042 (+/- 0.285)\n",
      "Running PLS-Regression n_components: 3\n",
      "MSE: 0.960 (+/- 0.260)\n",
      "Running PLS-Regression n_components: 4\n",
      "MSE: 0.951 (+/- 0.237)\n",
      "Running PLS-Regression n_components: 5\n",
      "MSE: 0.938 (+/- 0.241)\n",
      "Running PLS-Regression n_components: 6\n",
      "MSE: 0.936 (+/- 0.236)\n",
      "Running PLS-Regression n_components: 7\n",
      "MSE: 0.935 (+/- 0.237)\n"
     ]
    }
   ],
   "source": [
    "for comp in range(1,X_phys_chem.shape[1]):\n",
    "    print(\"Running PLS-Regression n_components: {0}\".format(comp))\n",
    "    eval_estimator(PLSRegression(n_components=comp), X_phys_chem,y)"
   ]
  },
  {
   "cell_type": "markdown",
   "metadata": {},
   "source": [
    "OK, now we're pretty close to the MSE of 0.829 that they had in their paper. We might have slightly different descriptors compared to the ones used in the paper and the dataset we used only contained 1126 molecules wheras in the paper they used an exteded dataset with 1305 molecules. They did not use the standard 10-fold CV, instead used 3 separate validation sets based on molecule size (they wished to see if the performance differed between different types of molecules). So minor differences are expected, also consider that we use the MSE for evaluation - i.e. the differences are squared and thus the difference will become larger then e.g. considering the unsigned meand difference. \n",
    "\n",
    "If you have time and are interested, you can continue to explore and try to improve upon these results, e.g. following one or multiple of these ideas (or find your own idea);\n",
    "1. Scaling of features (only applies to the PhysChem ones)\n",
    "2. Find other descriptor(s) that you might think can improve the results, e.g. by looking at RDKits list of available ones ([descriptors](https://www.rdkit.org/docs/GettingStartedInPython.html#list-of-available-descriptors)).\n",
    "3. Use another type of ML algorithm (e.g. [SVM](https://scikit-learn.org/stable/modules/generated/sklearn.svm.SVR.html) or [RF](https://scikit-learn.org/stable/modules/generated/sklearn.ensemble.RandomForestRegressor.html) )\n",
    "4. Use a different evaluation method, e.g. LOO instead of KFold CV. \n",
    "\n",
    "At least a score of 0.469 can be achieved if you wish to have something to aim for (thus beating the results presented in the paper with quite a bit :-) )\n",
    "\n",
    "You will use the same dataset in one of the labs in Neural Networks next week, so it can be good to write down you results so you have something to compare with when you do that lab!\n",
    "\n",
    "### Lab finished!"
   ]
  },
  {
   "cell_type": "code",
   "execution_count": null,
   "metadata": {},
   "outputs": [],
   "source": []
  },
  {
   "cell_type": "code",
   "execution_count": null,
   "metadata": {},
   "outputs": [],
   "source": []
  },
  {
   "cell_type": "code",
   "execution_count": null,
   "metadata": {},
   "outputs": [],
   "source": []
  }
 ],
 "metadata": {
  "kernelspec": {
   "display_name": "Python 3",
   "language": "python",
   "name": "python3"
  },
  "language_info": {
   "codemirror_mode": {
    "name": "ipython",
    "version": 3
   },
   "file_extension": ".py",
   "mimetype": "text/x-python",
   "name": "python",
   "nbconvert_exporter": "python",
   "pygments_lexer": "ipython3",
   "version": "3.8.10"
  }
 },
 "nbformat": 4,
 "nbformat_minor": 4
}
