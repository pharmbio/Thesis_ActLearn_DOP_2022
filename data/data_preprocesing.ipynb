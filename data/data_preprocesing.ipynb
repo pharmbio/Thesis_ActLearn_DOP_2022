{
 "cells": [
  {
   "cell_type": "code",
   "execution_count": null,
   "metadata": {},
   "outputs": [],
   "source": [
    "import csv\n",
    "import pandas as pd\n",
    "import numpy as np\n",
    "import seaborn as sns\n",
    "import matplotlib.pyplot as plt"
   ]
  },
  {
   "cell_type": "markdown",
   "metadata": {},
   "source": [
    "### Data set loading"
   ]
  },
  {
   "cell_type": "code",
   "execution_count": 1,
   "metadata": {},
   "outputs": [],
   "source": [
    "def load_csv(filename):\n",
    "    file = open(filename, \"r\", encoding=\"utf-8\")\n",
    "    experiments = []\n",
    "    headers = []\n",
    "    reader = csv.reader(file)\n",
    "    for i, lines in enumerate(reader):\n",
    "        if i == 0:\n",
    "            #headers = [e for e in lines[0].split(\";\")]\n",
    "            h = lines[0].split(\";\")\n",
    "            headers.append(h)\n",
    "        else:\n",
    "            tmp = lines[0].split(\";\")\n",
    "            for j in range(0,len(tmp)):\n",
    "                if (j != 0 and j != 1879):\n",
    "                    tmp[j] = float(tmp[j])\n",
    "                else:\n",
    "                    continue\n",
    "            #tmp = [float(tmp[j]) for j in range(0,len(tmp)) if (j!=0 and j!=1879)] #This removes two entries, dunno why. \n",
    "            experiments.append(tmp)\n",
    "    file.close()\n",
    "    return headers, experiments"
   ]
  },
  {
   "cell_type": "code",
   "execution_count": 2,
   "metadata": {},
   "outputs": [
    {
     "ename": "NameError",
     "evalue": "name 'csv' is not defined",
     "output_type": "error",
     "traceback": [
      "\u001b[0;31m---------------------------------------------------------------------------\u001b[0m",
      "\u001b[0;31mNameError\u001b[0m                                 Traceback (most recent call last)",
      "\u001b[0;32m<ipython-input-2-706f3ab134a4>\u001b[0m in \u001b[0;36m<module>\u001b[0;34m\u001b[0m\n\u001b[0;32m----> 1\u001b[0;31m \u001b[0mheaders\u001b[0m\u001b[0;34m,\u001b[0m \u001b[0mexperiments\u001b[0m \u001b[0;34m=\u001b[0m\u001b[0mload_csv\u001b[0m\u001b[0;34m(\u001b[0m\u001b[0;34m'/home/jovyan/covid-data/dalia_MeanFeaturesPerWell_BatchA.csv'\u001b[0m\u001b[0;34m)\u001b[0m\u001b[0;34m\u001b[0m\u001b[0;34m\u001b[0m\u001b[0m\n\u001b[0m\u001b[1;32m      2\u001b[0m \u001b[0mexperiments_df\u001b[0m \u001b[0;34m=\u001b[0m \u001b[0mpd\u001b[0m\u001b[0;34m.\u001b[0m\u001b[0mDataFrame\u001b[0m\u001b[0;34m(\u001b[0m\u001b[0mexperiments\u001b[0m\u001b[0;34m)\u001b[0m\u001b[0;34m.\u001b[0m\u001b[0miloc\u001b[0m\u001b[0;34m[\u001b[0m\u001b[0;34m:\u001b[0m\u001b[0;34m:\u001b[0m\u001b[0;34m-\u001b[0m\u001b[0;36m1\u001b[0m\u001b[0;34m]\u001b[0m \u001b[0;31m#reversed dataframe\u001b[0m\u001b[0;34m\u001b[0m\u001b[0;34m\u001b[0m\u001b[0m\n",
      "\u001b[0;32m<ipython-input-1-169cc120b667>\u001b[0m in \u001b[0;36mload_csv\u001b[0;34m(filename)\u001b[0m\n\u001b[1;32m      3\u001b[0m     \u001b[0mexperiments\u001b[0m \u001b[0;34m=\u001b[0m \u001b[0;34m[\u001b[0m\u001b[0;34m]\u001b[0m\u001b[0;34m\u001b[0m\u001b[0;34m\u001b[0m\u001b[0m\n\u001b[1;32m      4\u001b[0m     \u001b[0mheaders\u001b[0m \u001b[0;34m=\u001b[0m \u001b[0;34m[\u001b[0m\u001b[0;34m]\u001b[0m\u001b[0;34m\u001b[0m\u001b[0;34m\u001b[0m\u001b[0m\n\u001b[0;32m----> 5\u001b[0;31m     \u001b[0mreader\u001b[0m \u001b[0;34m=\u001b[0m \u001b[0mcsv\u001b[0m\u001b[0;34m.\u001b[0m\u001b[0mreader\u001b[0m\u001b[0;34m(\u001b[0m\u001b[0mfile\u001b[0m\u001b[0;34m)\u001b[0m\u001b[0;34m\u001b[0m\u001b[0;34m\u001b[0m\u001b[0m\n\u001b[0m\u001b[1;32m      6\u001b[0m     \u001b[0;32mfor\u001b[0m \u001b[0mi\u001b[0m\u001b[0;34m,\u001b[0m \u001b[0mlines\u001b[0m \u001b[0;32min\u001b[0m \u001b[0menumerate\u001b[0m\u001b[0;34m(\u001b[0m\u001b[0mreader\u001b[0m\u001b[0;34m)\u001b[0m\u001b[0;34m:\u001b[0m\u001b[0;34m\u001b[0m\u001b[0;34m\u001b[0m\u001b[0m\n\u001b[1;32m      7\u001b[0m         \u001b[0;32mif\u001b[0m \u001b[0mi\u001b[0m \u001b[0;34m==\u001b[0m \u001b[0;36m0\u001b[0m\u001b[0;34m:\u001b[0m\u001b[0;34m\u001b[0m\u001b[0;34m\u001b[0m\u001b[0m\n",
      "\u001b[0;31mNameError\u001b[0m: name 'csv' is not defined"
     ]
    }
   ],
   "source": [
    "headers, experiments =load_csv('/home/jovyan/covid-data/dalia_MeanFeaturesPerWell_BatchA.csv')\n",
    "experiments_df = pd.DataFrame(experiments).iloc[::-1] #reversed dataframe"
   ]
  },
  {
   "cell_type": "code",
   "execution_count": null,
   "metadata": {},
   "outputs": [],
   "source": [
    "print(f'Number of experiments in MeanFeaturesPerWell_BatchA: {len(experiments)}') #Experiments in batch A\n",
    "print(f'Number of columns in MeanFeaturesPerWell_BatchA: {len(experiments[0])}') #Columns"
   ]
  },
  {
   "cell_type": "code",
   "execution_count": null,
   "metadata": {},
   "outputs": [],
   "source": [
    "headers[0][-5:]"
   ]
  },
  {
   "cell_type": "markdown",
   "metadata": {},
   "source": [
    "### Principal component analysis: extract information"
   ]
  },
  {
   "cell_type": "code",
   "execution_count": null,
   "metadata": {},
   "outputs": [],
   "source": [
    "pca_info_headers = [headers[i][1879:] for i in range(0,len(headers))]\n",
    "print(pca_info_headers)\n",
    "pca_info_data = [experiments[i][1879:] for i in range(0,len(experiments))]\n",
    "print(pca_info_data[0:3])"
   ]
  },
  {
   "cell_type": "markdown",
   "metadata": {},
   "source": [
    "### Maris' heatmaps replication"
   ]
  },
  {
   "cell_type": "code",
   "execution_count": null,
   "metadata": {},
   "outputs": [],
   "source": [
    "def filter_plate(plate_prefix,data):\n",
    "    plate = []\n",
    "    for i in range(0, len(data)):\n",
    "        if data[i][0].startswith(plate_prefix):\n",
    "            plate.append(data[i])\n",
    "    return plate"
   ]
  },
  {
   "cell_type": "code",
   "execution_count": null,
   "metadata": {},
   "outputs": [],
   "source": [
    "#Filtering plate SS-001A-2\n",
    "plate_SS_001A_2 = filter_plate('001A',experiments)\n",
    "#print(len(plate_001A)) #make sure that no data is missing\n",
    "#print(len(plate_001A[0]) )#make sure that no data is missing\n",
    "\n",
    "#Preparing data\n",
    "df = pd.DataFrame(plate_SS_001A_2)\n",
    "sorted_df = df.sort_values(by=0)\n",
    "sorted_df.head(5)"
   ]
  },
  {
   "cell_type": "code",
   "execution_count": null,
   "metadata": {},
   "outputs": [],
   "source": [
    "def find_feature_index(feature):\n",
    "    for i, name in enumerate(headers[0]):\n",
    "        if feature == name:\n",
    "            break;\n",
    "    return i\n",
    "\n",
    "def heatmap(feature_name,save=False):\n",
    "    alphabet = [chr(i) for i in range(ord('A'),ord('P')+1)]\n",
    "    feature_index = find_feature_index(feature_name)\n",
    "    feature_data =  sorted_df[sorted_df.columns[feature_index]].to_numpy().reshape(16, 24)\n",
    "    df_cm = pd.DataFrame(feature_data, index = alphabet, columns = np.arange(1,25))\n",
    "    plt.figure(figsize = (7,4))\n",
    "    sns.heatmap(df_cm, cmap = 'Purples', linewidth = 1, annot=False)\n",
    "    plt.yticks(rotation=0)\n",
    "    plt.title(feature_name)\n",
    "    if save:\n",
    "        plt.savefig(\"\".join([\"heatmap_\",feature_name, \".png\"]))\n",
    "    plt.show()   "
   ]
  },
  {
   "cell_type": "code",
   "execution_count": null,
   "metadata": {},
   "outputs": [],
   "source": [
    "heatmap(\"Intensity_MeanIntensity_illumMITO_cells\",save=True) "
   ]
  },
  {
   "cell_type": "code",
   "execution_count": null,
   "metadata": {},
   "outputs": [],
   "source": [
    "heatmap(\"AreaShape_Area_nuclei\")"
   ]
  },
  {
   "cell_type": "code",
   "execution_count": null,
   "metadata": {},
   "outputs": [],
   "source": [
    "def scatter_feature(feature_name,feature_index, save=False):\n",
    "    fig, ax = plt.subplots(1, 1, figsize=(9,5))\n",
    "    g = sns.scatterplot(data=experiments_df[0:5463], x=0, y=feature_index, s=10, edgecolor='slateblue', linewidth=3, facecolor='slateblue')\n",
    "    g = sns.scatterplot(data=experiments_df[5463:5651], x=0, y=feature_index, s=10, edgecolor='pink', linewidth=3, facecolor='pink')\n",
    "    g = sns.scatterplot(data=experiments_df[5651:5809], x=0, y=feature_index, s=10, edgecolor='sandybrown', linewidth=3, facecolor='sandybrown')\n",
    "    g = sns.scatterplot(data=experiments_df[5809:], x=0, y=feature_index, s=10, edgecolor='darkseagreen', linewidth=3, facecolor='darkseagreen')\n",
    "    sns.set_style(\"ticks\")\n",
    "    g.set(xticklabels=[])\n",
    "    g.tick_params(bottom=False)\n",
    "    g.set_xlabel(\"ID\", color=\"black\", fontsize=15)\n",
    "    g.set_ylabel(feature_name, color=\"black\", fontsize=15)\n",
    "    if save:\n",
    "        plt.savefig(\"\".join([\"scatter_\",feature_name, \".png\"]))\n",
    "    plt.show()"
   ]
  },
  {
   "cell_type": "code",
   "execution_count": null,
   "metadata": {},
   "outputs": [],
   "source": [
    "scatter_feature(feature_name=\"Intensity_MeanIntensity_illumMITO_cells\",feature_index=1882, save=True)"
   ]
  },
  {
   "cell_type": "code",
   "execution_count": null,
   "metadata": {},
   "outputs": [],
   "source": []
  }
 ],
 "metadata": {
  "kernelspec": {
   "display_name": "Python 3",
   "language": "python",
   "name": "python3"
  },
  "language_info": {
   "codemirror_mode": {
    "name": "ipython",
    "version": 3
   },
   "file_extension": ".py",
   "mimetype": "text/x-python",
   "name": "python",
   "nbconvert_exporter": "python",
   "pygments_lexer": "ipython3",
   "version": "3.8.10"
  }
 },
 "nbformat": 4,
 "nbformat_minor": 4
}
