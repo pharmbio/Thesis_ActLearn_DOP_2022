{
 "cells": [
  {
   "cell_type": "code",
   "execution_count": 1,
   "metadata": {},
   "outputs": [],
   "source": [
    "import csv\n",
    "import pandas as pd\n",
    "import numpy as np\n",
    "import seaborn as sns\n",
    "import matplotlib.pyplot as plt\n",
    "import matplotlib.ticker as mticker\n",
    "import seaborn as sns\n",
    "plt.style.use(\"seaborn\")"
   ]
  },
  {
   "cell_type": "markdown",
   "metadata": {},
   "source": [
    "### Data set loading"
   ]
  },
  {
   "cell_type": "code",
   "execution_count": 2,
   "metadata": {},
   "outputs": [],
   "source": [
    "def load_csv(filename):\n",
    "    file = open(filename, \"r\", encoding=\"utf-8\")\n",
    "    experiments = []\n",
    "    headers = []\n",
    "    reader = csv.reader(file)\n",
    "    for i, lines in enumerate(reader):\n",
    "        if i == 0:\n",
    "            #headers = [e for e in lines[0].split(\";\")]\n",
    "            h = lines[0].split(\";\")\n",
    "            headers.append(h)\n",
    "        else:\n",
    "            tmp = lines[0].split(\";\")\n",
    "            for j in range(0,len(tmp)):\n",
    "                if (j != 0 and j != 1879):\n",
    "                    tmp[j] = float(tmp[j])\n",
    "                else:\n",
    "                    continue\n",
    "            #tmp = [float(tmp[j]) for j in range(0,len(tmp)) if (j!=0 and j!=1879)] #This removes two entries, dunno why. \n",
    "            experiments.append(tmp)\n",
    "    file.close()\n",
    "    return headers, experiments"
   ]
  },
  {
   "cell_type": "code",
   "execution_count": 3,
   "metadata": {},
   "outputs": [],
   "source": [
    "headers, experiments =load_csv('/home/jovyan/covid-data/dalia_MeanFeaturesPerWell_BatchA.csv')"
   ]
  },
  {
   "cell_type": "code",
   "execution_count": 4,
   "metadata": {},
   "outputs": [
    {
     "name": "stdout",
     "output_type": "stream",
     "text": [
      "Number of experiments in MeanFeaturesPerWell_BatchA: 6065\n",
      "Number of columns in MeanFeaturesPerWell_BatchA: 1883\n"
     ]
    }
   ],
   "source": [
    "print(f'Number of experiments in MeanFeaturesPerWell_BatchA: {len(experiments)}') #Experiments in batch A\n",
    "print(f'Number of columns in MeanFeaturesPerWell_BatchA: {len(experiments[0])}') #Columns"
   ]
  },
  {
   "cell_type": "code",
   "execution_count": 39,
   "metadata": {},
   "outputs": [
    {
     "data": {
      "text/plain": [
       "['RadialDistribution_ZernikePhase_illumSYTO_9_9_cytoplasm',\n",
       " 'CompoundID',\n",
       " 'principal component 1',\n",
       " 'Ypredicted',\n",
       " 'Intensity_MeanIntensity_illumMITO_cells']"
      ]
     },
     "execution_count": 39,
     "metadata": {},
     "output_type": "execute_result"
    }
   ],
   "source": [
    "headers[0][-5:]"
   ]
  },
  {
   "cell_type": "markdown",
   "metadata": {},
   "source": [
    "### Principal component analysis: extract information"
   ]
  },
  {
   "cell_type": "code",
   "execution_count": 5,
   "metadata": {},
   "outputs": [
    {
     "name": "stdout",
     "output_type": "stream",
     "text": [
      "[['CompoundID', 'principal component 1', 'Ypredicted', 'Intensity_MeanIntensity_illumMITO_cells']]\n",
      "[['Uninfected', -76.28908581, 0.920807383, 0.00620536], ['Uninfected', -78.55454195, 0.947901377, 0.006723618], ['Uninfected', -77.12240959, 0.954720873, 0.005685419]]\n"
     ]
    }
   ],
   "source": [
    "pca_info_headers = [headers[i][1879:] for i in range(0,len(headers))]\n",
    "print(pca_info_headers)\n",
    "pca_info_data = [experiments[i][1879:] for i in range(0,len(experiments))]\n",
    "print(pca_info_data[0:3])"
   ]
  },
  {
   "cell_type": "markdown",
   "metadata": {},
   "source": [
    "### Intensity_MeanIntensity_illumMITO_cells heatmap replication"
   ]
  },
  {
   "cell_type": "code",
   "execution_count": 7,
   "metadata": {},
   "outputs": [],
   "source": [
    "def filter_plate(plate_prefix,data):\n",
    "    plate = []\n",
    "    for i in range(0, len(data)):\n",
    "        if data[i][0].startswith(plate_prefix):\n",
    "            plate.append(data[i])\n",
    "    return plate"
   ]
  },
  {
   "cell_type": "code",
   "execution_count": 8,
   "metadata": {},
   "outputs": [],
   "source": [
    "plate_SS_001A_2 = filter_plate('001A',experiments)\n",
    "#print(len(plate_001A)) #make sure that no data is missing\n",
    "#print(len(plate_001A[0]) )#make sure that no data is missing"
   ]
  },
  {
   "cell_type": "code",
   "execution_count": 9,
   "metadata": {},
   "outputs": [
    {
     "data": {
      "text/html": [
       "<div>\n",
       "<style scoped>\n",
       "    .dataframe tbody tr th:only-of-type {\n",
       "        vertical-align: middle;\n",
       "    }\n",
       "\n",
       "    .dataframe tbody tr th {\n",
       "        vertical-align: top;\n",
       "    }\n",
       "\n",
       "    .dataframe thead th {\n",
       "        text-align: right;\n",
       "    }\n",
       "</style>\n",
       "<table border=\"1\" class=\"dataframe\">\n",
       "  <thead>\n",
       "    <tr style=\"text-align: right;\">\n",
       "      <th></th>\n",
       "      <th>0</th>\n",
       "      <th>1</th>\n",
       "      <th>2</th>\n",
       "      <th>3</th>\n",
       "      <th>4</th>\n",
       "      <th>5</th>\n",
       "      <th>6</th>\n",
       "      <th>7</th>\n",
       "      <th>8</th>\n",
       "      <th>9</th>\n",
       "      <th>...</th>\n",
       "      <th>1873</th>\n",
       "      <th>1874</th>\n",
       "      <th>1875</th>\n",
       "      <th>1876</th>\n",
       "      <th>1877</th>\n",
       "      <th>1878</th>\n",
       "      <th>1879</th>\n",
       "      <th>1880</th>\n",
       "      <th>1881</th>\n",
       "      <th>1882</th>\n",
       "    </tr>\n",
       "  </thead>\n",
       "  <tbody>\n",
       "    <tr>\n",
       "      <th>120</th>\n",
       "      <td>001AA01CBK308182</td>\n",
       "      <td>228.777778</td>\n",
       "      <td>1614.916622</td>\n",
       "      <td>2199.134236</td>\n",
       "      <td>1102.890412</td>\n",
       "      <td>1063.082895</td>\n",
       "      <td>1057.066693</td>\n",
       "      <td>1016.987809</td>\n",
       "      <td>1079.465245</td>\n",
       "      <td>1039.543836</td>\n",
       "      <td>...</td>\n",
       "      <td>0.002409</td>\n",
       "      <td>-0.046301</td>\n",
       "      <td>-0.013040</td>\n",
       "      <td>0.017562</td>\n",
       "      <td>0.012498</td>\n",
       "      <td>0.017867</td>\n",
       "      <td>CBK308182</td>\n",
       "      <td>25.152096</td>\n",
       "      <td>-0.133303</td>\n",
       "      <td>0.010099</td>\n",
       "    </tr>\n",
       "    <tr>\n",
       "      <th>16</th>\n",
       "      <td>001AA02Remdesivir</td>\n",
       "      <td>217.250000</td>\n",
       "      <td>1770.333452</td>\n",
       "      <td>2391.411152</td>\n",
       "      <td>1051.711796</td>\n",
       "      <td>1070.592800</td>\n",
       "      <td>1003.593429</td>\n",
       "      <td>1022.573939</td>\n",
       "      <td>1027.137118</td>\n",
       "      <td>1046.067247</td>\n",
       "      <td>...</td>\n",
       "      <td>-0.000864</td>\n",
       "      <td>-0.041331</td>\n",
       "      <td>0.014762</td>\n",
       "      <td>0.086851</td>\n",
       "      <td>-0.059788</td>\n",
       "      <td>0.050948</td>\n",
       "      <td>Remdesivir</td>\n",
       "      <td>-13.129294</td>\n",
       "      <td>0.275418</td>\n",
       "      <td>0.008136</td>\n",
       "    </tr>\n",
       "    <tr>\n",
       "      <th>79</th>\n",
       "      <td>001AA03CBK308286</td>\n",
       "      <td>191.222222</td>\n",
       "      <td>1557.802832</td>\n",
       "      <td>2152.585685</td>\n",
       "      <td>1068.228289</td>\n",
       "      <td>1101.173731</td>\n",
       "      <td>1022.863700</td>\n",
       "      <td>1055.871469</td>\n",
       "      <td>1045.042914</td>\n",
       "      <td>1078.039492</td>\n",
       "      <td>...</td>\n",
       "      <td>0.023625</td>\n",
       "      <td>-0.020756</td>\n",
       "      <td>0.049393</td>\n",
       "      <td>-0.064910</td>\n",
       "      <td>-0.041902</td>\n",
       "      <td>-0.089263</td>\n",
       "      <td>CBK308286</td>\n",
       "      <td>55.809578</td>\n",
       "      <td>-0.455838</td>\n",
       "      <td>0.011939</td>\n",
       "    </tr>\n",
       "    <tr>\n",
       "      <th>369</th>\n",
       "      <td>001AA04CBK012489</td>\n",
       "      <td>205.222222</td>\n",
       "      <td>1610.127813</td>\n",
       "      <td>2218.952175</td>\n",
       "      <td>1146.680380</td>\n",
       "      <td>1123.958180</td>\n",
       "      <td>1100.694740</td>\n",
       "      <td>1078.049096</td>\n",
       "      <td>1123.153195</td>\n",
       "      <td>1100.505270</td>\n",
       "      <td>...</td>\n",
       "      <td>-0.019865</td>\n",
       "      <td>0.014770</td>\n",
       "      <td>-0.015796</td>\n",
       "      <td>0.020290</td>\n",
       "      <td>-0.052188</td>\n",
       "      <td>-0.032901</td>\n",
       "      <td>CBK012489</td>\n",
       "      <td>45.827214</td>\n",
       "      <td>-0.351170</td>\n",
       "      <td>0.011563</td>\n",
       "    </tr>\n",
       "    <tr>\n",
       "      <th>132</th>\n",
       "      <td>001AA05CBK308023</td>\n",
       "      <td>239.222222</td>\n",
       "      <td>1622.088687</td>\n",
       "      <td>2199.723043</td>\n",
       "      <td>1137.045166</td>\n",
       "      <td>1094.393006</td>\n",
       "      <td>1091.051555</td>\n",
       "      <td>1048.169962</td>\n",
       "      <td>1113.528163</td>\n",
       "      <td>1070.769271</td>\n",
       "      <td>...</td>\n",
       "      <td>0.033518</td>\n",
       "      <td>-0.036066</td>\n",
       "      <td>0.025845</td>\n",
       "      <td>-0.074844</td>\n",
       "      <td>-0.003827</td>\n",
       "      <td>-0.018231</td>\n",
       "      <td>CBK308023</td>\n",
       "      <td>17.903463</td>\n",
       "      <td>-0.048292</td>\n",
       "      <td>0.009648</td>\n",
       "    </tr>\n",
       "  </tbody>\n",
       "</table>\n",
       "<p>5 rows × 1883 columns</p>\n",
       "</div>"
      ],
      "text/plain": [
       "                  0           1            2            3            4     \\\n",
       "120   001AA01CBK308182  228.777778  1614.916622  2199.134236  1102.890412   \n",
       "16   001AA02Remdesivir  217.250000  1770.333452  2391.411152  1051.711796   \n",
       "79    001AA03CBK308286  191.222222  1557.802832  2152.585685  1068.228289   \n",
       "369   001AA04CBK012489  205.222222  1610.127813  2218.952175  1146.680380   \n",
       "132   001AA05CBK308023  239.222222  1622.088687  2199.723043  1137.045166   \n",
       "\n",
       "            5            6            7            8            9     ...  \\\n",
       "120  1063.082895  1057.066693  1016.987809  1079.465245  1039.543836  ...   \n",
       "16   1070.592800  1003.593429  1022.573939  1027.137118  1046.067247  ...   \n",
       "79   1101.173731  1022.863700  1055.871469  1045.042914  1078.039492  ...   \n",
       "369  1123.958180  1100.694740  1078.049096  1123.153195  1100.505270  ...   \n",
       "132  1094.393006  1091.051555  1048.169962  1113.528163  1070.769271  ...   \n",
       "\n",
       "         1873      1874      1875      1876      1877      1878        1879  \\\n",
       "120  0.002409 -0.046301 -0.013040  0.017562  0.012498  0.017867   CBK308182   \n",
       "16  -0.000864 -0.041331  0.014762  0.086851 -0.059788  0.050948  Remdesivir   \n",
       "79   0.023625 -0.020756  0.049393 -0.064910 -0.041902 -0.089263   CBK308286   \n",
       "369 -0.019865  0.014770 -0.015796  0.020290 -0.052188 -0.032901   CBK012489   \n",
       "132  0.033518 -0.036066  0.025845 -0.074844 -0.003827 -0.018231   CBK308023   \n",
       "\n",
       "          1880      1881      1882  \n",
       "120  25.152096 -0.133303  0.010099  \n",
       "16  -13.129294  0.275418  0.008136  \n",
       "79   55.809578 -0.455838  0.011939  \n",
       "369  45.827214 -0.351170  0.011563  \n",
       "132  17.903463 -0.048292  0.009648  \n",
       "\n",
       "[5 rows x 1883 columns]"
      ]
     },
     "execution_count": 9,
     "metadata": {},
     "output_type": "execute_result"
    }
   ],
   "source": [
    "df = pd.DataFrame(plate_SS_001A_2)\n",
    "sorted_df = df.sort_values(by=0)\n",
    "sorted_df.head(5)"
   ]
  },
  {
   "cell_type": "code",
   "execution_count": 54,
   "metadata": {},
   "outputs": [
    {
     "data": {
      "image/png": "[encoded data removed]",
      "text/plain": [
       "<Figure size 800x500 with 2 Axes>"
      ]
     },
     "metadata": {},
     "output_type": "display_data"
    }
   ],
   "source": [
    "alphabet = [chr(i) for i in range(ord('A'),ord('P')+1)] \n",
    "Intensity_MeanIntensity_illumMITO_cells = sorted_df[sorted_df.columns[-1]].to_numpy().reshape(16, 24)\n",
    "df_cm = pd.DataFrame(Intensity_MeanIntensity_illumMITO_cells, index = alphabet,\n",
    "                  columns = np.arange(1,25))\n",
    "plt.figure(figsize = (8,5))\n",
    "sns.heatmap(df_cm, cmap = 'Purples', linewidth = 1, annot=False)\n",
    "plt.yticks(rotation=0)\n",
    "plt.title('Intensity_MeanIntensity_illumMITO_cells')\n",
    "plt.savefig('heatmap_Intensity_MeanIntensity_illumMITO_cells.png')\n",
    "plt.show()"
   ]
  },
  {
   "cell_type": "code",
   "execution_count": 44,
   "metadata": {},
   "outputs": [],
   "source": []
  },
  {
   "cell_type": "code",
   "execution_count": null,
   "metadata": {},
   "outputs": [],
   "source": []
  }
 ],
 "metadata": {
  "kernelspec": {
   "display_name": "Python 3",
   "language": "python",
   "name": "python3"
  },
  "language_info": {
   "codemirror_mode": {
    "name": "ipython",
    "version": 3
   },
   "file_extension": ".py",
   "mimetype": "text/x-python",
   "name": "python",
   "nbconvert_exporter": "python",
   "pygments_lexer": "ipython3",
   "version": "3.8.10"
  }
 },
 "nbformat": 4,
 "nbformat_minor": 4
}
