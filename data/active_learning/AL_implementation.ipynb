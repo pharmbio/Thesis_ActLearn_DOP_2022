{
 "cells": [
  {
   "cell_type": "code",
   "execution_count": 1,
   "metadata": {},
   "outputs": [],
   "source": [
    "%load_ext autoreload\n",
    "%autoreload 2\n",
    "\n",
    "from pandas import read_excel\n",
    "import csv\n",
    "import pandas as pd\n",
    "import numpy as np\n",
    "import seaborn as sns\n",
    "import matplotlib.pyplot as plt\n",
    "import matplotlib as mpl\n",
    "from sklearn.datasets import load_iris\n",
    "from sklearn.decomposition import PCA\n",
    "from sklearn.neighbors import KNeighborsClassifier\n",
    "from modAL.models import ActiveLearner\n",
    "\n",
    "import functions as fun"
   ]
  },
  {
   "cell_type": "code",
   "execution_count": 2,
   "metadata": {},
   "outputs": [],
   "source": [
    "# Loading data sets\n",
    "specs = pd.read_csv('/home/jovyan/covid-data/SPECS_ready.csv')\n",
    "specs. rename(columns = {'Compound ID':'ID_library'}, inplace = True)\n",
    "\n",
    "sss = pd.read_csv('/home/jovyan/covid-data/COVID_BatchA_ready.csv')\n",
    "\n",
    "#Adding labels to the classification problem. 1 is non-infected (MITO smaller that 0.0062) and 0 is infected. \n",
    "sss = sss[['CompoundID'] + [c for c in sss if c not in ['CompoundID']]]\n",
    "sss = fun.labelling(sss, len(sss.columns), label_positive = 1, label_negative = 0, threshold = 0.0062)\n",
    "sss.rename(columns = {'CompoundID':'ID_covid'}, inplace = True)"
   ]
  },
  {
   "cell_type": "code",
   "execution_count": 6,
   "metadata": {},
   "outputs": [
    {
     "name": "stdout",
     "output_type": "stream",
     "text": [
      "There are 21 compounds not founded\n",
      "[793, 794, 795, 796, 797, 798, 799, 800, 801, 802, 803, 804, 805, 806, 3994, 4102, 4103, 4104, 4662, 5679, 5706]\n",
      "[0, 0, 0, 1, 0, 0, 0, 0, 0, 0, 0, 0, 0, 0, 0, 0, 0, 0, 0, 0, 0]\n"
     ]
    }
   ],
   "source": [
    "#Comparing compopunds\n",
    "comp_in_sss_no_in_specs, labels_comp_in_sss_no_in_specs = fun.sss_vs_specs_compound_detection(specs,sss)\n",
    "print(comp_in_sss_no_in_specs)\n",
    "print(labels_comp_in_sss_no_in_specs)"
   ]
  },
  {
   "cell_type": "code",
   "execution_count": null,
   "metadata": {},
   "outputs": [],
   "source": []
  }
 ],
 "metadata": {
  "kernelspec": {
   "display_name": "Python 3",
   "language": "python",
   "name": "python3"
  },
  "language_info": {
   "codemirror_mode": {
    "name": "ipython",
    "version": 3
   },
   "file_extension": ".py",
   "mimetype": "text/x-python",
   "name": "python",
   "nbconvert_exporter": "python",
   "pygments_lexer": "ipython3",
   "version": "3.8.10"
  }
 },
 "nbformat": 4,
 "nbformat_minor": 4
}
