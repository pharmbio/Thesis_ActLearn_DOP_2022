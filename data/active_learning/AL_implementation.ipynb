{
 "cells": [
  {
   "cell_type": "code",
   "execution_count": 1,
   "metadata": {},
   "outputs": [],
   "source": [
    "%load_ext autoreload\n",
    "%autoreload 2\n",
    "\n",
    "from pandas import read_excel\n",
    "import csv\n",
    "import pandas as pd\n",
    "import numpy as np\n",
    "import matplotlib.pyplot as plt\n",
    "import matplotlib as mpl\n",
    "import seaborn as sns\n",
    "import random\n",
    "import timeit\n",
    "\n",
    "from sklearn.model_selection import cross_val_score, KFold, train_test_split\n",
    "from sklearn.metrics import confusion_matrix, mean_squared_error\n",
    "from sklearn.decomposition import PCA\n",
    "from sklearn.neighbors import KNeighborsClassifier\n",
    "from modAL.models import ActiveLearner\n",
    "from sklearn.linear_model import LinearRegression, Ridge, Lasso\n",
    "from sklearn.cross_decomposition import PLSRegression\n",
    "\n",
    "import rdkit\n",
    "from rdkit import Chem\n",
    "from rdkit.Chem import AllChem,DataStructs,Draw,PandasTools,Descriptors\n",
    "from rdkit.Chem.MolStandardize import rdMolStandardize\n",
    "from rdkit.Chem.Draw import IPythonConsole\n",
    "from rdkit import RDLogger\n",
    "\n",
    "from IPython.display import Image\n",
    "\n",
    "# Configure the logging - RDKit is rather verbose..\n",
    "lg = RDLogger.logger()\n",
    "lg.setLevel(RDLogger.CRITICAL)\n",
    "# Set the molecule representation to be SVG \n",
    "PandasTools.molRepresentation='svg'\n",
    "# Loading and standardization method for SMILES -> RDKit molecule object\n",
    "uncharger = rdMolStandardize.Uncharger()\n",
    "\n",
    "\n",
    "# Loading and standardization method for SMILES -> RDKit molecule object\n",
    "uncharger = rdMolStandardize.Uncharger()\n",
    "\n",
    "import functions as fun"
   ]
  },
  {
   "cell_type": "code",
   "execution_count": 2,
   "metadata": {},
   "outputs": [
    {
     "data": {
      "text/html": [
       "<div>\n",
       "<style scoped>\n",
       "    .dataframe tbody tr th:only-of-type {\n",
       "        vertical-align: middle;\n",
       "    }\n",
       "\n",
       "    .dataframe tbody tr th {\n",
       "        vertical-align: top;\n",
       "    }\n",
       "\n",
       "    .dataframe thead th {\n",
       "        text-align: right;\n",
       "    }\n",
       "</style>\n",
       "<table border=\"1\" class=\"dataframe\">\n",
       "  <thead>\n",
       "    <tr style=\"text-align: right;\">\n",
       "      <th></th>\n",
       "      <th>ID_library</th>\n",
       "      <th>SMILES</th>\n",
       "      <th>Intensity_MeanIntensity_illumMITO_cells.1</th>\n",
       "      <th>Labels</th>\n",
       "    </tr>\n",
       "  </thead>\n",
       "  <tbody>\n",
       "    <tr>\n",
       "      <th>0</th>\n",
       "      <td>CBK309065</td>\n",
       "      <td>CC1=NN=C2N1C(SC(C)=C3C)=C3C(C4=CC=C(Cl)C=C4)=N...</td>\n",
       "      <td>0.009294</td>\n",
       "      <td>0</td>\n",
       "    </tr>\n",
       "    <tr>\n",
       "      <th>1</th>\n",
       "      <td>CBK041145</td>\n",
       "      <td>[H][C@@]12COP([O-])(=O)O[C@@]1([H])[C@@H](O)[C...</td>\n",
       "      <td>0.009393</td>\n",
       "      <td>0</td>\n",
       "    </tr>\n",
       "    <tr>\n",
       "      <th>2</th>\n",
       "      <td>CBK200894</td>\n",
       "      <td>CC1CS(=O)(=O)CCN1N=Cc1ccc(o1)[N+]([O-])=O</td>\n",
       "      <td>0.009726</td>\n",
       "      <td>0</td>\n",
       "    </tr>\n",
       "    <tr>\n",
       "      <th>3</th>\n",
       "      <td>CBK309015</td>\n",
       "      <td>O=C(N1)SC(CC2=CC=C(OCC(N3C)=NC4=C(C=CC=C4)C3=O...</td>\n",
       "      <td>0.011022</td>\n",
       "      <td>0</td>\n",
       "    </tr>\n",
       "    <tr>\n",
       "      <th>4</th>\n",
       "      <td>CBK041791</td>\n",
       "      <td>Fc1ccc(cc1)C(c2ccccc2)(c3ccccc3F)n4ccnc4</td>\n",
       "      <td>0.009869</td>\n",
       "      <td>0</td>\n",
       "    </tr>\n",
       "  </tbody>\n",
       "</table>\n",
       "</div>"
      ],
      "text/plain": [
       "  ID_library                                             SMILES  \\\n",
       "0  CBK309065  CC1=NN=C2N1C(SC(C)=C3C)=C3C(C4=CC=C(Cl)C=C4)=N...   \n",
       "1  CBK041145  [H][C@@]12COP([O-])(=O)O[C@@]1([H])[C@@H](O)[C...   \n",
       "2  CBK200894          CC1CS(=O)(=O)CCN1N=Cc1ccc(o1)[N+]([O-])=O   \n",
       "3  CBK309015  O=C(N1)SC(CC2=CC=C(OCC(N3C)=NC4=C(C=CC=C4)C3=O...   \n",
       "4  CBK041791           Fc1ccc(cc1)C(c2ccccc2)(c3ccccc3F)n4ccnc4   \n",
       "\n",
       "   Intensity_MeanIntensity_illumMITO_cells.1  Labels  \n",
       "0                                   0.009294       0  \n",
       "1                                   0.009393       0  \n",
       "2                                   0.009726       0  \n",
       "3                                   0.011022       0  \n",
       "4                                   0.009869       0  "
      ]
     },
     "execution_count": 2,
     "metadata": {},
     "output_type": "execute_result"
    }
   ],
   "source": [
    "# Loading data sets\n",
    "specs = pd.read_csv('/home/jovyan/covid-data/SPECS_ready_3.csv')\n",
    "sss_batchA = pd.read_csv('/home/jovyan/covid-data/COVID_BatchA_ready_3.csv')\n",
    "specs_version2= pd.read_csv(\"/home/jovyan/covid-data/specsSarsCov2-v1-CMPDannot.csv\")\n",
    "\n",
    "#Creating final dataset\n",
    "data = pd.merge(specs[['ID_library', 'SMILES']], sss_batchA[['ID_covid', 'Intensity_MeanIntensity_illumMITO_cells.1','Labels']], \n",
    "                left_on= 'ID_library', right_on='ID_covid', how='left')\n",
    "data = data.drop(['ID_covid'],axis=1)\n",
    "data.head() "
   ]
  },
  {
   "cell_type": "code",
   "execution_count": 3,
   "metadata": {},
   "outputs": [
    {
     "data": {
      "text/html": [
       "<div>\n",
       "<style scoped>\n",
       "    .dataframe tbody tr th:only-of-type {\n",
       "        vertical-align: middle;\n",
       "    }\n",
       "\n",
       "    .dataframe tbody tr th {\n",
       "        vertical-align: top;\n",
       "    }\n",
       "\n",
       "    .dataframe thead th {\n",
       "        text-align: right;\n",
       "    }\n",
       "</style>\n",
       "<table border=\"1\" class=\"dataframe\">\n",
       "  <thead>\n",
       "    <tr style=\"text-align: right;\">\n",
       "      <th></th>\n",
       "      <th>ID_library</th>\n",
       "      <th>SMILES</th>\n",
       "      <th>Intensity_MeanIntensity_illumMITO_cells.1</th>\n",
       "      <th>Labels</th>\n",
       "      <th>MOL</th>\n",
       "    </tr>\n",
       "  </thead>\n",
       "  <tbody>\n",
       "    <tr>\n",
       "      <th>131</th>\n",
       "      <td>CBK309029</td>\n",
       "      <td>O=S(OC1=CC([C@H](O)[C@@H](O)C(NC(C2N(C(C(NC([C...</td>\n",
       "      <td>0.009792</td>\n",
       "      <td>0</td>\n",
       "      <td>None</td>\n",
       "    </tr>\n",
       "    <tr>\n",
       "      <th>339</th>\n",
       "      <td>CBK309090</td>\n",
       "      <td>O=C(CC(N)CCCN)NCC(C(N/C(C(NC(C1NC(NCC1)=N)C2=O...</td>\n",
       "      <td>0.009078</td>\n",
       "      <td>0</td>\n",
       "      <td>None</td>\n",
       "    </tr>\n",
       "    <tr>\n",
       "      <th>418</th>\n",
       "      <td>CBK309764</td>\n",
       "      <td>CC1=C(CCC(CCCC(C)CCCC(C)CCCC(C)C)(C)O2)C2=C(C)...</td>\n",
       "      <td>0.011273</td>\n",
       "      <td>0</td>\n",
       "      <td>None</td>\n",
       "    </tr>\n",
       "    <tr>\n",
       "      <th>447</th>\n",
       "      <td>CBK278005</td>\n",
       "      <td>O=C(C1=C(N)C(C(C)=C2OC3=C(N=C21)C(C(N[C@@H]4C(...</td>\n",
       "      <td>0.009102</td>\n",
       "      <td>0</td>\n",
       "      <td>None</td>\n",
       "    </tr>\n",
       "    <tr>\n",
       "      <th>472</th>\n",
       "      <td>CBK309248</td>\n",
       "      <td>C[C@]([C@@](C[C@H]1O)([H])[C@]2(CC[C@@H]3O[C@@...</td>\n",
       "      <td>0.009041</td>\n",
       "      <td>0</td>\n",
       "      <td>None</td>\n",
       "    </tr>\n",
       "  </tbody>\n",
       "</table>\n",
       "</div>"
      ],
      "text/plain": [
       "    ID_library                                             SMILES  \\\n",
       "131  CBK309029  O=S(OC1=CC([C@H](O)[C@@H](O)C(NC(C2N(C(C(NC([C...   \n",
       "339  CBK309090  O=C(CC(N)CCCN)NCC(C(N/C(C(NC(C1NC(NCC1)=N)C2=O...   \n",
       "418  CBK309764  CC1=C(CCC(CCCC(C)CCCC(C)CCCC(C)C)(C)O2)C2=C(C)...   \n",
       "447  CBK278005  O=C(C1=C(N)C(C(C)=C2OC3=C(N=C21)C(C(N[C@@H]4C(...   \n",
       "472  CBK309248  C[C@]([C@@](C[C@H]1O)([H])[C@]2(CC[C@@H]3O[C@@...   \n",
       "\n",
       "     Intensity_MeanIntensity_illumMITO_cells.1  Labels   MOL  \n",
       "131                                   0.009792       0  None  \n",
       "339                                   0.009078       0  None  \n",
       "418                                   0.011273       0  None  \n",
       "447                                   0.009102       0  None  \n",
       "472                                   0.009041       0  None  "
      ]
     },
     "execution_count": 3,
     "metadata": {},
     "output_type": "execute_result"
    }
   ],
   "source": [
    "# First we need to parse the SMILES and create RDKit 'molecule' objects \n",
    "# the 'standardize' function was the one we defined in the first cell with code in this file\n",
    "data['MOL'] = data['SMILES'].apply(fun.standardize)\n",
    "data.head()\n",
    "\n",
    "### There is a problem with some of the smiles as they return none when trying to convert to molecule. \n",
    "### The next step is to fix those cases which may be a product of a typo. \n",
    "\n",
    "# Looking for None values\n",
    "corrupted_smiles_idx_list = data[data['MOL'].isnull()].index.tolist() #finding None values\n",
    "data[data['MOL'].isnull()].head(5)"
   ]
  },
  {
   "cell_type": "code",
   "execution_count": 4,
   "metadata": {},
   "outputs": [
    {
     "name": "stdout",
     "output_type": "stream",
     "text": [
      "Replacements successful\n"
     ]
    }
   ],
   "source": [
    "specs_v2_smiles = specs_version2[['cbkid', 'smiles']] #Bringing second SPECS data set for comparision\n",
    "\n",
    "for idx in corrupted_smiles_idx_list:\n",
    "    compound_in_data = data['ID_library'].values[idx]\n",
    "    idx_in_specsv2 = specs_v2_smiles.loc[specs_v2_smiles['cbkid'] == compound_in_data].index.tolist()[0]\n",
    "    #compound_in_specsv2 = specs_v2_smiles['cbkid'].values[idx_in_specsv2]\n",
    "    smiles_in_data = data['SMILES'].values[idx]\n",
    "    smiles_in_specs_v2 = specs_v2_smiles['smiles'].values[idx_in_specsv2]\n",
    "    try:\n",
    "        mol = Chem.MolFromSmiles(smiles_in_specs_v2)\n",
    "        data['SMILES'] = data['SMILES'].replace(smiles_in_data, smiles_in_specs_v2)\n",
    "    except 'None here':\n",
    "        pass\n",
    "print('Replacements successful')"
   ]
  },
  {
   "cell_type": "markdown",
   "metadata": {},
   "source": [
    "### We can go back to reality "
   ]
  },
  {
   "cell_type": "code",
   "execution_count": 5,
   "metadata": {},
   "outputs": [
    {
     "name": "stdout",
     "output_type": "stream",
     "text": [
      "Fragments: 1\n"
     ]
    },
    {
     "data": {
      "image/png": "[encoded data removed]",
      "text/plain": [
       "<IPython.core.display.Image object>"
      ]
     },
     "execution_count": 5,
     "metadata": {},
     "output_type": "execute_result"
    }
   ],
   "source": [
    "data = data.drop(['MOL'],axis=1)\n",
    "\n",
    "#Creating molecue objects again\n",
    "data['MOL'] = data['SMILES'].apply(fun.standardize)\n",
    "data.head()\n",
    "\n",
    "# Check if any of the SMILES contain multiple fragments - \n",
    "# this can sometimes cause issues when computing descriptors\n",
    "data['FRAGS'] =  data['MOL'].apply(lambda mol: len(Chem.GetMolFrags(mol,asMols=True)))\n",
    "print(\"Fragments: {0}\".format(data['FRAGS'].nunique()))\n",
    "\n",
    "# Compute the descriptors that we're interested in\n",
    "data['LOGP'] = data['MOL'].apply(lambda mol: Descriptors.MolLogP(mol))\n",
    "data['HAC'] = data['MOL'].apply(lambda mol: Descriptors.HeavyAtomCount(mol))\n",
    "\n",
    "# Plot\n",
    "#plt.figure(figsize=(8,6))\n",
    "#data.plot.scatter(x='LOGP', y='HAC')\n",
    "#plt.show()\n",
    "PandasTools.FrameToGridImage(data[5:8], column='MOL', legendsCol='ID_library', molsPerRow=3, subImgSize=(300, 300))"
   ]
  },
  {
   "cell_type": "markdown",
   "metadata": {},
   "source": [
    "### Training starts!"
   ]
  },
  {
   "cell_type": "markdown",
   "metadata": {},
   "source": [
    "Parameters initialization"
   ]
  },
  {
   "cell_type": "code",
   "execution_count": 10,
   "metadata": {},
   "outputs": [],
   "source": [
    "# Parameters for features\n",
    "morgan_radius = 2\n",
    "morgan_n_bits = 1024\n",
    "fp_n_bits = 2048\n",
    "\n",
    "# Paramiters for ML model\n",
    "train_size = 0.3\n",
    "test_size = 0.3\n",
    "n_neighbours = 7\n",
    "\n",
    "# Parameters for AL\n",
    "N_QUERIES = 800"
   ]
  },
  {
   "cell_type": "markdown",
   "metadata": {},
   "source": [
    "Sets initialization"
   ]
  },
  {
   "cell_type": "code",
   "execution_count": 11,
   "metadata": {},
   "outputs": [],
   "source": [
    "# Feature creation\n",
    "X_morgan, X_rdkit, y = fun.feature_creation(morgan_radius, morgan_n_bits, fp_n_bits, data)\n",
    "\n",
    "# split dataset into train(5 %), test(25 %), unlabel(70 %)\n",
    "x_train, y_train, x_test, y_test, x_pool, y_pool = fun.split(x_dataset = X_morgan, y_dataset = y, \n",
    "                                                             ini_train_size = train_size, test_size = test_size)\n",
    "# Specify our core estimator along with it's active learning model.\n",
    "knn = KNeighborsClassifier(n_neighbors = n_neighbours)\n",
    "learner = ActiveLearner(estimator=knn, X_training = x_train, y_training = y_train)"
   ]
  },
  {
   "cell_type": "markdown",
   "metadata": {},
   "source": [
    "Plain supervised machine learning"
   ]
  },
  {
   "cell_type": "code",
   "execution_count": 12,
   "metadata": {},
   "outputs": [
    {
     "name": "stdout",
     "output_type": "stream",
     "text": [
      " Score without AL: 0.9909502262443439\n"
     ]
    }
   ],
   "source": [
    "# Isolate the data we'll need for plotting.\n",
    "predictions = learner.predict(x_test) #test the learner in the complete dataset\n",
    "is_correct = (predictions == y_test) #check its performance\n",
    "\n",
    "# Record our learner's score on the raw data.\n",
    "unqueried_score = learner.score(x_test, y_test)\n",
    "print(f' Score without AL: {unqueried_score}')"
   ]
  },
  {
   "cell_type": "markdown",
   "metadata": {},
   "source": [
    "Now we introduce AL"
   ]
  },
  {
   "cell_type": "code",
   "execution_count": null,
   "metadata": {},
   "outputs": [
    {
     "name": "stdout",
     "output_type": "stream",
     "text": [
      "Accuracy after query 1: 0.9910\n",
      "Accuracy after query 31: 0.9910\n",
      "Accuracy after query 61: 0.9910\n",
      "Accuracy after query 91: 0.9910\n",
      "Accuracy after query 121: 0.9910\n",
      "Accuracy after query 151: 0.9910\n",
      "Accuracy after query 181: 0.9910\n",
      "Accuracy after query 211: 0.9910\n",
      "Accuracy after query 241: 0.9910\n",
      "Accuracy after query 271: 0.9910\n",
      "Accuracy after query 301: 0.9910\n",
      "Accuracy after query 331: 0.9910\n",
      "Accuracy after query 361: 0.9910\n"
     ]
    }
   ],
   "source": [
    "#Timer\n",
    "tic=timeit.default_timer()\n",
    "\n",
    "#Train\n",
    "prfmc_his, cf_mat_his= fun.active_learnig_train(n_queries = N_QUERIES, x_train = x_train, y_train = y_train, \n",
    "                                               x_test = x_test, y_test = y_test, x_pool = x_pool, \n",
    "                                               y_pool = y_pool, Classifier = knn)\n",
    "\n",
    "toc=timeit.default_timer()\n",
    "print(f'\\n\\nElapsed time: {toc-tic} seconds')"
   ]
  },
  {
   "cell_type": "code",
   "execution_count": null,
   "metadata": {},
   "outputs": [],
   "source": [
    "#Plot\n",
    "name = fun.plot_name_generator('knn7', train_size, test_size, 'uncsamp')\n",
    "fun.plot_incremental_accuracy(prfmc_his, save = True, figure_name = name)\n",
    "fun.plot_cf_mat(matrix = cf_mat_his[-1], save = True, figure_name = name)\n",
    "plt.show()"
   ]
  },
  {
   "cell_type": "code",
   "execution_count": null,
   "metadata": {},
   "outputs": [],
   "source": []
  }
 ],
 "metadata": {
  "kernelspec": {
   "display_name": "Python 3",
   "language": "python",
   "name": "python3"
  },
  "language_info": {
   "codemirror_mode": {
    "name": "ipython",
    "version": 3
   },
   "file_extension": ".py",
   "mimetype": "text/x-python",
   "name": "python",
   "nbconvert_exporter": "python",
   "pygments_lexer": "ipython3",
   "version": "3.8.10"
  }
 },
 "nbformat": 4,
 "nbformat_minor": 4
}
