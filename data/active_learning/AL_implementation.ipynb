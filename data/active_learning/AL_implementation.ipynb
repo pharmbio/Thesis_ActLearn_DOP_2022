{
 "cells": [
  {
   "cell_type": "code",
   "execution_count": 1,
   "metadata": {},
   "outputs": [],
   "source": [
    "%load_ext autoreload\n",
    "%autoreload 2\n",
    "\n",
    "from pandas import read_excel\n",
    "import csv\n",
    "import random\n",
    "import pandas as pd\n",
    "import numpy as np\n",
    "import seaborn as sns\n",
    "import matplotlib.pyplot as plt\n",
    "import matplotlib as mpl\n",
    "from sklearn.datasets import load_iris\n",
    "from sklearn.decomposition import PCA\n",
    "from sklearn.neighbors import KNeighborsClassifier\n",
    "from modAL.models import ActiveLearner\n",
    "import rdkit\n",
    "from rdkit import Chem\n",
    "from rdkit.Chem import AllChem,DataStructs,Draw,PandasTools,Descriptors\n",
    "from rdkit.Chem.MolStandardize import rdMolStandardize\n",
    "from rdkit.Chem.Draw import IPythonConsole\n",
    "from rdkit import RDLogger\n",
    "\n",
    "from IPython.display import Image\n",
    "\n",
    "# Configure the logging - RDKit is rather verbose..\n",
    "lg = RDLogger.logger()\n",
    "lg.setLevel(RDLogger.CRITICAL)\n",
    "# Set the molecule representation to be SVG \n",
    "PandasTools.molRepresentation='svg'\n",
    "# Loading and standardization method for SMILES -> RDKit molecule object\n",
    "uncharger = rdMolStandardize.Uncharger()\n",
    "\n",
    "import functions as fun"
   ]
  },
  {
   "cell_type": "code",
   "execution_count": 2,
   "metadata": {},
   "outputs": [],
   "source": [
    "# Loading data sets\n",
    "specs = pd.read_csv('/home/jovyan/covid-data/SPECS_ready_3.csv')\n",
    "sss_batchA = pd.read_csv('/home/jovyan/covid-data/COVID_BatchA_ready_3.csv')"
   ]
  },
  {
   "cell_type": "code",
   "execution_count": 3,
   "metadata": {},
   "outputs": [
    {
     "data": {
      "text/html": [
       "<div>\n",
       "<style scoped>\n",
       "    .dataframe tbody tr th:only-of-type {\n",
       "        vertical-align: middle;\n",
       "    }\n",
       "\n",
       "    .dataframe tbody tr th {\n",
       "        vertical-align: top;\n",
       "    }\n",
       "\n",
       "    .dataframe thead th {\n",
       "        text-align: right;\n",
       "    }\n",
       "</style>\n",
       "<table border=\"1\" class=\"dataframe\">\n",
       "  <thead>\n",
       "    <tr style=\"text-align: right;\">\n",
       "      <th></th>\n",
       "      <th>ID_library</th>\n",
       "      <th>SMILES</th>\n",
       "      <th>Intensity_MeanIntensity_illumMITO_cells.1</th>\n",
       "      <th>Labels</th>\n",
       "    </tr>\n",
       "  </thead>\n",
       "  <tbody>\n",
       "    <tr>\n",
       "      <th>0</th>\n",
       "      <td>CBK309065</td>\n",
       "      <td>CC1=NN=C2N1C(SC(C)=C3C)=C3C(C4=CC=C(Cl)C=C4)=N...</td>\n",
       "      <td>0.009294</td>\n",
       "      <td>0</td>\n",
       "    </tr>\n",
       "    <tr>\n",
       "      <th>1</th>\n",
       "      <td>CBK041145</td>\n",
       "      <td>[H][C@@]12COP([O-])(=O)O[C@@]1([H])[C@@H](O)[C...</td>\n",
       "      <td>0.009393</td>\n",
       "      <td>0</td>\n",
       "    </tr>\n",
       "    <tr>\n",
       "      <th>2</th>\n",
       "      <td>CBK200894</td>\n",
       "      <td>CC1CS(=O)(=O)CCN1N=Cc1ccc(o1)[N+]([O-])=O</td>\n",
       "      <td>0.009726</td>\n",
       "      <td>0</td>\n",
       "    </tr>\n",
       "    <tr>\n",
       "      <th>3</th>\n",
       "      <td>CBK309015</td>\n",
       "      <td>O=C(N1)SC(CC2=CC=C(OCC(N3C)=NC4=C(C=CC=C4)C3=O...</td>\n",
       "      <td>0.011022</td>\n",
       "      <td>0</td>\n",
       "    </tr>\n",
       "    <tr>\n",
       "      <th>4</th>\n",
       "      <td>CBK041791</td>\n",
       "      <td>Fc1ccc(cc1)C(c2ccccc2)(c3ccccc3F)n4ccnc4</td>\n",
       "      <td>0.009869</td>\n",
       "      <td>0</td>\n",
       "    </tr>\n",
       "  </tbody>\n",
       "</table>\n",
       "</div>"
      ],
      "text/plain": [
       "  ID_library                                             SMILES  \\\n",
       "0  CBK309065  CC1=NN=C2N1C(SC(C)=C3C)=C3C(C4=CC=C(Cl)C=C4)=N...   \n",
       "1  CBK041145  [H][C@@]12COP([O-])(=O)O[C@@]1([H])[C@@H](O)[C...   \n",
       "2  CBK200894          CC1CS(=O)(=O)CCN1N=Cc1ccc(o1)[N+]([O-])=O   \n",
       "3  CBK309015  O=C(N1)SC(CC2=CC=C(OCC(N3C)=NC4=C(C=CC=C4)C3=O...   \n",
       "4  CBK041791           Fc1ccc(cc1)C(c2ccccc2)(c3ccccc3F)n4ccnc4   \n",
       "\n",
       "   Intensity_MeanIntensity_illumMITO_cells.1  Labels  \n",
       "0                                   0.009294       0  \n",
       "1                                   0.009393       0  \n",
       "2                                   0.009726       0  \n",
       "3                                   0.011022       0  \n",
       "4                                   0.009869       0  "
      ]
     },
     "execution_count": 3,
     "metadata": {},
     "output_type": "execute_result"
    }
   ],
   "source": [
    "data = pd.merge(specs[['ID_library', 'SMILES']], sss_batchA[['ID_covid', 'Intensity_MeanIntensity_illumMITO_cells.1','Labels']], \n",
    "                left_on= 'ID_library', right_on='ID_covid', how='left')\n",
    "data = data.drop(['ID_covid'],axis=1)\n",
    "data.head() "
   ]
  },
  {
   "cell_type": "code",
   "execution_count": 4,
   "metadata": {},
   "outputs": [
    {
     "data": {
      "text/html": [
       "<div>\n",
       "<style scoped>\n",
       "    .dataframe tbody tr th:only-of-type {\n",
       "        vertical-align: middle;\n",
       "    }\n",
       "\n",
       "    .dataframe tbody tr th {\n",
       "        vertical-align: top;\n",
       "    }\n",
       "\n",
       "    .dataframe thead th {\n",
       "        text-align: right;\n",
       "    }\n",
       "</style>\n",
       "<table border=\"1\" class=\"dataframe\">\n",
       "  <thead>\n",
       "    <tr style=\"text-align: right;\">\n",
       "      <th></th>\n",
       "      <th>ID_library</th>\n",
       "      <th>SMILES</th>\n",
       "      <th>Intensity_MeanIntensity_illumMITO_cells.1</th>\n",
       "      <th>Labels</th>\n",
       "      <th>MOL</th>\n",
       "    </tr>\n",
       "  </thead>\n",
       "  <tbody>\n",
       "    <tr>\n",
       "      <th>0</th>\n",
       "      <td>CBK309065</td>\n",
       "      <td>CC1=NN=C2N1C(SC(C)=C3C)=C3C(C4=CC=C(Cl)C=C4)=N...</td>\n",
       "      <td>0.009294</td>\n",
       "      <td>0</td>\n",
       "      <td>&lt;svg xmlns=\"http://www.w3.org/2000/svg\" xmlns:...</td>\n",
       "    </tr>\n",
       "    <tr>\n",
       "      <th>1</th>\n",
       "      <td>CBK041145</td>\n",
       "      <td>[H][C@@]12COP([O-])(=O)O[C@@]1([H])[C@@H](O)[C...</td>\n",
       "      <td>0.009393</td>\n",
       "      <td>0</td>\n",
       "      <td>&lt;svg xmlns=\"http://www.w3.org/2000/svg\" xmlns:...</td>\n",
       "    </tr>\n",
       "    <tr>\n",
       "      <th>2</th>\n",
       "      <td>CBK200894</td>\n",
       "      <td>CC1CS(=O)(=O)CCN1N=Cc1ccc(o1)[N+]([O-])=O</td>\n",
       "      <td>0.009726</td>\n",
       "      <td>0</td>\n",
       "      <td>&lt;svg xmlns=\"http://www.w3.org/2000/svg\" xmlns:...</td>\n",
       "    </tr>\n",
       "    <tr>\n",
       "      <th>3</th>\n",
       "      <td>CBK309015</td>\n",
       "      <td>O=C(N1)SC(CC2=CC=C(OCC(N3C)=NC4=C(C=CC=C4)C3=O...</td>\n",
       "      <td>0.011022</td>\n",
       "      <td>0</td>\n",
       "      <td>&lt;svg xmlns=\"http://www.w3.org/2000/svg\" xmlns:...</td>\n",
       "    </tr>\n",
       "    <tr>\n",
       "      <th>4</th>\n",
       "      <td>CBK041791</td>\n",
       "      <td>Fc1ccc(cc1)C(c2ccccc2)(c3ccccc3F)n4ccnc4</td>\n",
       "      <td>0.009869</td>\n",
       "      <td>0</td>\n",
       "      <td>&lt;svg xmlns=\"http://www.w3.org/2000/svg\" xmlns:...</td>\n",
       "    </tr>\n",
       "  </tbody>\n",
       "</table>\n",
       "</div>"
      ],
      "text/plain": [
       "  ID_library                                             SMILES  \\\n",
       "0  CBK309065  CC1=NN=C2N1C(SC(C)=C3C)=C3C(C4=CC=C(Cl)C=C4)=N...   \n",
       "1  CBK041145  [H][C@@]12COP([O-])(=O)O[C@@]1([H])[C@@H](O)[C...   \n",
       "2  CBK200894          CC1CS(=O)(=O)CCN1N=Cc1ccc(o1)[N+]([O-])=O   \n",
       "3  CBK309015  O=C(N1)SC(CC2=CC=C(OCC(N3C)=NC4=C(C=CC=C4)C3=O...   \n",
       "4  CBK041791           Fc1ccc(cc1)C(c2ccccc2)(c3ccccc3F)n4ccnc4   \n",
       "\n",
       "   Intensity_MeanIntensity_illumMITO_cells.1  Labels  \\\n",
       "0                                   0.009294       0   \n",
       "1                                   0.009393       0   \n",
       "2                                   0.009726       0   \n",
       "3                                   0.011022       0   \n",
       "4                                   0.009869       0   \n",
       "\n",
       "                                                 MOL  \n",
       "0  <svg xmlns=\"http://www.w3.org/2000/svg\" xmlns:...  \n",
       "1  <svg xmlns=\"http://www.w3.org/2000/svg\" xmlns:...  \n",
       "2  <svg xmlns=\"http://www.w3.org/2000/svg\" xmlns:...  \n",
       "3  <svg xmlns=\"http://www.w3.org/2000/svg\" xmlns:...  \n",
       "4  <svg xmlns=\"http://www.w3.org/2000/svg\" xmlns:...  "
      ]
     },
     "execution_count": 4,
     "metadata": {},
     "output_type": "execute_result"
    }
   ],
   "source": [
    "# First we need to parse the SMILES and create RDKit 'molecule' objects \n",
    "# the 'standardize' function was the one we defined in the first cell with code in this file\n",
    "data['MOL'] = data['SMILES'].apply(fun.standardize)\n",
    "data.head()"
   ]
  },
  {
   "cell_type": "code",
   "execution_count": 5,
   "metadata": {},
   "outputs": [],
   "source": [
    "# Check if any of the SMILES contain multiple fragments - \n",
    "# this can sometimes cause issues when computing descriptors\n",
    "#data['FRAGS'] =  data['MOL'].apply(lambda mol: len(Chem.GetMolFrags(mol,asMols=True)))\n",
    "#print(\"Fragments: {0}\".format(data['FRAGS'].nunique()))"
   ]
  },
  {
   "cell_type": "code",
   "execution_count": 19,
   "metadata": {},
   "outputs": [
    {
     "name": "stdout",
     "output_type": "stream",
     "text": [
      "CompoundID CBK309029\n",
      "Its smiles O=S(OC1=CC([C@H](O)[C@@H](O)C(NC(C2N(C(C(NC([C@]([H])(C[C@@H](O)[C@@H](O)NC(C3N(C(C([C@H](O)CC(N)=O)N4)=O)C[C@H](C)[C@@H]3O)=O)NC(C5=CC=C(C6=NOC(C7=CC=C(OCCCCC)C=C7)=C6)C=C5)=O)=O)[C@H](O)C)=O)C[C@H]( O)C2)=O)C4=O)=CC=C1O)([O-])=O\n",
      "Not good\n"
     ]
    }
   ],
   "source": [
    "row = 131\n",
    "smiles0 = data['SMILES'][row]\n",
    "compound = data['ID_library'][row]\n",
    "print(f'CompoundID {compound}')\n",
    "print(f'Its smiles {smiles0}')\n",
    "mol0 = Chem.MolFromSmiles(smiles0)\n",
    "if mol0:\n",
    "    mol0 = rdMolStandardize.FragmentParent(mol0)\n",
    "    mol0 = uncharger.uncharge(mol0)\n",
    "    print(f'First mol {len(Chem.GetMolFrags(mol0,asMols=True))}')\n",
    "else:\n",
    "    print('Not good')"
   ]
  },
  {
   "cell_type": "code",
   "execution_count": 18,
   "metadata": {},
   "outputs": [
    {
     "data": {
      "image/png": "[encoded data removed]",
      "text/plain": [
       "<rdkit.Chem.rdchem.Mol at 0x7f64440e7520>"
      ]
     },
     "execution_count": 18,
     "metadata": {},
     "output_type": "execute_result"
    }
   ],
   "source": [
    "sec_smiles = '[H][C@@]1(C[C@@H](O)[C@@H](O)NC(=O)C2[C@@H](O)[C@@H](C)CN2C(=O)C(NC(=O)C(NC(=O)C2C[C@@H](O)CN2C(=O)C(NC1=O)[C@@H](C)O)[C@H](O)[C@@H](O)c1ccc(O)c(OS([O-])(=O)=O)c1)[C@H](O)CC(N)=O)NC(=O)c1ccc(cc1)-c1cc(on1)-c1ccc(OCCCCC)cc1'\n",
    "mol = Chem.MolFromSmiles(sec_smiles)\n",
    "mol"
   ]
  },
  {
   "cell_type": "code",
   "execution_count": 16,
   "metadata": {},
   "outputs": [],
   "source": [
    "mol"
   ]
  },
  {
   "cell_type": "markdown",
   "metadata": {},
   "source": [
    "### Continue with the smiles cleaning and comparisions "
   ]
  },
  {
   "cell_type": "code",
   "execution_count": null,
   "metadata": {},
   "outputs": [],
   "source": []
  }
 ],
 "metadata": {
  "kernelspec": {
   "display_name": "Python 3",
   "language": "python",
   "name": "python3"
  },
  "language_info": {
   "codemirror_mode": {
    "name": "ipython",
    "version": 3
   },
   "file_extension": ".py",
   "mimetype": "text/x-python",
   "name": "python",
   "nbconvert_exporter": "python",
   "pygments_lexer": "ipython3",
   "version": "3.8.10"
  }
 },
 "nbformat": 4,
 "nbformat_minor": 4
}
