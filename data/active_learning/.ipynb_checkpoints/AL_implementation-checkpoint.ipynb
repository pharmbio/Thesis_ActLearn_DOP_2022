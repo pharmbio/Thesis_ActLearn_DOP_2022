{
 "cells": [
  {
   "cell_type": "code",
   "execution_count": 15,
   "metadata": {},
   "outputs": [],
   "source": [
    "from pandas import read_excel\n",
    "import csv\n",
    "import pandas as pd\n",
    "import numpy as np\n",
    "import seaborn as sns\n",
    "import matplotlib.pyplot as plt\n",
    "import matplotlib as mpl\n",
    "from sklearn.datasets import load_iris\n",
    "from sklearn.decomposition import PCA\n",
    "from sklearn.neighbors import KNeighborsClassifier\n",
    "from modAL.models import ActiveLearner\n",
    "\n",
    "import functions as fun"
   ]
  },
  {
   "cell_type": "code",
   "execution_count": 24,
   "metadata": {},
   "outputs": [],
   "source": [
    "def sss_vs_specs_compound_detection(library, experiment):\n",
    "    notfound_count = 0\n",
    "    notfound_index_list = []\n",
    "    for index, row in experiment.iterrows():\n",
    "        if index < 793: #Skip controls \n",
    "            continue\n",
    "        else:\n",
    "            compound = row['ID_covid']\n",
    "            aux = library['ID_library'].loc[library['ID_library'] == compound].tolist()\n",
    "            if len(aux) == 0:\n",
    "                notfound_count += 1\n",
    "                notfound_index_list.append(index)\n",
    "    print(f'There are {notfound_count} compounds not founded')\n",
    "    return notfound_index_list"
   ]
  },
  {
   "cell_type": "code",
   "execution_count": 17,
   "metadata": {},
   "outputs": [],
   "source": [
    "# Loading data sets\n",
    "specs = pd.read_csv('/home/jovyan/covid-data/SPECS_ready.csv')\n",
    "sss = pd.read_csv('/home/jovyan/covid-data/COVID_BatchA_ready.csv')"
   ]
  },
  {
   "cell_type": "code",
   "execution_count": 18,
   "metadata": {},
   "outputs": [],
   "source": [
    "#Check ids\n",
    "library_compound_ids = specs[[\"Compound ID\"]].copy() #Extracting ID's form specs\n",
    "library_compound_ids.rename(columns = {'Compound ID':'ID_library'}, inplace = True)\n",
    "\n",
    "covid_compound_ids = sss[[\"CompoundID\"]].copy() #Extracting ID's form specs\n",
    "covid_compound_ids.rename(columns = {'CompoundID':'ID_covid'}, inplace = True)"
   ]
  },
  {
   "cell_type": "code",
   "execution_count": 25,
   "metadata": {},
   "outputs": [
    {
     "name": "stdout",
     "output_type": "stream",
     "text": [
      "There are 21 compounds not founded\n",
      "[793, 794, 795, 796, 797, 798, 799, 800, 801, 802, 803, 804, 805, 806, 3994, 4102, 4103, 4104, 4662, 5679, 5706]\n"
     ]
    }
   ],
   "source": [
    "comp_in_sss_no_in_specs = sss_vs_specs_compound_detection(library_compound_ids,covid_compound_ids)\n",
    "print(comp_in_sss_no_in_specs)"
   ]
  },
  {
   "cell_type": "markdown",
   "metadata": {},
   "source": [
    "### CONTINUACION:\n",
    "Añadir labels 0 o 1 al sss set y checar el label de los compounds encontrados en la lista de arriba. Si todos ellos son cero entonces se pueden descartar.\n",
    "Maybe preguntar por que hay compounds en el experimento que no están en la libreria. "
   ]
  },
  {
   "cell_type": "code",
   "execution_count": null,
   "metadata": {},
   "outputs": [],
   "source": []
  }
 ],
 "metadata": {
  "kernelspec": {
   "display_name": "Python 3",
   "language": "python",
   "name": "python3"
  },
  "language_info": {
   "codemirror_mode": {
    "name": "ipython",
    "version": 3
   },
   "file_extension": ".py",
   "mimetype": "text/x-python",
   "name": "python",
   "nbconvert_exporter": "python",
   "pygments_lexer": "ipython3",
   "version": "3.8.10"
  }
 },
 "nbformat": 4,
 "nbformat_minor": 4
}
