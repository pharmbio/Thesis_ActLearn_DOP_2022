{
 "cells": [
  {
   "cell_type": "code",
   "execution_count": 1,
   "metadata": {},
   "outputs": [],
   "source": [
    "from pandas import read_excel\n",
    "import csv\n",
    "import pandas as pd\n",
    "import numpy as np\n",
    "import seaborn as sns\n",
    "import matplotlib.pyplot as plt\n"
   ]
  },
  {
   "cell_type": "code",
   "execution_count": 2,
   "metadata": {},
   "outputs": [],
   "source": [
    "def load_csv(filename):\n",
    "    file = open(filename, \"r\", encoding=\"utf-8\")\n",
    "    experiments = []\n",
    "    headers = []\n",
    "    reader = csv.reader(file)\n",
    "    for i, lines in enumerate(reader):\n",
    "        if i == 0:\n",
    "            #headers = [e for e in lines[0].split(\";\")]\n",
    "            h = lines[0].split(\";\")\n",
    "            headers.append(h)\n",
    "        else:\n",
    "            tmp = lines[0].split(\";\")\n",
    "            for j in range(0,len(tmp)):\n",
    "                if (j != 0 and j != 1879):\n",
    "                    tmp[j] = float(tmp[j])\n",
    "                else:\n",
    "                    continue\n",
    "            #tmp = [float(tmp[j]) for j in range(0,len(tmp)) if (j!=0 and j!=1879)] #This removes two entries, dunno why. \n",
    "            experiments.append(tmp)\n",
    "    file.close()\n",
    "    return headers, experiments\n",
    "\n",
    "def column_extraction(data_list,column_number): #columns start counting in 0\n",
    "    col = []\n",
    "    for i in range(0,len(experiments)):\n",
    "        dato = experiments[i][column_number]\n",
    "        col.append(dato)\n",
    "    return col   "
   ]
  },
  {
   "cell_type": "markdown",
   "metadata": {},
   "source": [
    "## Load both data sets for comparision"
   ]
  },
  {
   "cell_type": "code",
   "execution_count": 3,
   "metadata": {},
   "outputs": [],
   "source": [
    "# Loading compound library\n",
    "my_sheet = 'SPECS_drug_repurp_set' # change it to your sheet name, you can find your sheet name at the bottom left of your excel file\n",
    "file_name = r'/home/jovyan/covid-data/SPECS_drug_repurp_set.xlsx'# change it to the name of your excel file\n",
    "df = read_excel(file_name, sheet_name = my_sheet)\n",
    "#print(df.head()) # shows headers with top 5 rows\n",
    "library_compound_ids = df[[\"Compound ID\"]].copy() #Extracting ID's form specs\n",
    "library_compound_ids.rename(columns = {'Compound ID':'ID_library'}, inplace = True)"
   ]
  },
  {
   "cell_type": "code",
   "execution_count": 4,
   "metadata": {},
   "outputs": [],
   "source": [
    "#Loading Maris' data\n",
    "headers, experiments = load_csv('/home/jovyan/covid-data/dalia_MeanFeaturesPerWell_BatchA.csv')\n",
    "\n",
    "#Column 1879 contains the compound ID\n",
    "screening_compound_ids = pd.DataFrame(column_extraction(experiments,1879), columns=['ID_Screening'])#Extracting ID's form covid"
   ]
  },
  {
   "cell_type": "code",
   "execution_count": 5,
   "metadata": {},
   "outputs": [
    {
     "name": "stdout",
     "output_type": "stream",
     "text": [
      "The library has 5280 compounds\n",
      "The experiment has 6065 compounds\n"
     ]
    }
   ],
   "source": [
    "print(f'The library has {len(library_compound_ids)} compounds')\n",
    "print(f'The experiment has {len(screening_compound_ids)} compounds')"
   ]
  },
  {
   "cell_type": "markdown",
   "metadata": {},
   "source": [
    "### Analysing SPECS compound repetitions"
   ]
  },
  {
   "cell_type": "code",
   "execution_count": 6,
   "metadata": {},
   "outputs": [
    {
     "data": {
      "text/html": [
       "<div>\n",
       "<style scoped>\n",
       "    .dataframe tbody tr th:only-of-type {\n",
       "        vertical-align: middle;\n",
       "    }\n",
       "\n",
       "    .dataframe tbody tr th {\n",
       "        vertical-align: top;\n",
       "    }\n",
       "\n",
       "    .dataframe thead th {\n",
       "        text-align: right;\n",
       "    }\n",
       "</style>\n",
       "<table border=\"1\" class=\"dataframe\">\n",
       "  <thead>\n",
       "    <tr style=\"text-align: right;\">\n",
       "      <th></th>\n",
       "      <th>ID_library</th>\n",
       "    </tr>\n",
       "  </thead>\n",
       "  <tbody>\n",
       "    <tr>\n",
       "      <th>3471</th>\n",
       "      <td>Problem with structure</td>\n",
       "    </tr>\n",
       "    <tr>\n",
       "      <th>5185</th>\n",
       "      <td>Problem with structure</td>\n",
       "    </tr>\n",
       "  </tbody>\n",
       "</table>\n",
       "</div>"
      ],
      "text/plain": [
       "                  ID_library\n",
       "3471  Problem with structure\n",
       "5185  Problem with structure"
      ]
     },
     "execution_count": 6,
     "metadata": {},
     "output_type": "execute_result"
    }
   ],
   "source": [
    "# Removing compunds with ID \"Problem with structure\"\n",
    "problem = library_compound_ids.loc[library_compound_ids['ID_library']=='Problem with structure']\n",
    "problem"
   ]
  },
  {
   "cell_type": "code",
   "execution_count": 7,
   "metadata": {},
   "outputs": [
    {
     "name": "stdout",
     "output_type": "stream",
     "text": [
      "SPECS has now 5278 compounds\n"
     ]
    }
   ],
   "source": [
    "#Check that we did not miss information\n",
    "library_compound_ids_2 = library_compound_ids.copy().drop([3471, 5185])\n",
    "print(f'SPECS has now {len(library_compound_ids_2)} compounds')"
   ]
  },
  {
   "cell_type": "code",
   "execution_count": 8,
   "metadata": {},
   "outputs": [
    {
     "name": "stdout",
     "output_type": "stream",
     "text": [
      "Printing repeated compounds   ID_library  Count\n",
      "0  CBK011558      3\n",
      "1  CBK011603      3\n",
      "2  CBK042067      3\n",
      "3  CBK041250      3\n",
      "4  CBK000879      3\n",
      "5  CBK011551      3\n",
      "6  CBK041748      3\n"
     ]
    }
   ],
   "source": [
    "# Finding repetitions\n",
    "library_compound_ids_2 = library_compound_ids_2.copy().groupby('ID_library').size().sort_values(ascending=False).to_frame() #Count the elements in each group and sort\n",
    "library_compound_ids_2.rename(columns = {0:'Count'}, inplace = True)\n",
    "\n",
    "# Showing non-unique compounds\n",
    "unique_id_lib_count = library_compound_ids_2.copy().reset_index()\n",
    "a = unique_id_lib_count[unique_id_lib_count['Count'] >2]\n",
    "print(f'Printing repeated compounds {a}')\n",
    "repeated_compounds = unique_id_lib_count['ID_library'][unique_id_lib_count['Count'] >1].tolist() #Storing only repeated compounds\n",
    "\n",
    "\n",
    "repeated_compounds.remove('CBK277930') # <------------------OUTLIER COMPOUND"
   ]
  },
  {
   "cell_type": "markdown",
   "metadata": {},
   "source": [
    "## Create the data sets to use "
   ]
  },
  {
   "cell_type": "markdown",
   "metadata": {},
   "source": [
    "### SPECS data set"
   ]
  },
  {
   "cell_type": "code",
   "execution_count": 10,
   "metadata": {},
   "outputs": [
    {
     "name": "stdout",
     "output_type": "stream",
     "text": [
      "Removing outlier...\n",
      "There are 5276 rows in SPECS\n",
      "Removing duplicates...\n",
      "There are 5187 rows in SPECS\n"
     ]
    },
    {
     "data": {
      "text/html": [
       "<div>\n",
       "<style scoped>\n",
       "    .dataframe tbody tr th:only-of-type {\n",
       "        vertical-align: middle;\n",
       "    }\n",
       "\n",
       "    .dataframe tbody tr th {\n",
       "        vertical-align: top;\n",
       "    }\n",
       "\n",
       "    .dataframe thead th {\n",
       "        text-align: right;\n",
       "    }\n",
       "</style>\n",
       "<table border=\"1\" class=\"dataframe\">\n",
       "  <thead>\n",
       "    <tr style=\"text-align: right;\">\n",
       "      <th></th>\n",
       "      <th>Library</th>\n",
       "      <th>Compound ID</th>\n",
       "      <th>Batch nr</th>\n",
       "      <th>CUSTOMER_ID</th>\n",
       "      <th>MOLFORMULA</th>\n",
       "      <th>MOLWEIGHT</th>\n",
       "      <th>NAME</th>\n",
       "      <th>VENDOR</th>\n",
       "      <th>ADD_INFO</th>\n",
       "      <th>SMILES</th>\n",
       "      <th>IUPAC_NAME</th>\n",
       "      <th>STEREOCHEMISTRY</th>\n",
       "      <th>pert_iname</th>\n",
       "      <th>clinical_phase</th>\n",
       "      <th>moa</th>\n",
       "      <th>target</th>\n",
       "      <th>disease_area</th>\n",
       "      <th>indication</th>\n",
       "    </tr>\n",
       "  </thead>\n",
       "  <tbody>\n",
       "    <tr>\n",
       "      <th>5182</th>\n",
       "      <td>SPECS</td>\n",
       "      <td>CBK021021G</td>\n",
       "      <td>BJ1898358</td>\n",
       "      <td>M92352362</td>\n",
       "      <td>H2Mg3O12Si4</td>\n",
       "      <td>379.29</td>\n",
       "      <td>Talc</td>\n",
       "      <td>Selleck Chemicals</td>\n",
       "      <td>14807-96-6</td>\n",
       "      <td>O=[Mg].O=[Mg].O=[Mg].O=[Si]=O.O=[Si]=O.O=[Si]=...</td>\n",
       "      <td>dioxosilane;oxomagnesium;hydrate</td>\n",
       "      <td>NaN</td>\n",
       "      <td>talc</td>\n",
       "      <td>NaN</td>\n",
       "      <td>NaN</td>\n",
       "      <td>NaN</td>\n",
       "      <td>NaN</td>\n",
       "      <td>NaN</td>\n",
       "    </tr>\n",
       "    <tr>\n",
       "      <th>5183</th>\n",
       "      <td>SPECS</td>\n",
       "      <td>CBK278033</td>\n",
       "      <td>BJ1897713</td>\n",
       "      <td>M93148412</td>\n",
       "      <td>C28H31NO2.C4H6O6</td>\n",
       "      <td>563.65</td>\n",
       "      <td>Lasofoxifene (Tartrate)</td>\n",
       "      <td>MedChemExpress</td>\n",
       "      <td>CAS 190791-29-8, target Estrogen Receptor/ERR</td>\n",
       "      <td>OC1=CC=C2[C@@H](C3=CC=C(OCCN4CCCC4)C=C3)[C@@H]...</td>\n",
       "      <td>(1R,2S)-2-phenyl-1-[4-(2-pyrrolidin-1-ylethoxy...</td>\n",
       "      <td>(1R,2S)-isomer</td>\n",
       "      <td>lasofoxifene</td>\n",
       "      <td>Launched</td>\n",
       "      <td>selective estrogen receptor modulator (SERM)</td>\n",
       "      <td>ESR1|ESR2</td>\n",
       "      <td>orthopedics|oncology</td>\n",
       "      <td>osteoporosis|breast cancer</td>\n",
       "    </tr>\n",
       "    <tr>\n",
       "      <th>5184</th>\n",
       "      <td>SPECS</td>\n",
       "      <td>CBK290260</td>\n",
       "      <td>BJ1897904</td>\n",
       "      <td>M97302542</td>\n",
       "      <td>C2HCl2O2</td>\n",
       "      <td>150.93</td>\n",
       "      <td>dichloroacetate</td>\n",
       "      <td>Sigma-Aldrich</td>\n",
       "      <td>NaN</td>\n",
       "      <td>ClC(Cl)C(=O)[O-]</td>\n",
       "      <td>2,2-dichloroacetate</td>\n",
       "      <td>NaN</td>\n",
       "      <td>dichloroacetate</td>\n",
       "      <td>Phase 3</td>\n",
       "      <td>pyruvate dehydrogenase kinase inhibitor</td>\n",
       "      <td>NaN</td>\n",
       "      <td>NaN</td>\n",
       "      <td>NaN</td>\n",
       "    </tr>\n",
       "    <tr>\n",
       "      <th>5185</th>\n",
       "      <td>SPECS</td>\n",
       "      <td>CBK290471G</td>\n",
       "      <td>BJ1896172</td>\n",
       "      <td>M98279124</td>\n",
       "      <td>2C10H17NOS.2C10H17NOS.2HCl.H2O</td>\n",
       "      <td>244.78</td>\n",
       "      <td>cevimeline</td>\n",
       "      <td>Bio-Techne</td>\n",
       "      <td>NaN</td>\n",
       "      <td>C[C@@H](SC3)O[C@@]13CN2CCC1CC2.C[C@H](SC6)O[C@...</td>\n",
       "      <td>cis-2-Methylspiro[1,3-oxathiolane-5,3'-quinucl...</td>\n",
       "      <td>NaN</td>\n",
       "      <td>cevimeline</td>\n",
       "      <td>Launched</td>\n",
       "      <td>acetylcholine receptor agonist</td>\n",
       "      <td>CHRM3</td>\n",
       "      <td>rheumatology</td>\n",
       "      <td>sjogren's syndrome</td>\n",
       "    </tr>\n",
       "    <tr>\n",
       "      <th>5186</th>\n",
       "      <td>SPECS</td>\n",
       "      <td>CBK011688P</td>\n",
       "      <td>BJ1894598</td>\n",
       "      <td>M98649031</td>\n",
       "      <td>C24H28ClN5O3</td>\n",
       "      <td>469.98</td>\n",
       "      <td>DIMENHYDRINATE</td>\n",
       "      <td>Microsource Discovery Systems</td>\n",
       "      <td>523-87-5</td>\n",
       "      <td>Cn1c2nc(Cl)[nH]c2c(=O)n(C)c1=O.CN(C)CCOC(c1ccc...</td>\n",
       "      <td>2-benzhydryloxy-N,N-dimethyl-ethanamine;8-chlo...</td>\n",
       "      <td>NaN</td>\n",
       "      <td>dimenhydrinate</td>\n",
       "      <td>Launched</td>\n",
       "      <td>histamine receptor antagonist</td>\n",
       "      <td>HRH1</td>\n",
       "      <td>neurology/psychiatry|gastroenterology</td>\n",
       "      <td>motion sickness|nausea|vomiting</td>\n",
       "    </tr>\n",
       "  </tbody>\n",
       "</table>\n",
       "</div>"
      ],
      "text/plain": [
       "     Library Compound ID   Batch nr CUSTOMER_ID  \\\n",
       "5182   SPECS  CBK021021G  BJ1898358   M92352362   \n",
       "5183   SPECS   CBK278033  BJ1897713   M93148412   \n",
       "5184   SPECS   CBK290260  BJ1897904   M97302542   \n",
       "5185   SPECS  CBK290471G  BJ1896172   M98279124   \n",
       "5186   SPECS  CBK011688P  BJ1894598   M98649031   \n",
       "\n",
       "                          MOLFORMULA  MOLWEIGHT                     NAME  \\\n",
       "5182                     H2Mg3O12Si4     379.29                     Talc   \n",
       "5183                C28H31NO2.C4H6O6     563.65  Lasofoxifene (Tartrate)   \n",
       "5184                        C2HCl2O2     150.93          dichloroacetate   \n",
       "5185  2C10H17NOS.2C10H17NOS.2HCl.H2O     244.78               cevimeline   \n",
       "5186                    C24H28ClN5O3     469.98           DIMENHYDRINATE   \n",
       "\n",
       "                             VENDOR  \\\n",
       "5182              Selleck Chemicals   \n",
       "5183                 MedChemExpress   \n",
       "5184                  Sigma-Aldrich   \n",
       "5185                     Bio-Techne   \n",
       "5186  Microsource Discovery Systems   \n",
       "\n",
       "                                           ADD_INFO  \\\n",
       "5182                                     14807-96-6   \n",
       "5183  CAS 190791-29-8, target Estrogen Receptor/ERR   \n",
       "5184                                            NaN   \n",
       "5185                                            NaN   \n",
       "5186                                       523-87-5   \n",
       "\n",
       "                                                 SMILES  \\\n",
       "5182  O=[Mg].O=[Mg].O=[Mg].O=[Si]=O.O=[Si]=O.O=[Si]=...   \n",
       "5183  OC1=CC=C2[C@@H](C3=CC=C(OCCN4CCCC4)C=C3)[C@@H]...   \n",
       "5184                                   ClC(Cl)C(=O)[O-]   \n",
       "5185  C[C@@H](SC3)O[C@@]13CN2CCC1CC2.C[C@H](SC6)O[C@...   \n",
       "5186  Cn1c2nc(Cl)[nH]c2c(=O)n(C)c1=O.CN(C)CCOC(c1ccc...   \n",
       "\n",
       "                                             IUPAC_NAME STEREOCHEMISTRY  \\\n",
       "5182                   dioxosilane;oxomagnesium;hydrate             NaN   \n",
       "5183  (1R,2S)-2-phenyl-1-[4-(2-pyrrolidin-1-ylethoxy...  (1R,2S)-isomer   \n",
       "5184                                2,2-dichloroacetate             NaN   \n",
       "5185  cis-2-Methylspiro[1,3-oxathiolane-5,3'-quinucl...             NaN   \n",
       "5186  2-benzhydryloxy-N,N-dimethyl-ethanamine;8-chlo...             NaN   \n",
       "\n",
       "           pert_iname clinical_phase  \\\n",
       "5182             talc            NaN   \n",
       "5183     lasofoxifene       Launched   \n",
       "5184  dichloroacetate        Phase 3   \n",
       "5185       cevimeline       Launched   \n",
       "5186   dimenhydrinate       Launched   \n",
       "\n",
       "                                               moa     target  \\\n",
       "5182                                           NaN        NaN   \n",
       "5183  selective estrogen receptor modulator (SERM)  ESR1|ESR2   \n",
       "5184       pyruvate dehydrogenase kinase inhibitor        NaN   \n",
       "5185                acetylcholine receptor agonist      CHRM3   \n",
       "5186                 histamine receptor antagonist       HRH1   \n",
       "\n",
       "                               disease_area                       indication  \n",
       "5182                                    NaN                              NaN  \n",
       "5183                   orthopedics|oncology       osteoporosis|breast cancer  \n",
       "5184                                    NaN                              NaN  \n",
       "5185                           rheumatology               sjogren's syndrome  \n",
       "5186  neurology/psychiatry|gastroenterology  motion sickness|nausea|vomiting  "
      ]
     },
     "execution_count": 10,
     "metadata": {},
     "output_type": "execute_result"
    }
   ],
   "source": [
    "# Loading data\n",
    "specs = df.copy().drop([3471, 5185])\n",
    "print(f\"There are {len(specs)} rows in SPECS\")\n",
    "\n",
    "# Remove outlier\n",
    "print('Removing outlier...')\n",
    "specs = specs.drop(specs.loc[specs['Compound ID']=='CBK277930'].index.tolist())\n",
    "print(f\"There are {len(specs)} rows in SPECS\")\n",
    "\n",
    "# Remove duplicates but keeping the fisrts appereance \n",
    "print('Removing duplicates...')\n",
    "specs = specs.drop_duplicates(subset = 'Compound ID', keep = 'first')\n",
    "print(f\"There are {len(specs)} rows in SPECS\")\n",
    "specs.reset_index(drop=True, inplace=True)\n",
    "specs.tail()"
   ]
  },
  {
   "cell_type": "code",
   "execution_count": 11,
   "metadata": {},
   "outputs": [],
   "source": [
    "file_namn = r'/home/jovyan/covid-data/SPECS_ready.csv'\n",
    "#df.to_csv(file_namn, sep=',', encoding='utf-8',index=False)"
   ]
  },
  {
   "cell_type": "markdown",
   "metadata": {},
   "source": [
    "### Covid data set"
   ]
  },
  {
   "cell_type": "code",
   "execution_count": 52,
   "metadata": {},
   "outputs": [
    {
     "name": "stdout",
     "output_type": "stream",
     "text": [
      "There are 6065 rows in Covid\n",
      "Removing outlier...\n",
      "\n",
      "There are 6063 rows in Covid Batch A\n"
     ]
    }
   ],
   "source": [
    "# Loading dataframe\n",
    "experiments_df = pd.DataFrame(experiments , columns=headers[0])\n",
    "print(f\"There are {len(experiments_df)} rows in Covid\")\n",
    "\n",
    "# Remove outlier\n",
    "print('Removing outlier...\\n')\n",
    "covid_batchA = experiments_df.copy().drop(experiments_df.loc[experiments_df['CompoundID']=='CBK277930'].index.tolist())\n",
    "print(f\"There are {len(covid_batchA)} rows in Covid Batch A\")"
   ]
  },
  {
   "cell_type": "code",
   "execution_count": 53,
   "metadata": {},
   "outputs": [
    {
     "name": "stdout",
     "output_type": "stream",
     "text": [
      "Removing repetitions...\n",
      " There are 5893 rows in Covid Batch A\n"
     ]
    }
   ],
   "source": [
    "for compound in repeated_compounds:\n",
    "    covid_batchA = covid_batchA.drop(covid_batchA.loc[covid_batchA['CompoundID'] == compound].index.tolist())\n",
    "\n",
    "print(f\"Removing repetitions...\\n There are {len(covid_batchA)} rows in Covid Batch A\")"
   ]
  },
  {
   "cell_type": "code",
   "execution_count": 54,
   "metadata": {},
   "outputs": [
    {
     "name": "stdout",
     "output_type": "stream",
     "text": [
      "CBK011558\n",
      "There are 5894 rows in Covid Batch A\n",
      "CBK011603\n",
      "There are 5895 rows in Covid Batch A\n",
      "CBK042067\n",
      "There are 5896 rows in Covid Batch A\n",
      "CBK041250\n",
      "There are 5897 rows in Covid Batch A\n",
      "CBK000879\n",
      "There are 5898 rows in Covid Batch A\n"
     ]
    }
   ],
   "source": [
    "counter = 0\n",
    "median_repeated_compounds_idx = []\n",
    "for compound in repeated_compounds:\n",
    "    \n",
    "    np.random.seed(17)\n",
    "    \n",
    "    aux = experiments_df['Intensity_MeanIntensity_illumMITO_cells'].loc[experiments_df['CompoundID'] == compound] # Accessing info from the repeated compounds found in SPECS\n",
    "    aux.columns = ['0','1'] #Renaming columns bcs of problem with column replication\n",
    "    aux.drop('0', axis=1, inplace=True)\n",
    "    aux2 = aux.sort_values(by=['1'], ascending=True) # Sort to access the mean\n",
    "    \n",
    "    # Non-permanent solution\n",
    "    if len(aux2) == 2:\n",
    "        median_index = np.random.choice(aux.index.tolist())\n",
    "        median = aux2['1'][median_index]\n",
    "    else:\n",
    "        median = aux2.median(axis=0).tolist()\n",
    "        median_index = aux2.index[aux2['1'] == median[0]].tolist()\n",
    "        median_index = median_index[0]\n",
    "        \n",
    "    row = experiments_df.iloc[[median_index]]\n",
    "    median_repeated_compounds_idx.append(median_index)\n",
    "    covid_batchA = covid_batchA.append(row)\n",
    "    \n",
    "    #print(median_index)\n",
    "    print(compound)\n",
    "    #print(row)\n",
    "    print(f'There are {len(covid_batchA)} rows in Covid Batch A')\n",
    "    \n",
    "    counter += 1\n",
    "    if counter == 5:\n",
    "        break"
   ]
  }
 ],
 "metadata": {
  "kernelspec": {
   "display_name": "Python 3",
   "language": "python",
   "name": "python3"
  },
  "language_info": {
   "codemirror_mode": {
    "name": "ipython",
    "version": 3
   },
   "file_extension": ".py",
   "mimetype": "text/x-python",
   "name": "python",
   "nbconvert_exporter": "python",
   "pygments_lexer": "ipython3",
   "version": "3.8.10"
  }
 },
 "nbformat": 4,
 "nbformat_minor": 4
}
