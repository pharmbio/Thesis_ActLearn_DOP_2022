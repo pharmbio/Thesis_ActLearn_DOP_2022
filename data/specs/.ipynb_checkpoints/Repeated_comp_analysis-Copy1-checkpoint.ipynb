{
 "cells": [
  {
   "cell_type": "code",
   "execution_count": 1,
   "metadata": {},
   "outputs": [],
   "source": [
    "from pandas import read_excel\n",
    "import csv\n",
    "import pandas as pd\n",
    "import numpy as np\n",
    "import seaborn as sns\n",
    "import matplotlib.pyplot as plt\n",
    "import csv"
   ]
  },
  {
   "cell_type": "code",
   "execution_count": 2,
   "metadata": {},
   "outputs": [],
   "source": [
    "def load_csv(filename):\n",
    "    file = open(filename, \"r\", encoding=\"utf-8\")\n",
    "    experiments = []\n",
    "    headers = []\n",
    "    reader = csv.reader(file)\n",
    "    for i, lines in enumerate(reader):\n",
    "        if i == 0:\n",
    "            #headers = [e for e in lines[0].split(\";\")]\n",
    "            h = lines[0].split(\";\")\n",
    "            headers.append(h)\n",
    "        else:\n",
    "            tmp = lines[0].split(\";\")\n",
    "            for j in range(0,len(tmp)):\n",
    "                if (j != 0 and j != 1879):\n",
    "                    tmp[j] = float(tmp[j])\n",
    "                else:\n",
    "                    continue\n",
    "            #tmp = [float(tmp[j]) for j in range(0,len(tmp)) if (j!=0 and j!=1879)] #This removes two entries, dunno why. \n",
    "            experiments.append(tmp)\n",
    "    file.close()\n",
    "    return headers, experiments\n",
    "\n",
    "def column_extraction(data_list,column_number): #columns start counting in 0\n",
    "    col = []\n",
    "    for i in range(0,len(experiments)):\n",
    "        dato = experiments[i][column_number]\n",
    "        col.append(dato)\n",
    "    return col   "
   ]
  },
  {
   "cell_type": "markdown",
   "metadata": {},
   "source": [
    "## Load both data sets for comparision"
   ]
  },
  {
   "cell_type": "code",
   "execution_count": 3,
   "metadata": {},
   "outputs": [],
   "source": [
    "# Loading compound library\n",
    "my_sheet = 'SPECS_drug_repurp_set' # change it to your sheet name, you can find your sheet name at the bottom left of your excel file\n",
    "file_name = 'SPECS_drug_repurp_set.xlsx' # change it to the name of your excel file\n",
    "df = read_excel(file_name, sheet_name = my_sheet)\n",
    "#print(df.head()) # shows headers with top 5 rows\n",
    "library_compound_ids = df[[\"Compound ID\"]].copy()\n",
    "library_compound_ids.rename(columns = {'Compound ID':'ID_library'}, inplace = True)"
   ]
  },
  {
   "cell_type": "code",
   "execution_count": 4,
   "metadata": {},
   "outputs": [],
   "source": [
    "#Loading Maris' data\n",
    "headers, experiments = load_csv('/home/jovyan/covid-data/dalia_MeanFeaturesPerWell_BatchA.csv')\n",
    "#Column 1879 contains the compound ID\n",
    "screening_compound_ids = pd.DataFrame(column_extraction(experiments,1879), columns=['ID_Screening'])"
   ]
  },
  {
   "cell_type": "code",
   "execution_count": 5,
   "metadata": {},
   "outputs": [
    {
     "name": "stdout",
     "output_type": "stream",
     "text": [
      "The library has 5280 compounds\n",
      "The experiment has 6065 compounds\n"
     ]
    }
   ],
   "source": [
    "print(f'The library has {len(library_compound_ids)} compounds')\n",
    "print(f'The experiment has {len(screening_compound_ids)} compounds')"
   ]
  },
  {
   "cell_type": "markdown",
   "metadata": {},
   "source": [
    "### Cleaning Library's compounds"
   ]
  },
  {
   "cell_type": "code",
   "execution_count": 6,
   "metadata": {},
   "outputs": [],
   "source": [
    "# Removing compunds with ID \"Problem with structure\"\n",
    "problem = library_compound_ids.loc[library_compound_ids['ID_library']=='Problem with structure']"
   ]
  },
  {
   "cell_type": "code",
   "execution_count": 7,
   "metadata": {},
   "outputs": [
    {
     "name": "stdout",
     "output_type": "stream",
     "text": [
      "The library has now 5278 compounds\n"
     ]
    }
   ],
   "source": [
    "#Check that we did not miss information\n",
    "library_compound_ids_2 = library_compound_ids.copy().drop([3471, 5185])\n",
    "print(f'The library has now {len(library_compound_ids_2)} compounds')"
   ]
  },
  {
   "cell_type": "code",
   "execution_count": 8,
   "metadata": {},
   "outputs": [
    {
     "name": "stdout",
     "output_type": "stream",
     "text": [
      "Printing repeated compounds    ID_library  Count\n",
      "0   CBK011558      3\n",
      "1   CBK011603      3\n",
      "2   CBK042067      3\n",
      "3   CBK041250      3\n",
      "4   CBK000879      3\n",
      "..        ...    ...\n",
      "78  CBK200659      2\n",
      "79  CBK041357      2\n",
      "80  CBK041430      2\n",
      "81  CBK041511      2\n",
      "82  CBK309105      2\n",
      "\n",
      "[83 rows x 2 columns]\n"
     ]
    }
   ],
   "source": [
    "library_compound_ids_2 = library_compound_ids_2.copy().groupby('ID_library').size().sort_values(ascending=False).to_frame() #Count the elements in each group and sort\n",
    "library_compound_ids_2.rename(columns = {0:'Count'}, inplace = True)\n",
    "unique_id_lib_count = library_compound_ids_2.copy().reset_index()\n",
    "a = unique_id_lib_count[unique_id_lib_count['Count'] >1]\n",
    "print(f'Printing repeated compounds {a}')\n",
    "repeated_compounds = unique_id_lib_count['ID_library'][unique_id_lib_count['Count'] >1].tolist()#Storing"
   ]
  },
  {
   "cell_type": "code",
   "execution_count": 9,
   "metadata": {},
   "outputs": [],
   "source": [
    "specs = df.copy().drop([3471, 5185])\n",
    "experiments_df = pd.DataFrame(experiments , columns=headers[0])\n",
    "#specs.head()\n",
    "#experiments_df['CompoundID'].head()"
   ]
  },
  {
   "cell_type": "code",
   "execution_count": 40,
   "metadata": {},
   "outputs": [],
   "source": [
    "counter = 0\n",
    "median_repeated_compounds = []\n",
    "for compound in repeated_compounds:\n",
    "    aux = experiments_df['Intensity_MeanIntensity_illumMITO_cells'].loc[experiments_df['CompoundID'] == compound]\n",
    "    aux.columns = ['0','1']\n",
    "    aux.drop('0', axis=1, inplace=True)\n",
    "    aux2=aux.sort_values(by=['1'], ascending=True)\n",
    "    median = aux2.median(axis=0).tolist()\n",
    "    median_index = aux2.index[aux2['1'] == median[0]].tolist()\n",
    "    median_index = median_index[0]\n",
    "    median_index\n",
    "    counter += 1\n",
    "    \n",
    "    if counter == 1:\n",
    "        break"
   ]
  },
  {
   "cell_type": "code",
   "execution_count": 41,
   "metadata": {},
   "outputs": [
    {
     "data": {
      "text/plain": [
       "6011"
      ]
     },
     "execution_count": 41,
     "metadata": {},
     "output_type": "execute_result"
    }
   ],
   "source": [
    "median = aux2.median(axis=0).tolist()\n",
    "median_index = aux2.index[aux2['1'] == median[0]].tolist()\n",
    "median_index = median_index[0]\n",
    "median_index"
   ]
  },
  {
   "cell_type": "code",
   "execution_count": 11,
   "metadata": {},
   "outputs": [],
   "source": [
    "# p = experiments_df.copy()\n",
    "# p.groupby('CompoundID')\n",
    "# p.sort_values(by=['CompoundID'], ascending=False)"
   ]
  }
 ],
 "metadata": {
  "kernelspec": {
   "display_name": "Python 3",
   "language": "python",
   "name": "python3"
  },
  "language_info": {
   "codemirror_mode": {
    "name": "ipython",
    "version": 3
   },
   "file_extension": ".py",
   "mimetype": "text/x-python",
   "name": "python",
   "nbconvert_exporter": "python",
   "pygments_lexer": "ipython3",
   "version": "3.8.10"
  }
 },
 "nbformat": 4,
 "nbformat_minor": 4
}
